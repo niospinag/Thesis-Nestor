{
 "cells": [
  {
   "cell_type": "markdown",
   "source": [
    "# autonomous vehicles"
   ],
   "metadata": {
    "collapsed": false
   }
  },
  {
   "cell_type": "code",
   "execution_count": 5,
   "outputs": [
    {
     "name": "stdout",
     "output_type": "stream",
     "text": [
      "['C:\\\\Users\\\\nesto\\\\OneDrive\\\\Documentos\\\\GitHub\\\\Thesis-Nestor\\\\Python', 'C:\\\\Users\\\\nesto\\\\OneDrive\\\\Documentos\\\\GitHub\\\\Thesis-Nestor', 'C:\\\\Users\\\\nesto\\\\anaconda3\\\\python37.zip', 'C:\\\\Users\\\\nesto\\\\anaconda3\\\\DLLs', 'C:\\\\Users\\\\nesto\\\\anaconda3\\\\lib', 'C:\\\\Users\\\\nesto\\\\anaconda3', '', 'C:\\\\Users\\\\nesto\\\\AppData\\\\Roaming\\\\Python\\\\Python37\\\\site-packages', 'C:\\\\Users\\\\nesto\\\\AppData\\\\Roaming\\\\Python\\\\Python37\\\\site-packages\\\\win32', 'C:\\\\Users\\\\nesto\\\\AppData\\\\Roaming\\\\Python\\\\Python37\\\\site-packages\\\\win32\\\\lib', 'C:\\\\Users\\\\nesto\\\\AppData\\\\Roaming\\\\Python\\\\Python37\\\\site-packages\\\\Pythonwin', 'C:\\\\Users\\\\nesto\\\\anaconda3\\\\lib\\\\site-packages', 'C:\\\\Users\\\\nesto\\\\anaconda3\\\\lib\\\\site-packages\\\\win32', 'C:\\\\Users\\\\nesto\\\\anaconda3\\\\lib\\\\site-packages\\\\win32\\\\lib', 'C:\\\\Users\\\\nesto\\\\anaconda3\\\\lib\\\\site-packages\\\\Pythonwin', 'C:\\\\Users\\\\nesto\\\\AppData\\\\Roaming\\\\Python\\\\Python37\\\\site-packages\\\\IPython\\\\extensions', 'C:\\\\Users\\\\nesto\\\\.ipython', 'C:\\\\Program Files\\\\JetBrains\\\\PyCharm 2021.1\\\\plugins\\\\python\\\\helpers\\\\pydev', 'C:\\\\Program Files\\\\JetBrains\\\\PyCharm 2021.1\\\\plugins\\\\python\\\\helpers-pro\\\\jupyter_debug']\n"
     ]
    }
   ],
   "source": [
    "from gurobipy import *\n",
    "import numpy as np\n",
    "import time\n",
    "import sys\n",
    "# import sources.deepc\n",
    "from vehicle import Car\n",
    "import matplotlib.pyplot as plt\n",
    "print(sys.path)"
   ],
   "metadata": {
    "collapsed": false,
    "pycharm": {
     "name": "#%%\n"
    }
   }
  },
  {
   "cell_type": "code",
   "execution_count": 6,
   "outputs": [],
   "source": [
    "nx = 1  # Number of agents\n",
    "nu = 1  # Number of inputs\n",
    "nv = 2  #numero de vehiculos sin el agente no cooperativo\n",
    "# MPC data\n",
    "Q = 1  #* np.identity(1)\n",
    "R = 10  #* np.identity(1)\n",
    "N = 7  #horizon\n",
    "dt = 0.1  #[s]\n",
    "Ds = 7  #Safety distance [m]\n",
    "Dl = 25  #lateral distance\n",
    "V_max = 80\n",
    "A_max = 30\n",
    "L = 6  #number of lanes\n",
    "Mmax = L - 1\n",
    "mmin = -L + 1\n",
    "p_max = 1\n"
   ],
   "metadata": {
    "collapsed": false,
    "pycharm": {
     "name": "#%%\n"
    }
   }
  },
  {
   "cell_type": "code",
   "source": [
    "m = Model('vehicle')\n"
   ],
   "metadata": {
    "collapsed": false,
    "pycharm": {
     "name": "#%%\n"
    }
   },
   "execution_count": 7,
   "outputs": [
    {
     "name": "stdout",
     "output_type": "stream",
     "text": [
      "Academic license - for non-commercial use only - expires 2021-05-16\n",
      "Using license file C:\\Users\\nesto\\gurobi.lic\n"
     ]
    }
   ]
  },
  {
   "cell_type": "code",
   "source": [
    "#------------desired states-----------\n",
    "Zd = m.addVar(lb=0, ub=L, vtype=GRB.INTEGER, name='Zd')  #carril deseado\n",
    "Vd = m.addVar(lb=0, ub=V_max, vtype=GRB.CONTINUOUS, name='Vd')  #velocidad deseada\n",
    "DS = m.addVar(vtype=GRB.CONTINUOUS, name='Ds')  #velocidad deseada\n",
    "# m.addVar\n",
    "\n",
    "\n",
    "# -------------local vehicle---------------\n",
    "v = m.addVars(N + 1, lb=0, ub=V_max, vtype=GRB.CONTINUOUS, name='v')  #velocidad del vehiculo actual"
   ],
   "metadata": {
    "collapsed": false,
    "pycharm": {
     "name": "#%%\n"
    }
   },
   "execution_count": 8,
   "outputs": []
  },
  {
   "cell_type": "code",
   "source": [
    "a = m.addVars(N, lb=-A_max, ub=A_max, vtype=GRB.CONTINUOUS, name='a')  #aceleracion actual del vehiculo\n",
    "z = m.addVars(N + 1, lb=1, ub=L, vtype=GRB.INTEGER, name='z')  #carril actual\n",
    "ll = m.addVars(N, vtype=GRB.BINARY, name='ll')  #paso izquierda\n",
    "lr = m.addVars(N, vtype=GRB.BINARY, name='lr')  #paso derecha\n",
    "# -------------- neighbor ---------------\n",
    "lr2 = m.addVar(vtype=GRB.BINARY, name='lr2')  #paso derecha\n",
    "v_2 = m.addVar(vtype=GRB.CONTINUOUS, name='v_2')  #velocidad del otro vehculo\n",
    "z_2 = m.addVar(lb=1, ub=L, vtype=GRB.INTEGER, name='z_2')  #carril del vehiculo j\n",
    "# ------ distance between two vehicles ------\n",
    "dis12 = m.addVars(N + 1,lb=-10000, ub=10000, vtype=GRB.CONTINUOUS, name='dis12')  #distancia entre vehiculo 1 y 2\n"
   ],
   "metadata": {
    "collapsed": false,
    "pycharm": {
     "name": "#%%\n"
    }
   },
   "execution_count": 9,
   "outputs": []
  },
  {
   "cell_type": "code",
   "execution_count": 10,
   "outputs": [],
   "source": [
    "a12 = m.addVars(N, vtype=GRB.BINARY, name=\"a12\")\n",
    "b12 = m.addVars(N, vtype=GRB.BINARY, name=\"b12\")\n",
    "ab12 = m.addVars(N, vtype=GRB.BINARY, name=\"ab12\")\n",
    "n12 = m.addVars(N, vtype=GRB.BINARY, name=\"n12\")\n",
    "th12 = m.addVars(N, vtype=GRB.BINARY, name=\"th12\")\n",
    "f12 = m.addVars(N, vtype=GRB.BINARY, name=\"f12\")\n",
    "g12 = m.addVars(N, vtype=GRB.BINARY, name=\"g12\")\n",
    "h12 = m.addVars(N, vtype=GRB.BINARY, name=\"h12\")"
   ],
   "metadata": {
    "collapsed": false,
    "pycharm": {
     "name": "#%% binary variables\n"
    }
   }
  },
  {
   "cell_type": "code",
   "execution_count": 11,
   "outputs": [],
   "source": [
    "m.setObjective(quicksum(Q * (v[k + 1] - Vd) ** 2 + R * (z[k + 1] - Zd) ** 2 for k in range(N)), GRB.MINIMIZE)\n"
   ],
   "metadata": {
    "collapsed": false,
    "pycharm": {
     "name": "#%% set objective\n"
    }
   }
  },
  {
   "cell_type": "code",
   "execution_count": 12,
   "outputs": [
    {
     "data": {
      "text/plain": "{0: <gurobi.Constr *Awaiting Model Update*>,\n 1: <gurobi.Constr *Awaiting Model Update*>,\n 2: <gurobi.Constr *Awaiting Model Update*>,\n 3: <gurobi.Constr *Awaiting Model Update*>,\n 4: <gurobi.Constr *Awaiting Model Update*>,\n 5: <gurobi.Constr *Awaiting Model Update*>,\n 6: <gurobi.Constr *Awaiting Model Update*>}"
     },
     "execution_count": 12,
     "metadata": {},
     "output_type": "execute_result"
    }
   ],
   "source": [
    "#Create local constraints\n",
    "m.addConstrs(z[k] - lr[k] <= z[k + 1] for k in range(N))\n",
    "m.addConstrs(z[k + 1] <= z[k] + ll[k] for k in range(N))\n",
    "\n",
    "m.addConstrs(ll[k] + lr[k] <= 1 for k in range(N))\n",
    "m.addConstrs(v[k + 1] == v[k] + dt * a[k] for k in range(N))\n",
    "\n",
    "m.addConstrs( mmin  <= z_2-z[k+1] for k in range(N))\n",
    "m.addConstrs(z_2-z[k+1]  <= Mmax for k in range(N))\n",
    "\n",
    "m.addConstrs( (dis12[k + 1] == dis12[k] + dt * (v_2 - v[k]) for k in range(N)), name=\"distance\" )\n",
    "\n"
   ],
   "metadata": {
    "collapsed": false,
    "pycharm": {
     "name": "#%%\n"
    }
   }
  },
  {
   "cell_type": "code",
   "execution_count": 14,
   "outputs": [
    {
     "ename": "TypeError",
     "evalue": "'int' object is not subscriptable",
     "output_type": "error",
     "traceback": [
      "\u001B[1;31m---------------------------------------------------------------------------\u001B[0m",
      "\u001B[1;31mTypeError\u001B[0m                                 Traceback (most recent call last)",
      "\u001B[1;32m<ipython-input-14-1221c9f02c94>\u001B[0m in \u001B[0;36m<module>\u001B[1;34m\u001B[0m\n\u001B[1;32m----> 1\u001B[1;33m \u001B[0mz\u001B[0m \u001B[1;33m-\u001B[0m \u001B[0mz_2\u001B[0m\u001B[1;33m\u001B[0m\u001B[1;33m\u001B[0m\u001B[0m\n\u001B[0m\u001B[0;32m      2\u001B[0m \u001B[1;33m\u001B[0m\u001B[0m\n",
      "\u001B[1;32msrc\\gurobipy\\var.pxi\u001B[0m in \u001B[0;36mgurobipy.Var.__rsub__\u001B[1;34m()\u001B[0m\n",
      "\u001B[1;32msrc\\gurobipy\\linexpr.pxi\u001B[0m in \u001B[0;36mgurobipy.LinExpr.__sub__\u001B[1;34m()\u001B[0m\n",
      "\u001B[1;32msrc\\gurobipy\\linexpr.pxi\u001B[0m in \u001B[0;36mgurobipy.LinExpr.__add__\u001B[1;34m()\u001B[0m\n",
      "\u001B[1;32msrc\\gurobipy\\linexpr.pxi\u001B[0m in \u001B[0;36mgurobipy.LinExpr.__init__\u001B[1;34m()\u001B[0m\n",
      "\u001B[1;31mTypeError\u001B[0m: 'int' object is not subscriptable"
     ]
    }
   ],
   "source": [
    "z[:] - z_2"
   ],
   "metadata": {
    "collapsed": false,
    "pycharm": {
     "name": "#%%\n"
    }
   }
  },
  {
   "cell_type": "code",
   "execution_count": 42,
   "outputs": [],
   "source": [
    "\n",
    "# %------condiciones iniciales----------\n",
    "vel = np.array([20, 20])  # velociodad inicial\n",
    "Vdes = np.array([30, 50])  # velocidad deseada\n",
    "\n",
    "zel = np.array([5, 4])  # carril inicial\n",
    "Zdes = np.array([1, 1])  # carril deseado\n",
    "\n",
    "acel = np.array([0, 0])\n",
    "# %---distancia inicial de cada agente\n",
    "d1i = np.array([-50])\n",
    "i = 0\n",
    "zel2 = zel  #same dimentions\n",
    "LR2 = 1\n",
    "LR1 = 1"
   ],
   "metadata": {
    "collapsed": false,
    "pycharm": {
     "name": "#%%\n"
    }
   }
  },
  {
   "cell_type": "code",
   "execution_count": 43,
   "outputs": [],
   "source": [
    "# res =m.getVarByName(name=\"v\")\n",
    "# v.x\n",
    "\n",
    "# create the model\n",
    "vh1 = Car(vel[0], zel[0], Vdes[0], Zdes[0], N, name=\"vehiculo_1\")\n",
    "vh2 = Car(vel[1], zel[1], Vdes[1], Zdes[1], N, name=\"vehiculo_2\")\n",
    "\n"
   ],
   "metadata": {
    "collapsed": false,
    "pycharm": {
     "name": "#%%\n"
    }
   }
  },
  {
   "cell_type": "code",
   "execution_count": 44,
   "outputs": [
    {
     "name": "stdout",
     "output_type": "stream",
     "text": [
      "Wall time: 3 ms\n"
     ]
    }
   ],
   "source": [
    "\n",
    "%%time\n",
    "vh1.create_model()\n",
    "vh2.create_model()\n",
    "# cnt_z = m.addConstr(z[0] == zel[0], name=\"Z[0]\")\n",
    "# cnt_v = m.addConstr(v[0] == vel[0])\n",
    "# cnt_zd = m.addConstr(Zd == Zdes[0])\n",
    "# cnt_vd = m.addConstr(Vd == Vdes[0])\n",
    "# cnt_v2 = m.addConstr(v_2 == vel[1])\n",
    "# cnt_z2 = m.addConstr(z_2 == zel[1])\n",
    "# cnt_d = m.addConstr(dis12[0] == d1i[0])\n",
    "# cnt_lr = m.addConstr(lr2 == LR2)\n",
    "vh1.m.update()\n",
    "vh2.m.update()\n",
    "# vh1.m.display()"
   ],
   "metadata": {
    "collapsed": false,
    "pycharm": {
     "name": "#%%\n"
    }
   }
  },
  {
   "cell_type": "code",
   "execution_count": 45,
   "outputs": [],
   "source": [
    "%%capture --no-stderr\n",
    "t = time.time()\n",
    "sim_tim = 20\n",
    "for k in range(sim_tim):\n",
    "    # cnt_z.rhs = zel[0]\n",
    "    # cnt_v.rhs = vel[0]\n",
    "    # cnt_zd.rhs = Zdes[0]\n",
    "    # cnt_vd.rhs = Vdes[0]\n",
    "    # cnt_v2.rhs = vel[1]\n",
    "    # cnt_z2.rhs = zel[1]\n",
    "    # cnt_d.rhs = d1i[0]\n",
    "    vh1.update_cnt(zel[0],vel[0],Zdes[0],Vdes[0],vel[1],zel[1],d1i[0])\n",
    "    vh1.m.update()\n",
    "    vh1.m.optimize()\n",
    "    vh2.update_cnt(zel[1],vel[1],Zdes[1],Vdes[1],vel[0],zel[0],-d1i[0])\n",
    "    vh2.m.update()\n",
    "    vh2.m.optimize()\n",
    "\n",
    "    # get optimal solution\n",
    "    acel[0], zel[0] = vh1.get_var(N)\n",
    "    acel[1], zel[1] = vh2.get_var(N)\n",
    "\n",
    "\n",
    "    vel[0], zel[0] = vh1.make_step(acel[0],zel[0])\n",
    "    vel[1], zel[1] = vh2.make_step(acel[1],zel[1])\n",
    "\n",
    "    d1i = d1i + dt*(vel[1:]-vel[0])\n",
    "\n",
    "\n",
    "elapsed = time.time() - t"
   ],
   "metadata": {
    "collapsed": false,
    "pycharm": {
     "name": "#%%\n"
    }
   }
  },
  {
   "cell_type": "code",
   "execution_count": 46,
   "outputs": [
    {
     "name": "stdout",
     "output_type": "stream",
     "text": [
      "Elapsed time: 0.06[s]\n",
      "the objective function is :0.0\n",
      "Zd 1.0\n",
      "Vd 30.0\n",
      "v[0] 30.0\n",
      "v[1] 30.0\n",
      "v[2] 30.0\n",
      "v[3] 30.0\n",
      "v[4] 30.0\n",
      "v[5] 30.0\n",
      "v[6] 30.0\n",
      "v[7] 30.0\n",
      "a[0] 0.0\n",
      "a[1] 0.0\n",
      "a[2] 0.0\n",
      "a[3] 0.0\n",
      "a[4] 0.0\n",
      "a[5] 0.0\n",
      "a[6] 0.0\n",
      "z[0] 1.0\n",
      "z[1] 1.0\n",
      "z[2] 1.0\n",
      "z[3] 1.0\n",
      "z[4] 1.0\n",
      "z[5] 1.0\n",
      "z[6] 1.0\n",
      "z[7] 1.0\n",
      "ll[0] 1.0\n",
      "ll[1] 1.0\n",
      "ll[2] 1.0\n",
      "ll[3] 1.0\n",
      "ll[4] 1.0\n",
      "ll[5] 1.0\n",
      "ll[6] 1.0\n",
      "lr[0] 0.0\n",
      "lr[1] 0.0\n",
      "lr[2] 0.0\n",
      "lr[3] 0.0\n",
      "lr[4] 0.0\n",
      "lr[5] 0.0\n",
      "lr[6] 0.0\n",
      "v_2 50.0\n",
      "z_2 1.0\n",
      "dis12[0] -25.0\n",
      "dis12[1] -23.0\n",
      "dis12[2] -21.0\n",
      "dis12[3] -19.0\n",
      "dis12[4] -17.0\n",
      "dis12[5] -15.0\n",
      "dis12[6] -13.0\n",
      "dis12[7] -11.0\n"
     ]
    }
   ],
   "source": [
    "print(\"Elapsed time: {}[s]\".format(round(elapsed,3)))\n",
    "print(\"the objective function is :\" + str(round(vh1.m.ObjVal, 2)))\n",
    "for v in vh1.m.getVars():\n",
    "    print(str(v.VarName), v.x)\n",
    "\n",
    "\n",
    "\n",
    "\n"
   ],
   "metadata": {
    "collapsed": false,
    "pycharm": {
     "name": "#%%\n"
    }
   }
  },
  {
   "cell_type": "code",
   "execution_count": 47,
   "outputs": [],
   "source": [
    "\n",
    "historial_vel = vh1.hist_zp1"
   ],
   "metadata": {
    "collapsed": false,
    "pycharm": {
     "name": "#%%\n"
    }
   }
  },
  {
   "cell_type": "code",
   "execution_count": 48,
   "outputs": [
    {
     "data": {
      "text/plain": "(20, 7)"
     },
     "execution_count": 48,
     "metadata": {},
     "output_type": "execute_result"
    }
   ],
   "source": [
    "hist_pred_z1 = np.array(vh1.hist_zp1)\n",
    "hist_pred_z2 = np.array(vh2.hist_zp1)\n",
    "hist_pred_v1 = np.array(vh1.hist_vp1)\n",
    "hist_pred_v2 = np.array(vh2.hist_vp1)\n",
    "hist_time = np.arange(0,sim_tim)\n",
    "hist_pred_v2.shape"
   ],
   "metadata": {
    "collapsed": false,
    "pycharm": {
     "name": "#%%\n"
    }
   }
  },
  {
   "cell_type": "code",
   "execution_count": 49,
   "outputs": [
    {
     "data": {
      "text/plain": "<Figure size 432x288 with 2 Axes>",
      "image/png": "[encoded data removed]"
     },
     "metadata": {
      "needs_background": "light"
     },
     "output_type": "display_data"
    }
   ],
   "source": [
    "# plot the data\n",
    "# fig = plt.figure()\n",
    "fig, (ax1, ax2) = plt.subplots(2, 1)\n",
    "# ax = fig.add_subplot(2, 1, 1)\n",
    "ax1.plot(hist_time,hist_pred_z1[:,0], marker='o' , color='tab:blue')\n",
    "ax1.plot(hist_time,hist_pred_z2[:,0], marker='o' , color='tab:orange')\n",
    "ax1.set_xlabel('iteration')\n",
    "ax1.set_ylabel('lane')\n",
    "ax1.grid(True)\n",
    "\n",
    "ax2.plot(hist_time,hist_pred_v1[:,0], marker='o' , color='tab:blue')\n",
    "ax2.plot(hist_time,hist_pred_v2[:,0], marker='o' , color='tab:orange')\n",
    "ax2.set_xlabel('iteration')\n",
    "ax2.set_ylabel('velocity')\n",
    "ax2.grid(True)"
   ],
   "metadata": {
    "collapsed": false,
    "pycharm": {
     "name": "#%%\n"
    }
   }
  },
  {
   "cell_type": "code",
   "execution_count": 49,
   "outputs": [],
   "source": [],
   "metadata": {
    "collapsed": false,
    "pycharm": {
     "name": "#%%\n"
    }
   }
  }
 ],
 "metadata": {
  "kernelspec": {
   "display_name": "Python 3",
   "language": "python",
   "name": "python3"
  },
  "language_info": {
   "codemirror_mode": {
    "name": "ipython",
    "version": 3
   },
   "file_extension": ".py",
   "mimetype": "text/x-python",
   "name": "python",
   "nbconvert_exporter": "python",
   "pygments_lexer": "ipython3",
   "version": "3.7.9"
  }
 },
 "nbformat": 4,
 "nbformat_minor": 5
}