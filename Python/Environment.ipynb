{
 "cells": [
  {
   "cell_type": "markdown",
   "source": [
    "# autonomous vehicles"
   ],
   "metadata": {
    "collapsed": false
   }
  },
  {
   "cell_type": "code",
   "execution_count": 1,
   "outputs": [
    {
     "name": "stdout",
     "output_type": "stream",
     "text": [
      "['C:\\\\Users\\\\nesto\\\\OneDrive\\\\Documentos\\\\GitHub\\\\Thesis-Nestor\\\\Python', 'C:\\\\Users\\\\nesto\\\\OneDrive\\\\Documentos\\\\GitHub\\\\Thesis-Nestor', 'C:\\\\Users\\\\nesto\\\\anaconda3\\\\python37.zip', 'C:\\\\Users\\\\nesto\\\\anaconda3\\\\DLLs', 'C:\\\\Users\\\\nesto\\\\anaconda3\\\\lib', 'C:\\\\Users\\\\nesto\\\\anaconda3', '', 'C:\\\\Users\\\\nesto\\\\AppData\\\\Roaming\\\\Python\\\\Python37\\\\site-packages', 'C:\\\\Users\\\\nesto\\\\AppData\\\\Roaming\\\\Python\\\\Python37\\\\site-packages\\\\win32', 'C:\\\\Users\\\\nesto\\\\AppData\\\\Roaming\\\\Python\\\\Python37\\\\site-packages\\\\win32\\\\lib', 'C:\\\\Users\\\\nesto\\\\AppData\\\\Roaming\\\\Python\\\\Python37\\\\site-packages\\\\Pythonwin', 'C:\\\\Users\\\\nesto\\\\anaconda3\\\\lib\\\\site-packages', 'C:\\\\Users\\\\nesto\\\\anaconda3\\\\lib\\\\site-packages\\\\win32', 'C:\\\\Users\\\\nesto\\\\anaconda3\\\\lib\\\\site-packages\\\\win32\\\\lib', 'C:\\\\Users\\\\nesto\\\\anaconda3\\\\lib\\\\site-packages\\\\Pythonwin', 'C:\\\\Users\\\\nesto\\\\AppData\\\\Roaming\\\\Python\\\\Python37\\\\site-packages\\\\IPython\\\\extensions', 'C:\\\\Users\\\\nesto\\\\.ipython']\n"
     ]
    }
   ],
   "source": [
    "from gurobipy import *\n",
    "import numpy as np\n",
    "import time\n",
    "import sys\n",
    "from vehicle import Car\n",
    "import matplotlib.pyplot as plt\n",
    "print(sys.path)"
   ],
   "metadata": {
    "collapsed": false,
    "pycharm": {
     "name": "#%%\n"
    }
   }
  },
  {
   "cell_type": "code",
   "execution_count": 2,
   "outputs": [],
   "source": [
    "nx = 1  # Number of agents\n",
    "nu = 1  # Number of inputs\n",
    "nv = 2  #numero de vehiculos sin el agente no cooperativo\n",
    "# MPC data\n",
    "Q = 1  #* np.identity(1)\n",
    "R = 10  #* np.identity(1)\n",
    "N = 7  #horizon\n",
    "dt = 0.1  #[s]\n",
    "Ds = 7  #Safety distance [m]\n",
    "Dl = 25  #lateral distance\n",
    "V_max = 80\n",
    "A_max = 30\n",
    "L = 6  #number of lanes\n",
    "Mmax = L - 1\n",
    "mmin = -L + 1\n",
    "p_max = 1\n"
   ],
   "metadata": {
    "collapsed": false,
    "pycharm": {
     "name": "#%%\n"
    }
   }
  },
  {
   "cell_type": "code",
   "execution_count": 3,
   "outputs": [],
   "source": [
    "\n",
    "# %------condiciones iniciales----------\n",
    "vel = np.array([20, 20])  # velociodad inicial\n",
    "Vdes = np.array([30, 80])  # velocidad deseada\n",
    "\n",
    "zel = np.array([5, 4])  # carril inicial\n",
    "Zdes = np.array([1, 1])  # carril deseado\n",
    "\n",
    "acel = np.array([0, 0])\n",
    "# %---distancia inicial de cada agente\n",
    "d1i = np.array([-50])\n",
    "i = 0\n",
    "zel2 = zel  #same dimentions\n",
    "LR2 = 1\n",
    "LR1 = 1"
   ],
   "metadata": {
    "collapsed": false,
    "pycharm": {
     "name": "#%%\n"
    }
   }
  },
  {
   "cell_type": "code",
   "execution_count": 4,
   "outputs": [],
   "source": [
    "# create the model\n",
    "vh1 = Car(vel[0], zel[0], Vdes[0], Zdes[0], N, name=\"vehiculo_1\")\n",
    "vh2 = Car(vel[1], zel[1], Vdes[1], Zdes[1], N, name=\"vehiculo_2\")\n",
    "\n"
   ],
   "metadata": {
    "collapsed": false,
    "pycharm": {
     "name": "#%%\n"
    }
   }
  },
  {
   "cell_type": "code",
   "execution_count": 5,
   "outputs": [
    {
     "name": "stdout",
     "output_type": "stream",
     "text": [
      "Academic license - for non-commercial use only - expires 2021-05-16\n",
      "Using license file C:\\Users\\nesto\\gurobi.lic\n",
      "Wall time: 16 ms\n"
     ]
    }
   ],
   "source": [
    "%%time\n",
    "vh1.create_model()\n",
    "vh2.create_model()\n",
    "vh1.m.update()\n",
    "vh2.m.update()\n"
   ],
   "metadata": {
    "collapsed": false,
    "pycharm": {
     "name": "#%%\n"
    }
   }
  },
  {
   "cell_type": "code",
   "execution_count": 6,
   "outputs": [],
   "source": [
    "%%capture --no-stderr\n",
    "hist_d =[]\n",
    "t = time.time()\n",
    "sim_tim = 23\n",
    "for k in range(sim_tim):\n",
    "    vh1.update_cnt(zel[0],vel[0],Zdes[0],Vdes[0],vel[1],zel[1],d1i[0])\n",
    "    vh1.m.update()\n",
    "    vh1.m.optimize()\n",
    "    vh2.update_cnt(zel[1],vel[1],Zdes[1],Vdes[1],vel[0],zel[0],-d1i[0])\n",
    "    vh2.m.update()\n",
    "    vh2.m.optimize()\n",
    "    k\n",
    "    # get optimal solution\n",
    "    acel[0], zel[0] = vh1.get_var(N)\n",
    "    acel[1], zel[1] = vh2.get_var(N)\n",
    "\n",
    "    vel[0], zel[0] = vh1.make_step(acel[0],zel[0])\n",
    "    vel[1], zel[1] = vh2.make_step(acel[1],zel[1])\n",
    "    d1i = d1i + dt*(vel[1:]-vel[0])\n",
    "    hist_d.append(d1i)\n",
    "elapsed = time.time() - t\n",
    "\n",
    "\n"
   ],
   "metadata": {
    "collapsed": false,
    "pycharm": {
     "name": "#%%\n"
    }
   }
  },
  {
   "cell_type": "code",
   "execution_count": 7,
   "outputs": [
    {
     "data": {
      "text/plain": "(23, 7)"
     },
     "execution_count": 7,
     "metadata": {},
     "output_type": "execute_result"
    }
   ],
   "source": [
    "hist_pred_z1 = np.array(vh1.hist_zp1)\n",
    "hist_pred_z2 = np.array(vh2.hist_zp1)\n",
    "hist_pred_v1 = np.array(vh1.hist_vp1)\n",
    "hist_pred_v2 = np.array(vh2.hist_vp1)\n",
    "hist_time = np.arange(0,sim_tim)\n",
    "hist_pred_v2.shape"
   ],
   "metadata": {
    "collapsed": false,
    "pycharm": {
     "name": "#%%\n"
    }
   }
  },
  {
   "cell_type": "code",
   "execution_count": 8,
   "outputs": [
    {
     "data": {
      "text/plain": "<Figure size 432x288 with 2 Axes>",
      "image/png": "[encoded data removed]"
     },
     "metadata": {
      "needs_background": "light"
     },
     "output_type": "display_data"
    }
   ],
   "source": [
    "# plot the data\n",
    "# fig = plt.figure()\n",
    "fig, (ax1, ax2) = plt.subplots(2, 1)\n",
    "# ax = fig.add_subplot(2, 1, 1)\n",
    "ax1.plot(hist_time,hist_pred_z1[:,0], marker='o' , color='tab:blue')\n",
    "ax1.plot(hist_time,hist_pred_z2[:,0], marker='o' , color='tab:orange')\n",
    "ax1.set_xlabel('iteration')\n",
    "ax1.set_ylabel('lane')\n",
    "ax1.grid(True)\n",
    "\n",
    "ax2.plot(hist_time,hist_pred_v1[:,0], marker='o' , color='tab:blue')\n",
    "ax2.plot(hist_time,hist_pred_v2[:,0], marker='o' , color='tab:orange')\n",
    "ax2.set_xlabel('iteration')\n",
    "ax2.set_ylabel('velocity')\n",
    "ax2.grid(True)\n"
   ],
   "metadata": {
    "collapsed": false,
    "pycharm": {
     "name": "#%%\n"
    }
   }
  },
  {
   "cell_type": "code",
   "execution_count": 9,
   "outputs": [
    {
     "name": "stdout",
     "output_type": "stream",
     "text": [
      "Elapsed time: 0.201[s]\n",
      "the objective function is :0.0\n",
      "vh1: Zd 1.0\n",
      "vh1: Vd 30.0\n",
      "vh1: Ds[0] 7.0\n",
      "vh1: Ds[1] 7.0\n",
      "vh1: Ds[2] 7.0\n",
      "vh1: Ds[3] 7.0\n",
      "vh1: Ds[4] 7.0\n",
      "vh1: Ds[5] 7.0\n",
      "vh1: Ds[6] 7.0\n",
      "vh1: v[0] 30.0\n",
      "vh1: v[1] 30.0\n",
      "vh1: v[2] 30.0\n",
      "vh1: v[3] 30.0\n",
      "vh1: v[4] 30.0\n",
      "vh1: v[5] 30.0\n",
      "vh1: v[6] 30.0\n",
      "vh1: v[7] 30.0\n",
      "vh1: a[0] 0.0\n",
      "vh1: a[1] 0.0\n",
      "vh1: a[2] 0.0\n",
      "vh1: a[3] 0.0\n",
      "vh1: a[4] 0.0\n",
      "vh1: a[5] 0.0\n",
      "vh1: a[6] 0.0\n",
      "vh1: z[0] 2.0\n",
      "vh1: z[1] 1.0\n",
      "vh1: z[2] 1.0\n",
      "vh1: z[3] 1.0\n",
      "vh1: z[4] 1.0\n",
      "vh1: z[5] 1.0\n",
      "vh1: z[6] 1.0\n",
      "vh1: z[7] 1.0\n",
      "vh1: ll[0] 0.0\n",
      "vh1: ll[1] 1.0\n",
      "vh1: ll[2] 1.0\n",
      "vh1: ll[3] 1.0\n",
      "vh1: ll[4] 1.0\n",
      "vh1: ll[5] 1.0\n",
      "vh1: ll[6] 1.0\n",
      "vh1: lr[0] 1.0\n",
      "vh1: lr[1] -0.0\n",
      "vh1: lr[2] -0.0\n",
      "vh1: lr[3] -0.0\n",
      "vh1: lr[4] -0.0\n",
      "vh1: lr[5] -0.0\n",
      "vh1: lr[6] -0.0\n",
      "vh1: lr2 0.0\n",
      "vh1: v_2 80.0\n",
      "vh1: z_2 1.0\n",
      "vh1: dis12[0] 4.300000000000006\n",
      "vh1: dis12[1] 9.300000000000006\n",
      "vh1: dis12[2] 14.300000000000004\n",
      "vh1: dis12[3] 19.300000000000004\n",
      "vh1: dis12[4] 24.300000000000004\n",
      "vh1: dis12[5] 29.300000000000004\n",
      "vh1: dis12[6] 34.300000000000004\n",
      "vh1: dis12[7] 39.300000000000004\n",
      "vh1: a12[0] 0.0\n",
      "vh1: a12[1] 0.9999999999999334\n",
      "vh1: a12[2] 0.9999999999999334\n",
      "vh1: a12[3] 0.9999999999999334\n",
      "vh1: a12[4] 0.9999999999999334\n",
      "vh1: a12[5] 0.9999999999999334\n",
      "vh1: a12[6] 0.9999999999999334\n",
      "vh1: b12[0] 1.0\n",
      "vh1: b12[1] 1.0\n",
      "vh1: b12[2] 1.0\n",
      "vh1: b12[3] 1.0\n",
      "vh1: b12[4] 1.0\n",
      "vh1: b12[5] 1.0\n",
      "vh1: b12[6] 1.0\n",
      "vh1: ab12[0] 0.0\n",
      "vh1: ab12[1] 0.9999999999999334\n",
      "vh1: ab12[2] 0.9999999999999334\n",
      "vh1: ab12[3] 0.9999999999999334\n",
      "vh1: ab12[4] 0.9999999999999334\n",
      "vh1: ab12[5] 0.9999999999999334\n",
      "vh1: ab12[6] 0.9999999999999334\n",
      "vh1: n12[0] 1.0\n",
      "vh1: n12[1] 1.0\n",
      "vh1: n12[2] 1.0\n",
      "vh1: n12[3] 1.0\n",
      "vh1: n12[4] 1.0\n",
      "vh1: n12[5] 1.0\n",
      "vh1: n12[6] 1.0\n",
      "vh1: th12[0] 0.0\n",
      "vh1: th12[1] 0.9999999999999334\n",
      "vh1: th12[2] 0.9999999999999334\n",
      "vh1: th12[3] 0.9999999999999334\n",
      "vh1: th12[4] 0.9999999999999334\n",
      "vh1: th12[5] 0.9999999999999334\n",
      "vh1: th12[6] 0.9999999999999334\n",
      "vh1: f12[0] 0.0\n",
      "vh1: f12[1] 9.300000000000006\n",
      "vh1: f12[2] 14.300000000000004\n",
      "vh1: f12[3] 19.300000000000004\n",
      "vh1: f12[4] 24.300000000000004\n",
      "vh1: f12[5] 29.300000000000004\n",
      "vh1: f12[6] 34.300000000000004\n",
      "vh1: g12[0] 0.0\n",
      "vh1: g12[1] 7.0\n",
      "vh1: g12[2] 6.999999999999534\n",
      "vh1: g12[3] 6.999999999999534\n",
      "vh1: g12[4] 6.999999999999534\n",
      "vh1: g12[5] 6.999999999999534\n",
      "vh1: g12[6] 6.999999999999534\n",
      "vh1: h12[0] 0.0\n",
      "vh1: h12[1] 9.300000000000006\n",
      "vh1: h12[2] 14.300000000000004\n",
      "vh1: h12[3] 19.300000000000004\n",
      "vh1: h12[4] 24.300000000000004\n",
      "vh1: h12[5] 29.300000000000004\n",
      "vh1: h12[6] 34.300000000000004\n"
     ]
    }
   ],
   "source": [
    "print(\"Elapsed time: {}[s]\".format(round(elapsed,3)))\n",
    "print(\"the objective function is :\" + str(round(vh1.m.ObjVal, 2)))\n",
    "for v in vh1.m.getVars():\n",
    "    print(\"vh1: \"+str(v.VarName), v.x)"
   ],
   "metadata": {
    "collapsed": false,
    "pycharm": {
     "name": "#%%\n"
    }
   }
  },
  {
   "cell_type": "code",
   "execution_count": 10,
   "outputs": [
    {
     "name": "stdout",
     "output_type": "stream",
     "text": [
      "the objective function is :0.0\n",
      "vh2: Zd 1.0\n",
      "vh2: Vd 80.0\n",
      "vh2: Ds[0] 7.0\n",
      "vh2: Ds[1] 7.0\n",
      "vh2: Ds[2] 7.0\n",
      "vh2: Ds[3] 7.0\n",
      "vh2: Ds[4] 7.0\n",
      "vh2: Ds[5] 7.0\n",
      "vh2: Ds[6] 7.0\n",
      "vh2: v[0] 80.0\n",
      "vh2: v[1] 79.99989135618249\n",
      "vh2: v[2] 79.9998921987001\n",
      "vh2: v[3] 79.9998857388243\n",
      "vh2: v[4] 79.99987620489269\n",
      "vh2: v[5] 79.99986502938856\n",
      "vh2: v[6] 79.99985542519565\n",
      "vh2: v[7] 79.99984944563134\n",
      "vh2: a[0] -0.0010864381750934626\n",
      "vh2: a[1] 8.42517601995496e-06\n",
      "vh2: a[2] -6.459875785580493e-05\n",
      "vh2: a[3] -9.533931612537572e-05\n",
      "vh2: a[4] -0.00011175504129568026\n",
      "vh2: a[5] -9.604192914736132e-05\n",
      "vh2: a[6] -5.9795643089444184e-05\n",
      "vh2: z[0] 1.0\n",
      "vh2: z[1] 1.0\n",
      "vh2: z[2] 1.0\n",
      "vh2: z[3] 1.0\n",
      "vh2: z[4] 1.0\n",
      "vh2: z[5] 1.0\n",
      "vh2: z[6] 1.0\n",
      "vh2: z[7] 1.0\n",
      "vh2: ll[0] 1.0\n",
      "vh2: ll[1] 1.0\n",
      "vh2: ll[2] 1.0\n",
      "vh2: ll[3] 1.0\n",
      "vh2: ll[4] 1.0\n",
      "vh2: ll[5] 1.0\n",
      "vh2: ll[6] 1.0\n",
      "vh2: lr[0] 0.0\n",
      "vh2: lr[1] 0.0\n",
      "vh2: lr[2] 0.0\n",
      "vh2: lr[3] 0.0\n",
      "vh2: lr[4] 0.0\n",
      "vh2: lr[5] 0.0\n",
      "vh2: lr[6] 0.0\n",
      "vh2: lr2 0.0\n",
      "vh2: v_2 30.0\n",
      "vh2: z_2 2.0\n",
      "vh2: dis12[0] -4.300000000000006\n",
      "vh2: dis12[1] -9.300000000000006\n",
      "vh2: dis12[2] -14.299989135618254\n",
      "vh2: dis12[3] -19.299978355488264\n",
      "vh2: dis12[4] -24.299966929370694\n",
      "vh2: dis12[5] -29.299954549859965\n",
      "vh2: dis12[6] -34.29994105279882\n",
      "vh2: dis12[7] -39.29992659531839\n",
      "vh2: a12[0] 0.0\n",
      "vh2: a12[1] 0.0\n",
      "vh2: a12[2] 0.0\n",
      "vh2: a12[3] 0.0\n",
      "vh2: a12[4] 0.0\n",
      "vh2: a12[5] 0.0\n",
      "vh2: a12[6] 0.0\n",
      "vh2: b12[0] 0.0\n",
      "vh2: b12[1] 0.0\n",
      "vh2: b12[2] 0.0\n",
      "vh2: b12[3] 0.0\n",
      "vh2: b12[4] 0.0\n",
      "vh2: b12[5] 0.0\n",
      "vh2: b12[6] 0.0\n",
      "vh2: ab12[0] 0.0\n",
      "vh2: ab12[1] 0.0\n",
      "vh2: ab12[2] 0.0\n",
      "vh2: ab12[3] 0.0\n",
      "vh2: ab12[4] 0.0\n",
      "vh2: ab12[5] 0.0\n",
      "vh2: ab12[6] 0.0\n",
      "vh2: n12[0] 0.0\n",
      "vh2: n12[1] -3.3306690738754696e-14\n",
      "vh2: n12[2] 0.0\n",
      "vh2: n12[3] 0.0\n",
      "vh2: n12[4] 0.0\n",
      "vh2: n12[5] 0.0\n",
      "vh2: n12[6] 0.0\n",
      "vh2: th12[0] 1.0\n",
      "vh2: th12[1] 1.0\n",
      "vh2: th12[2] 1.0\n",
      "vh2: th12[3] 1.0\n",
      "vh2: th12[4] 1.0\n",
      "vh2: th12[5] 1.0\n",
      "vh2: th12[6] 1.0\n",
      "vh2: f12[0] 0.0\n",
      "vh2: f12[1] 3.5\n",
      "vh2: f12[2] 3.4999999999999996\n",
      "vh2: f12[3] 3.5\n",
      "vh2: f12[4] 3.5\n",
      "vh2: f12[5] 3.5\n",
      "vh2: f12[6] 3.5\n",
      "vh2: g12[0] 0.0\n",
      "vh2: g12[1] 7.0\n",
      "vh2: g12[2] 7.0\n",
      "vh2: g12[3] 7.0\n",
      "vh2: g12[4] 7.0\n",
      "vh2: g12[5] 7.0\n",
      "vh2: g12[6] 7.0\n",
      "vh2: h12[0] 0.0\n",
      "vh2: h12[1] 0.0\n",
      "vh2: h12[2] -8.881784197001252e-16\n",
      "vh2: h12[3] 0.0\n",
      "vh2: h12[4] 0.0\n",
      "vh2: h12[5] 0.0\n",
      "vh2: h12[6] 0.0\n"
     ]
    }
   ],
   "source": [
    "# print(\"Elapsed time: {}[s]\".format(round(elapsed,3)))\n",
    "print(\"the objective function is :\" + str(round(vh1.m.ObjVal, 2)))\n",
    "for v in vh2.m.getVars():\n",
    "    print(\"vh2: \"+str(v.VarName), v.x)\n"
   ],
   "metadata": {
    "collapsed": false,
    "pycharm": {
     "name": "#%%\n"
    }
   }
  },
  {
   "cell_type": "code",
   "execution_count": 11,
   "outputs": [
    {
     "data": {
      "text/plain": "[array([-49.9]),\n array([-49.8]),\n array([-49.7]),\n array([-49.5]),\n array([-49.]),\n array([-48.2]),\n array([-47.1]),\n array([-45.7]),\n array([-44.]),\n array([-42.]),\n array([-39.7]),\n array([-37.1]),\n array([-34.2]),\n array([-31.]),\n array([-27.5]),\n array([-23.7]),\n array([-19.6]),\n array([-15.2]),\n array([-10.6]),\n array([-5.7]),\n array([-0.7]),\n array([4.3]),\n array([9.3])]"
     },
     "execution_count": 11,
     "metadata": {},
     "output_type": "execute_result"
    }
   ],
   "source": [
    "hist_d"
   ],
   "metadata": {
    "collapsed": false,
    "pycharm": {
     "name": "#%%\n"
    }
   }
  },
  {
   "cell_type": "code",
   "execution_count": 11,
   "outputs": [],
   "source": [],
   "metadata": {
    "collapsed": false,
    "pycharm": {
     "name": "#%%\n"
    }
   }
  }
 ],
 "metadata": {
  "kernelspec": {
   "display_name": "Python 3",
   "language": "python",
   "name": "python3"
  },
  "language_info": {
   "codemirror_mode": {
    "name": "ipython",
    "version": 3
   },
   "file_extension": ".py",
   "mimetype": "text/x-python",
   "name": "python",
   "nbconvert_exporter": "python",
   "pygments_lexer": "ipython3",
   "version": "3.7.9"
  }
 },
 "nbformat": 4,
 "nbformat_minor": 5
}