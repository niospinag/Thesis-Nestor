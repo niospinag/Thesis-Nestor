{
 "cells": [
  {
   "cell_type": "code",
   "execution_count": 1,
   "metadata": {
    "pycharm": {
     "name": "#%%\n"
    }
   },
   "outputs": [],
   "source": [
    "import pandas as pd\n",
    "import seaborn as sns\n",
    "import matplotlib.pyplot as plt\n",
    "import scipy.io as spio\n",
    "import numpy as np\n",
    "\n",
    "# save('myData.mat','vhist','zhist','vphist','zphist','hist_pos','T', \"ktime\", \"time_hist\")\n",
    "mat = spio.loadmat('9vehicles/myData.mat', squeeze_me=True)"
   ]
  },
  {
   "cell_type": "code",
   "execution_count": 2,
   "metadata": {
    "pycharm": {
     "name": "#%%\n"
    }
   },
   "outputs": [
    {
     "name": "stdout",
     "output_type": "stream",
     "text": [
      "<class 'dict'>\n"
     ]
    }
   ],
   "source": [
    "\n",
    "print(type(mat))\n",
    "vhist = mat['vhist']  # structures need [()]\n",
    "vphist = mat['vphist']\n",
    "hist_pos = mat['hist_pos']\n",
    "zhist = mat['zhist']\n",
    "zphist = mat['zphist']\n",
    "ktime = mat['ktime']\n",
    "time_hist = mat['time_hist']\n",
    "T_total = mat['End']\n",
    "#  ----------------------------------------------------------------------------\n",
    "horizon = hist_pos.shape[1]\n",
    "robots = hist_pos.shape[0]\n",
    "index_array =['robot ' + str(i+1) for i in range(robots)]\n"
   ]
  },
  {
   "cell_type": "code",
   "execution_count": 3,
   "metadata": {
    "pycharm": {
     "name": "#%%\n"
    }
   },
   "outputs": [
    {
     "name": "stdout",
     "output_type": "stream",
     "text": [
      "df_time           1         2         3         4         5         6         7  \\\n",
      "0  0.113161  0.125370  0.133187  0.140091  0.194532  0.149504  0.124983   \n",
      "1  0.051729  0.036479  0.044161  0.039495  0.057546  0.066885  0.074262   \n",
      "2  0.093967  0.106830  0.168298  0.205484  0.286193  0.172797  0.202337   \n",
      "3  0.180453  0.121460  0.113582  0.082447  0.093224  0.133196  0.057415   \n",
      "4  0.079760  0.068054  0.096756  0.077748  0.112050  0.118557  0.120187   \n",
      "5  0.122436  0.192250  0.187377  0.194380  0.203028  0.170062  0.193898   \n",
      "6  0.148694  0.128539  0.169147  0.138340  0.152394  0.135911  0.248036   \n",
      "7  0.105373  0.134902  0.137550  0.123804  0.109896  0.134338  0.120147   \n",
      "8  0.097762  0.116108  0.081863  0.076829  0.077914  0.069442  0.076460   \n",
      "\n",
      "          8         9        10  ...        42        43        44        45  \\\n",
      "0  0.147790  0.160198  0.140620  ...  0.076849  0.059216  0.078089  0.077845   \n",
      "1  0.064959  0.054353  0.055068  ...  0.049461  0.048730  0.048235  0.062542   \n",
      "2  0.199735  0.198352  0.188492  ...  0.082268  0.095225  0.110573  0.103307   \n",
      "3  0.130861  0.106143  0.100379  ...  0.105190  0.107884  0.115483  0.162325   \n",
      "4  0.134151  0.110952  0.102640  ...  0.060545  0.077473  0.054519  0.064115   \n",
      "5  0.189023  0.199476  0.187212  ...  0.055177  0.060578  0.073614  0.058920   \n",
      "6  0.216725  0.138368  0.208206  ...  0.147634  0.134687  0.117327  0.119610   \n",
      "7  0.113849  0.113132  0.119487  ...  0.068450  0.064924  0.065835  0.069083   \n",
      "8  0.079727  0.098202  0.090576  ...  0.078822  0.094057  0.075247  0.078313   \n",
      "\n",
      "         46        47        48        49        50    agent  \n",
      "0  0.062305  0.058520  0.075622  0.079559  0.079989  robot 1  \n",
      "1  0.046080  0.051066  0.052976  0.051622  0.052002  robot 2  \n",
      "2  0.102440  0.101510  0.075746  0.074181  0.102502  robot 3  \n",
      "3  0.144775  0.175561  0.188332  0.124567  0.118715  robot 4  \n",
      "4  0.056991  0.058415  0.066284  0.064041  0.069039  robot 5  \n",
      "5  0.057137  0.058880  0.058369  0.057047  0.056418  robot 6  \n",
      "6  0.129198  0.121689  0.119950  0.114167  0.122450  robot 7  \n",
      "7  0.068245  0.064291  0.066645  0.066326  0.069388  robot 8  \n",
      "8  0.071368  0.069220  0.074075  0.074496  0.085689  robot 9  \n",
      "\n",
      "[9 rows x 51 columns]\n",
      "      1       2          3          4          5          6          7  \\\n",
      "0  10.0  24.000  33.453125  32.557292  30.000000  37.489583  30.000000   \n",
      "1  20.0  13.000  13.000000  13.000000  13.000000  13.000000  13.000000   \n",
      "2  10.0  20.100  20.100000  20.000000  20.000000  20.000000  20.000000   \n",
      "3  20.0  20.125   6.125000   0.750000  10.000000  10.000000  10.000000   \n",
      "4  10.0  10.000  10.000000  10.000000  10.100000  10.100000  10.000000   \n",
      "5  10.0  20.000  20.000000  20.000000  20.000000  20.000000  20.000000   \n",
      "6  20.0  28.000  30.000000  30.414286  32.457143  33.804082  33.901828   \n",
      "7  10.0  24.000  31.750000  31.750000  31.600000  31.600000  30.000000   \n",
      "8  10.0  20.000  20.000000  20.000000  20.000000  20.000000  20.000000   \n",
      "\n",
      "           8          9         10  ...    42    43    44    45    46    47  \\\n",
      "0  30.000000  30.000000  30.000000  ...  30.0  30.0  30.0  30.0  30.0  30.0   \n",
      "1  13.000000  13.000000  13.000000  ...  13.0  13.0  13.0  13.0  13.0  13.0   \n",
      "2  20.000000  20.000000  20.000000  ...  20.0  20.0  20.0  20.0  20.0  20.0   \n",
      "3  10.000000  10.000000  10.000000  ...  10.0  10.0  10.0  10.0  10.0  10.0   \n",
      "4  10.000000  10.000000  10.000000  ...  10.0  10.0  10.0  10.0  10.0  10.0   \n",
      "5  20.000000  20.000000  20.000000  ...  20.0  20.0  20.0  20.0  20.0  20.0   \n",
      "6  29.820444  29.820444  29.820444  ...  30.0  30.0  30.0  30.0  30.0  30.0   \n",
      "7  30.000000  30.000000  30.000000  ...  30.0  30.0  30.0  30.0  30.0  30.0   \n",
      "8  20.000000  20.000000  20.000000  ...  20.0  20.0  20.0  20.0  20.0  20.0   \n",
      "\n",
      "     48    49    50    agent  \n",
      "0  30.0  30.0  30.0  robot 1  \n",
      "1  13.0  13.0  13.0  robot 2  \n",
      "2  20.0  20.0  20.0  robot 3  \n",
      "3  10.0  10.0  10.0  robot 4  \n",
      "4  10.0  10.0  10.0  robot 5  \n",
      "5  20.0  20.0  20.0  robot 6  \n",
      "6  30.0  30.0  30.0  robot 7  \n",
      "7  30.0  30.0  30.0  robot 8  \n",
      "8  20.0  20.0  20.0  robot 9  \n",
      "\n",
      "[9 rows x 51 columns]\n"
     ]
    }
   ],
   "source": [
    "\n",
    "df_vel = pd.DataFrame(vhist[:,:-1], columns = np.arange(1,horizon))\n",
    "df_zel= pd.DataFrame(zhist[:,:-1], columns = np.arange(1,horizon))\n",
    "df_pos = pd.DataFrame(hist_pos[:,:-1], columns = np.arange(1,horizon))\n",
    "df_time = pd.DataFrame(time_hist, columns = np.arange(1,horizon))\n",
    "df_vel['agent'] = index_array\n",
    "df_zel['agent'] = index_array\n",
    "df_pos['agent'] = index_array\n",
    "df_time['agent'] = index_array\n",
    "\n",
    "print('df_time', df_time)\n",
    "# print(df_vel)\n"
   ]
  },
  {
   "cell_type": "code",
   "execution_count": 4,
   "metadata": {
    "pycharm": {
     "name": "#%%\n"
    }
   },
   "outputs": [
    {
     "data": {
      "text/html": [
       "<div>\n",
       "<style scoped>\n",
       "    .dataframe tbody tr th:only-of-type {\n",
       "        vertical-align: middle;\n",
       "    }\n",
       "\n",
       "    .dataframe tbody tr th {\n",
       "        vertical-align: top;\n",
       "    }\n",
       "\n",
       "    .dataframe thead th {\n",
       "        text-align: right;\n",
       "    }\n",
       "</style>\n",
       "<table border=\"1\" class=\"dataframe\">\n",
       "  <thead>\n",
       "    <tr style=\"text-align: right;\">\n",
       "      <th></th>\n",
       "      <th>agent</th>\n",
       "      <th>k</th>\n",
       "      <th>Vel</th>\n",
       "      <th>Zel</th>\n",
       "      <th>Pos</th>\n",
       "      <th>d_time</th>\n",
       "    </tr>\n",
       "  </thead>\n",
       "  <tbody>\n",
       "    <tr>\n",
       "      <th>0</th>\n",
       "      <td>robot 1</td>\n",
       "      <td>1</td>\n",
       "      <td>10.0</td>\n",
       "      <td>6.0</td>\n",
       "      <td>0.000000</td>\n",
       "      <td>0.113161</td>\n",
       "    </tr>\n",
       "    <tr>\n",
       "      <th>1</th>\n",
       "      <td>robot 2</td>\n",
       "      <td>1</td>\n",
       "      <td>20.0</td>\n",
       "      <td>1.0</td>\n",
       "      <td>-40.000000</td>\n",
       "      <td>0.051729</td>\n",
       "    </tr>\n",
       "    <tr>\n",
       "      <th>2</th>\n",
       "      <td>robot 3</td>\n",
       "      <td>1</td>\n",
       "      <td>10.0</td>\n",
       "      <td>3.0</td>\n",
       "      <td>-10.000000</td>\n",
       "      <td>0.093967</td>\n",
       "    </tr>\n",
       "    <tr>\n",
       "      <th>3</th>\n",
       "      <td>robot 4</td>\n",
       "      <td>1</td>\n",
       "      <td>20.0</td>\n",
       "      <td>5.0</td>\n",
       "      <td>-10.000000</td>\n",
       "      <td>0.180453</td>\n",
       "    </tr>\n",
       "    <tr>\n",
       "      <th>4</th>\n",
       "      <td>robot 5</td>\n",
       "      <td>1</td>\n",
       "      <td>10.0</td>\n",
       "      <td>2.0</td>\n",
       "      <td>-30.000000</td>\n",
       "      <td>0.079760</td>\n",
       "    </tr>\n",
       "    <tr>\n",
       "      <th>...</th>\n",
       "      <td>...</td>\n",
       "      <td>...</td>\n",
       "      <td>...</td>\n",
       "      <td>...</td>\n",
       "      <td>...</td>\n",
       "      <td>...</td>\n",
       "    </tr>\n",
       "    <tr>\n",
       "      <th>445</th>\n",
       "      <td>robot 5</td>\n",
       "      <td>50</td>\n",
       "      <td>10.0</td>\n",
       "      <td>2.0</td>\n",
       "      <td>68.040000</td>\n",
       "      <td>0.069039</td>\n",
       "    </tr>\n",
       "    <tr>\n",
       "      <th>446</th>\n",
       "      <td>robot 6</td>\n",
       "      <td>50</td>\n",
       "      <td>20.0</td>\n",
       "      <td>1.0</td>\n",
       "      <td>154.140000</td>\n",
       "      <td>0.056418</td>\n",
       "    </tr>\n",
       "    <tr>\n",
       "      <th>447</th>\n",
       "      <td>robot 7</td>\n",
       "      <td>50</td>\n",
       "      <td>30.0</td>\n",
       "      <td>3.0</td>\n",
       "      <td>262.140000</td>\n",
       "      <td>0.122450</td>\n",
       "    </tr>\n",
       "    <tr>\n",
       "      <th>448</th>\n",
       "      <td>robot 8</td>\n",
       "      <td>50</td>\n",
       "      <td>30.0</td>\n",
       "      <td>3.0</td>\n",
       "      <td>300.140000</td>\n",
       "      <td>0.069388</td>\n",
       "    </tr>\n",
       "    <tr>\n",
       "      <th>449</th>\n",
       "      <td>robot 9</td>\n",
       "      <td>50</td>\n",
       "      <td>20.0</td>\n",
       "      <td>2.0</td>\n",
       "      <td>204.008667</td>\n",
       "      <td>0.085689</td>\n",
       "    </tr>\n",
       "  </tbody>\n",
       "</table>\n",
       "<p>450 rows × 6 columns</p>\n",
       "</div>"
      ],
      "text/plain": [
       "       agent   k   Vel  Zel         Pos    d_time\n",
       "0    robot 1   1  10.0  6.0    0.000000  0.113161\n",
       "1    robot 2   1  20.0  1.0  -40.000000  0.051729\n",
       "2    robot 3   1  10.0  3.0  -10.000000  0.093967\n",
       "3    robot 4   1  20.0  5.0  -10.000000  0.180453\n",
       "4    robot 5   1  10.0  2.0  -30.000000  0.079760\n",
       "..       ...  ..   ...  ...         ...       ...\n",
       "445  robot 5  50  10.0  2.0   68.040000  0.069039\n",
       "446  robot 6  50  20.0  1.0  154.140000  0.056418\n",
       "447  robot 7  50  30.0  3.0  262.140000  0.122450\n",
       "448  robot 8  50  30.0  3.0  300.140000  0.069388\n",
       "449  robot 9  50  20.0  2.0  204.008667  0.085689\n",
       "\n",
       "[450 rows x 6 columns]"
      ]
     },
     "execution_count": 4,
     "metadata": {},
     "output_type": "execute_result"
    }
   ],
   "source": [
    "vel_melt = df_vel.melt(id_vars=['agent'], var_name='k', value_name='Vel')\n",
    "zel_melt = df_zel.melt(id_vars=['agent'], var_name='k', value_name='Zel')\n",
    "pos_melt = df_pos.melt(id_vars=['agent'], var_name='k', value_name='Pos')\n",
    "time_melt = df_time.melt(id_vars=['agent'], var_name='k', value_name='d_time')\n",
    "df_data = vel_melt.merge(zel_melt, on=['agent', 'k'], how='inner') \\\n",
    "                .merge(pos_melt, on=['agent', 'k'], how='inner')\\\n",
    "                .merge(time_melt, on=['agent', 'k'], how='inner')\n",
    "df_data"
   ]
  },
  {
   "cell_type": "code",
   "execution_count": 32,
   "metadata": {
    "pycharm": {
     "name": "#%%\n"
    }
   },
   "outputs": [
    {
     "data": {
      "image/png": "[encoded data removed]",
      "text/plain": [
       "<Figure size 431.5x360 with 1 Axes>"
      ]
     },
     "metadata": {
      "needs_background": "light"
     },
     "output_type": "display_data"
    },
    {
     "data": {
      "text/plain": [
       "<Figure size 432x288 with 0 Axes>"
      ]
     },
     "metadata": {},
     "output_type": "display_data"
    }
   ],
   "source": [
    "# tiempos = database[]\n",
    "# fig1 = plt.figure(figsize=(6, 10))\n",
    "sns.relplot( x = 'k', y= 'Zel' ,data = df_data, kind='line' , hue = 'agent')\n",
    "plt.show()\n",
    "plt.savefig(\"Images\\\\figure.png\")"
   ]
  },
  {
   "cell_type": "code",
   "execution_count": null,
   "metadata": {
    "pycharm": {
     "name": "#%%\n"
    }
   },
   "outputs": [],
   "source": [
    "sns.relplot( x = 'k', y= 'd_time' ,data = df_data, kind='line' )\n",
    "plt.show()"
   ]
  },
  {
   "cell_type": "code",
   "execution_count": null,
   "metadata": {
    "pycharm": {
     "name": "#%%\n"
    }
   },
   "outputs": [],
   "source": [
    "range_horizon = [4,5,6,7,8,9,10]\n",
    "range_vehicles = [2,3,4,5,6,7,8,9,10,11,12]\n",
    "\n",
    "# time of whole time vs horizon\n",
    "sim_time = []\n",
    "k_time = []\n",
    "for i in range_horizon:\n",
    "    mat = spio.loadmat(f'11vehicles/datasave/data_11v_{i}N.mat', squeeze_me=True)\n",
    "    sim_time.append(mat['End'])\n",
    "    k_time.append(mat['ktime'])\n",
    "\n",
    "fig = plt.figure()\n",
    "\n",
    "# creating the bar plot\n",
    "plt.bar(range_horizon, sim_time, width = 0.4)\n",
    "plt.xlabel(\"Prediction Horizon\")\n",
    "plt.ylabel(\"Solve Time [s]\")\n",
    "plt.title(\"Students enrolled in different courses\")\n",
    "plt.show()\n",
    "# sim_time"
   ]
  },
  {
   "cell_type": "code",
   "execution_count": null,
   "metadata": {
    "pycharm": {
     "name": "#%%\n"
    }
   },
   "outputs": [],
   "source": [
    "df_ktime = pd.DataFrame(k_time)\n",
    "df_ktime['horizon'] = range_horizon\n",
    "ktime_melt = df_ktime.melt(id_vars=['horizon'], var_name='k', value_name='time')\n",
    "ktime_melt\n",
    "sns.barplot(x=\"horizon\", y=\"time\", data=ktime_melt, palette='Blues_d')"
   ]
  },
  {
   "cell_type": "code",
   "execution_count": null,
   "metadata": {
    "pycharm": {
     "name": "#%%\n"
    }
   },
   "outputs": [],
   "source": [
    "sns.relplot( x=\"horizon\", y=\"time\", data=ktime_melt, kind='line' )\n",
    "plt.show()"
   ]
  },
  {
   "cell_type": "code",
   "execution_count": null,
   "metadata": {
    "pycharm": {
     "name": "#%%\n"
    }
   },
   "outputs": [],
   "source": [
    "# plot descentraliced and centralized times\n",
    "df_data.pivot_table(index='agent', values ='d_time', columns='k').mean(axis=1)"
   ]
  },
  {
   "cell_type": "code",
   "execution_count": null,
   "metadata": {
    "pycharm": {
     "name": "#%%\n"
    }
   },
   "outputs": [],
   "source": [
    "df_data.pivot_table(index='agent', values ='d_time', columns='k').mean(axis=0)"
   ]
  },
  {
   "cell_type": "code",
   "execution_count": null,
   "metadata": {
    "pycharm": {
     "name": "#%%\n"
    }
   },
   "outputs": [],
   "source": [
    "range_horizon = [4, 5, 6, 7, 8, 9, 10]\n",
    "range_vehicles = [2, 3, 4, 5, 6, 7, 8, 9, 10, 11, 12]\n",
    "\n",
    "time = []\n",
    "k_time = []\n",
    "for i in range_horizon:\n",
    "\n",
    "    sim_time = []\n",
    "    simk_time = []\n",
    "    for j in range_vehicles:\n",
    "        mat = spio.loadmat(f'{j}vehicles/datasave/data_{j}v_{i}N.mat', squeeze_me=True)\n",
    "        sim_time.append(mat['End'])\n",
    "        mean_time = np.mean(mat['ktime'])\n",
    "        simk_time.append(mean_time)\n",
    "    time.append(sim_time)\n",
    "    k_time.append((simk_time))\n"
   ]
  },
  {
   "cell_type": "code",
   "execution_count": null,
   "metadata": {
    "pycharm": {
     "name": "#%%\n"
    }
   },
   "outputs": [],
   "source": [
    "df_time = pd.DataFrame(time, columns=range_vehicles)\n",
    "df_time['Horizon'] = range_horizon\n",
    "time_melt = df_time.melt(id_vars=['Horizon'], var_name='NumberVehicles', value_name='time')\n",
    "# time_melt\n",
    "df_ktime_mean = pd.DataFrame(k_time)\n",
    "df_ktime_mean['Horizon'] = range_horizon\n",
    "k_time_melt = df_ktime_mean.melt(id_vars=['Horizon'], var_name='NumberVehicles', value_name='time')\n",
    "# k_time_melt"
   ]
  },
  {
   "cell_type": "code",
   "execution_count": null,
   "metadata": {
    "pycharm": {
     "name": "#%%\n"
    }
   },
   "outputs": [],
   "source": [
    "time_melt"
   ]
  },
  {
   "cell_type": "code",
   "execution_count": null,
   "metadata": {
    "pycharm": {
     "name": "#%%\n"
    }
   },
   "outputs": [],
   "source": [
    "times_simulation = time_melt.merge(k_time_melt, on=['Horizon', 'NumberVehicles'], how='inner', suffixes=('_Centralized', '_Descentralized'))\n",
    "times_simulation"
   ]
  },
  {
   "cell_type": "code",
   "execution_count": null,
   "metadata": {
    "pycharm": {
     "name": "#%%\n"
    }
   },
   "outputs": [],
   "source": [
    "times_simulation.melt(id_vars=['Horizon', 'NumberVehicles'], var_name='Method', value_name='time')"
   ]
  },
  {
   "cell_type": "code",
   "execution_count": null,
   "metadata": {
    "pycharm": {
     "name": "#%%\n"
    }
   },
   "outputs": [],
   "source": [
    "plot_data = times_simulation.melt(id_vars=['Horizon', 'NumberVehicles'], var_name='Method', value_name='time')\n",
    "sns.lineplot(x='NumberVehicles', y='time', data = plot_data[plot_data['Horizon']==7], hue='Method')\n",
    "plt.show()"
   ]
  },
  {
   "cell_type": "code",
   "execution_count": null,
   "metadata": {
    "pycharm": {
     "name": "#%%\n"
    }
   },
   "outputs": [],
   "source": [
    "sns.relplot( x = 'NumberVehicles', y= 'time' ,data = plot_data, kind='line' , hue = 'Method', style=\"Horizon\")\n",
    "plt.show()"
   ]
  },
  {
   "cell_type": "code",
   "execution_count": null,
   "metadata": {
    "pycharm": {
     "name": "#%%\n"
    }
   },
   "outputs": [],
   "source": []
  }
 ],
 "metadata": {
  "kernelspec": {
   "display_name": "Python 3",
   "language": "python",
   "name": "python3"
  },
  "language_info": {
   "codemirror_mode": {
    "name": "ipython",
    "version": 3
   },
   "file_extension": ".py",
   "mimetype": "text/x-python",
   "name": "python",
   "nbconvert_exporter": "python",
   "pygments_lexer": "ipython3",
   "version": "3.9.12"
  }
 },
 "nbformat": 4,
 "nbformat_minor": 1
}
