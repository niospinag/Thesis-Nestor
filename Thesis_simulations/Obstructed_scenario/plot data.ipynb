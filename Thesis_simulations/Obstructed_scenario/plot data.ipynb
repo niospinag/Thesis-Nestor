{
 "cells": [
  {
   "cell_type": "code",
   "execution_count": 1,
   "metadata": {
    "pycharm": {
     "name": "#%%\n"
    }
   },
   "outputs": [],
   "source": [
    "import pandas as pd\n",
    "import seaborn as sns\n",
    "import matplotlib.pyplot as plt\n",
    "import scipy.io as spio\n",
    "import numpy as np\n",
    "\n",
    "# save('myData.mat','vhist','zhist','vphist','zphist','hist_pos','T', \"ktime\", \"time_hist\")\n",
    "mat = spio.loadmat('9vehicles/myData.mat', squeeze_me=True)"
   ]
  },
  {
   "cell_type": "code",
   "execution_count": 2,
   "metadata": {
    "pycharm": {
     "name": "#%%\n"
    }
   },
   "outputs": [
    {
     "name": "stdout",
     "output_type": "stream",
     "text": [
      "<class 'dict'>\n"
     ]
    }
   ],
   "source": [
    "\n",
    "print(type(mat))\n",
    "vhist = mat['vhist']  # structures need [()]\n",
    "vphist = mat['vphist']\n",
    "hist_pos = mat['hist_pos']\n",
    "zhist = mat['zhist']\n",
    "zphist = mat['zphist']\n",
    "ktime = mat['ktime']\n",
    "time_hist = mat['time_hist']\n",
    "T_total = mat['End']\n",
    "#  ----------------------------------------------------------------------------\n",
    "horizon = hist_pos.shape[1]\n",
    "robots = hist_pos.shape[0]\n",
    "index_array =['robot ' + str(i+1) for i in range(robots)]\n"
   ]
  },
  {
   "cell_type": "code",
   "execution_count": 20,
   "metadata": {
    "pycharm": {
     "name": "#%%\n"
    }
   },
   "outputs": [],
   "source": [
    "\n",
    "df_vel = pd.DataFrame(vhist[:,:-1], columns = np.arange(1,horizon))\n",
    "df_zel= pd.DataFrame(zhist[:,:-1], columns = np.arange(1,horizon))\n",
    "df_pos = pd.DataFrame(hist_pos[:,:-1], columns = np.arange(1,horizon))\n",
    "df_time = pd.DataFrame(time_hist, columns = np.arange(1,horizon))\n",
    "df_vel['agent'] = index_array\n",
    "df_zel['agent'] = index_array\n",
    "df_pos['agent'] = index_array\n",
    "df_time['agent'] = index_array\n",
    "# df.index.names = ['agents']\n",
    "# df_vel.index.names = ['agents']\n",
    "# df_vel.reset_index(drop=True)\n",
    "# index = pd.Index(index_array, name = 'agent') #pd.Index(np.arange(1,robots+1))\n",
    "# df = df.set_index(index)\n",
    "# print('df_time', df_time)\n",
    "# print(df_vel)\n"
   ]
  },
  {
   "cell_type": "code",
   "execution_count": 4,
   "metadata": {
    "pycharm": {
     "name": "#%%\n"
    }
   },
   "outputs": [
    {
     "data": {
      "text/html": [
       "<div>\n",
       "<style scoped>\n",
       "    .dataframe tbody tr th:only-of-type {\n",
       "        vertical-align: middle;\n",
       "    }\n",
       "\n",
       "    .dataframe tbody tr th {\n",
       "        vertical-align: top;\n",
       "    }\n",
       "\n",
       "    .dataframe thead th {\n",
       "        text-align: right;\n",
       "    }\n",
       "</style>\n",
       "<table border=\"1\" class=\"dataframe\">\n",
       "  <thead>\n",
       "    <tr style=\"text-align: right;\">\n",
       "      <th></th>\n",
       "      <th>agent</th>\n",
       "      <th>k</th>\n",
       "      <th>Vel</th>\n",
       "      <th>Zel</th>\n",
       "      <th>Pos</th>\n",
       "      <th>d_time</th>\n",
       "    </tr>\n",
       "  </thead>\n",
       "  <tbody>\n",
       "    <tr>\n",
       "      <th>0</th>\n",
       "      <td>robot 1</td>\n",
       "      <td>1</td>\n",
       "      <td>10.0</td>\n",
       "      <td>6</td>\n",
       "      <td>0.000000</td>\n",
       "      <td>0.121705</td>\n",
       "    </tr>\n",
       "    <tr>\n",
       "      <th>1</th>\n",
       "      <td>robot 2</td>\n",
       "      <td>1</td>\n",
       "      <td>20.0</td>\n",
       "      <td>1</td>\n",
       "      <td>-40.000000</td>\n",
       "      <td>0.350114</td>\n",
       "    </tr>\n",
       "    <tr>\n",
       "      <th>2</th>\n",
       "      <td>robot 3</td>\n",
       "      <td>1</td>\n",
       "      <td>10.0</td>\n",
       "      <td>3</td>\n",
       "      <td>-10.000000</td>\n",
       "      <td>0.187796</td>\n",
       "    </tr>\n",
       "    <tr>\n",
       "      <th>3</th>\n",
       "      <td>robot 4</td>\n",
       "      <td>1</td>\n",
       "      <td>20.0</td>\n",
       "      <td>5</td>\n",
       "      <td>-10.000000</td>\n",
       "      <td>0.355099</td>\n",
       "    </tr>\n",
       "    <tr>\n",
       "      <th>4</th>\n",
       "      <td>robot 5</td>\n",
       "      <td>1</td>\n",
       "      <td>10.0</td>\n",
       "      <td>2</td>\n",
       "      <td>-30.000000</td>\n",
       "      <td>0.178467</td>\n",
       "    </tr>\n",
       "    <tr>\n",
       "      <th>...</th>\n",
       "      <td>...</td>\n",
       "      <td>...</td>\n",
       "      <td>...</td>\n",
       "      <td>...</td>\n",
       "      <td>...</td>\n",
       "      <td>...</td>\n",
       "    </tr>\n",
       "    <tr>\n",
       "      <th>595</th>\n",
       "      <td>robot 8</td>\n",
       "      <td>50</td>\n",
       "      <td>30.0</td>\n",
       "      <td>3</td>\n",
       "      <td>590.000000</td>\n",
       "      <td>0.083550</td>\n",
       "    </tr>\n",
       "    <tr>\n",
       "      <th>596</th>\n",
       "      <td>robot 9</td>\n",
       "      <td>50</td>\n",
       "      <td>20.0</td>\n",
       "      <td>3</td>\n",
       "      <td>397.998214</td>\n",
       "      <td>0.082276</td>\n",
       "    </tr>\n",
       "    <tr>\n",
       "      <th>597</th>\n",
       "      <td>robot 10</td>\n",
       "      <td>50</td>\n",
       "      <td>50.0</td>\n",
       "      <td>3</td>\n",
       "      <td>977.200000</td>\n",
       "      <td>0.049393</td>\n",
       "    </tr>\n",
       "    <tr>\n",
       "      <th>598</th>\n",
       "      <td>robot 11</td>\n",
       "      <td>50</td>\n",
       "      <td>15.0</td>\n",
       "      <td>3</td>\n",
       "      <td>307.286111</td>\n",
       "      <td>0.084643</td>\n",
       "    </tr>\n",
       "    <tr>\n",
       "      <th>599</th>\n",
       "      <td>robot 12</td>\n",
       "      <td>50</td>\n",
       "      <td>15.0</td>\n",
       "      <td>3</td>\n",
       "      <td>272.641319</td>\n",
       "      <td>0.092662</td>\n",
       "    </tr>\n",
       "  </tbody>\n",
       "</table>\n",
       "<p>600 rows × 6 columns</p>\n",
       "</div>"
      ],
      "text/plain": [
       "        agent   k   Vel  Zel         Pos    d_time\n",
       "0     robot 1   1  10.0    6    0.000000  0.121705\n",
       "1     robot 2   1  20.0    1  -40.000000  0.350114\n",
       "2     robot 3   1  10.0    3  -10.000000  0.187796\n",
       "3     robot 4   1  20.0    5  -10.000000  0.355099\n",
       "4     robot 5   1  10.0    2  -30.000000  0.178467\n",
       "..        ...  ..   ...  ...         ...       ...\n",
       "595   robot 8  50  30.0    3  590.000000  0.083550\n",
       "596   robot 9  50  20.0    3  397.998214  0.082276\n",
       "597  robot 10  50  50.0    3  977.200000  0.049393\n",
       "598  robot 11  50  15.0    3  307.286111  0.084643\n",
       "599  robot 12  50  15.0    3  272.641319  0.092662\n",
       "\n",
       "[600 rows x 6 columns]"
      ]
     },
     "execution_count": 4,
     "metadata": {},
     "output_type": "execute_result"
    }
   ],
   "source": [
    "vel_melt = df_vel.melt(id_vars=['agent'], var_name='k', value_name='Vel')\n",
    "zel_melt = df_zel.melt(id_vars=['agent'], var_name='k', value_name='Zel')\n",
    "pos_melt = df_pos.melt(id_vars=['agent'], var_name='k', value_name='Pos')\n",
    "time_melt = df_time.melt(id_vars=['agent'], var_name='k', value_name='d_time')\n",
    "df_data = vel_melt.merge(zel_melt, on=['agent', 'k'], how='inner') \\\n",
    "                .merge(pos_melt, on=['agent', 'k'], how='inner')\\\n",
    "                .merge(time_melt, on=['agent', 'k'], how='inner')\n",
    "df_data"
   ]
  },
  {
   "cell_type": "code",
   "execution_count": null,
   "metadata": {
    "pycharm": {
     "name": "#%%\n"
    }
   },
   "outputs": [],
   "source": []
  },
  {
   "cell_type": "code",
   "execution_count": 5,
   "metadata": {
    "pycharm": {
     "name": "#%%\n"
    }
   },
   "outputs": [
    {
     "data": {
      "image/png": "[encoded data removed]",
      "text/plain": [
       "<Figure size 437.875x360 with 1 Axes>"
      ]
     },
     "metadata": {
      "needs_background": "light"
     },
     "output_type": "display_data"
    }
   ],
   "source": [
    "# tiempos = database[]\n",
    "sns.relplot( x = 'k', y= 'Zel' ,data = df_data, kind='line' , hue = 'agent')\n",
    "plt.show()"
   ]
  },
  {
   "cell_type": "code",
   "execution_count": 6,
   "metadata": {
    "pycharm": {
     "name": "#%%\n"
    }
   },
   "outputs": [
    {
     "data": {
      "image/png": "[encoded data removed]",
      "text/plain": [
       "<Figure size 360x360 with 1 Axes>"
      ]
     },
     "metadata": {
      "needs_background": "light"
     },
     "output_type": "display_data"
    }
   ],
   "source": [
    "sns.relplot( x = 'k', y= 'd_time' ,data = df_data, kind='line' )\n",
    "plt.show()"
   ]
  },
  {
   "cell_type": "code",
   "execution_count": 7,
   "metadata": {
    "pycharm": {
     "name": "#%%\n"
    }
   },
   "outputs": [
    {
     "data": {
      "image/png": "[encoded data removed]",
      "text/plain": [
       "<Figure size 432x288 with 1 Axes>"
      ]
     },
     "metadata": {
      "needs_background": "light"
     },
     "output_type": "display_data"
    }
   ],
   "source": [
    "range_horizon = [4,5,6,7,8,9,10]\n",
    "range_vehicles = [2,3,4,5,6,7,8,9,10,11,12]\n",
    "\n",
    "# time of whole time vs horizon\n",
    "sim_time = []\n",
    "k_time = []\n",
    "for i in range_horizon:\n",
    "    mat = spio.loadmat(f'11vehicles/datasave/data_11v_{i}N.mat', squeeze_me=True)\n",
    "    sim_time.append(mat['End'])\n",
    "    k_time.append(mat['ktime'])\n",
    "\n",
    "fig = plt.figure()\n",
    "\n",
    "# creating the bar plot\n",
    "plt.bar(range_horizon, sim_time, width = 0.4)\n",
    "plt.xlabel(\"Prediction Horizon\")\n",
    "plt.ylabel(\"Solve Time [s]\")\n",
    "plt.title(\"Students enrolled in different courses\")\n",
    "plt.show()\n",
    "# sim_time"
   ]
  },
  {
   "cell_type": "code",
   "execution_count": 8,
   "metadata": {
    "pycharm": {
     "name": "#%%\n"
    }
   },
   "outputs": [
    {
     "data": {
      "text/plain": [
       "<AxesSubplot:xlabel='horizon', ylabel='time'>"
      ]
     },
     "execution_count": 8,
     "metadata": {},
     "output_type": "execute_result"
    },
    {
     "data": {
      "image/png": "[encoded data removed]",
      "text/plain": [
       "<Figure size 432x288 with 1 Axes>"
      ]
     },
     "metadata": {
      "needs_background": "light"
     },
     "output_type": "display_data"
    }
   ],
   "source": [
    "df_ktime = pd.DataFrame(k_time)\n",
    "df_ktime['horizon'] = range_horizon\n",
    "ktime_melt = df_ktime.melt(id_vars=['horizon'], var_name='k', value_name='time')\n",
    "ktime_melt\n",
    "sns.barplot(x=\"horizon\", y=\"time\", data=ktime_melt, palette='Blues_d')"
   ]
  },
  {
   "cell_type": "code",
   "execution_count": 9,
   "metadata": {
    "pycharm": {
     "name": "#%%\n"
    }
   },
   "outputs": [
    {
     "data": {
      "image/png": "[encoded data removed]",
      "text/plain": [
       "<Figure size 360x360 with 1 Axes>"
      ]
     },
     "metadata": {
      "needs_background": "light"
     },
     "output_type": "display_data"
    }
   ],
   "source": [
    "sns.relplot( x=\"horizon\", y=\"time\", data=ktime_melt, kind='line' )\n",
    "plt.show()"
   ]
  },
  {
   "cell_type": "code",
   "execution_count": 10,
   "metadata": {
    "pycharm": {
     "name": "#%%\n"
    }
   },
   "outputs": [
    {
     "data": {
      "text/plain": [
       "agent\n",
       "robot 1     0.145063\n",
       "robot 10    0.049904\n",
       "robot 11    0.188391\n",
       "robot 12    0.140698\n",
       "robot 2     0.221701\n",
       "robot 3     0.140279\n",
       "robot 4     0.177006\n",
       "robot 5     0.177488\n",
       "robot 6     0.154380\n",
       "robot 7     0.131223\n",
       "robot 8     0.104402\n",
       "robot 9     0.125265\n",
       "dtype: float64"
      ]
     },
     "execution_count": 10,
     "metadata": {},
     "output_type": "execute_result"
    }
   ],
   "source": [
    "# plot descentraliced and centralized times\n",
    "df_data.pivot_table(index='agent', values ='d_time', columns='k').mean(axis=1)"
   ]
  },
  {
   "cell_type": "code",
   "execution_count": 11,
   "metadata": {
    "pycharm": {
     "name": "#%%\n"
    }
   },
   "outputs": [
    {
     "data": {
      "text/plain": [
       "k\n",
       "1     0.211934\n",
       "2     0.245645\n",
       "3     0.277513\n",
       "4     0.221816\n",
       "5     0.214510\n",
       "6     0.196861\n",
       "7     0.232996\n",
       "8     0.199006\n",
       "9     0.201237\n",
       "10    0.172442\n",
       "11    0.162241\n",
       "12    0.169936\n",
       "13    0.165582\n",
       "14    0.163193\n",
       "15    0.153148\n",
       "16    0.154606\n",
       "17    0.148786\n",
       "18    0.147028\n",
       "19    0.155735\n",
       "20    0.161271\n",
       "21    0.159588\n",
       "22    0.144248\n",
       "23    0.152576\n",
       "24    0.145737\n",
       "25    0.147321\n",
       "26    0.149677\n",
       "27    0.139250\n",
       "28    0.138369\n",
       "29    0.131158\n",
       "30    0.129895\n",
       "31    0.113740\n",
       "32    0.120440\n",
       "33    0.109627\n",
       "34    0.120291\n",
       "35    0.115267\n",
       "36    0.108810\n",
       "37    0.098937\n",
       "38    0.105907\n",
       "39    0.100843\n",
       "40    0.103445\n",
       "41    0.102261\n",
       "42    0.104257\n",
       "43    0.102315\n",
       "44    0.102190\n",
       "45    0.102031\n",
       "46    0.103838\n",
       "47    0.100690\n",
       "48    0.099840\n",
       "49    0.103376\n",
       "50    0.104424\n",
       "dtype: float64"
      ]
     },
     "execution_count": 11,
     "metadata": {},
     "output_type": "execute_result"
    }
   ],
   "source": [
    "df_data.pivot_table(index='agent', values ='d_time', columns='k').mean(axis=0)"
   ]
  },
  {
   "cell_type": "code",
   "execution_count": 12,
   "metadata": {
    "pycharm": {
     "name": "#%%\n"
    }
   },
   "outputs": [
    {
     "data": {
      "text/plain": [
       "[[1.116883,\n",
       "  1.925147,\n",
       "  3.713156,\n",
       "  4.39191,\n",
       "  6.505492,\n",
       "  7.615661,\n",
       "  8.985592,\n",
       "  10.837327,\n",
       "  11.58966,\n",
       "  13.002399,\n",
       "  13.96048],\n",
       " [1.115235,\n",
       "  2.360534,\n",
       "  5.549121,\n",
       "  6.338701,\n",
       "  9.756405,\n",
       "  12.097954,\n",
       "  15.024055,\n",
       "  17.583603,\n",
       "  18.482136,\n",
       "  21.044771,\n",
       "  22.965795],\n",
       " [1.359459,\n",
       "  2.887934,\n",
       "  7.4681,\n",
       "  9.203758,\n",
       "  14.6147,\n",
       "  17.658442,\n",
       "  23.263703,\n",
       "  26.346878,\n",
       "  27.396372,\n",
       "  31.825151,\n",
       "  36.965058],\n",
       " [1.730342,\n",
       "  3.705078,\n",
       "  9.898246,\n",
       "  12.804113,\n",
       "  19.275704,\n",
       "  23.482406,\n",
       "  31.124359,\n",
       "  35.007906,\n",
       "  36.927376,\n",
       "  43.600612,\n",
       "  54.101199],\n",
       " [1.818526,\n",
       "  4.606696,\n",
       "  12.673226,\n",
       "  17.155874,\n",
       "  25.197931,\n",
       "  29.627185,\n",
       "  36.300665,\n",
       "  43.425987,\n",
       "  45.766526,\n",
       "  51.546981,\n",
       "  59.163065],\n",
       " [2.223633,\n",
       "  5.326034,\n",
       "  15.445589,\n",
       "  21.583756,\n",
       "  31.262471,\n",
       "  37.589018,\n",
       "  46.111214,\n",
       "  53.066256,\n",
       "  55.859289,\n",
       "  63.476256,\n",
       "  72.707638],\n",
       " [2.713374,\n",
       "  6.785173,\n",
       "  17.894784,\n",
       "  25.639676,\n",
       "  39.382263,\n",
       "  45.464804,\n",
       "  54.529339,\n",
       "  61.541275,\n",
       "  66.569329,\n",
       "  74.233762,\n",
       "  87.795017]]"
      ]
     },
     "execution_count": 12,
     "metadata": {},
     "output_type": "execute_result"
    }
   ],
   "source": [
    "range_horizon = [4, 5, 6, 7, 8, 9, 10]\n",
    "range_vehicles = [2, 3, 4, 5, 6, 7, 8, 9, 10, 11, 12]\n",
    "\n",
    "time = []\n",
    "k_time = []\n",
    "for i in range_horizon:\n",
    "\n",
    "    sim_time = []\n",
    "    simk_time = []\n",
    "    for j in range_vehicles:\n",
    "        mat = spio.loadmat(f'{j}vehicles/datasave/data_{j}v_{i}N.mat', squeeze_me=True)\n",
    "        sim_time.append(mat['End'])\n",
    "        mean_time = np.mean(mat['ktime'])\n",
    "        simk_time.append(mean_time)\n",
    "    time.append(sim_time)\n",
    "    k_time.append((simk_time))\n",
    "time"
   ]
  },
  {
   "cell_type": "code",
   "execution_count": 13,
   "metadata": {
    "pycharm": {
     "name": "#%%\n"
    }
   },
   "outputs": [],
   "source": [
    "df_time = pd.DataFrame(time, columns=range_vehicles)\n",
    "df_time['Horizon'] = range_horizon\n",
    "time_melt = df_time.melt(id_vars=['Horizon'], var_name='NumberVehicles', value_name='time')\n",
    "# time_melt\n",
    "df_ktime_mean = pd.DataFrame(k_time)\n",
    "df_ktime_mean['Horizon'] = range_horizon\n",
    "ktime_melt = df_ktime_mean.melt(id_vars=['Horizon'], var_name='NumberVehicles', value_name='time')\n",
    "# ktime_melt"
   ]
  },
  {
   "cell_type": "code",
   "execution_count": 14,
   "metadata": {
    "pycharm": {
     "name": "#%%\n"
    }
   },
   "outputs": [
    {
     "data": {
      "text/html": [
       "<div>\n",
       "<style scoped>\n",
       "    .dataframe tbody tr th:only-of-type {\n",
       "        vertical-align: middle;\n",
       "    }\n",
       "\n",
       "    .dataframe tbody tr th {\n",
       "        vertical-align: top;\n",
       "    }\n",
       "\n",
       "    .dataframe thead th {\n",
       "        text-align: right;\n",
       "    }\n",
       "</style>\n",
       "<table border=\"1\" class=\"dataframe\">\n",
       "  <thead>\n",
       "    <tr style=\"text-align: right;\">\n",
       "      <th></th>\n",
       "      <th>Horizon</th>\n",
       "      <th>NumberVehicles</th>\n",
       "      <th>time</th>\n",
       "    </tr>\n",
       "  </thead>\n",
       "  <tbody>\n",
       "    <tr>\n",
       "      <th>0</th>\n",
       "      <td>4</td>\n",
       "      <td>2</td>\n",
       "      <td>1.116883</td>\n",
       "    </tr>\n",
       "    <tr>\n",
       "      <th>1</th>\n",
       "      <td>5</td>\n",
       "      <td>2</td>\n",
       "      <td>1.115235</td>\n",
       "    </tr>\n",
       "    <tr>\n",
       "      <th>2</th>\n",
       "      <td>6</td>\n",
       "      <td>2</td>\n",
       "      <td>1.359459</td>\n",
       "    </tr>\n",
       "    <tr>\n",
       "      <th>3</th>\n",
       "      <td>7</td>\n",
       "      <td>2</td>\n",
       "      <td>1.730342</td>\n",
       "    </tr>\n",
       "    <tr>\n",
       "      <th>4</th>\n",
       "      <td>8</td>\n",
       "      <td>2</td>\n",
       "      <td>1.818526</td>\n",
       "    </tr>\n",
       "    <tr>\n",
       "      <th>...</th>\n",
       "      <td>...</td>\n",
       "      <td>...</td>\n",
       "      <td>...</td>\n",
       "    </tr>\n",
       "    <tr>\n",
       "      <th>72</th>\n",
       "      <td>6</td>\n",
       "      <td>12</td>\n",
       "      <td>36.965058</td>\n",
       "    </tr>\n",
       "    <tr>\n",
       "      <th>73</th>\n",
       "      <td>7</td>\n",
       "      <td>12</td>\n",
       "      <td>54.101199</td>\n",
       "    </tr>\n",
       "    <tr>\n",
       "      <th>74</th>\n",
       "      <td>8</td>\n",
       "      <td>12</td>\n",
       "      <td>59.163065</td>\n",
       "    </tr>\n",
       "    <tr>\n",
       "      <th>75</th>\n",
       "      <td>9</td>\n",
       "      <td>12</td>\n",
       "      <td>72.707638</td>\n",
       "    </tr>\n",
       "    <tr>\n",
       "      <th>76</th>\n",
       "      <td>10</td>\n",
       "      <td>12</td>\n",
       "      <td>87.795017</td>\n",
       "    </tr>\n",
       "  </tbody>\n",
       "</table>\n",
       "<p>77 rows × 3 columns</p>\n",
       "</div>"
      ],
      "text/plain": [
       "    Horizon NumberVehicles       time\n",
       "0         4              2   1.116883\n",
       "1         5              2   1.115235\n",
       "2         6              2   1.359459\n",
       "3         7              2   1.730342\n",
       "4         8              2   1.818526\n",
       "..      ...            ...        ...\n",
       "72        6             12  36.965058\n",
       "73        7             12  54.101199\n",
       "74        8             12  59.163065\n",
       "75        9             12  72.707638\n",
       "76       10             12  87.795017\n",
       "\n",
       "[77 rows x 3 columns]"
      ]
     },
     "execution_count": 14,
     "metadata": {},
     "output_type": "execute_result"
    }
   ],
   "source": [
    "time_melt"
   ]
  },
  {
   "cell_type": "code",
   "execution_count": 15,
   "metadata": {
    "pycharm": {
     "name": "#%%\n"
    }
   },
   "outputs": [
    {
     "data": {
      "text/html": [
       "<div>\n",
       "<style scoped>\n",
       "    .dataframe tbody tr th:only-of-type {\n",
       "        vertical-align: middle;\n",
       "    }\n",
       "\n",
       "    .dataframe tbody tr th {\n",
       "        vertical-align: top;\n",
       "    }\n",
       "\n",
       "    .dataframe thead th {\n",
       "        text-align: right;\n",
       "    }\n",
       "</style>\n",
       "<table border=\"1\" class=\"dataframe\">\n",
       "  <thead>\n",
       "    <tr style=\"text-align: right;\">\n",
       "      <th></th>\n",
       "      <th>Horizon</th>\n",
       "      <th>NumberVehicles</th>\n",
       "      <th>time_Centralized</th>\n",
       "      <th>time_Descentralized</th>\n",
       "    </tr>\n",
       "  </thead>\n",
       "  <tbody>\n",
       "    <tr>\n",
       "      <th>0</th>\n",
       "      <td>4</td>\n",
       "      <td>2</td>\n",
       "      <td>1.116883</td>\n",
       "      <td>0.074248</td>\n",
       "    </tr>\n",
       "    <tr>\n",
       "      <th>1</th>\n",
       "      <td>5</td>\n",
       "      <td>2</td>\n",
       "      <td>1.115235</td>\n",
       "      <td>0.110976</td>\n",
       "    </tr>\n",
       "    <tr>\n",
       "      <th>2</th>\n",
       "      <td>6</td>\n",
       "      <td>2</td>\n",
       "      <td>1.359459</td>\n",
       "      <td>0.149357</td>\n",
       "    </tr>\n",
       "    <tr>\n",
       "      <th>3</th>\n",
       "      <td>7</td>\n",
       "      <td>2</td>\n",
       "      <td>1.730342</td>\n",
       "      <td>0.197960</td>\n",
       "    </tr>\n",
       "    <tr>\n",
       "      <th>4</th>\n",
       "      <td>8</td>\n",
       "      <td>2</td>\n",
       "      <td>1.818526</td>\n",
       "      <td>0.253443</td>\n",
       "    </tr>\n",
       "    <tr>\n",
       "      <th>...</th>\n",
       "      <td>...</td>\n",
       "      <td>...</td>\n",
       "      <td>...</td>\n",
       "      <td>...</td>\n",
       "    </tr>\n",
       "    <tr>\n",
       "      <th>58</th>\n",
       "      <td>6</td>\n",
       "      <td>10</td>\n",
       "      <td>27.396372</td>\n",
       "      <td>0.739297</td>\n",
       "    </tr>\n",
       "    <tr>\n",
       "      <th>59</th>\n",
       "      <td>7</td>\n",
       "      <td>10</td>\n",
       "      <td>36.927376</td>\n",
       "      <td>1.082022</td>\n",
       "    </tr>\n",
       "    <tr>\n",
       "      <th>60</th>\n",
       "      <td>8</td>\n",
       "      <td>10</td>\n",
       "      <td>45.766526</td>\n",
       "      <td>1.183242</td>\n",
       "    </tr>\n",
       "    <tr>\n",
       "      <th>61</th>\n",
       "      <td>9</td>\n",
       "      <td>10</td>\n",
       "      <td>55.859289</td>\n",
       "      <td>1.454151</td>\n",
       "    </tr>\n",
       "    <tr>\n",
       "      <th>62</th>\n",
       "      <td>10</td>\n",
       "      <td>10</td>\n",
       "      <td>66.569329</td>\n",
       "      <td>1.755899</td>\n",
       "    </tr>\n",
       "  </tbody>\n",
       "</table>\n",
       "<p>63 rows × 4 columns</p>\n",
       "</div>"
      ],
      "text/plain": [
       "    Horizon NumberVehicles  time_Centralized  time_Descentralized\n",
       "0         4              2          1.116883             0.074248\n",
       "1         5              2          1.115235             0.110976\n",
       "2         6              2          1.359459             0.149357\n",
       "3         7              2          1.730342             0.197960\n",
       "4         8              2          1.818526             0.253443\n",
       "..      ...            ...               ...                  ...\n",
       "58        6             10         27.396372             0.739297\n",
       "59        7             10         36.927376             1.082022\n",
       "60        8             10         45.766526             1.183242\n",
       "61        9             10         55.859289             1.454151\n",
       "62       10             10         66.569329             1.755899\n",
       "\n",
       "[63 rows x 4 columns]"
      ]
     },
     "execution_count": 15,
     "metadata": {},
     "output_type": "execute_result"
    }
   ],
   "source": [
    "times_simulation = time_melt.merge(ktime_melt, on=['Horizon', 'NumberVehicles'], how='inner', suffixes=('_Centralized', '_Descentralized'))\n",
    "times_simulation"
   ]
  },
  {
   "cell_type": "code",
   "execution_count": 16,
   "metadata": {
    "pycharm": {
     "name": "#%%\n"
    }
   },
   "outputs": [
    {
     "data": {
      "text/html": [
       "<div>\n",
       "<style scoped>\n",
       "    .dataframe tbody tr th:only-of-type {\n",
       "        vertical-align: middle;\n",
       "    }\n",
       "\n",
       "    .dataframe tbody tr th {\n",
       "        vertical-align: top;\n",
       "    }\n",
       "\n",
       "    .dataframe thead th {\n",
       "        text-align: right;\n",
       "    }\n",
       "</style>\n",
       "<table border=\"1\" class=\"dataframe\">\n",
       "  <thead>\n",
       "    <tr style=\"text-align: right;\">\n",
       "      <th></th>\n",
       "      <th>Horizon</th>\n",
       "      <th>NumberVehicles</th>\n",
       "      <th>Method</th>\n",
       "      <th>time</th>\n",
       "    </tr>\n",
       "  </thead>\n",
       "  <tbody>\n",
       "    <tr>\n",
       "      <th>0</th>\n",
       "      <td>4</td>\n",
       "      <td>2</td>\n",
       "      <td>time_Centralized</td>\n",
       "      <td>1.116883</td>\n",
       "    </tr>\n",
       "    <tr>\n",
       "      <th>1</th>\n",
       "      <td>5</td>\n",
       "      <td>2</td>\n",
       "      <td>time_Centralized</td>\n",
       "      <td>1.115235</td>\n",
       "    </tr>\n",
       "    <tr>\n",
       "      <th>2</th>\n",
       "      <td>6</td>\n",
       "      <td>2</td>\n",
       "      <td>time_Centralized</td>\n",
       "      <td>1.359459</td>\n",
       "    </tr>\n",
       "    <tr>\n",
       "      <th>3</th>\n",
       "      <td>7</td>\n",
       "      <td>2</td>\n",
       "      <td>time_Centralized</td>\n",
       "      <td>1.730342</td>\n",
       "    </tr>\n",
       "    <tr>\n",
       "      <th>4</th>\n",
       "      <td>8</td>\n",
       "      <td>2</td>\n",
       "      <td>time_Centralized</td>\n",
       "      <td>1.818526</td>\n",
       "    </tr>\n",
       "    <tr>\n",
       "      <th>...</th>\n",
       "      <td>...</td>\n",
       "      <td>...</td>\n",
       "      <td>...</td>\n",
       "      <td>...</td>\n",
       "    </tr>\n",
       "    <tr>\n",
       "      <th>121</th>\n",
       "      <td>6</td>\n",
       "      <td>10</td>\n",
       "      <td>time_Descentralized</td>\n",
       "      <td>0.739297</td>\n",
       "    </tr>\n",
       "    <tr>\n",
       "      <th>122</th>\n",
       "      <td>7</td>\n",
       "      <td>10</td>\n",
       "      <td>time_Descentralized</td>\n",
       "      <td>1.082022</td>\n",
       "    </tr>\n",
       "    <tr>\n",
       "      <th>123</th>\n",
       "      <td>8</td>\n",
       "      <td>10</td>\n",
       "      <td>time_Descentralized</td>\n",
       "      <td>1.183242</td>\n",
       "    </tr>\n",
       "    <tr>\n",
       "      <th>124</th>\n",
       "      <td>9</td>\n",
       "      <td>10</td>\n",
       "      <td>time_Descentralized</td>\n",
       "      <td>1.454151</td>\n",
       "    </tr>\n",
       "    <tr>\n",
       "      <th>125</th>\n",
       "      <td>10</td>\n",
       "      <td>10</td>\n",
       "      <td>time_Descentralized</td>\n",
       "      <td>1.755899</td>\n",
       "    </tr>\n",
       "  </tbody>\n",
       "</table>\n",
       "<p>126 rows × 4 columns</p>\n",
       "</div>"
      ],
      "text/plain": [
       "     Horizon NumberVehicles               Method      time\n",
       "0          4              2     time_Centralized  1.116883\n",
       "1          5              2     time_Centralized  1.115235\n",
       "2          6              2     time_Centralized  1.359459\n",
       "3          7              2     time_Centralized  1.730342\n",
       "4          8              2     time_Centralized  1.818526\n",
       "..       ...            ...                  ...       ...\n",
       "121        6             10  time_Descentralized  0.739297\n",
       "122        7             10  time_Descentralized  1.082022\n",
       "123        8             10  time_Descentralized  1.183242\n",
       "124        9             10  time_Descentralized  1.454151\n",
       "125       10             10  time_Descentralized  1.755899\n",
       "\n",
       "[126 rows x 4 columns]"
      ]
     },
     "execution_count": 16,
     "metadata": {},
     "output_type": "execute_result"
    }
   ],
   "source": [
    "times_simulation.melt(id_vars=['Horizon', 'NumberVehicles'], var_name='Method', value_name='time')"
   ]
  },
  {
   "cell_type": "code",
   "execution_count": 17,
   "metadata": {
    "pycharm": {
     "name": "#%%\n"
    }
   },
   "outputs": [
    {
     "data": {
      "image/png": "[encoded data removed]",
      "text/plain": [
       "<Figure size 432x288 with 1 Axes>"
      ]
     },
     "metadata": {
      "needs_background": "light"
     },
     "output_type": "display_data"
    }
   ],
   "source": [
    "plot_data = times_simulation.melt(id_vars=['Horizon', 'NumberVehicles'], var_name='Method', value_name='time')\n",
    "sns.lineplot(x='NumberVehicles', y='time', data = plot_data[plot_data['Horizon']==7], hue='Method')\n",
    "plt.show()"
   ]
  },
  {
   "cell_type": "code",
   "execution_count": 18,
   "metadata": {
    "pycharm": {
     "name": "#%%\n"
    }
   },
   "outputs": [
    {
     "data": {
      "image/png": "[encoded data removed]",
      "text/plain": [
       "<Figure size 498.125x360 with 1 Axes>"
      ]
     },
     "metadata": {
      "needs_background": "light"
     },
     "output_type": "display_data"
    }
   ],
   "source": [
    "sns.relplot( x = 'NumberVehicles', y= 'time' ,data = plot_data, kind='line' , hue = 'Method', style=\"Horizon\")\n",
    "plt.show()"
   ]
  },
  {
   "cell_type": "code",
   "execution_count": 19,
   "metadata": {
    "pycharm": {
     "name": "#%%\n"
    }
   },
   "outputs": [
    {
     "ename": "NameError",
     "evalue": "name 'cax' is not defined",
     "output_type": "error",
     "traceback": [
      "\u001b[1;31m---------------------------------------------------------------------------\u001b[0m",
      "\u001b[1;31mNameError\u001b[0m                                 Traceback (most recent call last)",
      "Input \u001b[1;32mIn [19]\u001b[0m, in \u001b[0;36m<cell line: 7>\u001b[1;34m()\u001b[0m\n\u001b[0;32m      3\u001b[0m g \u001b[38;5;241m=\u001b[39m sns\u001b[38;5;241m.\u001b[39mJointGrid(data\u001b[38;5;241m=\u001b[39mtimes_simulation, x\u001b[38;5;241m=\u001b[39m\u001b[38;5;124m\"\u001b[39m\u001b[38;5;124mNumberVehicles\u001b[39m\u001b[38;5;124m\"\u001b[39m, y\u001b[38;5;241m=\u001b[39m\u001b[38;5;124m\"\u001b[39m\u001b[38;5;124mHorizon\u001b[39m\u001b[38;5;124m\"\u001b[39m, marginal_ticks\u001b[38;5;241m=\u001b[39m\u001b[38;5;28;01mTrue\u001b[39;00m)\n\u001b[0;32m      6\u001b[0m \u001b[38;5;66;03m# Add the joint and marginal histogram plots\u001b[39;00m\n\u001b[0;32m      7\u001b[0m g\u001b[38;5;241m.\u001b[39mplot_joint(sns\u001b[38;5;241m.\u001b[39mhistplot, discrete\u001b[38;5;241m=\u001b[39m(\u001b[38;5;28;01mTrue\u001b[39;00m, \u001b[38;5;28;01mFalse\u001b[39;00m),\n\u001b[1;32m----> 8\u001b[0m     cmap\u001b[38;5;241m=\u001b[39m\u001b[38;5;124m\"\u001b[39m\u001b[38;5;124mrocket\u001b[39m\u001b[38;5;124m\"\u001b[39m, pmax\u001b[38;5;241m=\u001b[39m\u001b[38;5;241m.8\u001b[39m, cbar\u001b[38;5;241m=\u001b[39m\u001b[38;5;28;01mTrue\u001b[39;00m, cbar_ax\u001b[38;5;241m=\u001b[39m\u001b[43mcax\u001b[49m\n\u001b[0;32m      9\u001b[0m )\n\u001b[0;32m     10\u001b[0m g\u001b[38;5;241m.\u001b[39mplot_marginals(sns\u001b[38;5;241m.\u001b[39mhistplot, element\u001b[38;5;241m=\u001b[39m\u001b[38;5;124m\"\u001b[39m\u001b[38;5;124mstep\u001b[39m\u001b[38;5;124m\"\u001b[39m, color\u001b[38;5;241m=\u001b[39m\u001b[38;5;124m\"\u001b[39m\u001b[38;5;124m#03012d\u001b[39m\u001b[38;5;124m\"\u001b[39m)\n",
      "\u001b[1;31mNameError\u001b[0m: name 'cax' is not defined"
     ]
    },
    {
     "data": {
      "image/png": "[encoded data removed]",
      "text/plain": [
       "<Figure size 432x432 with 3 Axes>"
      ]
     },
     "metadata": {
      "needs_background": "light"
     },
     "output_type": "display_data"
    }
   ],
   "source": [
    "# Load the planets dataset and initialize the figure\n",
    "\n",
    "g = sns.JointGrid(data=times_simulation, x=\"NumberVehicles\", y=\"Horizon\", marginal_ticks=True)\n",
    "\n",
    "\n",
    "# Add the joint and marginal histogram plots\n",
    "g.plot_joint(sns.histplot, discrete=(True, False),\n",
    "    cmap=\"rocket\", pmax=.8, cbar=True, cbar_ax=cax\n",
    ")\n",
    "g.plot_marginals(sns.histplot, element=\"step\", color=\"#03012d\")"
   ]
  },
  {
   "cell_type": "code",
   "execution_count": null,
   "metadata": {
    "pycharm": {
     "name": "#%%\n"
    }
   },
   "outputs": [],
   "source": [
    "# Load the planets dataset and initialize the figure\n",
    "planets = sns.load_dataset(\"planets\")\n",
    "g = sns.JointGrid(data=planets, x=\"year\", y=\"distance\", marginal_ticks=True)\n",
    "\n",
    "# Set a log scaling on the y axis\n",
    "g.ax_joint.set(yscale=\"log\")\n",
    "\n",
    "# Create an inset legend for the histogram colorbar\n",
    "cax = g.figure.add_axes([.15, .55, .02, .2])\n",
    "\n",
    "# Add the joint and marginal histogram plots\n",
    "g.plot_joint(\n",
    "    sns.histplot, discrete=(True, False),\n",
    "    cmap=\"light:#03012d\", pmax=.8, cbar=True, cbar_ax=cax\n",
    ")\n",
    "g.plot_marginals(sns.histplot, element=\"step\", color=\"#03012d\")"
   ]
  },
  {
   "cell_type": "code",
   "execution_count": null,
   "metadata": {
    "pycharm": {
     "name": "#%%\n"
    }
   },
   "outputs": [],
   "source": [
    "planets"
   ]
  }
 ],
 "metadata": {
  "kernelspec": {
   "display_name": "Python 3",
   "language": "python",
   "name": "python3"
  },
  "language_info": {
   "codemirror_mode": {
    "name": "ipython",
    "version": 3
   },
   "file_extension": ".py",
   "mimetype": "text/x-python",
   "name": "python",
   "nbconvert_exporter": "python",
   "pygments_lexer": "ipython3",
   "version": "3.9.12"
  }
 },
 "nbformat": 4,
 "nbformat_minor": 1
}
