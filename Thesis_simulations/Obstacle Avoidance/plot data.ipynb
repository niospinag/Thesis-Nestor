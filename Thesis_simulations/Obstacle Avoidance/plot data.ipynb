{
 "cells": [
  {
   "cell_type": "code",
   "execution_count": 1,
   "metadata": {
    "pycharm": {
     "name": "#%%\n"
    }
   },
   "outputs": [],
   "source": [
    "import pandas as pd\n",
    "import seaborn as sns\n",
    "import matplotlib.pyplot as plt\n",
    "import scipy.io as spio\n",
    "import numpy as np\n",
    "\n",
    "# save('myData.mat','vhist','zhist','vphist','zphist','hist_pos','T', \"ktime\", \"time_hist\")\n",
    "mat = spio.loadmat('9vehicles/myData.mat', squeeze_me=True)"
   ]
  },
  {
   "cell_type": "code",
   "execution_count": 2,
   "metadata": {
    "pycharm": {
     "name": "#%%\n"
    }
   },
   "outputs": [
    {
     "name": "stdout",
     "output_type": "stream",
     "text": [
      "<class 'dict'>\n"
     ]
    }
   ],
   "source": [
    "\n",
    "print(type(mat))\n",
    "vhist = mat['vhist']  # structures need [()]\n",
    "vphist = mat['vphist']\n",
    "hist_pos = mat['hist_pos']\n",
    "zhist = mat['zhist']\n",
    "zphist = mat['zphist']\n",
    "ktime = mat['ktime']\n",
    "time_hist = mat['time_hist']\n",
    "T_total = mat['End']\n",
    "#  ----------------------------------------------------------------------------\n",
    "horizon = hist_pos.shape[1]\n",
    "robots = hist_pos.shape[0]\n",
    "index_array =['robot ' + str(i+1) for i in range(robots)]\n"
   ]
  },
  {
   "cell_type": "code",
   "execution_count": 3,
   "metadata": {
    "pycharm": {
     "name": "#%%\n"
    }
   },
   "outputs": [
    {
     "name": "stdout",
     "output_type": "stream",
     "text": [
      "df_time            1         2         3         4         5         6         7  \\\n",
      "0   0.095975  0.095599  0.073778  0.040104  0.024370  0.018204  0.015281   \n",
      "1   0.035756  0.016655  0.018374  0.067175  0.031493  0.036247  0.040738   \n",
      "2   0.023288  0.024462  0.047424  0.044585  0.018118  0.018820  0.018826   \n",
      "3   0.047691  0.038893  0.038294  0.027956  0.026339  0.025751  0.028731   \n",
      "4   0.021433  0.021779  0.022029  0.024959  0.028136  0.027879  0.026389   \n",
      "5   0.058395  0.031549  0.023542  0.020476  0.022470  0.030796  0.027441   \n",
      "6   0.032003  0.033809  0.044917  0.062595  0.062115  0.078396  0.068416   \n",
      "7   0.030949  0.026455  0.027133  0.042348  0.043542  0.035861  0.033324   \n",
      "8   0.018652  0.014903  0.019774  0.019326  0.019053  0.017047  0.018647   \n",
      "9   0.043371  0.038691  0.040857  0.035655  0.041586  0.042582  0.043239   \n",
      "10  0.033218  0.050558  0.036246  0.027795  0.020351  0.020860  0.020403   \n",
      "11  0.087542  0.071969  0.064044  0.051951  0.054852  0.045763  0.044915   \n",
      "\n",
      "           8         9        10  ...        32        33        34        35  \\\n",
      "0   0.017879  0.019684  0.018342  ...  0.028785  0.031148  0.037575  0.036451   \n",
      "1   0.038388  0.054500  0.054161  ...  0.021543  0.021855  0.021737  0.021110   \n",
      "2   0.019588  0.019945  0.015365  ...  0.025010  0.019950  0.027279  0.025375   \n",
      "3   0.031843  0.029769  0.033205  ...  0.112611  0.062437  0.042295  0.041493   \n",
      "4   0.028898  0.031769  0.043660  ...  0.017402  0.017657  0.015803  0.015426   \n",
      "5   0.030098  0.032223  0.033677  ...  0.074733  0.065523  0.066836  0.063497   \n",
      "6   0.073745  0.080197  0.110872  ...  0.127338  0.092292  0.073194  0.072189   \n",
      "7   0.047352  0.052748  0.050179  ...  0.055933  0.048824  0.046127  0.045524   \n",
      "8   0.017400  0.016821  0.017885  ...  0.040383  0.022193  0.021983  0.028110   \n",
      "9   0.044950  0.065748  0.048470  ...  0.048368  0.049012  0.051248  0.052062   \n",
      "10  0.020097  0.045955  0.024512  ...  0.026981  0.024357  0.024862  0.027576   \n",
      "11  0.045580  0.043355  0.042557  ...  0.070510  0.065630  0.072389  0.067446   \n",
      "\n",
      "          36        37        38        39        40     agent  \n",
      "0   0.031050  0.022116  0.022047  0.021505  0.023387   robot 1  \n",
      "1   0.022440  0.021882  0.021560  0.021038  0.020944   robot 2  \n",
      "2   0.027550  0.028249  0.028856  0.036154  0.052847   robot 3  \n",
      "3   0.040625  0.035049  0.054947  0.042513  0.037558   robot 4  \n",
      "4   0.015956  0.043863  0.035455  0.016899  0.016287   robot 5  \n",
      "5   0.068135  0.071777  0.065082  0.055200  0.070076   robot 6  \n",
      "6   0.054707  0.053567  0.068574  0.057475  0.050107   robot 7  \n",
      "7   0.049385  0.046561  0.046415  0.047581  0.049056   robot 8  \n",
      "8   0.024426  0.025154  0.026323  0.025345  0.024647   robot 9  \n",
      "9   0.040967  0.040974  0.039371  0.033721  0.053224  robot 10  \n",
      "10  0.016859  0.019672  0.020895  0.024102  0.023141  robot 11  \n",
      "11  0.078189  0.070536  0.075013  0.071371  0.069307  robot 12  \n",
      "\n",
      "[12 rows x 41 columns]\n",
      "       1     2     3     4     5     6     7     8     9    10  ...  \\\n",
      "0   40.0  33.0  26.0  19.0  12.0   5.0   2.0   2.0   2.0   2.0  ...   \n",
      "1   20.0  20.0  20.0  20.0  20.0  20.0  20.0  20.0  20.0  20.0  ...   \n",
      "2   10.0  17.0  20.0  20.0  20.0  20.0  20.0  20.0  20.0  20.0  ...   \n",
      "3   20.0  13.0  10.0  10.0  10.0  10.0  10.0  10.0  10.0  10.0  ...   \n",
      "4   10.0  17.0  24.0  30.0  30.0  30.0  30.0  30.0  30.0  30.0  ...   \n",
      "5   10.0  17.0  24.0  30.0  30.0  30.0  30.0  30.0  30.0  30.0  ...   \n",
      "6   20.0  27.0  30.0  30.0  30.0  30.0  30.0  30.0  30.0  30.0  ...   \n",
      "7   10.0  17.0  24.0  31.0  38.0  40.0  40.0  40.0  40.0  40.0  ...   \n",
      "8   10.0  17.0  20.0  20.0  20.0  20.0  20.0  20.0  20.0  20.0  ...   \n",
      "9   20.0  27.0  34.0  41.0  48.0  50.0  50.0  50.0  50.0  50.0  ...   \n",
      "10  10.0  15.0  15.0  15.0  15.0  15.0  15.0  15.0  15.0  15.0  ...   \n",
      "11  20.0  15.0  15.0  15.0  15.0  15.0  15.0  15.0  15.0  15.0  ...   \n",
      "\n",
      "           32         33         34         35         36         37  \\\n",
      "0    2.000000   2.000000   2.000000   2.000000   2.000000   2.000000   \n",
      "1   20.000000  20.000000  20.000000  20.000000  20.000000  20.000000   \n",
      "2   20.000000  20.000000  20.000000  20.000000  20.000000  20.000000   \n",
      "3   10.000000  10.000000  10.000000  10.000000  10.000000  10.000000   \n",
      "4   22.218687  21.957665  21.727351  21.524133  21.344824  21.186609   \n",
      "5   30.555556  30.555556  30.555556  30.555556  30.555556  30.000000   \n",
      "6   30.000000  30.000000  30.000000  30.000000  30.000000  30.000000   \n",
      "7   40.000000  40.000000  40.000000  40.000000  40.000000  40.000000   \n",
      "8   20.000000  20.000000  20.000000  20.000000  20.000000  20.000000   \n",
      "9   50.000000  50.000000  50.000000  50.000000  50.000000  50.000000   \n",
      "10  15.000000  15.000000  15.000000  15.000000  15.000000  15.000000   \n",
      "11  15.000000  15.000000  15.000000  15.000000  15.000000  15.000000   \n",
      "\n",
      "           38         39         40     agent  \n",
      "0    2.000000   2.000000   2.000000   robot 1  \n",
      "1   20.000000  20.000000  20.000000   robot 2  \n",
      "2   20.000000  20.000000  20.000000   robot 3  \n",
      "3   10.000000  10.000000  10.000000   robot 4  \n",
      "4   21.047008  20.923831  20.815145   robot 5  \n",
      "5   30.000000  30.000000  30.000000   robot 6  \n",
      "6   30.000000  30.000000  30.000000   robot 7  \n",
      "7   40.000000  40.000000  40.000000   robot 8  \n",
      "8   20.000000  20.000000  20.000000   robot 9  \n",
      "9   50.000000  50.000000  50.000000  robot 10  \n",
      "10  15.000000  15.000000  15.000000  robot 11  \n",
      "11  15.000000  15.000000  15.000000  robot 12  \n",
      "\n",
      "[12 rows x 41 columns]\n"
     ]
    }
   ],
   "source": [
    "\n",
    "df_vel = pd.DataFrame(vhist[:,:-1], columns = np.arange(1,horizon))\n",
    "df_zel= pd.DataFrame(zhist[:,:-1], columns = np.arange(1,horizon))\n",
    "df_pos = pd.DataFrame(hist_pos[:,:-1], columns = np.arange(1,horizon))\n",
    "df_time = pd.DataFrame(time_hist, columns = np.arange(1,horizon))\n",
    "df_vel['agent'] = index_array\n",
    "df_zel['agent'] = index_array\n",
    "df_pos['agent'] = index_array\n",
    "df_time['agent'] = index_array\n",
    "# df.index.names = ['agents']\n",
    "# df_vel.index.names = ['agents']\n",
    "# df_vel.reset_index(drop=True)\n",
    "# index = pd.Index(index_array, name = 'agent') #pd.Index(np.arange(1,robots+1))\n",
    "# df = df.set_index(index)\n",
    "print('df_time', df_time)\n",
    "print(df_vel)\n"
   ]
  },
  {
   "cell_type": "code",
   "execution_count": 4,
   "metadata": {
    "pycharm": {
     "name": "#%%\n"
    }
   },
   "outputs": [
    {
     "data": {
      "text/html": [
       "<div>\n",
       "<style scoped>\n",
       "    .dataframe tbody tr th:only-of-type {\n",
       "        vertical-align: middle;\n",
       "    }\n",
       "\n",
       "    .dataframe tbody tr th {\n",
       "        vertical-align: top;\n",
       "    }\n",
       "\n",
       "    .dataframe thead th {\n",
       "        text-align: right;\n",
       "    }\n",
       "</style>\n",
       "<table border=\"1\" class=\"dataframe\">\n",
       "  <thead>\n",
       "    <tr style=\"text-align: right;\">\n",
       "      <th></th>\n",
       "      <th>agent</th>\n",
       "      <th>k</th>\n",
       "      <th>Vel</th>\n",
       "      <th>Zel</th>\n",
       "      <th>Pos</th>\n",
       "      <th>d_time</th>\n",
       "    </tr>\n",
       "  </thead>\n",
       "  <tbody>\n",
       "    <tr>\n",
       "      <th>0</th>\n",
       "      <td>robot 1</td>\n",
       "      <td>1</td>\n",
       "      <td>40.0</td>\n",
       "      <td>3</td>\n",
       "      <td>30.0</td>\n",
       "      <td>0.095975</td>\n",
       "    </tr>\n",
       "    <tr>\n",
       "      <th>1</th>\n",
       "      <td>robot 2</td>\n",
       "      <td>1</td>\n",
       "      <td>20.0</td>\n",
       "      <td>1</td>\n",
       "      <td>-40.0</td>\n",
       "      <td>0.035756</td>\n",
       "    </tr>\n",
       "    <tr>\n",
       "      <th>2</th>\n",
       "      <td>robot 3</td>\n",
       "      <td>1</td>\n",
       "      <td>10.0</td>\n",
       "      <td>3</td>\n",
       "      <td>-20.0</td>\n",
       "      <td>0.023288</td>\n",
       "    </tr>\n",
       "    <tr>\n",
       "      <th>3</th>\n",
       "      <td>robot 4</td>\n",
       "      <td>1</td>\n",
       "      <td>20.0</td>\n",
       "      <td>4</td>\n",
       "      <td>-10.0</td>\n",
       "      <td>0.047691</td>\n",
       "    </tr>\n",
       "    <tr>\n",
       "      <th>4</th>\n",
       "      <td>robot 5</td>\n",
       "      <td>1</td>\n",
       "      <td>10.0</td>\n",
       "      <td>2</td>\n",
       "      <td>-30.0</td>\n",
       "      <td>0.021433</td>\n",
       "    </tr>\n",
       "    <tr>\n",
       "      <th>...</th>\n",
       "      <td>...</td>\n",
       "      <td>...</td>\n",
       "      <td>...</td>\n",
       "      <td>...</td>\n",
       "      <td>...</td>\n",
       "      <td>...</td>\n",
       "    </tr>\n",
       "    <tr>\n",
       "      <th>475</th>\n",
       "      <td>robot 8</td>\n",
       "      <td>40</td>\n",
       "      <td>40.0</td>\n",
       "      <td>4</td>\n",
       "      <td>158.0</td>\n",
       "      <td>0.049056</td>\n",
       "    </tr>\n",
       "    <tr>\n",
       "      <th>476</th>\n",
       "      <td>robot 9</td>\n",
       "      <td>40</td>\n",
       "      <td>20.0</td>\n",
       "      <td>1</td>\n",
       "      <td>86.7</td>\n",
       "      <td>0.024647</td>\n",
       "    </tr>\n",
       "    <tr>\n",
       "      <th>477</th>\n",
       "      <td>robot 10</td>\n",
       "      <td>40</td>\n",
       "      <td>50.0</td>\n",
       "      <td>5</td>\n",
       "      <td>197.0</td>\n",
       "      <td>0.053224</td>\n",
       "    </tr>\n",
       "    <tr>\n",
       "      <th>478</th>\n",
       "      <td>robot 11</td>\n",
       "      <td>40</td>\n",
       "      <td>15.0</td>\n",
       "      <td>2</td>\n",
       "      <td>78.0</td>\n",
       "      <td>0.023141</td>\n",
       "    </tr>\n",
       "    <tr>\n",
       "      <th>479</th>\n",
       "      <td>robot 12</td>\n",
       "      <td>40</td>\n",
       "      <td>15.0</td>\n",
       "      <td>5</td>\n",
       "      <td>-1.0</td>\n",
       "      <td>0.069307</td>\n",
       "    </tr>\n",
       "  </tbody>\n",
       "</table>\n",
       "<p>480 rows × 6 columns</p>\n",
       "</div>"
      ],
      "text/plain": [
       "        agent   k   Vel  Zel    Pos    d_time\n",
       "0     robot 1   1  40.0    3   30.0  0.095975\n",
       "1     robot 2   1  20.0    1  -40.0  0.035756\n",
       "2     robot 3   1  10.0    3  -20.0  0.023288\n",
       "3     robot 4   1  20.0    4  -10.0  0.047691\n",
       "4     robot 5   1  10.0    2  -30.0  0.021433\n",
       "..        ...  ..   ...  ...    ...       ...\n",
       "475   robot 8  40  40.0    4  158.0  0.049056\n",
       "476   robot 9  40  20.0    1   86.7  0.024647\n",
       "477  robot 10  40  50.0    5  197.0  0.053224\n",
       "478  robot 11  40  15.0    2   78.0  0.023141\n",
       "479  robot 12  40  15.0    5   -1.0  0.069307\n",
       "\n",
       "[480 rows x 6 columns]"
      ]
     },
     "execution_count": 4,
     "metadata": {},
     "output_type": "execute_result"
    }
   ],
   "source": [
    "vel_melt = df_vel.melt(id_vars=['agent'], var_name='k', value_name='Vel')\n",
    "zel_melt = df_zel.melt(id_vars=['agent'], var_name='k', value_name='Zel')\n",
    "pos_melt = df_pos.melt(id_vars=['agent'], var_name='k', value_name='Pos')\n",
    "time_melt = df_time.melt(id_vars=['agent'], var_name='k', value_name='d_time')\n",
    "df_data = vel_melt.merge(zel_melt, on=['agent', 'k'], how='inner') \\\n",
    "                .merge(pos_melt, on=['agent', 'k'], how='inner')\\\n",
    "                .merge(time_melt, on=['agent', 'k'], how='inner')\n",
    "df_data"
   ]
  },
  {
   "cell_type": "code",
   "execution_count": null,
   "metadata": {
    "pycharm": {
     "name": "#%%\n"
    }
   },
   "outputs": [],
   "source": []
  },
  {
   "cell_type": "code",
   "execution_count": 5,
   "metadata": {
    "pycharm": {
     "name": "#%%\n"
    }
   },
   "outputs": [
    {
     "data": {
      "image/png": "[encoded data removed]",
      "text/plain": [
       "<Figure size 437.875x360 with 1 Axes>"
      ]
     },
     "metadata": {
      "needs_background": "light"
     },
     "output_type": "display_data"
    }
   ],
   "source": [
    "# tiempos = database[]\n",
    "sns.relplot( x = 'k', y= 'Zel' ,data = df_data, kind='line' , hue = 'agent')\n",
    "plt.show()"
   ]
  },
  {
   "cell_type": "code",
   "execution_count": 6,
   "metadata": {
    "pycharm": {
     "name": "#%%\n"
    }
   },
   "outputs": [
    {
     "data": {
      "image/png": "[encoded data removed]",
      "text/plain": [
       "<Figure size 360x360 with 1 Axes>"
      ]
     },
     "metadata": {
      "needs_background": "light"
     },
     "output_type": "display_data"
    }
   ],
   "source": [
    "sns.relplot( x = 'k', y= 'd_time' ,data = df_data, kind='line' )\n",
    "plt.show()"
   ]
  },
  {
   "cell_type": "code",
   "execution_count": 7,
   "metadata": {
    "pycharm": {
     "name": "#%%\n"
    }
   },
   "outputs": [
    {
     "data": {
      "image/png": "[encoded data removed]",
      "text/plain": [
       "<Figure size 432x288 with 1 Axes>"
      ]
     },
     "metadata": {
      "needs_background": "light"
     },
     "output_type": "display_data"
    }
   ],
   "source": [
    "range_horizon = [4,5,6,7,8,9,10]\n",
    "range_vehicles = [2,3,4,5,6,7,8,9,10,11,12]\n",
    "\n",
    "# time of whole time vs horizon\n",
    "sim_time = []\n",
    "k_time = []\n",
    "for i in range_horizon:\n",
    "    mat = spio.loadmat(f'11vehicles/datasave/data_11v_{i}N.mat', squeeze_me=True)\n",
    "    sim_time.append(mat['End'])\n",
    "    k_time.append(mat['ktime'])\n",
    "\n",
    "fig = plt.figure()\n",
    "\n",
    "# creating the bar plot\n",
    "plt.bar(range_horizon, sim_time, width = 0.4)\n",
    "plt.xlabel(\"Prediction Horizon\")\n",
    "plt.ylabel(\"Solve Time [s]\")\n",
    "plt.title(\"Students enrolled in different courses\")\n",
    "plt.show()\n",
    "# sim_time"
   ]
  },
  {
   "cell_type": "code",
   "execution_count": 8,
   "metadata": {
    "pycharm": {
     "name": "#%%\n"
    }
   },
   "outputs": [
    {
     "data": {
      "text/plain": [
       "<AxesSubplot:xlabel='horizon', ylabel='time'>"
      ]
     },
     "execution_count": 8,
     "metadata": {},
     "output_type": "execute_result"
    },
    {
     "data": {
      "image/png": "[encoded data removed]",
      "text/plain": [
       "<Figure size 432x288 with 1 Axes>"
      ]
     },
     "metadata": {
      "needs_background": "light"
     },
     "output_type": "display_data"
    }
   ],
   "source": [
    "df_ktime = pd.DataFrame(k_time)\n",
    "df_ktime['horizon'] = range_horizon\n",
    "ktime_melt = df_ktime.melt(id_vars=['horizon'], var_name='k', value_name='time')\n",
    "ktime_melt\n",
    "sns.barplot(x=\"horizon\", y=\"time\", data=ktime_melt, palette='Blues_d')"
   ]
  },
  {
   "cell_type": "code",
   "execution_count": 9,
   "metadata": {
    "pycharm": {
     "name": "#%%\n"
    }
   },
   "outputs": [
    {
     "data": {
      "image/png": "[encoded data removed]",
      "text/plain": [
       "<Figure size 360x360 with 1 Axes>"
      ]
     },
     "metadata": {
      "needs_background": "light"
     },
     "output_type": "display_data"
    }
   ],
   "source": [
    "sns.relplot( x=\"horizon\", y=\"time\", data=ktime_melt, kind='line' )\n",
    "plt.show()"
   ]
  },
  {
   "cell_type": "code",
   "execution_count": 10,
   "metadata": {
    "pycharm": {
     "name": "#%%\n"
    }
   },
   "outputs": [
    {
     "data": {
      "text/plain": [
       "agent\n",
       "robot 1     0.028472\n",
       "robot 10    0.046580\n",
       "robot 11    0.027628\n",
       "robot 12    0.064599\n",
       "robot 2     0.036665\n",
       "robot 3     0.026505\n",
       "robot 4     0.048517\n",
       "robot 5     0.029154\n",
       "robot 6     0.054085\n",
       "robot 7     0.080613\n",
       "robot 8     0.053371\n",
       "robot 9     0.024045\n",
       "dtype: float64"
      ]
     },
     "execution_count": 10,
     "metadata": {},
     "output_type": "execute_result"
    }
   ],
   "source": [
    "# plot descentraliced and centralized times\n",
    "df_data.pivot_table(index='agent', values ='d_time', columns='k').mean(axis=1)"
   ]
  },
  {
   "cell_type": "code",
   "execution_count": 11,
   "metadata": {
    "pycharm": {
     "name": "#%%\n"
    }
   },
   "outputs": [
    {
     "data": {
      "text/plain": [
       "k\n",
       "1     0.044023\n",
       "2     0.038777\n",
       "3     0.038034\n",
       "4     0.038744\n",
       "5     0.032702\n",
       "6     0.033184\n",
       "7     0.032196\n",
       "8     0.034652\n",
       "9     0.041059\n",
       "10    0.041074\n",
       "11    0.049680\n",
       "12    0.048835\n",
       "13    0.048598\n",
       "14    0.043966\n",
       "15    0.045963\n",
       "16    0.042962\n",
       "17    0.044662\n",
       "18    0.052107\n",
       "19    0.048828\n",
       "20    0.046677\n",
       "21    0.041966\n",
       "22    0.039518\n",
       "23    0.043862\n",
       "24    0.047067\n",
       "25    0.050435\n",
       "26    0.048733\n",
       "27    0.045377\n",
       "28    0.046627\n",
       "29    0.047158\n",
       "30    0.046734\n",
       "31    0.049432\n",
       "32    0.054133\n",
       "33    0.043406\n",
       "34    0.041777\n",
       "35    0.041355\n",
       "36    0.039191\n",
       "37    0.039950\n",
       "38    0.042045\n",
       "39    0.037742\n",
       "40    0.040882\n",
       "dtype: float64"
      ]
     },
     "execution_count": 11,
     "metadata": {},
     "output_type": "execute_result"
    }
   ],
   "source": [
    "df_data.pivot_table(index='agent', values ='d_time', columns='k').mean(axis=0)"
   ]
  },
  {
   "cell_type": "code",
   "execution_count": 12,
   "metadata": {
    "pycharm": {
     "name": "#%%\n"
    }
   },
   "outputs": [
    {
     "data": {
      "text/plain": [
       "[[0.499484,\n",
       "  1.066099,\n",
       "  1.520703,\n",
       "  2.076611,\n",
       "  2.348711,\n",
       "  2.807553,\n",
       "  3.325487,\n",
       "  3.755026,\n",
       "  4.132342,\n",
       "  3.935449,\n",
       "  4.968405],\n",
       " [0.523264,\n",
       "  1.211635,\n",
       "  1.877931,\n",
       "  2.514708,\n",
       "  3.091118,\n",
       "  3.566935,\n",
       "  4.228585,\n",
       "  4.508217,\n",
       "  5.322496,\n",
       "  4.875899,\n",
       "  6.449244],\n",
       " [0.584923,\n",
       "  1.43564,\n",
       "  2.454565,\n",
       "  3.164544,\n",
       "  3.749557,\n",
       "  4.561136,\n",
       "  5.520362,\n",
       "  5.944879,\n",
       "  6.670106,\n",
       "  11.480301,\n",
       "  8.047704],\n",
       " [0.628166,\n",
       "  1.854243,\n",
       "  3.120473,\n",
       "  4.134772,\n",
       "  4.704039,\n",
       "  5.861914,\n",
       "  7.107886,\n",
       "  7.685021,\n",
       "  8.632519,\n",
       "  16.603339,\n",
       "  19.445428],\n",
       " [0.728637,\n",
       "  2.367296,\n",
       "  3.923844,\n",
       "  5.151175,\n",
       "  6.277858,\n",
       "  7.618265,\n",
       "  9.212583,\n",
       "  9.878446,\n",
       "  11.073875,\n",
       "  23.860212,\n",
       "  12.139361],\n",
       " [0.881149,\n",
       "  2.867698,\n",
       "  5.150885,\n",
       "  6.697764,\n",
       "  8.304378,\n",
       "  10.217375,\n",
       "  12.129127,\n",
       "  13.414441,\n",
       "  14.811253,\n",
       "  15.324069,\n",
       "  15.566573],\n",
       " [0.92306,\n",
       "  3.453414,\n",
       "  6.634586,\n",
       "  8.882729,\n",
       "  11.060468,\n",
       "  13.640735,\n",
       "  16.055845,\n",
       "  17.699172,\n",
       "  19.725861,\n",
       "  20.26902,\n",
       "  20.665795]]"
      ]
     },
     "execution_count": 12,
     "metadata": {},
     "output_type": "execute_result"
    }
   ],
   "source": [
    "range_horizon = [4, 5, 6, 7, 8, 9, 10]\n",
    "range_vehicles = [2, 3, 4, 5, 6, 7, 8, 9, 10, 11, 12]\n",
    "\n",
    "time = []\n",
    "k_time = []\n",
    "for i in range_horizon:\n",
    "\n",
    "    sim_time = []\n",
    "    simk_time = []\n",
    "    for j in range_vehicles:\n",
    "        mat = spio.loadmat(f'{j}vehicles/datasave/data_{j}v_{i}N.mat', squeeze_me=True)\n",
    "        sim_time.append(mat['End'])\n",
    "        mean_time = np.mean(mat['ktime'])\n",
    "        simk_time.append(mean_time)\n",
    "    time.append(sim_time)\n",
    "    k_time.append((simk_time))\n",
    "time"
   ]
  },
  {
   "cell_type": "code",
   "execution_count": 13,
   "metadata": {
    "pycharm": {
     "name": "#%%\n"
    }
   },
   "outputs": [],
   "source": [
    "df_time = pd.DataFrame(time, columns=range_vehicles)\n",
    "df_time['Horizon'] = range_horizon\n",
    "time_melt = df_time.melt(id_vars=['Horizon'], var_name='NumberVehicles', value_name='time')\n",
    "# time_melt\n",
    "df_ktime_mean = pd.DataFrame(k_time)\n",
    "df_ktime_mean['Horizon'] = range_horizon\n",
    "ktime_melt = df_ktime_mean.melt(id_vars=['Horizon'], var_name='NumberVehicles', value_name='time')\n",
    "# ktime_melt"
   ]
  },
  {
   "cell_type": "code",
   "execution_count": 14,
   "metadata": {
    "pycharm": {
     "name": "#%%\n"
    }
   },
   "outputs": [
    {
     "data": {
      "text/html": [
       "<div>\n",
       "<style scoped>\n",
       "    .dataframe tbody tr th:only-of-type {\n",
       "        vertical-align: middle;\n",
       "    }\n",
       "\n",
       "    .dataframe tbody tr th {\n",
       "        vertical-align: top;\n",
       "    }\n",
       "\n",
       "    .dataframe thead th {\n",
       "        text-align: right;\n",
       "    }\n",
       "</style>\n",
       "<table border=\"1\" class=\"dataframe\">\n",
       "  <thead>\n",
       "    <tr style=\"text-align: right;\">\n",
       "      <th></th>\n",
       "      <th>Horizon</th>\n",
       "      <th>NumberVehicles</th>\n",
       "      <th>time</th>\n",
       "    </tr>\n",
       "  </thead>\n",
       "  <tbody>\n",
       "    <tr>\n",
       "      <th>0</th>\n",
       "      <td>4</td>\n",
       "      <td>2</td>\n",
       "      <td>0.499484</td>\n",
       "    </tr>\n",
       "    <tr>\n",
       "      <th>1</th>\n",
       "      <td>5</td>\n",
       "      <td>2</td>\n",
       "      <td>0.523264</td>\n",
       "    </tr>\n",
       "    <tr>\n",
       "      <th>2</th>\n",
       "      <td>6</td>\n",
       "      <td>2</td>\n",
       "      <td>0.584923</td>\n",
       "    </tr>\n",
       "    <tr>\n",
       "      <th>3</th>\n",
       "      <td>7</td>\n",
       "      <td>2</td>\n",
       "      <td>0.628166</td>\n",
       "    </tr>\n",
       "    <tr>\n",
       "      <th>4</th>\n",
       "      <td>8</td>\n",
       "      <td>2</td>\n",
       "      <td>0.728637</td>\n",
       "    </tr>\n",
       "    <tr>\n",
       "      <th>...</th>\n",
       "      <td>...</td>\n",
       "      <td>...</td>\n",
       "      <td>...</td>\n",
       "    </tr>\n",
       "    <tr>\n",
       "      <th>72</th>\n",
       "      <td>6</td>\n",
       "      <td>12</td>\n",
       "      <td>8.047704</td>\n",
       "    </tr>\n",
       "    <tr>\n",
       "      <th>73</th>\n",
       "      <td>7</td>\n",
       "      <td>12</td>\n",
       "      <td>19.445428</td>\n",
       "    </tr>\n",
       "    <tr>\n",
       "      <th>74</th>\n",
       "      <td>8</td>\n",
       "      <td>12</td>\n",
       "      <td>12.139361</td>\n",
       "    </tr>\n",
       "    <tr>\n",
       "      <th>75</th>\n",
       "      <td>9</td>\n",
       "      <td>12</td>\n",
       "      <td>15.566573</td>\n",
       "    </tr>\n",
       "    <tr>\n",
       "      <th>76</th>\n",
       "      <td>10</td>\n",
       "      <td>12</td>\n",
       "      <td>20.665795</td>\n",
       "    </tr>\n",
       "  </tbody>\n",
       "</table>\n",
       "<p>77 rows × 3 columns</p>\n",
       "</div>"
      ],
      "text/plain": [
       "    Horizon NumberVehicles       time\n",
       "0         4              2   0.499484\n",
       "1         5              2   0.523264\n",
       "2         6              2   0.584923\n",
       "3         7              2   0.628166\n",
       "4         8              2   0.728637\n",
       "..      ...            ...        ...\n",
       "72        6             12   8.047704\n",
       "73        7             12  19.445428\n",
       "74        8             12  12.139361\n",
       "75        9             12  15.566573\n",
       "76       10             12  20.665795\n",
       "\n",
       "[77 rows x 3 columns]"
      ]
     },
     "execution_count": 14,
     "metadata": {},
     "output_type": "execute_result"
    }
   ],
   "source": [
    "time_melt"
   ]
  },
  {
   "cell_type": "code",
   "execution_count": 15,
   "metadata": {
    "pycharm": {
     "name": "#%%\n"
    }
   },
   "outputs": [
    {
     "data": {
      "text/html": [
       "<div>\n",
       "<style scoped>\n",
       "    .dataframe tbody tr th:only-of-type {\n",
       "        vertical-align: middle;\n",
       "    }\n",
       "\n",
       "    .dataframe tbody tr th {\n",
       "        vertical-align: top;\n",
       "    }\n",
       "\n",
       "    .dataframe thead th {\n",
       "        text-align: right;\n",
       "    }\n",
       "</style>\n",
       "<table border=\"1\" class=\"dataframe\">\n",
       "  <thead>\n",
       "    <tr style=\"text-align: right;\">\n",
       "      <th></th>\n",
       "      <th>Horizon</th>\n",
       "      <th>NumberVehicles</th>\n",
       "      <th>time_Centralized</th>\n",
       "      <th>time_Descentralized</th>\n",
       "    </tr>\n",
       "  </thead>\n",
       "  <tbody>\n",
       "    <tr>\n",
       "      <th>0</th>\n",
       "      <td>4</td>\n",
       "      <td>2</td>\n",
       "      <td>0.499484</td>\n",
       "      <td>0.037999</td>\n",
       "    </tr>\n",
       "    <tr>\n",
       "      <th>1</th>\n",
       "      <td>5</td>\n",
       "      <td>2</td>\n",
       "      <td>0.523264</td>\n",
       "      <td>0.046939</td>\n",
       "    </tr>\n",
       "    <tr>\n",
       "      <th>2</th>\n",
       "      <td>6</td>\n",
       "      <td>2</td>\n",
       "      <td>0.584923</td>\n",
       "      <td>0.061359</td>\n",
       "    </tr>\n",
       "    <tr>\n",
       "      <th>3</th>\n",
       "      <td>7</td>\n",
       "      <td>2</td>\n",
       "      <td>0.628166</td>\n",
       "      <td>0.078007</td>\n",
       "    </tr>\n",
       "    <tr>\n",
       "      <th>4</th>\n",
       "      <td>8</td>\n",
       "      <td>2</td>\n",
       "      <td>0.728637</td>\n",
       "      <td>0.098071</td>\n",
       "    </tr>\n",
       "    <tr>\n",
       "      <th>...</th>\n",
       "      <td>...</td>\n",
       "      <td>...</td>\n",
       "      <td>...</td>\n",
       "      <td>...</td>\n",
       "    </tr>\n",
       "    <tr>\n",
       "      <th>58</th>\n",
       "      <td>6</td>\n",
       "      <td>10</td>\n",
       "      <td>6.670106</td>\n",
       "      <td>0.201188</td>\n",
       "    </tr>\n",
       "    <tr>\n",
       "      <th>59</th>\n",
       "      <td>7</td>\n",
       "      <td>10</td>\n",
       "      <td>8.632519</td>\n",
       "      <td>0.486116</td>\n",
       "    </tr>\n",
       "    <tr>\n",
       "      <th>60</th>\n",
       "      <td>8</td>\n",
       "      <td>10</td>\n",
       "      <td>11.073875</td>\n",
       "      <td>0.303478</td>\n",
       "    </tr>\n",
       "    <tr>\n",
       "      <th>61</th>\n",
       "      <td>9</td>\n",
       "      <td>10</td>\n",
       "      <td>14.811253</td>\n",
       "      <td>0.389144</td>\n",
       "    </tr>\n",
       "    <tr>\n",
       "      <th>62</th>\n",
       "      <td>10</td>\n",
       "      <td>10</td>\n",
       "      <td>19.725861</td>\n",
       "      <td>0.516636</td>\n",
       "    </tr>\n",
       "  </tbody>\n",
       "</table>\n",
       "<p>63 rows × 4 columns</p>\n",
       "</div>"
      ],
      "text/plain": [
       "    Horizon NumberVehicles  time_Centralized  time_Descentralized\n",
       "0         4              2          0.499484             0.037999\n",
       "1         5              2          0.523264             0.046939\n",
       "2         6              2          0.584923             0.061359\n",
       "3         7              2          0.628166             0.078007\n",
       "4         8              2          0.728637             0.098071\n",
       "..      ...            ...               ...                  ...\n",
       "58        6             10          6.670106             0.201188\n",
       "59        7             10          8.632519             0.486116\n",
       "60        8             10         11.073875             0.303478\n",
       "61        9             10         14.811253             0.389144\n",
       "62       10             10         19.725861             0.516636\n",
       "\n",
       "[63 rows x 4 columns]"
      ]
     },
     "execution_count": 15,
     "metadata": {},
     "output_type": "execute_result"
    }
   ],
   "source": [
    "times_simulation = time_melt.merge(ktime_melt, on=['Horizon', 'NumberVehicles'], how='inner', suffixes=('_Centralized', '_Descentralized'))\n",
    "times_simulation"
   ]
  },
  {
   "cell_type": "code",
   "execution_count": 16,
   "metadata": {
    "pycharm": {
     "name": "#%%\n"
    }
   },
   "outputs": [
    {
     "data": {
      "text/html": [
       "<div>\n",
       "<style scoped>\n",
       "    .dataframe tbody tr th:only-of-type {\n",
       "        vertical-align: middle;\n",
       "    }\n",
       "\n",
       "    .dataframe tbody tr th {\n",
       "        vertical-align: top;\n",
       "    }\n",
       "\n",
       "    .dataframe thead th {\n",
       "        text-align: right;\n",
       "    }\n",
       "</style>\n",
       "<table border=\"1\" class=\"dataframe\">\n",
       "  <thead>\n",
       "    <tr style=\"text-align: right;\">\n",
       "      <th></th>\n",
       "      <th>Horizon</th>\n",
       "      <th>NumberVehicles</th>\n",
       "      <th>Method</th>\n",
       "      <th>time</th>\n",
       "    </tr>\n",
       "  </thead>\n",
       "  <tbody>\n",
       "    <tr>\n",
       "      <th>0</th>\n",
       "      <td>4</td>\n",
       "      <td>2</td>\n",
       "      <td>time_Centralized</td>\n",
       "      <td>0.499484</td>\n",
       "    </tr>\n",
       "    <tr>\n",
       "      <th>1</th>\n",
       "      <td>5</td>\n",
       "      <td>2</td>\n",
       "      <td>time_Centralized</td>\n",
       "      <td>0.523264</td>\n",
       "    </tr>\n",
       "    <tr>\n",
       "      <th>2</th>\n",
       "      <td>6</td>\n",
       "      <td>2</td>\n",
       "      <td>time_Centralized</td>\n",
       "      <td>0.584923</td>\n",
       "    </tr>\n",
       "    <tr>\n",
       "      <th>3</th>\n",
       "      <td>7</td>\n",
       "      <td>2</td>\n",
       "      <td>time_Centralized</td>\n",
       "      <td>0.628166</td>\n",
       "    </tr>\n",
       "    <tr>\n",
       "      <th>4</th>\n",
       "      <td>8</td>\n",
       "      <td>2</td>\n",
       "      <td>time_Centralized</td>\n",
       "      <td>0.728637</td>\n",
       "    </tr>\n",
       "    <tr>\n",
       "      <th>...</th>\n",
       "      <td>...</td>\n",
       "      <td>...</td>\n",
       "      <td>...</td>\n",
       "      <td>...</td>\n",
       "    </tr>\n",
       "    <tr>\n",
       "      <th>121</th>\n",
       "      <td>6</td>\n",
       "      <td>10</td>\n",
       "      <td>time_Descentralized</td>\n",
       "      <td>0.201188</td>\n",
       "    </tr>\n",
       "    <tr>\n",
       "      <th>122</th>\n",
       "      <td>7</td>\n",
       "      <td>10</td>\n",
       "      <td>time_Descentralized</td>\n",
       "      <td>0.486116</td>\n",
       "    </tr>\n",
       "    <tr>\n",
       "      <th>123</th>\n",
       "      <td>8</td>\n",
       "      <td>10</td>\n",
       "      <td>time_Descentralized</td>\n",
       "      <td>0.303478</td>\n",
       "    </tr>\n",
       "    <tr>\n",
       "      <th>124</th>\n",
       "      <td>9</td>\n",
       "      <td>10</td>\n",
       "      <td>time_Descentralized</td>\n",
       "      <td>0.389144</td>\n",
       "    </tr>\n",
       "    <tr>\n",
       "      <th>125</th>\n",
       "      <td>10</td>\n",
       "      <td>10</td>\n",
       "      <td>time_Descentralized</td>\n",
       "      <td>0.516636</td>\n",
       "    </tr>\n",
       "  </tbody>\n",
       "</table>\n",
       "<p>126 rows × 4 columns</p>\n",
       "</div>"
      ],
      "text/plain": [
       "     Horizon NumberVehicles               Method      time\n",
       "0          4              2     time_Centralized  0.499484\n",
       "1          5              2     time_Centralized  0.523264\n",
       "2          6              2     time_Centralized  0.584923\n",
       "3          7              2     time_Centralized  0.628166\n",
       "4          8              2     time_Centralized  0.728637\n",
       "..       ...            ...                  ...       ...\n",
       "121        6             10  time_Descentralized  0.201188\n",
       "122        7             10  time_Descentralized  0.486116\n",
       "123        8             10  time_Descentralized  0.303478\n",
       "124        9             10  time_Descentralized  0.389144\n",
       "125       10             10  time_Descentralized  0.516636\n",
       "\n",
       "[126 rows x 4 columns]"
      ]
     },
     "execution_count": 16,
     "metadata": {},
     "output_type": "execute_result"
    }
   ],
   "source": [
    "times_simulation.melt(id_vars=['Horizon', 'NumberVehicles'], var_name='Method', value_name='time')"
   ]
  },
  {
   "cell_type": "code",
   "execution_count": 17,
   "metadata": {
    "pycharm": {
     "name": "#%%\n"
    }
   },
   "outputs": [
    {
     "data": {
      "image/png": "[encoded data removed]",
      "text/plain": [
       "<Figure size 432x288 with 1 Axes>"
      ]
     },
     "metadata": {
      "needs_background": "light"
     },
     "output_type": "display_data"
    }
   ],
   "source": [
    "plot_data = times_simulation.melt(id_vars=['Horizon', 'NumberVehicles'], var_name='Method', value_name='time')\n",
    "sns.lineplot(x='NumberVehicles', y='time', data = plot_data[plot_data['Horizon']==7], hue='Method')\n",
    "plt.show()"
   ]
  },
  {
   "cell_type": "code",
   "execution_count": 18,
   "metadata": {
    "pycharm": {
     "name": "#%%\n"
    }
   },
   "outputs": [
    {
     "data": {
      "image/png": "[encoded data removed]",
      "text/plain": [
       "<Figure size 498.125x360 with 1 Axes>"
      ]
     },
     "metadata": {
      "needs_background": "light"
     },
     "output_type": "display_data"
    }
   ],
   "source": [
    "sns.relplot( x = 'NumberVehicles', y= 'time' ,data = plot_data, kind='line' , hue = 'Method', style=\"Horizon\")\n",
    "plt.show()"
   ]
  },
  {
   "cell_type": "code",
   "execution_count": 19,
   "metadata": {
    "pycharm": {
     "name": "#%%\n"
    }
   },
   "outputs": [
    {
     "ename": "NameError",
     "evalue": "name 'cax' is not defined",
     "output_type": "error",
     "traceback": [
      "\u001b[1;31m---------------------------------------------------------------------------\u001b[0m",
      "\u001b[1;31mNameError\u001b[0m                                 Traceback (most recent call last)",
      "Input \u001b[1;32mIn [19]\u001b[0m, in \u001b[0;36m<cell line: 7>\u001b[1;34m()\u001b[0m\n\u001b[0;32m      3\u001b[0m g \u001b[38;5;241m=\u001b[39m sns\u001b[38;5;241m.\u001b[39mJointGrid(data\u001b[38;5;241m=\u001b[39mtimes_simulation, x\u001b[38;5;241m=\u001b[39m\u001b[38;5;124m\"\u001b[39m\u001b[38;5;124mNumberVehicles\u001b[39m\u001b[38;5;124m\"\u001b[39m, y\u001b[38;5;241m=\u001b[39m\u001b[38;5;124m\"\u001b[39m\u001b[38;5;124mHorizon\u001b[39m\u001b[38;5;124m\"\u001b[39m, marginal_ticks\u001b[38;5;241m=\u001b[39m\u001b[38;5;28;01mTrue\u001b[39;00m)\n\u001b[0;32m      6\u001b[0m \u001b[38;5;66;03m# Add the joint and marginal histogram plots\u001b[39;00m\n\u001b[0;32m      7\u001b[0m g\u001b[38;5;241m.\u001b[39mplot_joint(sns\u001b[38;5;241m.\u001b[39mhistplot, discrete\u001b[38;5;241m=\u001b[39m(\u001b[38;5;28;01mTrue\u001b[39;00m, \u001b[38;5;28;01mFalse\u001b[39;00m),\n\u001b[1;32m----> 8\u001b[0m     cmap\u001b[38;5;241m=\u001b[39m\u001b[38;5;124m\"\u001b[39m\u001b[38;5;124mrocket\u001b[39m\u001b[38;5;124m\"\u001b[39m, pmax\u001b[38;5;241m=\u001b[39m\u001b[38;5;241m.8\u001b[39m, cbar\u001b[38;5;241m=\u001b[39m\u001b[38;5;28;01mTrue\u001b[39;00m, cbar_ax\u001b[38;5;241m=\u001b[39m\u001b[43mcax\u001b[49m\n\u001b[0;32m      9\u001b[0m )\n\u001b[0;32m     10\u001b[0m g\u001b[38;5;241m.\u001b[39mplot_marginals(sns\u001b[38;5;241m.\u001b[39mhistplot, element\u001b[38;5;241m=\u001b[39m\u001b[38;5;124m\"\u001b[39m\u001b[38;5;124mstep\u001b[39m\u001b[38;5;124m\"\u001b[39m, color\u001b[38;5;241m=\u001b[39m\u001b[38;5;124m\"\u001b[39m\u001b[38;5;124m#03012d\u001b[39m\u001b[38;5;124m\"\u001b[39m)\n",
      "\u001b[1;31mNameError\u001b[0m: name 'cax' is not defined"
     ]
    },
    {
     "data": {
      "image/png": "[encoded data removed]",
      "text/plain": [
       "<Figure size 432x432 with 3 Axes>"
      ]
     },
     "metadata": {
      "needs_background": "light"
     },
     "output_type": "display_data"
    }
   ],
   "source": [
    "# Load the planets dataset and initialize the figure\n",
    "\n",
    "g = sns.JointGrid(data=times_simulation, x=\"NumberVehicles\", y=\"Horizon\", marginal_ticks=True)\n",
    "\n",
    "\n",
    "# Add the joint and marginal histogram plots\n",
    "g.plot_joint(sns.histplot, discrete=(True, False),\n",
    "    cmap=\"rocket\", pmax=.8, cbar=True, cbar_ax=cax\n",
    ")\n",
    "g.plot_marginals(sns.histplot, element=\"step\", color=\"#03012d\")"
   ]
  },
  {
   "cell_type": "code",
   "execution_count": null,
   "metadata": {
    "pycharm": {
     "name": "#%%\n"
    }
   },
   "outputs": [],
   "source": [
    "# Load the planets dataset and initialize the figure\n",
    "planets = sns.load_dataset(\"planets\")\n",
    "g = sns.JointGrid(data=planets, x=\"year\", y=\"distance\", marginal_ticks=True)\n",
    "\n",
    "# Set a log scaling on the y axis\n",
    "g.ax_joint.set(yscale=\"log\")\n",
    "\n",
    "# Create an inset legend for the histogram colorbar\n",
    "cax = g.figure.add_axes([.15, .55, .02, .2])\n",
    "\n",
    "# Add the joint and marginal histogram plots\n",
    "g.plot_joint(\n",
    "    sns.histplot, discrete=(True, False),\n",
    "    cmap=\"light:#03012d\", pmax=.8, cbar=True, cbar_ax=cax\n",
    ")\n",
    "g.plot_marginals(sns.histplot, element=\"step\", color=\"#03012d\")"
   ]
  },
  {
   "cell_type": "code",
   "execution_count": null,
   "metadata": {
    "pycharm": {
     "name": "#%%\n"
    }
   },
   "outputs": [],
   "source": [
    "planets"
   ]
  }
 ],
 "metadata": {
  "kernelspec": {
   "display_name": "Python 3",
   "language": "python",
   "name": "python3"
  },
  "language_info": {
   "codemirror_mode": {
    "name": "ipython",
    "version": 3
   },
   "file_extension": ".py",
   "mimetype": "text/x-python",
   "name": "python",
   "nbconvert_exporter": "python",
   "pygments_lexer": "ipython3",
   "version": "3.9.12"
  }
 },
 "nbformat": 4,
 "nbformat_minor": 1
}
