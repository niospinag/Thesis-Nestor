{
 "cells": [
  {
   "cell_type": "code",
   "execution_count": 1,
   "id": "junior-homeless",
   "metadata": {},
   "outputs": [],
   "source": [
    "from gurobipy import *"
   ]
  },
  {
   "cell_type": "code",
   "execution_count": 2,
   "id": "aboriginal-court",
   "metadata": {},
   "outputs": [
    {
     "name": "stdout",
     "output_type": "stream",
     "text": [
      "Academic license - for non-commercial use only - expires 2021-05-16\n",
      "Using license file C:\\Users\\nesto\\gurobi.lic\n"
     ]
    }
   ],
   "source": [
    "model = Model(\"modelo_ejemplo\")"
   ]
  },
  {
   "cell_type": "code",
   "execution_count": 3,
   "id": "general-level",
   "metadata": {},
   "outputs": [],
   "source": [
    "xe = model.addVar(vtype=GRB.CONTINUOUS, name=\"xe\")\n",
    "xi = model.addVar(vtype=GRB.CONTINUOUS, name=\"xi\")"
   ]
  },
  {
   "cell_type": "code",
   "execution_count": 4,
   "id": "dressed-pride",
   "metadata": {},
   "outputs": [],
   "source": [
    "model.setObjective(3*xe + 2*xi, GRB.MAXIMIZE)"
   ]
  },
  {
   "cell_type": "code",
   "execution_count": 5,
   "id": "occupational-activation",
   "metadata": {},
   "outputs": [
    {
     "data": {
      "text/plain": [
       "<gurobi.Constr *Awaiting Model Update*>"
      ]
     },
     "execution_count": 5,
     "metadata": {},
     "output_type": "execute_result"
    }
   ],
   "source": [
    "model.addConstr(xe+ 2*xi <= 6)\n",
    "model.addConstr(2* xe+ xi <= 8)\n",
    "model.addConstr(-xe+ xi <= 1)\n",
    "model.addConstr(xi <= 2)"
   ]
  },
  {
   "cell_type": "code",
   "execution_count": 6,
   "id": "handy-cherry",
   "metadata": {},
   "outputs": [],
   "source": [
    "model.write(\"modelo_ejemplo.lp\")"
   ]
  },
  {
   "cell_type": "code",
   "execution_count": 7,
   "id": "little-building",
   "metadata": {},
   "outputs": [
    {
     "name": "stdout",
     "output_type": "stream",
     "text": [
      "Maximize\n",
      "   <gurobi.LinExpr: 3.0 xe + 2.0 xi>\n",
      "Subject To\n",
      "   R0 : <gurobi.LinExpr: xe + 2.0 xi> <= 6.0\n",
      "   R1 : <gurobi.LinExpr: 2.0 xe + xi> <= 8.0\n",
      "   R2 : <gurobi.LinExpr: -1.0 xe + xi> <= 1.0\n",
      "   R3 : <gurobi.LinExpr: xi> <= 2.0\n"
     ]
    }
   ],
   "source": [
    "model.display()"
   ]
  },
  {
   "cell_type": "code",
   "execution_count": 8,
   "id": "yellow-plane",
   "metadata": {},
   "outputs": [
    {
     "name": "stdout",
     "output_type": "stream",
     "text": [
      "Gurobi Optimizer version 9.1.1 build v9.1.1rc0 (win64)\n",
      "Thread count: 6 physical cores, 12 logical processors, using up to 12 threads\n",
      "Optimize a model with 4 rows, 2 columns and 7 nonzeros\n",
      "Model fingerprint: 0xdfad6f9e\n",
      "Coefficient statistics:\n",
      "  Matrix range     [1e+00, 2e+00]\n",
      "  Objective range  [2e+00, 3e+00]\n",
      "  Bounds range     [0e+00, 0e+00]\n",
      "  RHS range        [1e+00, 8e+00]\n",
      "Presolve removed 1 rows and 0 columns\n",
      "Presolve time: 0.01s\n",
      "Presolved: 3 rows, 2 columns, 6 nonzeros\n",
      "\n",
      "Iteration    Objective       Primal Inf.    Dual Inf.      Time\n",
      "       0    1.8000000e+01   3.995000e+00   0.000000e+00      0s\n",
      "       2    1.2666667e+01   0.000000e+00   0.000000e+00      0s\n",
      "\n",
      "Solved in 2 iterations and 0.02 seconds\n",
      "Optimal objective  1.266666667e+01\n"
     ]
    }
   ],
   "source": [
    "model.optimize()"
   ]
  },
  {
   "cell_type": "code",
   "execution_count": 9,
   "id": "linear-brain",
   "metadata": {},
   "outputs": [
    {
     "data": {
      "text/plain": [
       "[<gurobi.Var xe (value 3.3333333333333335)>,\n",
       " <gurobi.Var xi (value 1.3333333333333333)>]"
      ]
     },
     "execution_count": 9,
     "metadata": {},
     "output_type": "execute_result"
    }
   ],
   "source": [
    "model.getVars()"
   ]
  },
  {
   "cell_type": "code",
   "execution_count": 10,
   "id": "identical-enterprise",
   "metadata": {},
   "outputs": [
    {
     "data": {
      "text/plain": [
       "3.3333333333333335"
      ]
     },
     "execution_count": 10,
     "metadata": {},
     "output_type": "execute_result"
    }
   ],
   "source": [
    "xe.x"
   ]
  },
  {
   "cell_type": "code",
   "execution_count": 11,
   "id": "covered-chamber",
   "metadata": {},
   "outputs": [
    {
     "name": "stdout",
     "output_type": "stream",
     "text": [
      "funcion Objetivo  12.67\n",
      "xe 3.3333333333333335\n",
      "xi 1.3333333333333333\n"
     ]
    }
   ],
   "source": [
    "print(\"funcion Objetivo \", str(round(model.ObjVal,2)))\n",
    "\n",
    "for v in model.getVars():\n",
    "    print(str(v.VarName), v.x)"
   ]
  },
  {
   "cell_type": "code",
   "execution_count": null,
   "id": "double-petite",
   "metadata": {},
   "outputs": [],
   "source": []
  }
 ],
 "metadata": {
  "kernelspec": {
   "display_name": "Python 3",
   "language": "python",
   "name": "python3"
  },
  "language_info": {
   "codemirror_mode": {
    "name": "ipython",
    "version": 3
   },
   "file_extension": ".py",
   "mimetype": "text/x-python",
   "name": "python",
   "nbconvert_exporter": "python",
   "pygments_lexer": "ipython3",
   "version": "3.7.9"
  }
 },
 "nbformat": 4,
 "nbformat_minor": 5
}
