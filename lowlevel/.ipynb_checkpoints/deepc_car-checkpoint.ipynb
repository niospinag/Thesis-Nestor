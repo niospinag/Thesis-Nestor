{
 "cells": [
  {
   "cell_type": "markdown",
   "metadata": {},
   "source": [
    "# Deterministic case: DeePC vs. MPC based on multi-step model \n",
    "\n",
    "This notebook is used to create the results for **Figure 2** in our paper."
   ]
  },
  {
   "cell_type": "code",
   "execution_count": 8,
   "metadata": {},
   "outputs": [],
   "source": [
    "import numpy as np\n",
    "import matplotlib.pyplot as plt\n",
    "import matplotlib as mpl\n",
    "import scipy.io as sio\n",
    "from casadi import *\n",
    "from casadi.tools import *"
   ]
  },
  {
   "cell_type": "code",
   "execution_count": 9,
   "metadata": {},
   "outputs": [],
   "source": [
    "# Random seed:\n",
    "np.random.seed(1234)"
   ]
  },
  {
   "cell_type": "code",
   "execution_count": 10,
   "metadata": {},
   "outputs": [],
   "source": [
    "# Customizing Matplotlib:\n",
    "mpl.rcParams['font.size'] = 18\n",
    "mpl.rcParams['lines.linewidth'] = 3\n",
    "mpl.rcParams['axes.grid'] = True\n",
    "mpl.rcParams['svg.fonttype'] = 'none'\n",
    "mpl.rcParams['axes.unicode_minus'] = 'true'\n",
    "mpl.rcParams['axes.labelsize'] = 'large'\n",
    "mpl.rcParams['legend.fontsize'] = 'large'\n",
    "mpl.rcParams['xtick.labelsize'] = 'large'\n",
    "mpl.rcParams['ytick.labelsize'] = 'large'\n",
    "mpl.rcParams['axes.labelpad'] = 6"
   ]
  },
  {
   "cell_type": "markdown",
   "metadata": {},
   "source": [
    "##  System description\n",
    "\n",
    "\n",
    "We investigate a simple LTI system in the form of:\n",
    "\\begin{align}\n",
    "x_{k+1} &= Ax_k + Bu_k\\\\\n",
    "y_k &= Cx_k+Du_k,\n",
    "\\end{align}\n",
    "\n",
    "with $x \\in \\mathbb{R}^n$ (states), $u\\in \\mathbb{R}^m$ (inputs), $y\\in \\mathbb{R}^p$ (measurements) and system matrices $A \\in \\mathbb{R}^{n\\times n}$, $B \\in \\mathbb{R}^{n\\times m}$, $C \\in \\mathbb{R}^{p\\times n}$ and $D \\in \\mathbb{R}^{p\\times m}$.\n",
    "\n",
    "The investigated system, displayed below, is a triple-mass-spring system (rotating discs) with two stepper motors ($m=2$) attached to the outermost discs via additional springs. These disc angles are the measured output of the system ($p=3$). The system has a total of $n=8$ states."
   ]
  },
  {
   "cell_type": "markdown",
   "metadata": {},
   "source": [
    "<img src=\"sources/triple_mass_spring.pdf\" width=40%/>"
   ]
  },
  {
   "cell_type": "markdown",
   "metadata": {},
   "source": [
    "To simulate the system, we created a very simple helper class, that keeps the current state and stores the past sequences of inputs, states and outputs.\n",
    "\n",
    "We import the system class with:"
   ]
  },
  {
   "cell_type": "code",
   "execution_count": 51,
   "metadata": {},
   "outputs": [],
   "source": [
    "import sys\n",
    "# Add subfolder sources to path.\n",
    "sys.path.append('./sources')\n",
    "# Import class 'System' from file System.py\n",
    "from System2 import System"
   ]
  },
  {
   "cell_type": "markdown",
   "metadata": {},
   "source": [
    "Import system matrices, $A,B,C,D$ and create instance of ``System``:"
   ]
  },
  {
   "cell_type": "code",
   "execution_count": 52,
   "metadata": {},
   "outputs": [],
   "source": [
    "sys_dc = sio.loadmat('./sources/sys_dc.mat')\n",
    "A = sys_dc['A_dc']\n",
    "B = sys_dc['B_dc']\n",
    "C = sys_dc['C']\n",
    "D = sys_dc['D']\n",
    "\n",
    "n_x = 5\n",
    "n_u = 2\n",
    "sys = System(n_x, n_u, dt=1)"
   ]
  },
  {
   "cell_type": "markdown",
   "metadata": {},
   "source": [
    "## Investigating the System"
   ]
  },
  {
   "cell_type": "markdown",
   "metadata": {},
   "source": [
    "We create a helper function that creates an input signal reminiscent of PRBS (but with varying amplitude). "
   ]
  },
  {
   "cell_type": "code",
   "execution_count": 53,
   "metadata": {},
   "outputs": [],
   "source": [
    "def random_u(u0, switch_prob=0.5, u_max=20):\n",
    "    # Hold the current value with switch_prob chance or switch to new random value.\n",
    "    u_next = (0.5-np.random.rand(2,1))*u_max # New candidate value.\n",
    "    switch = np.random.rand() >= (1-switch_prob) # switching? 0 or 1.\n",
    "    u0 = (1-switch)*u0 + switch*u_next # Old or new value.\n",
    "    return u0"
   ]
  },
  {
   "cell_type": "markdown",
   "metadata": {},
   "source": [
    "Simulate and plot system response."
   ]
  },
  {
   "cell_type": "code",
   "execution_count": 57,
   "metadata": {},
   "outputs": [
    {
     "data": {
      "text/plain": [
       "array([[0.],\n",
       "       [0.],\n",
       "       [0.]])"
      ]
     },
     "execution_count": 57,
     "metadata": {},
     "output_type": "execute_result"
    }
   ],
   "source": [
    "sys.x0\n"
   ]
  },
  {
   "cell_type": "code",
   "execution_count": 56,
   "metadata": {},
   "outputs": [
    {
     "ename": "IndexError",
     "evalue": "index 3 is out of bounds for axis 0 with size 3",
     "output_type": "error",
     "traceback": [
      "\u001b[1;31m---------------------------------------------------------------------------\u001b[0m",
      "\u001b[1;31mIndexError\u001b[0m                                Traceback (most recent call last)",
      "\u001b[1;32m<ipython-input-56-26e497a1e38f>\u001b[0m in \u001b[0;36m<module>\u001b[1;34m\u001b[0m\n\u001b[0;32m      7\u001b[0m     \u001b[1;32melse\u001b[0m\u001b[1;33m:\u001b[0m\u001b[1;33m\u001b[0m\u001b[1;33m\u001b[0m\u001b[0m\n\u001b[0;32m      8\u001b[0m         \u001b[0mu0\u001b[0m \u001b[1;33m=\u001b[0m \u001b[0mnp\u001b[0m\u001b[1;33m.\u001b[0m\u001b[0mzeros\u001b[0m\u001b[1;33m(\u001b[0m\u001b[1;33m(\u001b[0m\u001b[1;36m2\u001b[0m\u001b[1;33m,\u001b[0m\u001b[1;36m1\u001b[0m\u001b[1;33m)\u001b[0m\u001b[1;33m)\u001b[0m\u001b[1;33m\u001b[0m\u001b[1;33m\u001b[0m\u001b[0m\n\u001b[1;32m----> 9\u001b[1;33m     \u001b[0msys\u001b[0m\u001b[1;33m.\u001b[0m\u001b[0mmake_step\u001b[0m\u001b[1;33m(\u001b[0m\u001b[0mu0\u001b[0m\u001b[1;33m)\u001b[0m\u001b[1;33m\u001b[0m\u001b[1;33m\u001b[0m\u001b[0m\n\u001b[0m\u001b[0;32m     10\u001b[0m \u001b[1;33m\u001b[0m\u001b[0m\n\u001b[0;32m     11\u001b[0m \u001b[1;33m\u001b[0m\u001b[0m\n",
      "\u001b[1;32m~\\OneDrive\\Documentos\\GitHub\\Thesis-Nestor\\lowlevel\\sources\\System2.py\u001b[0m in \u001b[0;36mmake_step\u001b[1;34m(self, u)\u001b[0m\n\u001b[0;32m     62\u001b[0m \u001b[1;33m\u001b[0m\u001b[0m\n\u001b[0;32m     63\u001b[0m         \u001b[0my\u001b[0m \u001b[1;33m=\u001b[0m \u001b[0mnp\u001b[0m\u001b[1;33m.\u001b[0m\u001b[0mzeros\u001b[0m\u001b[1;33m(\u001b[0m\u001b[1;33m(\u001b[0m\u001b[0mself\u001b[0m\u001b[1;33m.\u001b[0m\u001b[0mn_y\u001b[0m\u001b[1;33m,\u001b[0m\u001b[1;36m1\u001b[0m\u001b[1;33m)\u001b[0m\u001b[1;33m)\u001b[0m\u001b[1;33m\u001b[0m\u001b[1;33m\u001b[0m\u001b[0m\n\u001b[1;32m---> 64\u001b[1;33m         \u001b[0my\u001b[0m\u001b[1;33m[\u001b[0m\u001b[1;36m0\u001b[0m\u001b[1;33m]\u001b[0m \u001b[1;33m=\u001b[0m \u001b[0mself\u001b[0m\u001b[1;33m.\u001b[0m\u001b[0mx0\u001b[0m\u001b[1;33m[\u001b[0m\u001b[1;36m0\u001b[0m\u001b[1;33m]\u001b[0m \u001b[1;33m+\u001b[0m \u001b[0mself\u001b[0m\u001b[1;33m.\u001b[0m\u001b[0mdt\u001b[0m\u001b[1;33m*\u001b[0m\u001b[0mnp\u001b[0m\u001b[1;33m.\u001b[0m\u001b[0mcos\u001b[0m\u001b[1;33m(\u001b[0m\u001b[0mself\u001b[0m\u001b[1;33m.\u001b[0m\u001b[0mx0\u001b[0m\u001b[1;33m[\u001b[0m\u001b[1;36m2\u001b[0m\u001b[1;33m]\u001b[0m\u001b[1;33m)\u001b[0m\u001b[1;33m*\u001b[0m\u001b[0mself\u001b[0m\u001b[1;33m.\u001b[0m\u001b[0mx0\u001b[0m\u001b[1;33m[\u001b[0m\u001b[1;36m3\u001b[0m\u001b[1;33m]\u001b[0m                       \u001b[1;31m#x vel\u001b[0m\u001b[1;33m\u001b[0m\u001b[1;33m\u001b[0m\u001b[0m\n\u001b[0m\u001b[0;32m     65\u001b[0m         \u001b[0my\u001b[0m\u001b[1;33m[\u001b[0m\u001b[1;36m1\u001b[0m\u001b[1;33m]\u001b[0m \u001b[1;33m=\u001b[0m \u001b[0mself\u001b[0m\u001b[1;33m.\u001b[0m\u001b[0mx0\u001b[0m\u001b[1;33m[\u001b[0m\u001b[1;36m1\u001b[0m\u001b[1;33m]\u001b[0m \u001b[1;33m+\u001b[0m \u001b[0mself\u001b[0m\u001b[1;33m.\u001b[0m\u001b[0mdt\u001b[0m\u001b[1;33m*\u001b[0m\u001b[0mnp\u001b[0m\u001b[1;33m.\u001b[0m\u001b[0msin\u001b[0m\u001b[1;33m(\u001b[0m\u001b[0mself\u001b[0m\u001b[1;33m.\u001b[0m\u001b[0mx0\u001b[0m\u001b[1;33m[\u001b[0m\u001b[1;36m2\u001b[0m\u001b[1;33m]\u001b[0m\u001b[1;33m)\u001b[0m\u001b[1;33m*\u001b[0m\u001b[0mself\u001b[0m\u001b[1;33m.\u001b[0m\u001b[0mx0\u001b[0m\u001b[1;33m[\u001b[0m\u001b[1;36m3\u001b[0m\u001b[1;33m]\u001b[0m                       \u001b[1;31m#y vel\u001b[0m\u001b[1;33m\u001b[0m\u001b[1;33m\u001b[0m\u001b[0m\n\u001b[0;32m     66\u001b[0m         \u001b[0my\u001b[0m\u001b[1;33m[\u001b[0m\u001b[1;36m2\u001b[0m\u001b[1;33m]\u001b[0m \u001b[1;33m=\u001b[0m \u001b[0mself\u001b[0m\u001b[1;33m.\u001b[0m\u001b[0mx0\u001b[0m\u001b[1;33m[\u001b[0m\u001b[1;36m2\u001b[0m\u001b[1;33m]\u001b[0m \u001b[1;33m+\u001b[0m \u001b[0mself\u001b[0m\u001b[1;33m.\u001b[0m\u001b[0mdt\u001b[0m\u001b[1;33m*\u001b[0m\u001b[0mself\u001b[0m\u001b[1;33m.\u001b[0m\u001b[0mx0\u001b[0m\u001b[1;33m[\u001b[0m\u001b[1;36m4\u001b[0m\u001b[1;33m]\u001b[0m                                          \u001b[1;31m#theta vel\u001b[0m\u001b[1;33m\u001b[0m\u001b[1;33m\u001b[0m\u001b[0m\n",
      "\u001b[1;31mIndexError\u001b[0m: index 3 is out of bounds for axis 0 with size 3"
     ]
    }
   ],
   "source": [
    "sys.reset()\n",
    "\n",
    "u0 = np.zeros((2,1))\n",
    "for k in range(100): #100\n",
    "    if k<50:\n",
    "        u0 = random_u(u0)\n",
    "    else:\n",
    "        u0 = np.zeros((2,1))\n",
    "    sys.make_step(u0)\n",
    "\n",
    "\n",
    "fig, ax = plt.subplots(2,1,figsize=(10,6), sharex = True)\n",
    "ax[0].plot(sys.time,sys.y)\n",
    "ax[1].step(sys.time,sys.u)"
   ]
  },
  {
   "cell_type": "markdown",
   "metadata": {},
   "source": [
    "# DeePC vs. MPC based on multi-step model"
   ]
  },
  {
   "cell_type": "markdown",
   "metadata": {},
   "source": [
    "## Data collection\n",
    "\n",
    "Both methods require a measured system response for persistantly exciting input data, depending on the parameters:\n",
    "$T_{\\text{ini}}$ and $N$.\n",
    "\n",
    "The total number of measured sequences depends on these parameters and must exceed the thresholds given by Assumption 1 and 2 in the paper. \n",
    "\n",
    "In the particular example with $T_{\\text{ini}}=4$ and $N=40$, we have that $T\\geq  96$ according to Assumption 1 and $T\\geq  100$ according to Assumption 2.\n",
    "\n",
    "We choose $T\\geq  150$."
   ]
  },
  {
   "cell_type": "code",
   "execution_count": null,
   "metadata": {},
   "outputs": [],
   "source": [
    "T_ini = 4\n",
    "N = 40\n",
    "\n",
    "L = T_ini + N\n",
    "\n",
    "T = 150\n",
    "\n",
    "n_u = sys.n_u\n",
    "n_y = sys.n_y"
   ]
  },
  {
   "cell_type": "markdown",
   "metadata": {},
   "source": [
    "Create matrices $U_L$ and $Y_L$ according to (2) in the paper. Note that we construct the data matrices which are neither Hankel nor Page matrices. Instead we \"measure\" independent sequences each with **random initial state**."
   ]
  },
  {
   "cell_type": "code",
   "execution_count": null,
   "metadata": {},
   "outputs": [],
   "source": [
    "U_L = []\n",
    "Y_L = []\n",
    "\n",
    "u0 = np.zeros((2,1))\n",
    "\n",
    "for k in range(T):\n",
    "    x0 = np.random.randn(3,1)\n",
    "    sys.reset(x0)\n",
    "    \n",
    "    for k in range(L):\n",
    "        u0 = random_u(u0)\n",
    "        sys.make_step(u0)\n",
    "        \n",
    "    U_L.append(sys.u.reshape(-1,1))\n",
    "    Y_L.append(sys.y.reshape(-1,1))\n",
    "    \n",
    "U_L = np.concatenate(U_L,axis=1)\n",
    "Y_L = np.concatenate(Y_L,axis=1)\n",
    "\n",
    "assert np.linalg.matrix_rank(U_L) == U_L.shape[0], \"not persistantly exciting.\""
   ]
  },
  {
   "cell_type": "markdown",
   "metadata": {},
   "source": [
    "According to (3) in the paper, we divide the input/output data in two parts such that:\n",
    "\n",
    "\\begin{equation}\n",
    "U_L = \\left[\n",
    "\\begin{array}{c}\n",
    "U_{T_\\text{ini}}\\\\\n",
    "U_{N}\n",
    "\\end{array}\n",
    "\\right],\\ \n",
    "Y_L = \\left[\n",
    "\\begin{array}{c}\n",
    "Y_{T_\\text{ini}}\\\\\n",
    "Y_{N}\n",
    "\\end{array}\n",
    "\\right].\n",
    "\\end{equation}"
   ]
  },
  {
   "cell_type": "code",
   "execution_count": null,
   "metadata": {},
   "outputs": [],
   "source": [
    "U_Tini, U_N = np.split(U_L, [n_u*T_ini],axis=0)\n",
    "Y_Tini, Y_N = np.split(Y_L, [n_y*T_ini],axis=0)"
   ]
  },
  {
   "cell_type": "markdown",
   "metadata": {},
   "source": [
    "Here are some of the sampled trajectories:"
   ]
  },
  {
   "cell_type": "code",
   "execution_count": null,
   "metadata": {
    "scrolled": false
   },
   "outputs": [],
   "source": [
    "n_traj = 8\n",
    "n_rows = 2\n",
    "\n",
    "fig, ax = plt.subplots(2, n_traj//n_rows, figsize=(12,6), sharex=True, sharey=True)\n",
    "\n",
    "for k in range(n_traj):\n",
    "    i,j = k % n_rows, k//n_rows\n",
    "    ax[i,j].plot(Y_L[:,k].reshape(-1,n_y))"
   ]
  },
  {
   "cell_type": "markdown",
   "metadata": {},
   "source": [
    "## Multi-step prediction model:"
   ]
  },
  {
   "cell_type": "markdown",
   "metadata": {},
   "source": [
    "For the multi-step model we identify $P^*$ from the least-squares problem:\n",
    "\n",
    "\\begin{equation}\n",
    "%\n",
    "\t P^* = \\arg\\ \\min_{ P} \\ \\| P\n",
    "\t\\underbrace{\n",
    "\t\\left[\\begin{array}{c}\n",
    "\tU_{T_\\text{ini}}\\\\\n",
    "\tU_N\\\\\n",
    "\tY_{T_\\text{ini}}\n",
    "\t\\end{array}\n",
    "\t\\right]}_M\n",
    "\t- \n",
    "\tY_N\n",
    "\t\\|_2^2.\n",
    "\\end{equation}\n",
    "\n",
    "with the Moore-Penrose inverse, such that:\n",
    "\n",
    "\\begin{equation}\n",
    " P^* = Y_N M^\\dagger,\n",
    "\\end{equation}"
   ]
  },
  {
   "cell_type": "code",
   "execution_count": null,
   "metadata": {},
   "outputs": [],
   "source": [
    "M = np.concatenate((U_L, Y_Tini))\n",
    "\n",
    "P = Y_N@np.linalg.pinv(M)"
   ]
  },
  {
   "cell_type": "markdown",
   "metadata": {},
   "source": [
    "Let's see how $P^*$ looks like:"
   ]
  },
  {
   "cell_type": "code",
   "execution_count": null,
   "metadata": {},
   "outputs": [],
   "source": [
    "plt.matshow(np.log(np.abs(P)+1e-10))"
   ]
  },
  {
   "cell_type": "markdown",
   "metadata": {},
   "source": [
    "We expected this triangular shape, because there is no relationship between outputs and their respective future inputs. Also the block to the right shows that the entire sequence depends on the initial measurements."
   ]
  },
  {
   "cell_type": "markdown",
   "metadata": {},
   "source": [
    "### Simulation with the multi-step model\n",
    "\n",
    "To validate the multi-step model, we simulate $N$ steps into the future for given initial inputs/outputs ($y_{T_{\\text{ini}}},\\  u_{T_{\\text{ini}}}$) and a random future input-sequence ($u_N$)."
   ]
  },
  {
   "cell_type": "code",
   "execution_count": null,
   "metadata": {},
   "outputs": [],
   "source": [
    "y_Tini = sys.y[-T_ini:,:].reshape(-1,1)\n",
    "u_Tini = sys.u[-T_ini:,:].reshape(-1,1)\n",
    "\n",
    "u0 = np.zeros((2,1))\n",
    "\n",
    "for k in range(N):\n",
    "    u0 = random_u(u0)\n",
    "    sys.make_step(u0)\n",
    "    \n",
    "u_N = sys.u[-N:,:].reshape(-1,1)\n",
    "\n",
    "b = np.concatenate((u_Tini, u_N, y_Tini),axis=0)\n",
    "\n",
    "y_true = sys.y[-N:,:]\n",
    "y_msm = (P@b).reshape(-1,n_y)"
   ]
  },
  {
   "cell_type": "code",
   "execution_count": null,
   "metadata": {
    "scrolled": false
   },
   "outputs": [],
   "source": [
    "fig, ax = plt.subplots(3,1, sharex=True, figsize=(12,6))\n",
    "\n",
    "for k in range(n_y):\n",
    "    ax[k].plot(y_msm[:,k], label='est')\n",
    "    ax[k].plot(y_true[:,k], '--', label='True')\n",
    "    \n",
    "ax[0].legend()"
   ]
  },
  {
   "cell_type": "markdown",
   "metadata": {},
   "source": [
    "To quantify the prediction accuracy, we compute:"
   ]
  },
  {
   "cell_type": "code",
   "execution_count": null,
   "metadata": {},
   "outputs": [],
   "source": [
    "np.linalg.norm(y_msm-y_true)"
   ]
  },
  {
   "cell_type": "markdown",
   "metadata": {},
   "source": [
    "which shows that both results are nearly identical."
   ]
  },
  {
   "cell_type": "markdown",
   "metadata": {},
   "source": [
    "### MPC based on multi-step model: Building the optimizer"
   ]
  },
  {
   "cell_type": "markdown",
   "metadata": {},
   "source": [
    "We want to implement the following problem:\n",
    "\n",
    "\\begin{equation}\n",
    "\t\\begin{aligned}\n",
    "\t\t\\min_{u_N,y_N}\\quad &\\sum_{k=1}^N \\left(\\|y_k\\|^2_{Q}+\\|u_k\\|^2_{R}\\right)\\\\\n",
    "\t\t\\text{s.t.}\\quad & \n",
    "        y_N =  P^*\n",
    "        \\left[\\begin{array}{c}\n",
    "        u_{T_\\text{ini}}\\\\\n",
    "        u_{N}\\\\\n",
    "        y_{T_\\text{ini}}\\\\\n",
    "        \\end{array}\\right],\n",
    "        \\\\\n",
    "\t\t&u_k \\in \\mathbb{U},\\ \\forall k\\in \\{1,\\dots,N\\},\t\\\\\n",
    "\t\t&y_k \\in \\mathbb{Y},\\ \\forall k\\in \\{1,\\dots,N\\}.\t\\\\\n",
    "\t\\end{aligned}\n",
    "\\end{equation}\n",
    "\n",
    "The results in the paper are obtained with $\\mathbb{U}=[-0.7,0.7]$ for both motors.\n",
    "\n",
    "We build the optimizer using [CasADi](https://web.casadi.org) and profit from their ``struct_symSX`` class, which allows to create symbolic variables within a structure for easier indexing. This [tutorial](http://casadi.sourceforge.net/v2.0.0/tutorials/tools/structure.pdf) explains the use of structures for CasADi in Python."
   ]
  },
  {
   "cell_type": "code",
   "execution_count": null,
   "metadata": {},
   "outputs": [],
   "source": [
    "# Create optimization variables:\n",
    "opt_x = struct_symMX([\n",
    "    entry('y_N', shape=(n_y), repeat=N),\n",
    "    entry('u_N', shape=(n_u), repeat=N),\n",
    "])\n",
    "\n",
    "# Create parameters of the optimization problem\n",
    "opt_p = struct_symMX([\n",
    "    entry('u_Tini', shape=(n_u), repeat=T_ini),\n",
    "    entry('y_Tini', shape=(n_y), repeat=T_ini),\n",
    "])\n",
    "\n",
    "# Create numerical instances of the structures (holding all zeros as entries)\n",
    "opt_x_num = opt_x(0)\n",
    "opt_p_num = opt_p(0)"
   ]
  },
  {
   "cell_type": "code",
   "execution_count": null,
   "metadata": {},
   "outputs": [],
   "source": [
    "# Create the objective:\n",
    "obj = 0\n",
    "for k in range(N):\n",
    "    obj += sum1(opt_x['y_N',k]**2)+0.1*sum1(opt_x['u_N', k]**2)\n",
    "\n",
    "\n",
    "# Create the constraints:\n",
    "b = vertcat(*opt_p['u_Tini'], *opt_x['u_N'], *opt_p['y_Tini'])\n",
    "y_N = vertcat(*opt_x['y_N'])\n",
    "cons = P@b-y_N\n",
    "\n",
    "\n",
    "# Create lower and upper bound structures and set all values to plus/minus infinity.\n",
    "lbx = opt_x(-np.inf)\n",
    "ubx = opt_x(np.inf)\n",
    "\n",
    "# Set only bounds on u_N\n",
    "lbx['u_N'] = -0.7\n",
    "ubx['u_N'] = 0.7\n",
    "\n",
    "\n",
    "# Create Optim\n",
    "nlp = {'x':opt_x, 'f':obj, 'g':cons, 'p':opt_p}\n",
    "S_msm = nlpsol('S', 'ipopt', nlp)"
   ]
  },
  {
   "cell_type": "markdown",
   "metadata": {},
   "source": [
    "## DeePC\n",
    "\n",
    "### Building the optimizer\n",
    "\n",
    "We now proceed to implement DeePC using the same tools. The optimization problem is given as:\n",
    "\n",
    "\\begin{equation}\n",
    "\t\\begin{aligned}\n",
    "\t\\min_{g,u_N, y_N}\\quad &f(g,u_N, y_N)\\\\\n",
    "\t\\text{s.t.}\\quad & \n",
    "    \\left[\\begin{array}{c}\n",
    "\tU_{T_\\text{ini}}\\\\\n",
    "\tU_{N}\\\\\n",
    "\tY_{T_\\text{ini}}\\\\\n",
    "\tY_{N}\n",
    "\t\\end{array}\\right] g \n",
    "\t= \n",
    "\t\\left[\\begin{array}{c}\n",
    "\tu_{T_\\text{ini}}\\\\\n",
    "\tu_{N}\\\\\n",
    "\ty_{T_\\text{ini}}\\\\\n",
    "\ty_{N}\n",
    "\t\\end{array}\\right],\n",
    "    \\\\\n",
    "\t&u_k \\in \\mathbb{U}\\ \\forall k\\in\\{1,\\dots,N\\},\t\\\\\n",
    "\t&y_k \\in \\mathbb{Y}\\ \\forall k\\in\\{1,\\dots,N\\}, \\\\\n",
    "\t\\end{aligned}\n",
    "\\end{equation}"
   ]
  },
  {
   "cell_type": "code",
   "execution_count": null,
   "metadata": {},
   "outputs": [],
   "source": [
    "opt_x_dpc = struct_symMX([\n",
    "    entry('g', shape=(T)),\n",
    "    entry('u_N', shape=(n_u), repeat=N),\n",
    "    entry('y_N', shape=(n_y), repeat=N)\n",
    "])\n",
    "\n",
    "opt_p_dpc = struct_symMX([\n",
    "    entry('u_Tini', shape=(n_u), repeat=T_ini),\n",
    "    entry('y_Tini', shape=(n_y), repeat=T_ini),\n",
    "])\n",
    "\n",
    "opt_x_num_dpc = opt_x_dpc(0)\n",
    "opt_p_num_dpc = opt_p_dpc(0)"
   ]
  },
  {
   "cell_type": "code",
   "execution_count": null,
   "metadata": {},
   "outputs": [],
   "source": [
    "# Create the objective:\n",
    "obj = 0\n",
    "for k in range(N):\n",
    "    obj += sum1(opt_x_dpc['y_N',k]**2)+0.1*sum1(opt_x_dpc['u_N', k]**2)\n",
    "\n",
    "    \n",
    "# Create the constraints\n",
    "A = vertcat(U_Tini, U_N, Y_Tini, Y_N)\n",
    "b = vertcat(*opt_p_dpc['u_Tini'], *opt_x_dpc['u_N'], *opt_p_dpc['y_Tini'], *opt_x_dpc['y_N'])\n",
    "\n",
    "cons = A@opt_x_dpc['g']-b\n",
    "\n",
    "\n",
    "\n",
    "# Create lower and upper bound structures and set all values to plus/minus infinity.\n",
    "lbx_dpc = opt_x_dpc(-np.inf)\n",
    "ubx_dpc = opt_x_dpc(np.inf)\n",
    "\n",
    "\n",
    "# Set only bounds on u_N\n",
    "lbx_dpc['u_N'] = -0.7\n",
    "ubx_dpc['u_N'] = 0.7\n",
    "\n",
    "# Create Optim\n",
    "nlp = {'x':opt_x_dpc, 'f':obj, 'g':cons, 'p':opt_p_dpc}\n",
    "S_dpc = nlpsol('S', 'ipopt', nlp)"
   ]
  },
  {
   "cell_type": "markdown",
   "metadata": {},
   "source": [
    "# Open-loop comparison\n",
    "\n",
    "We start with a comparison of the open-loop prediction for some arbitrary intial condition (not at rest)."
   ]
  },
  {
   "cell_type": "code",
   "execution_count": null,
   "metadata": {},
   "outputs": [],
   "source": [
    "np.random.seed(12)\n",
    "sys.reset()\n",
    "\n",
    "# Excitement\n",
    "n_exc = 20\n",
    "u0 = np.zeros((2,1))\n",
    "for k in range(n_exc):\n",
    "    u0 = random_u(u0)\n",
    "    sys.make_step(u0)"
   ]
  },
  {
   "cell_type": "code",
   "execution_count": null,
   "metadata": {},
   "outputs": [],
   "source": [
    "y_Tini = sys.y[-T_ini:,:]\n",
    "u_Tini = sys.u[-T_ini:,:]"
   ]
  },
  {
   "cell_type": "markdown",
   "metadata": {},
   "source": [
    "Assign these initial conditions to the parameter structures for both optimizers"
   ]
  },
  {
   "cell_type": "code",
   "execution_count": null,
   "metadata": {},
   "outputs": [],
   "source": [
    "opt_p_num['y_Tini'] = vertsplit(y_Tini)\n",
    "opt_p_num['u_Tini'] = vertsplit(u_Tini)\n",
    "\n",
    "opt_p_num_dpc['y_Tini'] = vertsplit(y_Tini)\n",
    "opt_p_num_dpc['u_Tini'] = vertsplit(u_Tini)"
   ]
  },
  {
   "cell_type": "markdown",
   "metadata": {},
   "source": [
    "## Solve MPC based on multi-step model"
   ]
  },
  {
   "cell_type": "code",
   "execution_count": null,
   "metadata": {},
   "outputs": [],
   "source": [
    "r = S_msm(p=opt_p_num,lbx=lbx,ubx=ubx,lbg=0,ubg=0)\n",
    "# Extract solution\n",
    "opt_x_num.master = r['x'] \n",
    "u_N = horzcat(*opt_x_num['u_N']).full().T\n",
    "y_N = horzcat(*opt_x_num['y_N']).full().T"
   ]
  },
  {
   "cell_type": "code",
   "execution_count": null,
   "metadata": {},
   "outputs": [],
   "source": [
    "r = S_dpc(p=opt_p_num_dpc, lbg=0, ubg=0, lbx=lbx_dpc, ubx=ubx_dpc)\n",
    "# Extract solution\n",
    "opt_x_num_dpc.master = r['x'] \n",
    "u_N_dpc = horzcat(*opt_x_num_dpc['u_N']).full().T\n",
    "y_N_dpc = horzcat(*opt_x_num_dpc['y_N']).full().T"
   ]
  },
  {
   "cell_type": "markdown",
   "metadata": {},
   "source": [
    "## Comparison of open-loop prediction"
   ]
  },
  {
   "cell_type": "code",
   "execution_count": null,
   "metadata": {
    "scrolled": false
   },
   "outputs": [],
   "source": [
    "fig, ax = plt.subplots(2,1, figsize=(12,7), sharex=True)\n",
    "\n",
    "t = np.arange(N)*0.1\n",
    "y_dpc_lines = ax[0].plot(t,y_N_dpc, linewidth=10, alpha=.5)\n",
    "ax[0].set_prop_cycle(None)\n",
    "y_msm_lines = ax[0].plot(t,y_N)\n",
    "u_dpc_lines = ax[1].step(t,u_N_dpc,linewidth=10, alpha=.5)\n",
    "ax[1].set_prop_cycle(None)\n",
    "u_msm_lines = ax[1].step(t,u_N)\n",
    "\n",
    "plt.sca(ax[0])\n",
    "ax[0].add_artist(plt.legend(y_dpc_lines,'123', title ='DeePC', loc=1))\n",
    "ax[0].add_artist(plt.legend(y_msm_lines, '123', title='Proposed', loc=1, bbox_to_anchor=(0.85, 1)))\n",
    "ax[0].set_ylabel('disc \\n angle [rad]')\n",
    "\n",
    "\n",
    "plt.sca(ax[1])\n",
    "ax[1].add_artist(plt.legend(u_dpc_lines,'12', title ='DeePC', loc=1))\n",
    "ax[1].add_artist(plt.legend(u_msm_lines, '12', title='Proposed', loc=1, bbox_to_anchor=(0.85, 1)))\n",
    "ax[1].set_ylabel('motor \\n angle [rad]')"
   ]
  },
  {
   "cell_type": "markdown",
   "metadata": {},
   "source": [
    "We can also compare the norm of the difference of the obtained solutions:"
   ]
  },
  {
   "cell_type": "code",
   "execution_count": null,
   "metadata": {},
   "outputs": [],
   "source": [
    "np.linalg.norm(y_N_dpc-y_N)"
   ]
  },
  {
   "cell_type": "code",
   "execution_count": null,
   "metadata": {},
   "outputs": [],
   "source": [
    "np.linalg.norm(u_N_dpc-u_N)"
   ]
  },
  {
   "cell_type": "markdown",
   "metadata": {},
   "source": [
    "which shows that they are identical."
   ]
  },
  {
   "cell_type": "markdown",
   "metadata": {},
   "source": [
    "# Closed-loop comparison:"
   ]
  },
  {
   "cell_type": "markdown",
   "metadata": {},
   "source": [
    "## DeePC\n",
    "\n",
    "We start by resetting the system and applying a (pseudo) random input sequence. \n",
    "By fixing the random seed to 12 (why not 12?), the initilization is repeatable. "
   ]
  },
  {
   "cell_type": "code",
   "execution_count": null,
   "metadata": {},
   "outputs": [],
   "source": [
    "np.random.seed(12)\n",
    "sys.reset()\n",
    "\n",
    "# Excitement\n",
    "n_exc = 20\n",
    "u0 = np.zeros((2,1))\n",
    "for k in range(n_exc):\n",
    "    u0 = random_u(u0)\n",
    "    sys.make_step(u0)"
   ]
  },
  {
   "cell_type": "markdown",
   "metadata": {},
   "source": [
    "We then proceed with the closed-loop control experiment and store the results in the ``res_deePC`` dict.\n",
    "The output of this code cell is surpressed. with ``%%capture``. "
   ]
  },
  {
   "cell_type": "code",
   "execution_count": null,
   "metadata": {
    "scrolled": true
   },
   "outputs": [],
   "source": [
    "%%capture\n",
    "# Control\n",
    "cost = []\n",
    "for k in range(60):\n",
    "    u0 = np.zeros((2,1))\n",
    "    \n",
    "    y_Tini = sys.y[-T_ini:,:]\n",
    "    u_Tini = sys.u[-T_ini:,:] \n",
    "\n",
    "    opt_p_num['y_Tini'] = vertsplit(y_Tini)\n",
    "    opt_p_num['u_Tini'] = vertsplit(u_Tini)\n",
    "    r = S_dpc(p=opt_p_num, lbg=0, ubg=0, lbx=lbx_dpc, ubx=ubx_dpc)\n",
    "    opt_x_num_dpc.master = r['x']\n",
    "    u0 = opt_x_num_dpc['u_N',0].full()\n",
    "    y0 = sys.make_step(u0)\n",
    "    \n",
    "    cost.append(.1*np.transpose(u0)@u0+y0.T@y0)\n",
    "    \n",
    "res_deePC = {'time':sys.time[n_exc:], 'u':sys.u[n_exc:], 'y':sys.y[n_exc:], 'cost':np.concatenate(cost)}"
   ]
  },
  {
   "cell_type": "markdown",
   "metadata": {},
   "source": [
    "## MPC based on multi-step model\n",
    "\n",
    "Similarly as above, we first initilize the sytem."
   ]
  },
  {
   "cell_type": "code",
   "execution_count": null,
   "metadata": {},
   "outputs": [],
   "source": [
    "np.random.seed(12)\n",
    "sys.reset(x0=np.zeros((8,1)))\n",
    "\n",
    "# Excitement\n",
    "n_exc = 20\n",
    "u0 = np.zeros((2,1))\n",
    "for k in range(n_exc):\n",
    "    u0 = random_u(u0)\n",
    "    sys.make_step(u0)"
   ]
  },
  {
   "cell_type": "markdown",
   "metadata": {},
   "source": [
    "Control-loop for MPC based on multi-step model:"
   ]
  },
  {
   "cell_type": "code",
   "execution_count": null,
   "metadata": {
    "scrolled": true
   },
   "outputs": [],
   "source": [
    "%%capture\n",
    "# Control\n",
    "cost = []\n",
    "for k in range(60):\n",
    "    u0 = np.zeros((2,1))\n",
    "    \n",
    "    y_Tini = sys.y[-T_ini:,:]\n",
    "    u_Tini = sys.u[-T_ini:,:] \n",
    "\n",
    "    opt_p_num['y_Tini'] = vertsplit(y_Tini)\n",
    "    opt_p_num['u_Tini'] = vertsplit(u_Tini)\n",
    "    r = S_msm(p=opt_p_num, lbg=0, ubg=0, lbx=lbx, ubx=ubx)\n",
    "    opt_x_num.master = r['x']\n",
    "    u0 = opt_x_num['u_N',0].full()\n",
    "    y0 = sys.make_step(u0)\n",
    "    \n",
    "    cost.append(.1*u0.T@u0+y0.T@y0)\n",
    "    \n",
    "res_msm = {'time':sys.time[n_exc:], 'u':sys.u[n_exc:], 'y':sys.y[n_exc:], 'cost':np.concatenate(cost)}"
   ]
  },
  {
   "cell_type": "markdown",
   "metadata": {},
   "source": [
    "**Figure 2** in paper.\n",
    "\n",
    "Closed-loop trajectories of the mass-spring-system. Regulation after some initial excitation. Comparison of DeePC  and our proposed method with deterministic data."
   ]
  },
  {
   "cell_type": "code",
   "execution_count": null,
   "metadata": {
    "scrolled": false
   },
   "outputs": [],
   "source": [
    "fig, ax = plt.subplots(3,2,figsize=(12,8),sharex=True, sharey='row')\n",
    "\n",
    "t = np.arange(60)*0.1\n",
    "\n",
    "ax[0,0].set_title('DeePC')\n",
    "disc_lines = ax[0,0].plot(t,res_deePC['y'])\n",
    "motor_lines = ax[1,0].step(t,res_deePC['u'],where='post')\n",
    "ax[2,0].plot(t,res_deePC['cost'])\n",
    "\n",
    "ax[0,1].set_title('Proposed method')\n",
    "ax[0,1].plot(t,res_msm['y'])\n",
    "ax[1,1].step(t,res_msm['u'],where='post')\n",
    "ax[2,1].plot(t,res_msm['cost'])\n",
    "\n",
    "ax[0,0].set_ylabel('disc\\n angle [rad]')\n",
    "ax[1,0].set_ylabel('motor\\n angle [rad]')\n",
    "ax[2,0].set_ylabel('cost')\n",
    "\n",
    "cons_line = ax[1,0].axhline(-0.7,linestyle='--', color='k',linewidth=1)\n",
    "ax[1,0].axhline(0.7,linestyle='--', color='k',linewidth=1)\n",
    "ax[1,1].axhline(-0.7,linestyle='--', color='k',linewidth=1)\n",
    "ax[1,1].axhline(0.7,linestyle='--', color='k',linewidth=1)\n",
    "\n",
    "ax[0,0].legend(disc_lines,'123', title ='disc', loc=1)\n",
    "ax[1,0].legend(motor_lines,'12', title ='motor', loc=1)\n",
    "ax[1,1].legend([cons_line],['bounds'])\n",
    "\n",
    "ax[2,0].set_xlabel('time [s]')\n",
    "ax[2,1].set_xlabel('time [s]')\n",
    "\n",
    "fig.align_ylabels()\n",
    "fig.align_xlabels()\n",
    "fig.tight_layout()\n",
    "plt.show()"
   ]
  },
  {
   "cell_type": "markdown",
   "metadata": {},
   "source": [
    "To quantify the similarity we look at the difference of the cost:"
   ]
  },
  {
   "cell_type": "code",
   "execution_count": null,
   "metadata": {
    "scrolled": true
   },
   "outputs": [],
   "source": [
    "np.sum(res_msm['cost'])-np.sum(res_deePC['cost'])"
   ]
  },
  {
   "cell_type": "markdown",
   "metadata": {},
   "source": [
    "The overall cost in this scenario is:"
   ]
  },
  {
   "cell_type": "code",
   "execution_count": null,
   "metadata": {},
   "outputs": [],
   "source": [
    "np.sum(res_msm['cost'])"
   ]
  }
 ],
 "metadata": {
  "kernelspec": {
   "display_name": "Python 3",
   "language": "python",
   "name": "python3"
  },
  "language_info": {
   "codemirror_mode": {
    "name": "ipython",
    "version": 3
   },
   "file_extension": ".py",
   "mimetype": "text/x-python",
   "name": "python",
   "nbconvert_exporter": "python",
   "pygments_lexer": "ipython3",
   "version": "3.7.9"
  }
 },
 "nbformat": 4,
 "nbformat_minor": 4
}
