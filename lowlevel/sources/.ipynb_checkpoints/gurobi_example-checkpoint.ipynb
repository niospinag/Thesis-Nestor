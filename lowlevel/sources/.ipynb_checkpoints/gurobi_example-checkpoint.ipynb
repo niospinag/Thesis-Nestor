{
 "cells": [
  {
   "cell_type": "markdown",
   "metadata": {
    "collapsed": true,
    "pycharm": {
     "name": "#%% md\n"
    }
   },
   "source": [
    "# esto es un ejemplo de gurobi con python\n",
    "\n",
    "\n"
   ]
  },
  {
   "cell_type": "code",
   "execution_count": 2,
   "metadata": {
    "pycharm": {
     "name": "#%%\n"
    }
   },
   "outputs": [],
   "source": [
    "from gurobipy import *"
   ]
  },
  {
   "cell_type": "code",
   "execution_count": 3,
   "metadata": {
    "pycharm": {
     "name": "#%%\n"
    }
   },
   "outputs": [],
   "source": [
    "partes = [\"A\",\"B\",\"C\"]\n",
    "maquina = [\"maquina1\", \"maquina2\"]"
   ]
  },
  {
   "cell_type": "code",
   "execution_count": 4,
   "metadata": {
    "pycharm": {
     "name": "#%%\n"
    }
   },
   "outputs": [
    {
     "data": {
      "text/plain": [
       "[('A', 'maquina1'),\n",
       " ('A', 'maquina2'),\n",
       " ('B', 'maquina1'),\n",
       " ('B', 'maquina2'),\n",
       " ('C', 'maquina1'),\n",
       " ('C', 'maquina2')]"
      ]
     },
     "execution_count": 4,
     "metadata": {},
     "output_type": "execute_result"
    }
   ],
   "source": [
    "arcos = [(i,j) for i in partes for j in maquina ]\n",
    "arcos"
   ]
  },
  {
   "cell_type": "code",
   "execution_count": 5,
   "metadata": {
    "pycharm": {
     "name": "#%%\n"
    }
   },
   "outputs": [],
   "source": [
    "tiempos = {('A', 'maquina1'): 0.02, ('A', 'maquina2'): 0.05,('B', 'maquina1'):0.03, ('B', 'maquina2'): 0.02, ('C', 'maquina1'): 0.05, ('C', 'maquina2'): 0.04}\n",
    "utilidad = {\"A\":300, \"B\": 250, \"C\": 200}"
   ]
  },
  {
   "cell_type": "code",
   "execution_count": 6,
   "metadata": {
    "pycharm": {
     "name": "#%%\n"
    }
   },
   "outputs": [
    {
     "name": "stdout",
     "output_type": "stream",
     "text": [
      "Academic license - for non-commercial use only - expires 2021-05-16\n",
      "Using license file C:\\Users\\nesto\\gurobi.lic\n"
     ]
    }
   ],
   "source": [
    "m = Model(\"modelo\")"
   ]
  },
  {
   "cell_type": "code",
   "execution_count": 10,
   "metadata": {
    "pycharm": {
     "name": "#%%\n"
    }
   },
   "outputs": [
    {
     "ename": "AttributeError",
     "evalue": "'tupledict' object has no attribute 'LB'",
     "output_type": "error",
     "traceback": [
      "\u001b[1;31m---------------------------------------------------------------------------\u001b[0m",
      "\u001b[1;31mAttributeError\u001b[0m                            Traceback (most recent call last)",
      "\u001b[1;32m<ipython-input-10-acdee1285bfc>\u001b[0m in \u001b[0;36m<module>\u001b[1;34m\u001b[0m\n\u001b[0;32m      1\u001b[0m \u001b[0mx\u001b[0m \u001b[1;33m=\u001b[0m \u001b[0mm\u001b[0m\u001b[1;33m.\u001b[0m\u001b[0maddVars\u001b[0m\u001b[1;33m(\u001b[0m\u001b[0marcos\u001b[0m\u001b[1;33m,\u001b[0m \u001b[0mvtype\u001b[0m\u001b[1;33m=\u001b[0m\u001b[0mGRB\u001b[0m\u001b[1;33m.\u001b[0m\u001b[0mCONTINUOUS\u001b[0m\u001b[1;33m,\u001b[0m \u001b[0mname\u001b[0m \u001b[1;33m=\u001b[0m \u001b[1;34m\"x\"\u001b[0m\u001b[1;33m)\u001b[0m\u001b[1;33m\u001b[0m\u001b[1;33m\u001b[0m\u001b[0m\n\u001b[1;32m----> 2\u001b[1;33m \u001b[0mprint\u001b[0m\u001b[1;33m(\u001b[0m\u001b[0mx\u001b[0m\u001b[1;33m.\u001b[0m\u001b[0mLB\u001b[0m\u001b[1;33m)\u001b[0m\u001b[1;33m\u001b[0m\u001b[1;33m\u001b[0m\u001b[0m\n\u001b[0m\u001b[0;32m      3\u001b[0m \u001b[1;33m\u001b[0m\u001b[0m\n",
      "\u001b[1;31mAttributeError\u001b[0m: 'tupledict' object has no attribute 'LB'"
     ]
    }
   ],
   "source": [
    "x = m.addVars(arcos, vtype=GRB.CONTINUOUS, name = \"x\")\n",
    "print(x.LB)"
   ]
  },
  {
   "cell_type": "code",
   "execution_count": 10,
   "metadata": {
    "pycharm": {
     "name": "#%%\n"
    }
   },
   "outputs": [],
   "source": [
    "m.setObjective(quicksum(utilidad[i]*x[i,j] for i in partes for j in maquina), GRB.MAXIMIZE)"
   ]
  },
  {
   "cell_type": "code",
   "execution_count": 11,
   "metadata": {
    "pycharm": {
     "name": "#%%\n"
    }
   },
   "outputs": [
    {
     "data": {
      "text/plain": [
       "{'maquina1': <gurobi.Constr *Awaiting Model Update*>,\n",
       " 'maquina2': <gurobi.Constr *Awaiting Model Update*>}"
      ]
     },
     "execution_count": 11,
     "metadata": {},
     "output_type": "execute_result"
    }
   ],
   "source": [
    "m.addConstrs(quicksum(tiempos[i,j]*x[i,j] for i in partes )<=40 for j in maquina )"
   ]
  },
  {
   "cell_type": "code",
   "execution_count": 12,
   "metadata": {
    "pycharm": {
     "name": "#%%\n"
    }
   },
   "outputs": [
    {
     "name": "stdout",
     "output_type": "stream",
     "text": [
      "Gurobi Optimizer version 9.1.1 build v9.1.1rc0 (win64)\n",
      "Thread count: 6 physical cores, 12 logical processors, using up to 12 threads\n",
      "Optimize a model with 2 rows, 6 columns and 6 nonzeros\n",
      "Model fingerprint: 0x3b831291\n",
      "Coefficient statistics:\n",
      "  Matrix range     [2e-02, 5e-02]\n",
      "  Objective range  [2e+02, 3e+02]\n",
      "  Bounds range     [0e+00, 0e+00]\n",
      "  RHS range        [4e+01, 4e+01]\n",
      "Presolve removed 2 rows and 6 columns\n",
      "Presolve time: 0.02s\n",
      "Presolve: All rows and columns removed\n",
      "Iteration    Objective       Primal Inf.    Dual Inf.      Time\n",
      "       0    1.1000000e+06   0.000000e+00   0.000000e+00      0s\n",
      "\n",
      "Solved in 0 iterations and 0.02 seconds\n",
      "Optimal objective  1.100000000e+06\n"
     ]
    }
   ],
   "source": [
    "m.optimize()"
   ]
  },
  {
   "cell_type": "code",
   "execution_count": 13,
   "metadata": {
    "pycharm": {
     "name": "#%%\n"
    }
   },
   "outputs": [
    {
     "name": "stdout",
     "output_type": "stream",
     "text": [
      "Maximize\n",
      "   <gurobi.LinExpr: 300.0 x[A,maquina1] + 300.0 x[A,maquina2] + 250.0 x[B,maquina1] + 250.0 x[B,maquina2] + 200.0 x[C,maquina1] + 200.0 x[C,maquina2]>\n",
      "Subject To\n",
      "   R0 : <gurobi.LinExpr: 0.02 x[A,maquina1] + 0.03 x[B,maquina1] + 0.05 x[C,maquina1]> <= 40.0\n",
      "   R1 : <gurobi.LinExpr: 0.05 x[A,maquina2] + 0.02 x[B,maquina2] + 0.04 x[C,maquina2]> <= 40.0\n"
     ]
    }
   ],
   "source": [
    "m.display()"
   ]
  },
  {
   "cell_type": "code",
   "execution_count": 14,
   "metadata": {
    "pycharm": {
     "name": "#%%\n"
    }
   },
   "outputs": [
    {
     "name": "stdout",
     "output_type": "stream",
     "text": [
      "the objective function is :1100000.0\n",
      "x[A,maquina1] 2000.0\n",
      "x[A,maquina2] 0.0\n",
      "x[B,maquina1] 0.0\n",
      "x[B,maquina2] 2000.0\n",
      "x[C,maquina1] 0.0\n",
      "x[C,maquina2] 0.0\n"
     ]
    }
   ],
   "source": [
    "print(\"the objective function is :\" +  str(round(m.ObjVal,2)))\n",
    "for v in m.getVars():\n",
    "    print(str(v.VarName), v.x)"
   ]
  },
  {
   "cell_type": "markdown",
   "metadata": {
    "pycharm": {
     "name": "#%% md\n"
    }
   },
   "source": [
    "## This is an example of gurobi solver in python\n",
    "\n",
    "\n",
    "\n"
   ]
  }
 ],
 "metadata": {
  "kernelspec": {
   "display_name": "Python 3",
   "language": "python",
   "name": "python3"
  },
  "language_info": {
   "codemirror_mode": {
    "name": "ipython",
    "version": 3
   },
   "file_extension": ".py",
   "mimetype": "text/x-python",
   "name": "python",
   "nbconvert_exporter": "python",
   "pygments_lexer": "ipython3",
   "version": "3.7.9"
  }
 },
 "nbformat": 4,
 "nbformat_minor": 1
}
