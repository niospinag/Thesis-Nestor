{
 "cells": [
  {
   "cell_type": "markdown",
   "metadata": {},
   "source": [
    "# Deterministic case: DeePC vs. MPC based on multi-step model \n",
    "\n",
    "This notebook is used to create the results for **Figure 2** in our paper."
   ]
  },
  {
   "cell_type": "code",
   "execution_count": 1,
   "metadata": {},
   "outputs": [],
   "source": [
    "import numpy as np\n",
    "import matplotlib.pyplot as plt\n",
    "import matplotlib as mpl\n",
    "import scipy.io as sio\n",
    "from casadi import *\n",
    "from casadi.tools import *"
   ]
  },
  {
   "cell_type": "code",
   "execution_count": 2,
   "metadata": {},
   "outputs": [],
   "source": [
    "# Random seed:\n",
    "np.random.seed(1234)"
   ]
  },
  {
   "cell_type": "code",
   "execution_count": 3,
   "metadata": {},
   "outputs": [],
   "source": [
    "# Customizing Matplotlib:\n",
    "mpl.rcParams['font.size'] = 18\n",
    "mpl.rcParams['lines.linewidth'] = 3\n",
    "mpl.rcParams['axes.grid'] = True\n",
    "mpl.rcParams['svg.fonttype'] = 'none'\n",
    "mpl.rcParams['axes.unicode_minus'] = 'true'\n",
    "mpl.rcParams['axes.labelsize'] = 'large'\n",
    "mpl.rcParams['legend.fontsize'] = 'large'\n",
    "mpl.rcParams['xtick.labelsize'] = 'large'\n",
    "mpl.rcParams['ytick.labelsize'] = 'large'\n",
    "mpl.rcParams['axes.labelpad'] = 6"
   ]
  },
  {
   "cell_type": "markdown",
   "metadata": {},
   "source": [
    "##  System description\n",
    "\n",
    "\n",
    "We investigate a simple LTI system in the form of:\n",
    "\\begin{align}\n",
    "x_{k+1} &= Ax_k + Bu_k\\\\\n",
    "y_k &= Cx_k+Du_k,\n",
    "\\end{align}\n",
    "\n",
    "with $x \\in \\mathbb{R}^n$ (states), $u\\in \\mathbb{R}^m$ (inputs), $y\\in \\mathbb{R}^p$ (measurements) and system matrices $A \\in \\mathbb{R}^{n\\times n}$, $B \\in \\mathbb{R}^{n\\times m}$, $C \\in \\mathbb{R}^{p\\times n}$ and $D \\in \\mathbb{R}^{p\\times m}$.\n",
    "\n",
    "The investigated system, displayed below, is a triple-mass-spring system (rotating discs) with two stepper motors ($m=2$) attached to the outermost discs via additional springs. These disc angles are the measured output of the system ($p=3$). The system has a total of $n=8$ states."
   ]
  },
  {
   "cell_type": "markdown",
   "metadata": {},
   "source": [
    "<img src=\"sources/triple_mass_spring.pdf\" width=40%/>"
   ]
  },
  {
   "cell_type": "markdown",
   "metadata": {},
   "source": [
    "To simulate the system, we created a very simple helper class, that keeps the current state and stores the past sequences of inputs, states and outputs.\n",
    "\n",
    "We import the system class with:"
   ]
  },
  {
   "cell_type": "code",
   "execution_count": 4,
   "metadata": {},
   "outputs": [],
   "source": [
    "import sys\n",
    "# Add subfolder sources to path.\n",
    "sys.path.append('./sources')\n",
    "# Import class 'System' from file System.py\n",
    "from System2 import System"
   ]
  },
  {
   "cell_type": "markdown",
   "metadata": {},
   "source": [
    "Import system matrices, $A,B,C,D$ and create instance of ``System``:"
   ]
  },
  {
   "cell_type": "code",
   "execution_count": 14,
   "metadata": {},
   "outputs": [],
   "source": [
    "sys_dc = sio.loadmat('./sources/sys_dc.mat')\n",
    "A = sys_dc['A_dc']\n",
    "B = sys_dc['B_dc']\n",
    "C = sys_dc['C']\n",
    "D = sys_dc['D']\n",
    "\n",
    "n_x = 5\n",
    "n_u = 2\n",
    "sys = System(n_x, n_u, dt=1)"
   ]
  },
  {
   "cell_type": "markdown",
   "metadata": {},
   "source": [
    "## Investigating the System"
   ]
  },
  {
   "cell_type": "markdown",
   "metadata": {},
   "source": [
    "We create a helper function that creates an input signal reminiscent of PRBS (but with varying amplitude). "
   ]
  },
  {
   "cell_type": "code",
   "execution_count": 15,
   "metadata": {},
   "outputs": [],
   "source": [
    "def random_u(u0, switch_prob=0.5, u_max=20):\n",
    "    # Hold the current value with switch_prob chance or switch to new random value.\n",
    "    u_next = (0.5-np.random.rand(2,1))*u_max # New candidate value.\n",
    "    switch = np.random.rand() >= (1-switch_prob) # switching? 0 or 1.\n",
    "    u0 = (1-switch)*u0 + switch*u_next # Old or new value.\n",
    "    return u0"
   ]
  },
  {
   "cell_type": "markdown",
   "metadata": {},
   "source": [
    "Simulate and plot system response."
   ]
  },
  {
   "cell_type": "code",
   "execution_count": 18,
   "metadata": {},
   "outputs": [
    {
     "data": {
      "text/plain": [
       "array([[-2.23239276e+00],\n",
       "       [ 1.77659438e+00],\n",
       "       [ 1.04794464e+04],\n",
       "       [-1.50562683e+00],\n",
       "       [ 1.20035836e+02]])"
      ]
     },
     "execution_count": 18,
     "metadata": {},
     "output_type": "execute_result"
    }
   ],
   "source": [
    "sys.u = np.random.rand(2,1)\n",
    "sys.x0\n"
   ]
  },
  {
   "cell_type": "code",
   "execution_count": 17,
   "metadata": {},
   "outputs": [
    {
     "data": {
      "text/plain": [
       "[<matplotlib.lines.Line2D at 0x16bb1692148>,\n",
       " <matplotlib.lines.Line2D at 0x16bb1696dc8>]"
      ]
     },
     "execution_count": 17,
     "metadata": {},
     "output_type": "execute_result"
    },
    {
     "data": {
      "image/png": "[encoded data removed]",
      "text/plain": [
       "<Figure size 720x432 with 2 Axes>"
      ]
     },
     "metadata": {
      "needs_background": "light"
     },
     "output_type": "display_data"
    }
   ],
   "source": [
    "sys.reset()\n",
    "\n",
    "u0 = np.zeros((2,1))\n",
    "for k in range(100): #100\n",
    "    if k<50:\n",
    "        u0 = random_u(u0)\n",
    "    else:\n",
    "        u0 = np.zeros((2,1))\n",
    "    sys.make_step(u0)\n",
    "\n",
    "\n",
    "fig, ax = plt.subplots(2,1,figsize=(10,6), sharex = True)\n",
    "ax[0].plot(sys.time,sys.y)\n",
    "ax[1].step(sys.time,sys.u)"
   ]
  },
  {
   "cell_type": "markdown",
   "metadata": {},
   "source": [
    "# DeePC vs. MPC based on multi-step model"
   ]
  },
  {
   "cell_type": "markdown",
   "metadata": {},
   "source": [
    "## Data collection\n",
    "\n",
    "Both methods require a measured system response for persistantly exciting input data, depending on the parameters:\n",
    "$T_{\\text{ini}}$ and $N$.\n",
    "\n",
    "The total number of measured sequences depends on these parameters and must exceed the thresholds given by Assumption 1 and 2 in the paper. \n",
    "\n",
    "In the particular example with $T_{\\text{ini}}=4$ and $N=40$, we have that $T\\geq  96$ according to Assumption 1 and $T\\geq  100$ according to Assumption 2.\n",
    "\n",
    "We choose $T\\geq  150$."
   ]
  },
  {
   "cell_type": "code",
   "execution_count": 19,
   "metadata": {},
   "outputs": [],
   "source": [
    "T_ini = 4\n",
    "N = 40\n",
    "\n",
    "L = T_ini + N\n",
    "\n",
    "T = 150\n",
    "\n",
    "n_u = sys.n_u\n",
    "n_y = sys.n_y"
   ]
  },
  {
   "cell_type": "markdown",
   "metadata": {},
   "source": [
    "Create matrices $U_L$ and $Y_L$ according to (2) in the paper. Note that we construct the data matrices which are neither Hankel nor Page matrices. Instead we \"measure\" independent sequences each with **random initial state**."
   ]
  },
  {
   "cell_type": "code",
   "execution_count": 21,
   "metadata": {},
   "outputs": [],
   "source": [
    "U_L = []\n",
    "Y_L = []\n",
    "\n",
    "u0 = np.zeros((2,1))\n",
    "\n",
    "for k in range(T):\n",
    "    x0 = np.random.randn(n_x,1)\n",
    "    sys.reset(x0)\n",
    "    \n",
    "    for k in range(L):\n",
    "        u0 = random_u(u0)\n",
    "        sys.make_step(u0)\n",
    "        \n",
    "    U_L.append(sys.u.reshape(-1,1))\n",
    "    Y_L.append(sys.y.reshape(-1,1))\n",
    "    \n",
    "U_L = np.concatenate(U_L,axis=1)\n",
    "Y_L = np.concatenate(Y_L,axis=1)\n",
    "\n",
    "assert np.linalg.matrix_rank(U_L) == U_L.shape[0], \"not persistantly exciting.\""
   ]
  },
  {
   "cell_type": "markdown",
   "metadata": {},
   "source": [
    "According to (3) in the paper, we divide the input/output data in two parts such that:\n",
    "\n",
    "\\begin{equation}\n",
    "U_L = \\left[\n",
    "\\begin{array}{c}\n",
    "U_{T_\\text{ini}}\\\\\n",
    "U_{N}\n",
    "\\end{array}\n",
    "\\right],\\ \n",
    "Y_L = \\left[\n",
    "\\begin{array}{c}\n",
    "Y_{T_\\text{ini}}\\\\\n",
    "Y_{N}\n",
    "\\end{array}\n",
    "\\right].\n",
    "\\end{equation}"
   ]
  },
  {
   "cell_type": "code",
   "execution_count": 22,
   "metadata": {},
   "outputs": [],
   "source": [
    "U_Tini, U_N = np.split(U_L, [n_u*T_ini],axis=0)\n",
    "Y_Tini, Y_N = np.split(Y_L, [n_y*T_ini],axis=0)"
   ]
  },
  {
   "cell_type": "markdown",
   "metadata": {},
   "source": [
    "Here are some of the sampled trajectories:"
   ]
  },
  {
   "cell_type": "code",
   "execution_count": 23,
   "metadata": {
    "scrolled": false
   },
   "outputs": [
    {
     "data": {
      "image/png": "[encoded data removed]",
      "text/plain": [
       "<Figure size 864x432 with 8 Axes>"
      ]
     },
     "metadata": {
      "needs_background": "light"
     },
     "output_type": "display_data"
    }
   ],
   "source": [
    "n_traj = 8\n",
    "n_rows = 2\n",
    "\n",
    "fig, ax = plt.subplots(2, n_traj//n_rows, figsize=(12,6), sharex=True, sharey=True)\n",
    "\n",
    "for k in range(n_traj):\n",
    "    i,j = k % n_rows, k//n_rows\n",
    "    ax[i,j].plot(Y_L[:,k].reshape(-1,n_y))"
   ]
  },
  {
   "cell_type": "markdown",
   "metadata": {},
   "source": [
    "## Multi-step prediction model:"
   ]
  },
  {
   "cell_type": "markdown",
   "metadata": {},
   "source": [
    "For the multi-step model we identify $P^*$ from the least-squares problem:\n",
    "\n",
    "\\begin{equation}\n",
    "%\n",
    "\t P^* = \\arg\\ \\min_{ P} \\ \\| P\n",
    "\t\\underbrace{\n",
    "\t\\left[\\begin{array}{c}\n",
    "\tU_{T_\\text{ini}}\\\\\n",
    "\tU_N\\\\\n",
    "\tY_{T_\\text{ini}}\n",
    "\t\\end{array}\n",
    "\t\\right]}_M\n",
    "\t- \n",
    "\tY_N\n",
    "\t\\|_2^2.\n",
    "\\end{equation}\n",
    "\n",
    "with the Moore-Penrose inverse, such that:\n",
    "\n",
    "\\begin{equation}\n",
    " P^* = Y_N M^\\dagger,\n",
    "\\end{equation}"
   ]
  },
  {
   "cell_type": "code",
   "execution_count": 24,
   "metadata": {},
   "outputs": [],
   "source": [
    "M = np.concatenate((U_L, Y_Tini))\n",
    "\n",
    "P = Y_N@np.linalg.pinv(M)"
   ]
  },
  {
   "cell_type": "markdown",
   "metadata": {},
   "source": [
    "Let's see how $P^*$ looks like:"
   ]
  },
  {
   "cell_type": "code",
   "execution_count": 25,
   "metadata": {},
   "outputs": [
    {
     "data": {
      "text/plain": [
       "<matplotlib.image.AxesImage at 0x16bb34364c8>"
      ]
     },
     "execution_count": 25,
     "metadata": {},
     "output_type": "execute_result"
    },
    {
     "data": {
      "image/png": "[encoded data removed]",
      "text/plain": [
       "<Figure size 288x533.333 with 1 Axes>"
      ]
     },
     "metadata": {
      "needs_background": "light"
     },
     "output_type": "display_data"
    }
   ],
   "source": [
    "plt.matshow(np.log(np.abs(P)+1e-10))"
   ]
  },
  {
   "cell_type": "markdown",
   "metadata": {},
   "source": [
    "We expected this triangular shape, because there is no relationship between outputs and their respective future inputs. Also the block to the right shows that the entire sequence depends on the initial measurements."
   ]
  },
  {
   "cell_type": "markdown",
   "metadata": {},
   "source": [
    "### Simulation with the multi-step model\n",
    "\n",
    "To validate the multi-step model, we simulate $N$ steps into the future for given initial inputs/outputs ($y_{T_{\\text{ini}}},\\  u_{T_{\\text{ini}}}$) and a random future input-sequence ($u_N$)."
   ]
  },
  {
   "cell_type": "code",
   "execution_count": 26,
   "metadata": {},
   "outputs": [],
   "source": [
    "y_Tini = sys.y[-T_ini:,:].reshape(-1,1)\n",
    "u_Tini = sys.u[-T_ini:,:].reshape(-1,1)\n",
    "\n",
    "u0 = np.zeros((n_u,1))\n",
    "\n",
    "for k in range(N):\n",
    "    u0 = random_u(u0)\n",
    "    sys.make_step(u0)\n",
    "    \n",
    "u_N = sys.u[-N:,:].reshape(-1,1)\n",
    "\n",
    "b = np.concatenate((u_Tini, u_N, y_Tini),axis=0)\n",
    "\n",
    "y_true = sys.y[-N:,:]\n",
    "y_msm = (P@b).reshape(-1,n_y)"
   ]
  },
  {
   "cell_type": "code",
   "execution_count": 29,
   "metadata": {
    "scrolled": false
   },
   "outputs": [
    {
     "data": {
      "text/plain": [
       "<matplotlib.legend.Legend at 0x16bb86c3588>"
      ]
     },
     "execution_count": 29,
     "metadata": {},
     "output_type": "execute_result"
    },
    {
     "data": {
      "image/png": "[encoded data removed]",
      "text/plain": [
       "<Figure size 864x432 with 5 Axes>"
      ]
     },
     "metadata": {
      "needs_background": "light"
     },
     "output_type": "display_data"
    }
   ],
   "source": [
    "fig, ax = plt.subplots(n_x,1, sharex=True, figsize=(12,6))\n",
    "\n",
    "for k in range(n_y):\n",
    "    ax[k].plot(y_msm[:,k], label='est')\n",
    "    ax[k].plot(y_true[:,k], '--', label='True')\n",
    "    \n",
    "ax[0].legend()"
   ]
  },
  {
   "cell_type": "markdown",
   "metadata": {},
   "source": [
    "To quantify the prediction accuracy, we compute:"
   ]
  },
  {
   "cell_type": "code",
   "execution_count": 30,
   "metadata": {},
   "outputs": [
    {
     "data": {
      "text/plain": [
       "55940.95348480043"
      ]
     },
     "execution_count": 30,
     "metadata": {},
     "output_type": "execute_result"
    }
   ],
   "source": [
    "np.linalg.norm(y_msm-y_true)"
   ]
  },
  {
   "cell_type": "markdown",
   "metadata": {},
   "source": [
    "which shows that both results are nearly identical."
   ]
  },
  {
   "cell_type": "markdown",
   "metadata": {},
   "source": [
    "### MPC based on multi-step model: Building the optimizer"
   ]
  },
  {
   "cell_type": "markdown",
   "metadata": {},
   "source": [
    "We want to implement the following problem:\n",
    "\n",
    "\\begin{equation}\n",
    "\t\\begin{aligned}\n",
    "\t\t\\min_{u_N,y_N}\\quad &\\sum_{k=1}^N \\left(\\|y_k\\|^2_{Q}+\\|u_k\\|^2_{R}\\right)\\\\\n",
    "\t\t\\text{s.t.}\\quad & \n",
    "        y_N =  P^*\n",
    "        \\left[\\begin{array}{c}\n",
    "        u_{T_\\text{ini}}\\\\\n",
    "        u_{N}\\\\\n",
    "        y_{T_\\text{ini}}\\\\\n",
    "        \\end{array}\\right],\n",
    "        \\\\\n",
    "\t\t&u_k \\in \\mathbb{U},\\ \\forall k\\in \\{1,\\dots,N\\},\t\\\\\n",
    "\t\t&y_k \\in \\mathbb{Y},\\ \\forall k\\in \\{1,\\dots,N\\}.\t\\\\\n",
    "\t\\end{aligned}\n",
    "\\end{equation}\n",
    "\n",
    "The results in the paper are obtained with $\\mathbb{U}=[-0.7,0.7]$ for both motors.\n",
    "\n",
    "We build the optimizer using [CasADi](https://web.casadi.org) and profit from their ``struct_symSX`` class, which allows to create symbolic variables within a structure for easier indexing. This [tutorial](http://casadi.sourceforge.net/v2.0.0/tutorials/tools/structure.pdf) explains the use of structures for CasADi in Python."
   ]
  },
  {
   "cell_type": "code",
   "execution_count": 31,
   "metadata": {},
   "outputs": [],
   "source": [
    "# Create optimization variables:\n",
    "opt_x = struct_symMX([\n",
    "    entry('y_N', shape=(n_y), repeat=N),\n",
    "    entry('u_N', shape=(n_u), repeat=N),\n",
    "])\n",
    "\n",
    "# Create parameters of the optimization problem\n",
    "opt_p = struct_symMX([\n",
    "    entry('u_Tini', shape=(n_u), repeat=T_ini),\n",
    "    entry('y_Tini', shape=(n_y), repeat=T_ini),\n",
    "])\n",
    "\n",
    "# Create numerical instances of the structures (holding all zeros as entries)\n",
    "opt_x_num = opt_x(0)\n",
    "opt_p_num = opt_p(0)"
   ]
  },
  {
   "cell_type": "code",
   "execution_count": 32,
   "metadata": {},
   "outputs": [],
   "source": [
    "# Create the objective:\n",
    "obj = 0\n",
    "for k in range(N):\n",
    "    obj += sum1(opt_x['y_N',k]**2)+0.1*sum1(opt_x['u_N', k]**2)\n",
    "\n",
    "\n",
    "# Create the constraints:\n",
    "b = vertcat(*opt_p['u_Tini'], *opt_x['u_N'], *opt_p['y_Tini'])\n",
    "y_N = vertcat(*opt_x['y_N'])\n",
    "cons = P@b-y_N\n",
    "\n",
    "\n",
    "# Create lower and upper bound structures and set all values to plus/minus infinity.\n",
    "lbx = opt_x(-np.inf)\n",
    "ubx = opt_x(np.inf)\n",
    "\n",
    "# Set only bounds on u_N\n",
    "lbx['u_N'] = -0.7\n",
    "ubx['u_N'] = 0.7\n",
    "\n",
    "\n",
    "# Create Optim\n",
    "nlp = {'x':opt_x, 'f':obj, 'g':cons, 'p':opt_p}\n",
    "S_msm = nlpsol('S', 'ipopt', nlp)"
   ]
  },
  {
   "cell_type": "markdown",
   "metadata": {},
   "source": [
    "## DeePC\n",
    "\n",
    "### Building the optimizer\n",
    "\n",
    "We now proceed to implement DeePC using the same tools. The optimization problem is given as:\n",
    "\n",
    "\\begin{equation}\n",
    "\t\\begin{aligned}\n",
    "\t\\min_{g,u_N, y_N}\\quad &f(g,u_N, y_N)\\\\\n",
    "\t\\text{s.t.}\\quad & \n",
    "    \\left[\\begin{array}{c}\n",
    "\tU_{T_\\text{ini}}\\\\\n",
    "\tU_{N}\\\\\n",
    "\tY_{T_\\text{ini}}\\\\\n",
    "\tY_{N}\n",
    "\t\\end{array}\\right] g \n",
    "\t= \n",
    "\t\\left[\\begin{array}{c}\n",
    "\tu_{T_\\text{ini}}\\\\\n",
    "\tu_{N}\\\\\n",
    "\ty_{T_\\text{ini}}\\\\\n",
    "\ty_{N}\n",
    "\t\\end{array}\\right],\n",
    "    \\\\\n",
    "\t&u_k \\in \\mathbb{U}\\ \\forall k\\in\\{1,\\dots,N\\},\t\\\\\n",
    "\t&y_k \\in \\mathbb{Y}\\ \\forall k\\in\\{1,\\dots,N\\}, \\\\\n",
    "\t\\end{aligned}\n",
    "\\end{equation}"
   ]
  },
  {
   "cell_type": "code",
   "execution_count": 33,
   "metadata": {},
   "outputs": [],
   "source": [
    "opt_x_dpc = struct_symMX([\n",
    "    entry('g', shape=(T)),\n",
    "    entry('u_N', shape=(n_u), repeat=N),\n",
    "    entry('y_N', shape=(n_y), repeat=N)\n",
    "])\n",
    "\n",
    "opt_p_dpc = struct_symMX([\n",
    "    entry('u_Tini', shape=(n_u), repeat=T_ini),\n",
    "    entry('y_Tini', shape=(n_y), repeat=T_ini),\n",
    "])\n",
    "\n",
    "opt_x_num_dpc = opt_x_dpc(0)\n",
    "opt_p_num_dpc = opt_p_dpc(0)"
   ]
  },
  {
   "cell_type": "code",
   "execution_count": 34,
   "metadata": {},
   "outputs": [],
   "source": [
    "# Create the objective:\n",
    "obj = 0\n",
    "for k in range(N):\n",
    "    obj += sum1(opt_x_dpc['y_N',k]**2)+0.1*sum1(opt_x_dpc['u_N', k]**2)\n",
    "\n",
    "    \n",
    "# Create the constraints\n",
    "A = vertcat(U_Tini, U_N, Y_Tini, Y_N)\n",
    "b = vertcat(*opt_p_dpc['u_Tini'], *opt_x_dpc['u_N'], *opt_p_dpc['y_Tini'], *opt_x_dpc['y_N'])\n",
    "\n",
    "cons = A@opt_x_dpc['g']-b\n",
    "\n",
    "\n",
    "\n",
    "# Create lower and upper bound structures and set all values to plus/minus infinity.\n",
    "lbx_dpc = opt_x_dpc(-np.inf)\n",
    "ubx_dpc = opt_x_dpc(np.inf)\n",
    "\n",
    "\n",
    "# Set only bounds on u_N\n",
    "lbx_dpc['u_N'] = -0.7\n",
    "ubx_dpc['u_N'] = 0.7\n",
    "\n",
    "# Create Optim\n",
    "nlp = {'x':opt_x_dpc, 'f':obj, 'g':cons, 'p':opt_p_dpc}\n",
    "S_dpc = nlpsol('S', 'ipopt', nlp)"
   ]
  },
  {
   "cell_type": "markdown",
   "metadata": {},
   "source": [
    "# Open-loop comparison\n",
    "\n",
    "We start with a comparison of the open-loop prediction for some arbitrary intial condition (not at rest)."
   ]
  },
  {
   "cell_type": "code",
   "execution_count": 35,
   "metadata": {},
   "outputs": [],
   "source": [
    "np.random.seed(12)\n",
    "sys.reset()\n",
    "\n",
    "# Excitement\n",
    "n_exc = 20\n",
    "u0 = np.zeros((2,1))\n",
    "for k in range(n_exc):\n",
    "    u0 = random_u(u0)\n",
    "    sys.make_step(u0)"
   ]
  },
  {
   "cell_type": "code",
   "execution_count": 36,
   "metadata": {},
   "outputs": [],
   "source": [
    "y_Tini = sys.y[-T_ini:,:]\n",
    "u_Tini = sys.u[-T_ini:,:]"
   ]
  },
  {
   "cell_type": "markdown",
   "metadata": {},
   "source": [
    "Assign these initial conditions to the parameter structures for both optimizers"
   ]
  },
  {
   "cell_type": "code",
   "execution_count": 37,
   "metadata": {},
   "outputs": [],
   "source": [
    "opt_p_num['y_Tini'] = vertsplit(y_Tini)\n",
    "opt_p_num['u_Tini'] = vertsplit(u_Tini)\n",
    "\n",
    "opt_p_num_dpc['y_Tini'] = vertsplit(y_Tini)\n",
    "opt_p_num_dpc['u_Tini'] = vertsplit(u_Tini)"
   ]
  },
  {
   "cell_type": "markdown",
   "metadata": {},
   "source": [
    "## Solve MPC based on multi-step model"
   ]
  },
  {
   "cell_type": "code",
   "execution_count": 38,
   "metadata": {},
   "outputs": [
    {
     "name": "stdout",
     "output_type": "stream",
     "text": [
      "\n",
      "******************************************************************************\n",
      "This program contains Ipopt, a library for large-scale nonlinear optimization.\n",
      " Ipopt is released as open source code under the Eclipse Public License (EPL).\n",
      "         For more information visit http://projects.coin-or.org/Ipopt\n",
      "******************************************************************************\n",
      "\n",
      "This is Ipopt version 3.12.3, running with linear solver mumps.\n",
      "NOTE: Other linear solvers might be more efficient (see Ipopt documentation).\n",
      "\n",
      "Number of nonzeros in equality constraint Jacobian...:    16200\n",
      "Number of nonzeros in inequality constraint Jacobian.:        0\n",
      "Number of nonzeros in Lagrangian Hessian.............:      280\n",
      "\n",
      "Total number of variables............................:      280\n",
      "                     variables with only lower bounds:        0\n",
      "                variables with lower and upper bounds:       80\n",
      "                     variables with only upper bounds:        0\n",
      "Total number of equality constraints.................:      200\n",
      "Total number of inequality constraints...............:        0\n",
      "        inequality constraints with only lower bounds:        0\n",
      "   inequality constraints with lower and upper bounds:        0\n",
      "        inequality constraints with only upper bounds:        0\n",
      "\n",
      "iter    objective    inf_pr   inf_du lg(mu)  ||d||  lg(rg) alpha_du alpha_pr  ls\n",
      "   0 0.0000000e+000 5.02e+003 0.00e+000  -1.0 0.00e+000    -  0.00e+000 0.00e+000   0\n",
      "   1 2.1529692e+001 5.01e+003 3.15e-003  -1.0 1.21e+003    -  1.83e-003 1.84e-003h  1\n",
      "   2 3.9918381e+001 5.01e+003 8.62e+000  -1.0 1.21e+003    -  3.25e-003 6.00e-004h  1\n",
      "   3 1.0142626e+002 5.00e+003 1.53e+001  -1.0 1.25e+003    -  2.18e-003 1.09e-003h  1\n",
      "   4 1.5994684e+002 5.00e+003 1.92e+001  -1.0 1.31e+003    -  1.00e-003 5.55e-004h  1\n",
      "   5 2.2882487e+002 5.00e+003 2.35e+001  -1.0 1.56e+003    -  5.65e-004 4.24e-004h  1\n",
      "   6 2.7546347e+002 5.00e+003 3.83e+001  -1.0 1.89e+003    -  5.75e-004 2.21e-004h  1\n",
      "   7 3.4443714e+002 5.00e+003 4.96e+001  -1.0 2.00e+003    -  4.72e-004 2.68e-004h  1\n",
      "   8 4.3795323e+002 5.00e+003 5.70e+001  -1.0 2.51e+003    -  3.81e-004 2.84e-004h  1\n",
      "   9 6.1817189e+002 4.99e+003 3.62e+001  -1.0 2.89e+003    -  1.69e-004 4.04e-004h  1\n",
      "iter    objective    inf_pr   inf_du lg(mu)  ||d||  lg(rg) alpha_du alpha_pr  ls\n",
      "  10 6.4528947e+002 4.99e+003 5.68e+001  -1.0 3.12e+003    -  2.94e-004 5.13e-005h  1\n",
      "  11 7.4477353e+002 4.99e+003 5.41e+001  -1.0 4.03e+003    -  1.40e-004 1.72e-004h  1\n",
      "  12 8.4638713e+002 4.99e+003 6.27e+001  -1.0 4.13e+003    -  2.58e-004 1.57e-004h  1\n",
      "  13 9.7295200e+002 4.99e+003 6.65e+001  -1.0 3.83e+003    -  2.19e-004 1.77e-004h  1\n",
      "  14 1.1368541e+003 4.99e+003 7.59e+001  -1.0 3.72e+003    -  3.08e-004 2.07e-004h  1\n",
      "  15 1.1551416e+003 4.99e+003 1.67e+002  -1.0 3.81e+003    -  9.19e-004 2.17e-005h  1\n",
      "  16 1.3500738e+003 4.99e+003 2.14e+002  -1.0 3.88e+003    -  6.32e-004 2.17e-004h  1\n",
      "  17 1.6787805e+003 4.99e+003 2.75e+002  -1.0 4.02e+003    -  7.54e-004 3.18e-004h  1\n",
      "  18 2.7770766e+003 4.98e+003 1.99e+002  -1.0 4.01e+003    -  2.94e-004 8.29e-004h  1\n",
      "  19 3.5677790e+003 4.98e+003 3.10e+002  -1.0 4.06e+003    -  1.24e-003 4.76e-004h  1\n",
      "iter    objective    inf_pr   inf_du lg(mu)  ||d||  lg(rg) alpha_du alpha_pr  ls\n",
      "  20 4.1577602e+003 4.98e+003 2.86e+002  -1.0 4.26e+003    -  1.56e-004 3.16e-004h  1\n",
      "  21 4.3865422e+003 4.98e+003 2.82e+002  -1.0 4.39e+003    -  8.77e-005 1.16e-004h  1\n",
      "  22 4.5605013e+003 4.98e+003 2.75e+002  -1.0 4.43e+003    -  3.59e-005 8.56e-005h  1\n",
      "  23 5.8459770e+003 4.97e+003 2.66e+002  -1.0 4.43e+003    -  5.27e-004 5.83e-004h  1\n",
      "  24 8.0712186e+003 4.97e+003 2.76e+002  -1.0 4.44e+003    -  9.33e-004 8.62e-004h  1\n",
      "  25 1.5293418e+004 4.96e+003 6.42e+002  -1.0 4.44e+003    -  4.62e-003 2.15e-003h  1\n",
      "  26 1.5414064e+004 4.96e+003 2.02e+003  -1.0 4.43e+003    -  9.43e-003 3.07e-005h  1\n",
      "  27 2.6348837e+004 4.95e+003 1.78e+003  -1.0 4.40e+003    -  7.29e-004 2.39e-003h  1\n",
      "  28 2.6474684e+004 4.95e+003 1.78e+003  -1.0 4.40e+003    -  1.03e-005 2.41e-005h  1\n",
      "  29r2.6474684e+004 4.95e+003 1.00e+003   3.7 0.00e+000    -  0.00e+000 1.28e-007R  2\n",
      "iter    objective    inf_pr   inf_du lg(mu)  ||d||  lg(rg) alpha_du alpha_pr  ls\n",
      "  30r2.6474844e+004 4.95e+003 1.05e+003   3.7 1.20e+007    -  4.72e-006 1.81e-007f  5\n",
      "  31r2.6771021e+004 4.89e+003 1.14e+003   1.6 1.46e+005    -  5.11e-005 3.97e-004f  1\n",
      "  32r2.6932889e+004 4.88e+003 1.14e+003   1.6 5.79e+005    -  2.58e-005 1.92e-005f  1\n",
      "  33r2.6992811e+004 4.88e+003 1.06e+003   1.6 5.54e+005    -  2.91e-004 7.07e-006f  1\n",
      "  34r2.7217080e+004 4.86e+003 1.05e+003   1.6 4.60e+005    -  1.61e-004 2.65e-005f  1\n",
      "  35r2.7320595e+004 4.86e+003 1.08e+003   1.6 1.71e+005    -  1.21e-004 1.23e-005f  1\n",
      "  36r2.8312667e+004 4.84e+003 1.05e+003   1.6 1.72e+005    -  9.79e-006 1.16e-004f  1\n",
      "  37r2.8640991e+004 4.84e+003 1.18e+003   1.6 1.71e+005    -  2.85e-004 3.80e-005f  1\n",
      "  38r2.8956402e+004 4.83e+003 1.22e+003   1.6 8.46e+004    -  9.40e-005 3.63e-005f  1\n",
      "  39r2.9880624e+004 4.79e+003 1.17e+003   1.6 4.07e+005    -  2.38e-006 1.05e-004f  1\n",
      "iter    objective    inf_pr   inf_du lg(mu)  ||d||  lg(rg) alpha_du alpha_pr  ls\n",
      "  40r2.9891693e+004 4.79e+003 1.25e+003   1.6 3.55e+005    -  1.53e-004 1.25e-006f  1\n",
      "  41r3.1103696e+004 4.77e+003 1.16e+003   1.6 1.68e+005    -  1.22e-006 1.35e-004f  1\n",
      "  42r3.1510956e+004 4.73e+003 1.15e+003   1.6 7.66e+005    -  2.21e-006 4.43e-005f  1\n",
      "  43r3.1517410e+004 4.73e+003 1.18e+003   1.6 4.99e+005    -  7.15e-005 7.03e-007f  1\n",
      "  44r3.2188623e+004 4.69e+003 1.16e+003   1.6 6.37e+005    -  1.95e-006 7.30e-005f  1\n",
      "  45r3.2196690e+004 4.69e+003 1.65e+003   1.6 5.44e+005    -  1.33e-003 8.72e-007f  1\n",
      "  46r3.2916724e+004 4.68e+003 1.72e+003   1.6 6.84e+004    -  1.81e-004 7.80e-005f  1\n",
      "  47r3.2926909e+004 4.68e+003 1.74e+003   1.6 5.20e+004    -  2.40e-005 1.10e-006f  1\n",
      "  48r3.5158998e+004 4.63e+003 1.60e+003   1.6 2.00e+005    -  3.37e-007 2.36e-004f  1\n",
      "  49r3.5169908e+004 4.63e+003 1.61e+003   1.6 4.12e+005    -  2.72e-005 1.12e-006f  1\n",
      "iter    objective    inf_pr   inf_du lg(mu)  ||d||  lg(rg) alpha_du alpha_pr  ls\n",
      "  50r3.5198618e+004 4.63e+003 1.66e+003   1.6 6.55e+004    -  7.56e-005 2.99e-006f  1\n",
      "  51r3.7040945e+004 4.63e+003 1.52e+003   1.6 3.29e+004    -  7.35e-007 1.90e-004f  1\n",
      "  52r3.7750106e+004 4.59e+003 1.50e+003   1.6 5.39e+005    -  9.48e-006 7.19e-005f  1\n",
      "  53r3.7761890e+004 4.59e+003 1.55e+003   1.6 3.36e+005    -  1.14e-004 1.19e-006f  1\n",
      "  54r3.9036301e+004 4.54e+003 1.49e+003   1.6 3.44e+005    -  1.61e-006 1.26e-004f  1\n",
      "  55r3.9047576e+004 4.54e+003 1.60e+003   1.6 3.83e+005    -  2.39e-004 1.10e-006f  1\n",
      "  56r3.9636935e+004 4.54e+003 1.70e+003   1.6 6.72e+004    -  2.01e-004 5.81e-005f  1\n",
      "  57r3.9669762e+004 4.54e+003 1.70e+003   1.6 1.66e+005    -  2.74e-006 3.22e-006f  1\n",
      "  58r4.0589224e+004 4.52e+003 1.67e+003   1.6 4.69e+005    -  1.46e-006 8.89e-005f  1\n",
      "  59r4.0603963e+004 4.52e+003 1.71e+003   1.6 2.92e+005    -  8.19e-005 1.42e-006f  1\n",
      "iter    objective    inf_pr   inf_du lg(mu)  ||d||  lg(rg) alpha_du alpha_pr  ls\n",
      "  60r4.2092374e+004 4.52e+003 1.64e+003   1.6 2.92e+005    -  1.15e-006 1.42e-004f  1\n",
      "  61r4.2107009e+004 4.52e+003 1.78e+003   1.6 2.97e+005    -  2.71e-004 1.38e-006f  1\n",
      "  62r4.2471626e+004 4.52e+003 1.80e+003   1.6 6.81e+004    -  6.83e-005 3.46e-005f  1\n",
      "  63r4.3844691e+004 4.51e+003 1.74e+003   1.6 2.77e+005    -  2.59e-006 1.27e-004f  1\n",
      "  64r4.3862772e+004 4.51e+003 2.12e+003   1.6 2.28e+005    -  6.88e-004 1.67e-006f  1\n",
      "  65r4.4621334e+004 4.51e+003 2.08e+003   1.6 1.04e+005    -  5.07e-006 7.04e-005f  1\n",
      "  66r4.5666020e+004 4.51e+003 2.04e+003   1.6 3.47e+005    -  3.35e-006 9.55e-005f  1\n",
      "  67r4.5686200e+004 4.51e+003 2.16e+003   1.6 1.93e+005    -  2.05e-004 1.84e-006f  1\n",
      "  68r4.6379091e+004 4.51e+003 2.12e+003   1.6 1.36e+005    -  2.10e-006 6.29e-005f  1\n",
      "  69r4.7484423e+004 4.51e+003 2.07e+003   1.6 2.52e+005    -  3.15e-006 9.87e-005f  1\n",
      "iter    objective    inf_pr   inf_du lg(mu)  ||d||  lg(rg) alpha_du alpha_pr  ls\n",
      "  70r4.7513850e+004 4.51e+003 2.55e+003   1.6 1.23e+005    -  7.39e-004 2.63e-006f  1\n",
      "  71r4.7745597e+004 4.51e+003 2.54e+003   1.6 5.19e+004    -  5.80e-006 2.08e-005f  1\n",
      "  72r4.9278082e+004 4.51e+003 2.47e+003   1.6 2.66e+005    -  1.53e-006 1.34e-004f  1\n",
      "  73r4.9302424e+004 4.51e+003 2.72e+003   1.6 1.69e+005    -  4.09e-004 2.12e-006f  1\n",
      "  74r4.9583386e+004 4.51e+003 2.70e+003   1.6 2.63e+004    -  2.37e-006 2.47e-005f  1\n",
      "  75r5.1155009e+004 4.51e+003 2.64e+003   1.6 2.64e+005    -  3.51e-006 1.35e-004f  1\n",
      "  76r5.1180551e+004 4.51e+003 3.56e+003   1.6 1.63e+005    -  1.55e-003 2.19e-006f  1\n",
      "  77r5.3452492e+004 4.51e+003 3.41e+003   1.6 8.88e+003    -  7.58e-006 1.95e-004f  1\n",
      "  78r5.5438504e+004 4.51e+003 3.32e+003   1.6 2.01e+005    -  4.35e-006 1.63e-004f  1\n",
      "  79r5.5473466e+004 4.51e+003 3.45e+003   1.6 1.22e+005    -  2.00e-004 2.87e-006f  1\n",
      "iter    objective    inf_pr   inf_du lg(mu)  ||d||  lg(rg) alpha_du alpha_pr  ls\n",
      "  80r5.8356504e+004 4.51e+003 3.31e+003   1.6 1.12e+005    -  1.21e-005 2.35e-004f  1\n",
      "  81r5.8454552e+004 4.51e+003 3.33e+003   1.6 1.02e+005    -  4.05e-005 7.90e-006f  1\n",
      "  82r6.0367937e+004 4.51e+003 3.25e+003   1.6 1.78e+005    -  2.15e-005 1.52e-004f  1\n",
      "  83r6.0410533e+004 4.51e+003 4.05e+003   1.6 8.13e+004    -  1.18e-003 3.38e-006f  1\n",
      "  84r6.1016035e+004 4.51e+003 4.15e+003   1.6 6.92e+003    -  1.79e-004 4.83e-005f  1\n",
      "  85r6.6309166e+004 4.51e+003 3.87e+003   1.6 7.06e+004    -  3.36e-006 4.10e-004f  1\n",
      "  86r6.6359596e+004 4.51e+003 3.96e+003   1.6 7.54e+004    -  1.43e-004 3.82e-006f  1\n",
      "  87r6.6778607e+004 4.51e+003 4.65e+003   1.6 6.98e+003    -  9.22e-004 3.19e-005f  1\n",
      "  88r9.9217432e+004 4.49e+003 2.93e+003   1.6 6.91e+003    -  9.28e-006 2.22e-003f  1\n",
      "  89r1.0270575e+005 4.49e+003 2.84e+003   1.6 9.33e+004    -  7.37e-005 2.14e-004f  1\n",
      "iter    objective    inf_pr   inf_du lg(mu)  ||d||  lg(rg) alpha_du alpha_pr  ls\n",
      "  90r1.0279877e+005 4.49e+003 3.43e+003   1.6 3.56e+004    -  8.13e-004 5.68e-006f  1\n"
     ]
    },
    {
     "name": "stdout",
     "output_type": "stream",
     "text": [
      "  91r1.1525227e+005 4.49e+003 2.87e+003   1.6 1.63e+004    -  7.31e-006 7.40e-004f  1\n",
      "  92r1.1748899e+005 4.49e+003 2.85e+003   1.6 1.17e+005    -  9.27e-005 1.28e-004f  1\n",
      "  93r1.1756400e+005 4.49e+003 3.69e+003   1.6 3.34e+004    -  1.15e-003 4.29e-006f  1\n",
      "  94r1.3058821e+005 4.48e+003 3.17e+003   1.6 3.03e+004    -  1.39e-005 7.25e-004f  1\n",
      "  95r1.3071584e+005 4.48e+003 6.44e+003   1.6 3.17e+004    -  4.51e-003 6.92e-006f  1\n",
      "  96r1.3161551e+005 4.48e+003 6.53e+003   1.6 6.89e+003    -  1.64e-004 4.89e-005f  1\n",
      "  97r1.4718762e+005 4.48e+003 5.93e+003   1.6 2.58e+004    -  2.66e-006 8.19e-004f  1\n",
      "  98r1.4736376e+005 4.48e+003 6.48e+003   1.6 2.38e+004    -  7.54e-004 9.01e-006f  1\n",
      "  99r1.5901312e+005 4.48e+003 6.06e+003   1.6 2.26e+004    -  2.49e-005 5.85e-004f  1\n",
      "iter    objective    inf_pr   inf_du lg(mu)  ||d||  lg(rg) alpha_du alpha_pr  ls\n",
      " 100r1.5938169e+005 4.48e+003 6.68e+003   1.6 8.31e+003    -  8.32e-004 1.82e-005f  1\n",
      " 101r1.7787565e+005 4.47e+003 6.01e+003   1.6 1.13e+004    -  9.13e-006 8.86e-004f  1\n",
      " 102r1.8211793e+005 4.47e+003 5.98e+003   1.6 5.80e+004    -  1.53e-004 1.95e-004f  1\n",
      " 103r1.8238593e+005 4.47e+003 9.57e+003   1.6 9.20e+003    -  4.76e-003 1.24e-005f  1\n",
      " 104r4.9160993e+005 4.40e+003 1.46e+003   1.6 6.87e+003    -  4.13e-005 1.08e-002f  1\n",
      " 105r4.9160993e+005 4.40e+003 9.99e+002   3.6 0.00e+000    -  0.00e+000 3.19e-007R  5\n",
      " 106r4.9188057e+005 4.40e+003 9.99e+002   3.6 4.32e+006    -  1.13e-006 1.89e-005f  2\n",
      " 107r4.9254789e+005 4.40e+003 9.99e+002   1.5 5.38e+005    -  1.17e-004 4.51e-005f  1\n",
      " 108r5.0232981e+005 4.39e+003 9.99e+002   1.5 4.20e+005    -  3.96e-005 5.99e-005f  1\n",
      " 109r5.1099624e+005 4.39e+003 9.99e+002   1.5 2.58e+005    -  1.33e-004 5.25e-005f  1\n",
      "iter    objective    inf_pr   inf_du lg(mu)  ||d||  lg(rg) alpha_du alpha_pr  ls\n",
      " 110r5.2223649e+005 4.39e+003 9.99e+002   1.5 1.51e+005    -  1.79e-004 6.73e-005f  1\n",
      " 111r5.2859381e+005 4.39e+003 9.99e+002   1.5 1.06e+005    -  2.49e-004 3.78e-005f  1\n",
      " 112r5.3161544e+005 4.39e+003 9.99e+002   1.5 7.36e+004    -  6.76e-005 1.79e-005f  1\n",
      " 113r5.6342724e+005 4.38e+003 1.13e+003   1.5 7.14e+004    -  1.43e-003 1.85e-004f  1\n",
      " 114r6.1150704e+005 4.37e+003 1.10e+003   1.5 5.45e+004    -  2.21e-004 2.71e-004f  1\n",
      " 115r6.5302925e+005 4.37e+003 1.70e+003   1.5 4.24e+004    -  1.01e-003 2.26e-004f  1\n",
      " 116r6.9243783e+005 4.36e+003 2.95e+003   1.5 3.17e+004    -  1.83e-003 2.08e-004f  1\n",
      " 117r7.5445031e+005 4.35e+003 2.77e+003   1.5 3.18e+004    -  8.65e-005 3.15e-004f  1\n",
      " 118r8.9354310e+005 4.33e+003 2.31e+003   1.5 3.16e+004    -  7.23e-005 6.63e-004f  1\n",
      " 119r9.0426799e+005 4.33e+003 3.68e+003   1.5 3.16e+004    -  1.77e-003 4.90e-005f  1\n",
      "iter    objective    inf_pr   inf_du lg(mu)  ||d||  lg(rg) alpha_du alpha_pr  ls\n",
      " 120r1.1866360e+006 4.29e+003 2.83e+003   1.5 3.20e+004    -  1.35e-004 1.20e-003f  1\n",
      " 121r1.2115373e+006 4.29e+003 3.51e+003   1.5 3.17e+004    -  9.58e-004 9.86e-005f  1\n",
      " 122r1.4525752e+006 4.26e+003 2.81e+003   1.5 3.16e+004    -  2.55e-005 9.07e-004f  1\n",
      " 123r1.6157157e+006 4.24e+003 7.91e+005   1.5 3.15e+004    -  1.00e+000 5.72e-004f  1\n",
      " 124r1.8858278e+008 3.88e+003 6.95e+005   1.5 3.00e+004    -  5.78e-001 1.21e-001f  1\n",
      " 125 1.8858225e+008 3.88e+003 7.93e+003  -1.0 1.34e+003    -  2.27e-005 5.57e-006f  1\n",
      " 126 1.8858079e+008 3.88e+003 7.93e+003  -1.0 1.50e+003    -  1.17e-006 1.58e-005f  1\n",
      " 127 1.8858036e+008 3.88e+003 7.93e+003  -1.0 1.98e+003    -  1.25e-005 6.60e-006f  1\n",
      " 128 1.8858014e+008 3.88e+003 7.93e+003  -1.0 2.28e+003    -  1.30e-005 5.53e-006f  1\n",
      " 129 1.8858005e+008 3.88e+003 7.93e+003  -1.0 2.47e+003    -  1.39e-004 1.09e-005f  1\n",
      "iter    objective    inf_pr   inf_du lg(mu)  ||d||  lg(rg) alpha_du alpha_pr  ls\n",
      " 130 1.8858131e+008 3.88e+003 7.93e+003  -1.0 2.93e+003    -  4.30e-005 2.59e-005h  1\n",
      " 131r1.8858131e+008 3.88e+003 9.99e+002   3.6 0.00e+000    -  0.00e+000 1.36e-007R  2\n",
      " 132r1.8858069e+008 3.88e+003 9.99e+002   3.6 3.06e+006    -  8.59e-006 8.99e-007f  1\n",
      " 133r1.8866868e+008 3.88e+003 7.94e+003   1.5 3.90e+004    -  9.54e-003 2.49e-005f  1\n",
      " 134r1.9726771e+008 3.87e+003 1.06e+004   1.5 8.78e+004    -  4.83e-003 1.29e-003f  1\n",
      " 135r2.2211228e+008 3.81e+003 8.13e+003   1.5 7.82e+004    -  1.67e-003 4.90e-003f  1\n",
      " 136r2.3358055e+008 3.78e+003 1.08e+004   1.5 7.04e+004    -  6.60e-003 2.91e-003f  1\n",
      " 137r2.4368708e+008 3.74e+003 8.36e+003   1.5 5.80e+004    -  8.14e-005 3.44e-003f  1\n",
      " 138r2.4678471e+008 3.72e+003 1.05e+005   1.5 5.52e+004    -  1.34e-001 1.11e-003f  1\n",
      " 139r2.7337097e+008 3.49e+003 9.05e+004   1.5 4.11e+004    -  8.02e-004 2.14e-002f  1\n",
      "iter    objective    inf_pr   inf_du lg(mu)  ||d||  lg(rg) alpha_du alpha_pr  ls\n",
      " 140r3.2181008e+008 3.20e+003 6.61e+005   1.5 3.93e+004    -  1.00e+000 2.80e-002f  1\n",
      " 141 3.2180108e+008 3.20e+003 8.84e+003  -1.0 3.59e+003    -  2.09e-006 6.82e-005f  1\n",
      " 142 3.2179763e+008 3.20e+003 8.84e+003  -1.0 3.78e+003    -  3.00e-005 2.03e-005f  1\n",
      " 143 3.2179755e+008 3.20e+003 8.84e+003  -1.0 3.93e+003    -  6.08e-006 3.85e-007f  1\n",
      " 144 3.2179264e+008 3.20e+003 8.84e+003  -1.0 3.70e+003    -  4.64e-006 2.44e-005f  1\n",
      " 145 3.2179213e+008 3.20e+003 8.84e+003  -1.0 3.17e+003    -  5.57e-005 3.34e-006f  1\n",
      " 146 3.2178940e+008 3.20e+003 8.84e+003  -1.0 3.09e+003    -  6.10e-005 1.90e-005f  1\n",
      " 147 3.2178937e+008 3.20e+003 8.84e+003  -1.0 3.06e+003    -  1.98e-005 2.33e-007f  1\n",
      " 148 3.2178467e+008 3.20e+003 8.84e+003  -1.0 2.86e+003    -  1.05e-004 3.75e-005f  1\n",
      " 149 3.2178462e+008 3.20e+003 8.84e+003  -1.0 2.84e+003    -  1.01e-004 3.65e-007f  1\n",
      "iter    objective    inf_pr   inf_du lg(mu)  ||d||  lg(rg) alpha_du alpha_pr  ls\n",
      " 150 3.2178462e+008 3.20e+003 8.84e+003  -1.0 4.68e+003    -  1.50e-004 2.56e-006f  1\n",
      " 151 3.2178647e+008 3.20e+003 8.84e+003  -1.0 4.87e+003    -  1.72e-004 1.71e-004h  1\n",
      " 152 3.2178739e+008 3.20e+003 3.42e+004  -1.0 5.16e+003    -  6.22e-003 3.13e-005h  1\n",
      " 153 3.2181371e+008 3.20e+003 3.44e+004  -1.0 5.64e+003    -  5.29e-004 4.76e-004h  1\n",
      " 154 3.2187110e+008 3.20e+003 2.95e+005  -1.0 5.63e+003    -  4.99e-002 1.01e-003h  1\n",
      " 155 3.2202394e+008 3.19e+003 2.95e+005  -1.0 3.24e+003    -  1.21e-003 1.08e-003h  1\n",
      " 156 3.2235179e+008 3.18e+003 2.84e+005  -1.0 3.37e+003    -  3.70e-005 2.31e-003h  1\n",
      " 157 3.2293847e+008 3.17e+003 2.77e+005  -1.0 3.44e+003    -  2.89e-003 4.15e-003h  1\n",
      " 158 3.2294657e+008 3.17e+003 2.77e+005  -1.0 3.39e+003    -  2.86e-005 5.72e-005h  1\n",
      " 159 3.2310792e+008 3.17e+003 2.69e+005  -1.0 4.99e+003    -  1.27e-006 1.53e-003h  1\n",
      "iter    objective    inf_pr   inf_du lg(mu)  ||d||  lg(rg) alpha_du alpha_pr  ls\n",
      " 160 3.2311140e+008 3.17e+003 2.70e+005  -1.0 4.07e+003    -  1.64e-004 2.81e-005h  1\n",
      " 161 3.2312219e+008 3.17e+003 4.80e+005  -1.0 3.42e+003    -  4.48e-002 7.61e-005h  1\n",
      " 162 3.2315441e+008 3.17e+003 4.95e+006  -1.0 3.17e+003    -  1.00e+000 2.23e-004h  1\n",
      " 163 5.7778198e+008 3.75e+001 5.87e+004  -1.0 3.17e+003    -  1.00e+000 9.88e-001h  1\n",
      " 164 5.8215146e+008 3.61e-001 5.64e+002  -1.0 3.76e+001    -  1.00e+000 9.90e-001h  1\n",
      " 165 5.8219391e+008 7.72e-004 1.21e+000  -1.7 3.61e-001    -  1.00e+000 9.98e-001h  1\n",
      " 166 5.8219400e+008 9.09e-013 4.72e-009  -5.7 7.57e-004    -  1.00e+000 1.00e+000h  1\n",
      "\n",
      "Number of Iterations....: 166\n",
      "\n",
      "                                   (scaled)                 (unscaled)\n",
      "Objective...............:  5.8219400131825066e+008   5.8219400131825066e+008\n",
      "Dual infeasibility......:  4.7231545046572121e-009   4.7231545046572121e-009\n",
      "Constraint violation....:  9.0949470177292824e-013   9.0949470177292824e-013\n",
      "Complementarity.........:  1.9390832869431817e-006   1.9390832869431817e-006\n",
      "Overall NLP error.......:  2.1201886154359347e-010   1.9390832869431817e-006\n",
      "\n",
      "\n",
      "Number of objective function evaluations             = 183\n",
      "Number of objective gradient evaluations             = 67\n",
      "Number of equality constraint evaluations            = 183\n",
      "Number of inequality constraint evaluations          = 0\n",
      "Number of equality constraint Jacobian evaluations   = 170\n",
      "Number of inequality constraint Jacobian evaluations = 0\n",
      "Number of Lagrangian Hessian evaluations             = 166\n",
      "Total CPU secs in IPOPT (w/o function evaluations)   =      0.909\n",
      "Total CPU secs in NLP function evaluations           =      0.073\n",
      "\n",
      "EXIT: Optimal Solution Found.\n",
      "           S  :   t_proc      (avg)   t_wall      (avg)    n_eval\n",
      "       nlp_f  |   5.00ms ( 27.32us)   5.01ms ( 27.37us)       183\n",
      "       nlp_g  |   6.00ms ( 32.79us)   6.00ms ( 32.80us)       183\n",
      "    nlp_grad  |        0 (       0)        0 (       0)         1\n",
      "  nlp_grad_f  |   2.00ms ( 29.41us)   2.00ms ( 29.43us)        68\n",
      "  nlp_hess_l  |   1.00ms (  6.13us) 973.00us (  5.97us)       163\n",
      "   nlp_jac_g  |  54.00ms (315.79us)  53.91ms (315.25us)       171\n",
      "       total  | 983.00ms (983.00ms) 983.00ms (983.00ms)         1\n"
     ]
    }
   ],
   "source": [
    "r = S_msm(p=opt_p_num,lbx=lbx,ubx=ubx,lbg=0,ubg=0)\n",
    "# Extract solution\n",
    "opt_x_num.master = r['x'] \n",
    "u_N = horzcat(*opt_x_num['u_N']).full().T\n",
    "y_N = horzcat(*opt_x_num['y_N']).full().T"
   ]
  },
  {
   "cell_type": "code",
   "execution_count": 55,
   "metadata": {},
   "outputs": [
    {
     "name": "stdout",
     "output_type": "stream",
     "text": [
      "This is Ipopt version 3.12.3, running with linear solver mumps.\n",
      "NOTE: Other linear solvers might be more efficient (see Ipopt documentation).\n",
      "\n",
      "Number of nonzeros in equality constraint Jacobian...:    46480\n",
      "Number of nonzeros in inequality constraint Jacobian.:        0\n",
      "Number of nonzeros in Lagrangian Hessian.............:      280\n",
      "\n",
      "Total number of variables............................:      430\n",
      "                     variables with only lower bounds:        0\n",
      "                variables with lower and upper bounds:       80\n",
      "                     variables with only upper bounds:        0\n",
      "Total number of equality constraints.................:      308\n",
      "Total number of inequality constraints...............:        0\n",
      "        inequality constraints with only lower bounds:        0\n",
      "   inequality constraints with lower and upper bounds:        0\n",
      "        inequality constraints with only upper bounds:        0\n",
      "\n",
      "iter    objective    inf_pr   inf_du lg(mu)  ||d||  lg(rg) alpha_du alpha_pr  ls\n",
      "   0 0.0000000e+000 1.11e+003 0.00e+000  -1.0 0.00e+000    -  0.00e+000 0.00e+000   0\n",
      "   1 1.2522227e+001 1.11e+003 3.45e-003  -1.0 1.21e+003    -  2.01e-003 2.02e-003h  1\n",
      "   2 2.0001934e+001 1.11e+003 1.32e+001  -1.0 1.21e+003    -  3.81e-003 4.95e-004h  1\n",
      "   3 8.2617880e+001 1.11e+003 1.07e+001  -1.0 1.31e+003    -  1.76e-003 2.17e-003h  1\n",
      "   4 9.5263529e+001 1.11e+003 2.76e+001  -1.0 1.30e+003    -  1.32e-003 2.92e-004h  1\n",
      "   5 2.1494109e+002 1.11e+003 7.96e+000  -1.0 1.40e+003    -  5.95e-004 1.98e-003h  1\n",
      "   6 2.6138610e+002 1.11e+003 1.36e+001  -1.0 1.40e+003    -  9.59e-004 5.87e-004h  1\n",
      "   7 3.2546683e+002 1.11e+003 2.90e+001  -1.0 1.40e+003    -  1.69e-003 7.21e-004h  1\n",
      "   8 3.4544348e+002 1.11e+003 4.22e+001  -1.0 1.47e+003    -  5.78e-004 2.03e-004h  1\n",
      "   9 5.4614090e+002 1.10e+003 6.17e+000  -1.0 1.49e+003    -  3.62e-004 1.72e-003h  1\n",
      "iter    objective    inf_pr   inf_du lg(mu)  ||d||  lg(rg) alpha_du alpha_pr  ls\n",
      "  10 5.6591204e+002 1.10e+003 1.82e+001  -1.0 1.49e+003    -  4.89e-004 1.46e-004h  1\n",
      "  11 8.3935138e+002 1.10e+003 1.99e+001  -1.0 1.49e+003    -  3.94e-004 1.77e-003h  1\n",
      "  12 8.4616611e+002 1.10e+003 6.10e+000  -1.0 1.49e+003    -  3.98e-004 3.92e-005h  1\n",
      "  13 9.8556680e+002 1.10e+003 3.46e+001  -1.0 1.58e+003    -  2.24e-005 7.53e-004h  1\n",
      "  14 1.2169087e+003 1.10e+003 1.02e+001  -1.0 1.58e+003    -  2.13e-003 1.11e-003h  1\n",
      "  15 1.3600425e+003 1.10e+003 6.76e+000  -1.0 1.58e+003    -  5.50e-004 6.21e-004h  1\n",
      "  16 1.7484821e+003 1.10e+003 4.60e+001  -1.0 1.58e+003    -  3.46e-004 1.50e-003h  1\n",
      "  17 1.9614563e+003 1.10e+003 2.14e+002  -1.0 1.58e+003    -  6.18e-003 7.40e-004h  1\n",
      "  18 1.9836705e+003 1.10e+003 2.90e+002  -1.0 1.63e+003    -  5.39e-004 7.41e-005h  1\n",
      "  19 2.6366555e+003 1.09e+003 1.13e+002  -1.0 1.67e+003    -  2.06e-005 1.93e-003h  1\n",
      "iter    objective    inf_pr   inf_du lg(mu)  ||d||  lg(rg) alpha_du alpha_pr  ls\n",
      "  20 3.2325607e+003 1.09e+003 1.15e+002  -1.0 1.67e+003    -  1.55e-003 1.52e-003h  1\n",
      "  21 3.6374849e+003 1.09e+003 9.15e+001  -1.0 1.67e+003    -  5.93e-004 9.36e-004h  1\n",
      "  22 4.1787802e+003 1.09e+003 1.30e+002  -1.0 1.66e+003    -  1.71e-003 1.16e-003h  1\n",
      "  23 4.1981566e+003 1.09e+003 2.60e+002  -1.0 1.66e+003    -  9.23e-004 3.95e-005h  1\n",
      "  24 4.5005650e+003 1.09e+003 1.44e+002  -1.0 1.76e+003    -  5.40e-006 5.88e-004h  1\n",
      "  25 5.0998014e+003 1.09e+003 4.41e+001  -1.0 1.76e+003    -  3.24e-005 1.10e-003h  1\n",
      "  26 5.6121567e+003 1.09e+003 4.13e+002  -1.0 1.76e+003    -  4.77e-003 8.81e-004h  1\n",
      "  27 6.1353023e+003 1.09e+003 3.66e+002  -1.0 1.75e+003    -  4.03e-004 8.47e-004h  1\n",
      "  28 7.4625909e+003 1.08e+003 2.21e+002  -1.0 1.75e+003    -  4.88e-004 1.97e-003h  1\n",
      "  29 7.7510435e+003 1.08e+003 4.42e+002  -1.0 1.75e+003    -  2.53e-003 4.00e-004h  1\n",
      "iter    objective    inf_pr   inf_du lg(mu)  ||d||  lg(rg) alpha_du alpha_pr  ls\n",
      "  30 7.7840145e+003 1.08e+003 5.85e+002  -1.0 1.81e+003    -  5.10e-004 4.45e-005h  1\n",
      "  31 8.5865090e+003 1.08e+003 3.54e+002  -1.0 1.84e+003    -  9.61e-006 1.04e-003h  1\n",
      "  32 1.0270670e+004 1.08e+003 1.09e+002  -1.0 1.84e+003    -  8.88e-005 2.00e-003h  1\n",
      "  33 1.0628831e+004 1.08e+003 4.18e+002  -1.0 1.84e+003    -  2.74e-003 3.99e-004h  1\n",
      "  34 1.2188015e+004 1.08e+003 3.38e+002  -1.0 1.84e+003    -  1.06e-003 1.64e-003h  1\n",
      "  35 1.3071463e+004 1.08e+003 9.20e+002  -1.0 1.83e+003    -  5.06e-003 8.75e-004h  1\n",
      "  36 1.3243715e+004 1.08e+003 1.48e+003  -1.0 1.83e+003    -  2.83e-003 1.66e-004h  1\n",
      "  37 1.6743823e+004 1.07e+003 8.18e+002  -1.0 1.92e+003    -  3.16e-005 3.05e-003h  1\n",
      "  38 1.7717642e+004 1.07e+003 1.09e+003  -1.0 1.92e+003    -  2.34e-003 7.77e-004h  1\n",
      "  39 1.7852050e+004 1.07e+003 1.17e+003  -1.0 1.92e+003    -  5.34e-004 1.05e-004h  1\n",
      "iter    objective    inf_pr   inf_du lg(mu)  ||d||  lg(rg) alpha_du alpha_pr  ls\n",
      "  40 1.9696585e+004 1.07e+003 1.02e+003  -1.0 1.92e+003    -  5.73e-004 1.39e-003h  1\n",
      "  41 2.1437233e+004 1.07e+003 1.09e+003  -1.0 1.92e+003    -  1.62e-003 1.24e-003h  1\n",
      "  42 2.1463759e+004 1.07e+003 1.63e+003  -1.0 1.91e+003    -  1.77e-003 1.84e-005h  1\n",
      "  43 2.2367772e+004 1.07e+003 1.29e+003  -1.0 2.30e+003    -  5.42e-006 6.05e-004h  1\n",
      "  44 2.5704322e+004 1.07e+003 8.29e+002  -1.0 2.01e+003    -  9.77e-006 2.12e-003h  1\n",
      "  45 2.6062458e+004 1.07e+003 1.23e+003  -1.0 2.00e+003    -  2.01e-003 2.18e-004h  1\n",
      "  46 2.6958404e+004 1.07e+003 1.30e+003  -1.0 2.00e+003    -  8.50e-004 5.36e-004h  1\n",
      "  47 2.6989159e+004 1.07e+003 1.30e+003  -1.0 2.00e+003    -  3.16e-005 1.82e-005h  1\n",
      "  48 2.9745391e+004 1.06e+003 9.57e+002  -1.0 2.00e+003    -  3.85e-005 1.58e-003h  1\n",
      "  49 3.0236990e+004 1.06e+003 1.59e+003  -1.0 2.00e+003    -  3.03e-003 2.73e-004h  1\n",
      "iter    objective    inf_pr   inf_du lg(mu)  ||d||  lg(rg) alpha_du alpha_pr  ls\n",
      "  50 3.2729545e+004 1.06e+003 1.42e+003  -1.0 2.00e+003    -  6.20e-004 1.34e-003h  1\n",
      "  51 3.2762001e+004 1.06e+003 2.60e+003  -1.0 1.99e+003    -  3.61e-003 1.70e-005h  1\n",
      "  52 3.5135988e+004 1.06e+003 1.97e+003  -1.0 2.09e+003    -  1.00e-005 1.19e-003h  1\n",
      "  53 3.9217151e+004 1.06e+003 1.50e+003  -1.0 2.08e+003    -  2.41e-004 1.94e-003h  1\n",
      "  54 4.0481082e+004 1.06e+003 1.96e+003  -1.0 2.08e+003    -  2.22e-003 5.75e-004h  1\n",
      "  55 4.1291177e+004 1.06e+003 2.56e+003  -1.0 2.08e+003    -  2.49e-003 3.63e-004h  1\n",
      "  56 4.1341764e+004 1.06e+003 2.73e+003  -1.0 2.08e+003    -  5.40e-004 2.25e-005h  1\n",
      "  57 4.5271496e+004 1.06e+003 2.36e+003  -1.0 2.08e+003    -  4.49e-004 1.69e-003h  1\n",
      "  58 4.7798377e+004 1.06e+003 2.95e+003  -1.0 2.07e+003    -  3.03e-003 1.04e-003h  1\n",
      "  59 4.8699737e+004 1.05e+003 3.01e+003  -1.0 2.07e+003    -  5.66e-004 3.63e-004h  1\n",
      "iter    objective    inf_pr   inf_du lg(mu)  ||d||  lg(rg) alpha_du alpha_pr  ls\n",
      "  60 4.8739129e+004 1.05e+003 3.67e+003  -1.0 2.08e+003    -  8.42e-004 1.56e-005h  1\n",
      "  61 4.9338100e+004 1.05e+003 3.48e+003  -1.0 2.18e+003    -  7.99e-006 2.35e-004h  1\n",
      "  62 5.9978306e+004 1.05e+003 2.09e+003  -1.0 2.16e+003    -  3.11e-006 3.89e-003h  1\n",
      "  63 6.0428934e+004 1.05e+003 2.30e+003  -1.0 2.16e+003    -  7.64e-004 1.55e-004h  1\n",
      "  64 6.6182813e+004 1.05e+003 1.89e+003  -1.0 2.15e+003    -  7.37e-004 1.92e-003h  1\n",
      "  65 6.7050163e+004 1.05e+003 2.82e+003  -1.0 2.15e+003    -  2.99e-003 2.81e-004h  1\n",
      "  66 6.8015705e+004 1.05e+003 4.28e+003  -1.0 2.15e+003    -  4.19e-003 3.10e-004h  1\n",
      "  67 6.8509331e+004 1.05e+003 4.68e+003  -1.0 2.60e+003    -  5.16e-004 1.56e-004h  1\n",
      "  68 7.2337469e+004 1.05e+003 3.72e+003  -1.0 2.24e+003    -  9.02e-006 1.17e-003h  1\n",
      "  69 7.8551994e+004 1.04e+003 2.97e+003  -1.0 2.24e+003    -  1.03e-005 1.83e-003h  1\n",
      "iter    objective    inf_pr   inf_du lg(mu)  ||d||  lg(rg) alpha_du alpha_pr  ls\n",
      "  70 7.9232525e+004 1.04e+003 3.68e+003  -1.0 2.23e+003    -  1.89e-003 1.95e-004h  1\n",
      "  71 8.3934765e+004 1.04e+003 3.83e+003  -1.0 2.23e+003    -  1.70e-003 1.32e-003h  1\n",
      "  72 8.4014956e+004 1.04e+003 4.46e+003  -1.0 2.23e+003    -  1.47e-003 2.21e-005h  1\n",
      "  73 9.1565625e+004 1.04e+003 3.87e+003  -1.0 2.23e+003    -  6.75e-004 2.02e-003h  1\n",
      "  74 9.2343042e+004 1.04e+003 4.46e+003  -1.0 2.23e+003    -  1.54e-003 2.02e-004h  1\n",
      "  75 9.5178949e+004 1.04e+003 4.51e+003  -1.0 2.23e+003    -  8.41e-004 7.28e-004h  1\n",
      "  76 9.5238085e+004 1.04e+003 5.63e+003  -1.0 2.22e+003    -  1.25e-003 1.50e-005h  1\n",
      "  77 1.0494835e+005 1.04e+003 3.97e+003  -1.0 2.31e+003    -  2.46e-005 2.35e-003h  1\n",
      "  78 1.1209590e+005 1.04e+003 3.52e+003  -1.0 2.31e+003    -  7.33e-004 1.65e-003h  1\n",
      "  79 1.1247415e+005 1.04e+003 4.79e+003  -1.0 2.31e+003    -  2.62e-003 8.53e-005h  1\n",
      "iter    objective    inf_pr   inf_du lg(mu)  ||d||  lg(rg) alpha_du alpha_pr  ls\n",
      "  80 1.1793100e+005 1.03e+003 5.42e+003  -1.0 2.31e+003    -  2.47e-003 1.21e-003h  1\n",
      "  81 1.2792264e+005 1.03e+003 4.51e+003  -1.0 2.30e+003    -  3.31e-004 2.13e-003h  1\n",
      "  82 1.2803610e+005 1.03e+003 6.67e+003  -1.0 2.30e+003    -  3.91e-003 2.36e-005h  1\n",
      "  83 1.2894048e+005 1.03e+003 7.05e+003  -1.0 2.82e+003    -  4.21e-004 1.85e-004h  1\n",
      "  84 1.3354955e+005 1.03e+003 5.98e+003  -1.0 2.39e+003    -  7.40e-005 9.22e-004h  1\n",
      "  85 1.4440265e+005 1.03e+003 4.61e+003  -1.0 2.39e+003    -  6.48e-006 2.11e-003h  1\n"
     ]
    },
    {
     "name": "stdout",
     "output_type": "stream",
     "text": [
      "  86 1.4451540e+005 1.03e+003 4.94e+003  -1.0 2.38e+003    -  6.03e-004 2.14e-005h  1\n",
      "  87 1.4552065e+005 1.03e+003 7.68e+003  -1.0 2.38e+003    -  4.85e-003 1.90e-004h  1\n",
      "  88 1.5826495e+005 1.03e+003 6.81e+003  -1.0 2.38e+003    -  9.19e-004 2.34e-003h  1\n",
      "  89 1.6237837e+005 1.03e+003 6.85e+003  -1.0 2.37e+003    -  8.04e-004 7.30e-004h  1\n",
      "iter    objective    inf_pr   inf_du lg(mu)  ||d||  lg(rg) alpha_du alpha_pr  ls\n",
      "  90 1.6246871e+005 1.03e+003 8.17e+003  -1.0 2.37e+003    -  2.22e-003 1.59e-005h  1\n",
      "  91 1.7009567e+005 1.02e+003 8.63e+003  -1.0 2.37e+003    -  2.10e-003 1.32e-003h  1\n",
      "  92 1.7187885e+005 1.02e+003 8.79e+003  -1.0 2.37e+003    -  5.68e-004 3.04e-004h  1\n",
      "  93r1.7187885e+005 1.02e+003 1.00e+003   3.0 0.00e+000    -  0.00e+000 4.17e-007R  5\n",
      "  94r1.7483522e+005 1.02e+003 1.25e+003   3.0 8.67e+002    -  2.64e-002 2.46e-003f  1\n",
      "  95r4.0895107e+005 9.25e+002 1.19e+003   0.9 7.47e+002    -  7.31e-002 1.26e-001f  1\n",
      "  96r6.6822817e+005 8.49e+002 1.21e+003   0.9 8.71e+003    -  4.63e-003 8.49e-003f  1\n",
      "  97 6.6831160e+005 8.49e+002 5.31e+002  -1.0 9.47e+002    -  2.34e-004 3.80e-005h  1\n",
      "  98 6.6850584e+005 8.49e+002 5.31e+002  -1.0 1.15e+003    -  3.90e-005 5.16e-005h  1\n",
      "  99 6.6861052e+005 8.49e+002 5.31e+002  -1.0 1.23e+003    -  2.84e-005 2.22e-005h  1\n",
      "iter    objective    inf_pr   inf_du lg(mu)  ||d||  lg(rg) alpha_du alpha_pr  ls\n",
      " 100r6.6861052e+005 8.49e+002 9.99e+002   2.9 0.00e+000    -  0.00e+000 4.35e-007R  4\n",
      " 101r6.6835833e+005 8.49e+002 9.99e+002   2.9 2.78e+004    -  1.77e-004 3.70e-006f  1\n",
      " 102r6.7239210e+005 8.48e+002 9.99e+002   0.8 2.59e+003    -  4.82e-003 4.70e-004f  1\n",
      " 103r7.7350420e+005 8.22e+002 9.97e+002   0.8 1.73e+004    -  2.38e-004 1.50e-003f  1\n",
      " 104r8.2276704e+005 8.10e+002 9.96e+002   0.8 1.76e+004    -  1.34e-003 6.97e-004f  1\n",
      " 105r9.5090030e+005 7.80e+002 9.95e+002   0.8 1.81e+004    -  1.46e-004 1.70e-003f  1\n",
      " 106r1.0239525e+006 7.64e+002 9.94e+002   0.8 1.79e+004    -  4.15e-004 9.20e-004f  1\n",
      " 107 1.0245253e+006 7.64e+002 6.91e+002  -1.0 1.13e+003    -  3.05e-004 1.05e-004h  1\n",
      " 108 1.0252935e+006 7.64e+002 6.91e+002  -1.0 1.54e+003    -  8.22e-005 1.09e-004h  1\n",
      " 109 1.0254954e+006 7.64e+002 6.91e+002  -1.0 1.64e+003    -  1.27e-004 2.76e-005h  1\n",
      "iter    objective    inf_pr   inf_du lg(mu)  ||d||  lg(rg) alpha_du alpha_pr  ls\n",
      " 110 1.0258015e+006 7.64e+002 6.91e+002  -1.0 1.65e+003    -  2.92e-004 3.92e-005h  1\n",
      " 111 1.0259757e+006 7.64e+002 6.91e+002  -1.0 1.75e+003    -  2.77e-004 2.20e-005h  1\n",
      " 112 1.0261182e+006 7.64e+002 6.91e+002  -1.0 1.76e+003    -  2.64e-004 1.77e-005h  1\n",
      " 113 1.0265161e+006 7.64e+002 6.91e+002  -1.0 1.83e+003    -  5.37e-004 4.59e-005h  1\n",
      " 114 1.0268864e+006 7.64e+002 6.91e+002  -1.0 1.86e+003    -  1.16e-004 4.25e-005h  1\n",
      " 115 1.0270043e+006 7.64e+002 6.97e+002  -1.0 1.87e+003    -  1.36e-003 1.34e-005h  1\n",
      " 116 1.0278959e+006 7.63e+002 6.94e+002  -1.0 1.93e+003    -  8.51e-005 9.39e-005h  1\n",
      " 117r1.0278959e+006 7.63e+002 9.99e+002   2.9 0.00e+000    -  0.00e+000 2.69e-007R  4\n",
      " 118r1.0277873e+006 7.63e+002 9.99e+002   2.9 3.61e+004    -  3.86e-005 3.05e-006f  1\n",
      " 119r1.0506870e+006 7.58e+002 9.97e+002   0.8 3.75e+003    -  1.06e-003 1.56e-003f  1\n",
      "iter    objective    inf_pr   inf_du lg(mu)  ||d||  lg(rg) alpha_du alpha_pr  ls\n",
      " 120r1.1543158e+006 7.35e+002 9.97e+002   0.8 2.55e+004    -  2.02e-005 9.11e-004f  1\n",
      " 121r1.1705278e+006 7.32e+002 9.96e+002   0.8 2.57e+004    -  1.54e-003 1.39e-004f  1\n",
      " 122r1.3360593e+006 6.98e+002 9.95e+002   0.8 2.54e+004    -  7.98e-004 1.37e-003f  1\n",
      " 123r1.3847476e+006 6.89e+002 9.95e+002   0.8 2.20e+004    -  6.24e-005 3.93e-004f  1\n",
      " 124r1.5068173e+006 6.66e+002 9.94e+002   0.8 2.51e+004    -  3.30e-004 9.67e-004f  1\n",
      " 125 1.5083638e+006 6.65e+002 8.74e+002  -1.0 1.83e+003    -  6.09e-005 1.37e-004h  1\n",
      " 126 1.5122506e+006 6.65e+002 8.74e+002  -1.0 1.86e+003    -  2.96e-005 3.80e-004h  1\n",
      " 127 1.5165745e+006 6.65e+002 8.73e+002  -1.0 1.87e+003    -  5.18e-004 4.19e-004h  1\n",
      " 128 1.5192196e+006 6.65e+002 2.19e+003  -1.0 1.87e+003    -  5.06e-003 2.42e-004h  1\n",
      " 129 1.5194326e+006 6.65e+002 2.54e+003  -1.0 1.87e+003    -  6.80e-004 1.77e-005h  1\n",
      "iter    objective    inf_pr   inf_du lg(mu)  ||d||  lg(rg) alpha_du alpha_pr  ls\n",
      " 130 1.5465375e+006 6.63e+002 1.70e+003  -1.0 1.99e+003    -  2.60e-004 2.21e-003h  1\n",
      " 131 1.5545154e+006 6.63e+002 2.59e+003  -1.0 2.00e+003    -  2.69e-003 6.43e-004h  1\n",
      " 132 1.5689793e+006 6.62e+002 3.19e+003  -1.0 2.00e+003    -  2.54e-003 1.16e-003h  1\n",
      " 133 1.5783519e+006 6.62e+002 3.55e+003  -1.0 2.00e+003    -  1.55e-003 7.44e-004h  1\n",
      " 134r1.5783519e+006 6.62e+002 9.99e+002   2.8 0.00e+000    -  0.00e+000 4.64e-007R  5\n",
      " 135r1.5847569e+006 6.58e+002 9.99e+002   2.8 1.55e+004    -  2.53e-005 2.14e-004f  1\n",
      " 136r1.5890949e+006 6.57e+002 1.02e+003   0.7 4.98e+003    -  1.78e-002 1.81e-004f  1\n",
      " 137r1.6145827e+006 6.53e+002 1.02e+003   0.7 2.63e+004    -  1.75e-003 1.54e-004f  1\n",
      " 138r2.1855681e+006 5.75e+002 1.02e+003   0.7 2.52e+004    -  2.06e-003 3.21e-003f  1\n",
      " 139r2.1855681e+006 5.75e+002 9.99e+002   2.7 0.00e+000    -  0.00e+000 3.04e-007R  6\n",
      "iter    objective    inf_pr   inf_du lg(mu)  ||d||  lg(rg) alpha_du alpha_pr  ls\n",
      " 140r2.1824593e+006 5.75e+002 9.99e+002   2.7 2.44e+004    -  3.01e-005 1.91e-005f  1\n",
      " 141r2.2106867e+006 5.70e+002 9.98e+002   0.6 6.65e+003    -  2.55e-004 8.16e-004f  1\n",
      " 142r2.3731811e+006 5.43e+002 9.98e+002   0.6 4.41e+004    -  9.37e-005 6.38e-004f  1\n",
      " 143r2.5996059e+006 5.06e+002 9.97e+002   0.6 4.44e+004    -  3.81e-004 8.69e-004f  1\n",
      " 144 2.5996996e+006 5.06e+002 1.17e+003  -1.0 6.73e+002    -  2.32e-003 3.71e-005h  1\n",
      " 145 2.6010700e+006 5.06e+002 1.17e+003  -1.0 1.08e+003    -  4.09e-004 2.33e-004h  1\n",
      " 146 2.6011770e+006 5.06e+002 1.17e+003  -1.0 1.16e+003    -  1.39e-003 1.58e-005h  1\n",
      " 147 2.6045467e+006 5.06e+002 1.17e+003  -1.0 1.28e+003    -  7.81e-004 4.42e-004h  1\n",
      " 148 2.6071770e+006 5.06e+002 1.17e+003  -1.0 1.42e+003    -  1.14e-003 3.16e-004h  1\n",
      " 149 2.6077578e+006 5.05e+002 1.17e+003  -1.0 1.46e+003    -  7.91e-004 6.00e-005h  1\n",
      "iter    objective    inf_pr   inf_du lg(mu)  ||d||  lg(rg) alpha_du alpha_pr  ls\n",
      " 150 2.6087368e+006 5.05e+002 1.17e+003  -1.0 1.55e+003    -  1.22e-003 9.85e-005h  1\n",
      " 151 2.6092454e+006 5.05e+002 1.17e+003  -1.0 1.57e+003    -  1.46e-003 4.94e-005h  1\n",
      " 152 2.6099022e+006 5.05e+002 1.17e+003  -1.0 1.58e+003    -  1.37e-004 6.02e-005h  1\n",
      " 153 2.6102503e+006 5.05e+002 1.17e+003  -1.0 1.58e+003    -  1.06e-003 3.16e-005h  1\n",
      " 154 2.6108049e+006 5.05e+002 1.27e+003  -1.0 1.58e+003    -  8.05e-004 4.84e-005h  1\n",
      " 155 2.6113727e+006 5.05e+002 1.61e+003  -1.0 1.59e+003    -  1.50e-003 4.83e-005h  1\n",
      " 156 2.6131339e+006 5.05e+002 2.71e+003  -1.0 1.59e+003    -  4.65e-003 1.45e-004h  1\n",
      " 157 2.6151880e+006 5.05e+002 3.71e+003  -1.0 1.60e+003    -  3.88e-003 1.62e-004h  1\n",
      " 158 2.6454407e+006 5.04e+002 3.67e+003  -1.0 1.60e+003    -  2.22e-003 2.34e-003h  1\n",
      " 159 2.6518562e+006 5.04e+002 4.88e+003  -1.0 1.68e+003    -  3.41e-003 4.66e-004h  1\n",
      "iter    objective    inf_pr   inf_du lg(mu)  ||d||  lg(rg) alpha_du alpha_pr  ls\n",
      " 160 2.6703194e+006 5.03e+002 5.35e+003  -1.0 1.72e+003    -  2.73e-003 1.33e-003h  1\n",
      " 161 2.6800151e+006 5.03e+002 5.32e+003  -1.0 1.72e+003    -  6.04e-004 6.96e-004h  1\n",
      " 162 2.6958921e+006 5.02e+002 4.95e+003  -1.0 1.72e+003    -  5.60e-005 1.14e-003h  1\n",
      " 163 2.6960561e+006 5.02e+002 5.38e+003  -1.0 1.72e+003    -  1.28e-003 1.17e-005h  1\n",
      " 164 2.6968072e+006 5.02e+002 5.40e+003  -1.0 1.72e+003    -  1.03e-004 5.35e-005h  1\n",
      " 165 2.7585693e+006 5.00e+002 3.96e+003  -1.0 1.72e+003    -  3.61e-004 4.36e-003h  1\n",
      " 166 2.7635810e+006 5.00e+002 4.71e+003  -1.0 1.71e+003    -  2.52e-003 3.52e-004h  1\n",
      " 167 2.7771103e+006 4.99e+002 4.76e+003  -1.0 1.71e+003    -  1.11e-003 9.47e-004h  1\n",
      " 168r2.7771103e+006 4.99e+002 1.00e+003   2.7 0.00e+000    -  0.00e+000 3.00e-007R  6\n",
      " 169r2.7973273e+006 4.93e+002 1.23e+003   2.7 1.64e+004    -  9.39e-003 3.89e-004f  1\n",
      "iter    objective    inf_pr   inf_du lg(mu)  ||d||  lg(rg) alpha_du alpha_pr  ls\n",
      " 170r2.8720357e+006 4.83e+002 1.08e+003   1.3 6.24e+003    -  3.68e-002 1.72e-003f  1\n",
      " 171r4.6075122e+006 3.12e+002 1.07e+003   0.6 1.89e+004    -  2.51e-003 1.05e-002f  1\n",
      " 172 4.6075730e+006 3.12e+002 1.54e+003  -1.0 6.10e+002    -  1.36e-003 1.58e-005h  1\n",
      " 173 4.6077107e+006 3.12e+002 1.54e+003  -1.0 1.22e+003    -  6.06e-003 1.13e-005h  1\n",
      " 174 4.6079747e+006 3.12e+002 2.44e+003  -1.0 1.62e+003    -  3.03e-003 1.67e-005h  1\n",
      " 175 4.6174921e+006 3.12e+002 2.24e+003  -1.0 1.62e+003    -  1.19e-005 5.94e-004h  1\n",
      " 176 4.6379483e+006 3.11e+002 2.54e+003  -1.0 1.62e+003    -  2.15e-003 1.27e-003h  1\n",
      " 177 4.6544954e+006 3.11e+002 2.67e+003  -1.0 1.62e+003    -  1.40e-003 1.02e-003h  1\n",
      " 178 4.6674477e+006 3.11e+002 2.85e+003  -1.0 1.62e+003    -  1.30e-003 7.94e-004h  1\n",
      " 179 4.7018428e+006 3.10e+002 2.56e+003  -1.0 1.62e+003    -  1.31e-003 2.10e-003h  1\n",
      "iter    objective    inf_pr   inf_du lg(mu)  ||d||  lg(rg) alpha_du alpha_pr  ls\n",
      " 180 4.7096913e+006 3.10e+002 2.61e+003  -1.0 1.62e+003    -  6.08e-004 4.76e-004h  1\n",
      " 181 4.7187432e+006 3.10e+002 2.49e+003  -1.0 1.62e+003    -  2.24e-004 5.47e-004h  1\n",
      " 182 4.7189512e+006 3.10e+002 3.06e+003  -1.0 1.63e+003    -  4.61e-004 1.20e-005h  1\n",
      " 183 4.7658716e+006 3.09e+002 1.86e+003  -1.0 1.75e+003    -  1.03e-004 2.70e-003h  1\n"
     ]
    },
    {
     "name": "stdout",
     "output_type": "stream",
     "text": [
      " 184 4.7699309e+006 3.09e+002 1.83e+003  -1.0 1.74e+003    -  1.82e-004 2.34e-004h  1\n",
      " 185 4.7786318e+006 3.09e+002 2.15e+003  -1.0 1.74e+003    -  1.23e-003 5.00e-004h  1\n",
      " 186 4.8246310e+006 3.08e+002 1.52e+003  -1.0 1.74e+003    -  1.10e-003 2.63e-003h  1\n",
      " 187 4.8260537e+006 3.08e+002 1.61e+003  -1.0 1.74e+003    -  3.66e-004 8.10e-005h  1\n",
      " 188 4.8896149e+006 3.07e+002 1.52e+003  -1.0 1.74e+003    -  2.03e-004 3.59e-003h  1\n",
      " 189 4.8950851e+006 3.07e+002 4.97e+003  -1.0 1.73e+003    -  1.14e-002 3.08e-004h  1\n",
      "iter    objective    inf_pr   inf_du lg(mu)  ||d||  lg(rg) alpha_du alpha_pr  ls\n",
      " 190 4.9291160e+006 3.06e+002 4.39e+003  -1.0 1.73e+003    -  6.57e-004 1.91e-003h  1\n",
      " 191 4.9380482e+006 3.06e+002 4.18e+003  -1.0 1.73e+003    -  3.70e-005 4.97e-004h  1\n",
      " 192r4.9380482e+006 3.06e+002 9.99e+002   2.5 0.00e+000    -  0.00e+000 2.64e-007R  6\n",
      " 193r5.5231947e+006 2.51e+002 1.04e+003   2.5 9.71e+003    -  1.06e-003 6.01e-003f  1\n",
      " 194 5.5231980e+006 2.51e+002 1.66e+003  -1.0 4.75e+002    -  3.97e-004 3.10e-005h  1\n",
      " 195 5.5233280e+006 2.51e+002 1.66e+003  -1.0 8.37e+002    -  1.24e-004 2.08e-005h  1\n",
      " 196r5.5233280e+006 2.51e+002 9.99e+002   2.4 0.00e+000    -  0.00e+000 3.41e-007R  5\n",
      " 197r5.4955814e+006 2.48e+002 9.99e+002   2.4 3.27e+004    -  7.56e-005 1.78e-004f  1\n",
      " 198r5.5544522e+006 2.42e+002 9.98e+002   1.0 1.21e+004    -  8.47e-004 5.68e-004f  1\n",
      " 199r5.6077116e+006 2.36e+002 9.98e+002   1.0 2.72e+004    -  1.82e-004 2.02e-004f  1\n",
      "iter    objective    inf_pr   inf_du lg(mu)  ||d||  lg(rg) alpha_du alpha_pr  ls\n",
      " 200r5.8218985e+006 2.16e+002 9.97e+002   1.0 2.58e+004    -  1.17e-003 8.57e-004f  1\n",
      " 201 5.8218483e+006 2.16e+002 1.72e+003  -1.0 4.90e+002    -  2.30e-003 4.06e-005f  1\n",
      " 202 5.8223931e+006 2.16e+002 1.72e+003  -1.0 8.60e+002    -  3.38e-003 1.24e-004h  1\n",
      " 203 5.8231010e+006 2.16e+002 1.72e+003  -1.0 1.13e+003    -  1.76e-003 1.13e-004h  1\n",
      " 204 5.8238610e+006 2.16e+002 1.72e+003  -1.0 1.14e+003    -  9.59e-004 9.95e-005h  1\n",
      " 205 5.8277660e+006 2.16e+002 1.72e+003  -1.0 1.22e+003    -  8.97e-004 4.90e-004h  1\n",
      " 206r5.8277660e+006 2.16e+002 9.99e+002   2.3 0.00e+000    -  0.00e+000 3.11e-007R  5\n",
      " 207r5.8344045e+006 2.14e+002 9.99e+002   2.3 1.24e+004    -  2.19e-003 1.82e-004f  1\n",
      " 208r5.9949878e+006 1.97e+002 9.97e+002   0.9 9.74e+003    -  3.49e-003 1.83e-003f  1\n",
      " 209r6.5616886e+006 1.47e+002 9.92e+002   0.9 1.07e+004    -  4.19e-003 4.78e-003f  1\n",
      "iter    objective    inf_pr   inf_du lg(mu)  ||d||  lg(rg) alpha_du alpha_pr  ls\n",
      " 210 6.5617090e+006 1.47e+002 1.85e+003  -1.0 4.80e+002    -  3.95e-003 2.23e-005h  1\n",
      " 211 6.5639464e+006 1.47e+002 1.85e+003  -1.0 1.07e+003    -  7.40e-004 2.97e-004h  1\n",
      " 212 6.5711490e+006 1.47e+002 1.85e+003  -1.0 1.24e+003    -  1.70e-003 8.89e-004h  1\n",
      " 213 6.5773915e+006 1.47e+002 1.85e+003  -1.0 1.28e+003    -  1.01e-003 6.98e-004h  1\n",
      " 214 6.5798669e+006 1.47e+002 1.85e+003  -1.0 1.28e+003    -  3.45e-004 2.01e-004h  1\n",
      " 215r6.5798669e+006 1.47e+002 9.99e+002   2.1 0.00e+000    -  0.00e+000 4.01e-007R  5\n",
      " 216r6.5795641e+006 1.47e+002 9.99e+002   2.1 6.13e+003    -  1.55e-003 2.96e-005f  1\n",
      " 217r6.9653867e+006 1.40e+002 9.84e+002   0.7 1.94e+003    -  9.19e-003 1.55e-002f  1\n",
      " 218r7.6326715e+006 1.43e+002 9.81e+002   0.7 1.99e+004    -  1.17e-003 2.88e-003f  1\n",
      " 219r8.0734635e+006 1.46e+002 9.79e+002   0.7 1.39e+004    -  5.75e-004 2.90e-003f  1\n",
      "iter    objective    inf_pr   inf_du lg(mu)  ||d||  lg(rg) alpha_du alpha_pr  ls\n",
      " 220r8.3238995e+006 1.47e+002 9.74e+002   0.7 5.20e+003    -  8.61e-003 3.50e-003f  1\n",
      " 221r8.3496618e+006 1.46e+002 9.73e+002   0.7 1.09e+003    -  7.16e-003 1.63e-003f  1\n",
      " 222r8.4702841e+006 1.45e+002 9.65e+002   0.7 1.09e+003    -  4.46e-002 7.79e-003f  1\n",
      " 223r8.4910299e+006 1.45e+002 9.63e+002   0.7 4.81e+002    -  1.12e-002 2.77e-003f  1\n",
      " 224r8.6575314e+006 1.42e+002 9.50e+002   0.7 8.98e+002    -  8.61e-003 1.32e-002f  1\n",
      " 225r8.8258736e+006 1.39e+002 9.38e+002   0.7 8.75e+002    -  2.48e-002 1.29e-002f  1\n",
      " 226r1.0624548e+007 1.08e+002 9.02e+002   0.7 2.85e+003    -  1.47e-003 3.85e-002f  1\n",
      " 227 1.0624764e+007 1.08e+002 2.36e+003  -1.0 9.28e+002    -  1.54e-004 2.56e-005h  1\n",
      " 228 1.0626027e+007 1.08e+002 2.36e+003  -1.0 1.06e+003    -  7.52e-004 1.10e-004h  1\n",
      " 229 1.0626575e+007 1.08e+002 2.36e+003  -1.0 1.13e+003    -  1.27e-004 4.33e-005h  1\n",
      "iter    objective    inf_pr   inf_du lg(mu)  ||d||  lg(rg) alpha_du alpha_pr  ls\n",
      " 230 1.0626921e+007 1.08e+002 2.36e+003  -1.0 1.14e+003    -  9.60e-004 2.68e-005h  1\n",
      " 231 1.0627775e+007 1.08e+002 2.36e+003  -1.0 1.16e+003    -  4.90e-005 6.11e-005h  1\n",
      " 232 1.0627982e+007 1.08e+002 2.36e+003  -1.0 1.16e+003    -  5.69e-004 1.47e-005h  1\n",
      " 233 1.0628896e+007 1.08e+002 2.36e+003  -1.0 1.16e+003    -  8.72e-005 6.26e-005h  1\n",
      " 234r1.0628896e+007 1.08e+002 9.99e+002   2.0 0.00e+000    -  0.00e+000 3.73e-007R  5\n",
      " 235r1.0628660e+007 1.08e+002 9.99e+002   2.0 8.57e+003    -  6.99e-004 4.51e-006f  1\n",
      " 236r1.1141625e+007 1.24e+002 9.71e+002   0.6 1.02e+003    -  2.34e-002 2.83e-002f  1\n",
      " 237r1.1200917e+007 1.24e+002 9.61e+002   0.6 3.96e+002    -  6.88e-002 1.03e-002f  1\n",
      " 238r1.1407651e+007 1.23e+002 9.18e+002   0.6 3.46e+002    -  3.53e-002 4.44e-002f  1\n",
      " 239r1.1597788e+007 1.22e+002 8.76e+002   0.6 3.05e+002    -  2.41e-001 4.64e-002f  1\n",
      "iter    objective    inf_pr   inf_du lg(mu)  ||d||  lg(rg) alpha_du alpha_pr  ls\n",
      " 240r1.2102751e+007 1.18e+002 7.61e+002   0.6 2.92e+002    -  8.37e-002 1.31e-001f  1\n",
      " 241r1.2425686e+007 1.16e+002 6.92e+002   0.6 2.53e+002    -  5.73e-002 9.09e-002f  1\n",
      " 242r1.2640954e+007 1.15e+002 6.59e+002   0.6 2.62e+002    -  4.59e-002 4.73e-002f  1\n",
      " 243r1.2813235e+007 1.14e+002 6.31e+002   0.6 2.30e+002    -  1.90e-001 4.23e-002f  1\n",
      " 244r1.3018250e+007 1.12e+002 5.65e+002   0.6 1.39e+002    -  3.63e-001 1.04e-001f  1\n",
      " 245r1.3746156e+007 1.07e+002 2.89e+002   0.6 9.73e+001    -  2.75e-001 4.89e-001f  1\n",
      " 246r1.3962237e+007 1.06e+002 2.52e+002   0.6 9.73e+001    -  1.18e-001 1.26e-001f  1\n",
      " 247r1.4094106e+007 1.05e+002 2.20e+002  -0.1 5.30e+001    -  5.64e-001 1.30e-001f  1\n",
      " 248r1.4975235e+007 1.15e+002 1.42e+002  -0.1 2.03e+002    -  2.93e-001 3.52e-001f  1\n",
      " 249r1.5169308e+007 1.27e+002 1.81e+002  -0.1 1.28e+002    -  9.89e-001 1.15e-001f  1\n",
      "iter    objective    inf_pr   inf_du lg(mu)  ||d||  lg(rg) alpha_du alpha_pr  ls\n",
      " 250r1.5318023e+007 1.34e+002 1.67e+002  -0.1 9.39e+001    -  5.55e-002 8.68e-002f  1\n",
      " 251r1.5575701e+007 1.39e+002 1.05e+002  -0.1 1.46e+002    -  1.00e+000 9.02e-002f  1\n",
      " 252r1.5673944e+007 1.41e+002 9.46e+001  -0.1 5.00e+001    -  3.47e-001 9.48e-002f  1\n",
      " 253r1.5772865e+007 1.43e+002 8.00e+001  -0.1 4.33e+001    -  7.65e-001 3.67e-001f  1\n",
      " 254r1.6240816e+007 1.51e+002 1.71e+001  -0.1 2.89e+001    -  8.59e-001 8.04e-001f  1\n",
      " 255r1.6254034e+007 1.51e+002 1.81e+001  -0.8 5.44e+000    -  1.00e+000 1.00e+000f  1\n",
      " 256r1.6297248e+007 1.51e+002 2.05e+002  -0.8 2.00e+002    -  4.24e-001 3.47e-002f  1\n",
      " 257r1.6530597e+007 1.53e+002 7.55e+001  -0.8 1.93e+002    -  7.00e-003 2.52e-001f  1\n",
      " 258r1.6841182e+007 1.58e+002 6.96e+001  -0.8 2.88e+002    -  1.42e-002 5.45e-002f  1\n",
      " 259r1.6921390e+007 1.59e+002 1.68e+002  -0.8 2.46e+002    -  1.00e+000 1.62e-002f  1\n",
      "iter    objective    inf_pr   inf_du lg(mu)  ||d||  lg(rg) alpha_du alpha_pr  ls\n",
      " 260r1.6945778e+007 1.57e+002 2.12e+002  -0.8 1.31e+002    -  4.64e-001 9.91e-002f  1\n",
      " 261r1.6956993e+007 1.57e+002 2.02e+002  -0.8 2.98e+001    -  6.12e-003 2.16e-002f  1\n",
      " 262r1.7254979e+007 1.62e+002 1.95e+002  -0.8 1.53e+002    -  1.00e+000 9.76e-002f  1\n",
      " 263r1.7423878e+007 1.64e+002 1.78e+002  -0.8 1.11e+002    -  3.37e-002 7.47e-002f  1\n",
      " 264r1.7429230e+007 1.64e+002 4.04e+002  -0.8 2.30e+001    -  8.49e-001 1.32e-002f  1\n",
      " 265r1.7706859e+007 1.58e+002 4.68e+001  -0.8 2.40e+001    -  1.88e-001 1.00e+000f  1\n",
      " 266r1.8058681e+007 1.65e+002 5.11e+000  -0.8 1.97e+001    -  1.00e+000 9.00e-001f  1\n",
      " 267r1.8058681e+007 1.65e+002 9.99e+002   2.0 0.00e+000    -  0.00e+000 3.51e-007R  4\n",
      " 268r1.8040646e+007 1.70e+002 9.99e+002   2.0 3.29e+004    -  5.86e-006 2.14e-004f  1\n",
      " 269r1.8067540e+007 1.69e+002 9.94e+002   0.6 2.64e+002    -  8.51e-003 4.66e-003f  1\n",
      "iter    objective    inf_pr   inf_du lg(mu)  ||d||  lg(rg) alpha_du alpha_pr  ls\n",
      " 270r1.8096173e+007 1.63e+002 9.89e+002   0.6 1.17e+003    -  9.62e-002 5.52e-003f  1\n",
      " 271r1.8269015e+007 1.30e+002 9.54e+002   0.6 1.10e+003    -  4.40e-002 3.47e-002f  1\n",
      " 272r1.8474745e+007 1.14e+002 9.34e+002   0.6 1.02e+003    -  4.55e-002 2.11e-002f  1\n",
      " 273r1.8883254e+007 9.55e+001 8.88e+002   0.6 9.17e+002    -  1.37e-002 4.99e-002f  1\n",
      " 274r1.9315453e+007 9.47e+001 8.58e+002   0.6 8.09e+002    -  1.30e-002 3.29e-002f  1\n",
      " 275r1.9628731e+007 9.39e+001 8.36e+002   0.6 7.21e+002    -  1.25e-001 2.64e-002f  1\n",
      " 276r2.0155875e+007 9.30e+001 7.90e+002   0.6 5.31e+002    -  1.82e-001 5.46e-002f  1\n",
      " 277r2.0361383e+007 9.26e+001 7.59e+002   0.6 2.93e+002    -  5.01e-002 3.98e-002f  1\n",
      " 278r2.0753798e+007 9.20e+001 7.15e+002   0.6 3.10e+002    -  1.36e-001 5.80e-002f  1\n",
      " 279r2.0884449e+007 9.18e+001 6.84e+002   0.6 1.67e+002    -  4.06e-002 4.36e-002f  1\n",
      "iter    objective    inf_pr   inf_du lg(mu)  ||d||  lg(rg) alpha_du alpha_pr  ls\n",
      " 280r2.1302280e+007 9.12e+001 6.33e+002   0.6 2.59e+002    -  4.09e-001 7.38e-002f  1\n",
      " 281r2.1681509e+007 9.06e+001 5.79e+002   0.6 2.06e+002    -  6.59e-002 8.51e-002f  1\n",
      " 282r2.1793853e+007 9.06e+001 5.52e+002   0.6 1.09e+002    -  1.98e-001 4.66e-002f  1\n",
      " 283r2.2139263e+007 9.03e+001 4.94e+002   0.6 1.52e+002    -  7.12e-002 1.05e-001f  1\n",
      " 284r2.2268216e+007 9.01e+001 4.62e+002   0.6 9.14e+001    -  3.07e-001 6.55e-002f  1\n",
      " 285r2.2651573e+007 8.97e+001 3.92e+002   0.6 1.18e+002    -  1.00e+000 1.52e-001f  1\n",
      " 286r2.2837589e+007 8.99e+001 2.67e+002   0.6 3.46e+001    -  2.16e-001 3.20e-001f  1\n"
     ]
    },
    {
     "name": "stdout",
     "output_type": "stream",
     "text": [
      " 287r2.3177097e+007 8.97e+001 1.97e+002   0.6 6.70e+001    -  1.00e+000 2.60e-001f  1\n",
      " 288r2.3337539e+007 9.04e+001 7.77e+001  -0.1 1.58e+001    -  3.00e-001 6.06e-001f  1\n",
      " 289r2.3633588e+007 9.01e+001 7.26e+001  -0.1 2.09e+002    -  4.95e-002 6.53e-002f  1\n",
      "iter    objective    inf_pr   inf_du lg(mu)  ||d||  lg(rg) alpha_du alpha_pr  ls\n",
      " 290r2.3689217e+007 9.01e+001 6.84e+001  -0.1 4.49e+001    -  1.20e-001 5.73e-002f  1\n",
      " 291r2.4018476e+007 8.98e+001 6.24e+001  -0.1 1.73e+002    -  2.65e-002 8.83e-002f  1\n",
      " 292r2.4059356e+007 8.98e+001 5.88e+001  -0.1 3.28e+001    -  1.62e-001 5.85e-002f  1\n",
      " 293r2.4378190e+007 8.95e+001 5.19e+001  -0.1 1.27e+002    -  2.45e-002 1.16e-001f  1\n",
      " 294r2.4450998e+007 8.95e+001 4.43e+001  -0.1 2.41e+001    -  2.18e-001 1.46e-001f  1\n",
      " 295r2.4738209e+007 8.94e+001 3.70e+001  -0.8 8.06e+001    -  1.94e-002 1.66e-001f  1\n",
      " 296r2.4775414e+007 8.93e+001 3.63e+001  -0.8 9.89e+001    -  1.62e-001 1.79e-002f  1\n",
      " 297r2.5108295e+007 8.91e+001 3.34e+001  -0.8 1.94e+002    -  4.86e-003 8.11e-002f  1\n",
      " 298r2.5139988e+007 8.90e+001 6.43e+001  -0.8 8.06e+001    -  2.14e-001 1.91e-002f  1\n",
      " 299r2.5480056e+007 8.88e+001 4.02e+001  -0.8 1.32e+002    -  5.42e-003 1.23e-001f  1\n",
      "iter    objective    inf_pr   inf_du lg(mu)  ||d||  lg(rg) alpha_du alpha_pr  ls\n",
      " 300r2.5518118e+007 8.88e+001 9.41e+001  -0.8 8.00e+001    -  3.43e-001 2.30e-002f  1\n",
      " 301r2.5920041e+007 8.85e+001 5.39e+001  -0.8 8.95e+001    -  8.09e-003 2.18e-001f  1\n",
      " 302r2.5957340e+007 8.85e+001 1.18e+002  -0.8 5.56e+001    -  5.89e-001 3.62e-002f  1\n",
      " 303r2.6593553e+007 8.82e+001 3.13e+001  -0.8 5.54e+001    -  2.34e-002 5.62e-001f  1\n",
      " 304r2.6629260e+007 8.82e+001 6.72e+001  -0.8 2.34e+001    -  1.00e+000 7.90e-002f  1\n",
      " 305r2.7039064e+007 8.81e+001 1.56e-006  -0.8 2.33e+001    -  1.00e+000 1.00e+000f  1\n",
      " 306r2.7040427e+007 8.83e+001 1.46e+001  -3.4 4.62e-001    -  9.16e-001 1.00e+000f  1\n",
      " 307r4.2694419e+007 8.05e+001 1.15e+001  -3.4 2.76e+003    -  2.69e-001 2.16e-001f  1\n",
      " 308r4.2694419e+007 8.05e+001 9.99e+002   1.9 0.00e+000    -  0.00e+000 5.17e-008R  2\n",
      " 309r4.0924160e+007 8.47e+001 9.95e+002   1.9 2.28e+004    -  6.22e-005 3.91e-003f  1\n",
      "iter    objective    inf_pr   inf_du lg(mu)  ||d||  lg(rg) alpha_du alpha_pr  ls\n",
      " 310r4.1178932e+007 8.37e+001 9.62e+002   1.2 2.45e+002    -  1.00e+000 3.38e-002f  1\n",
      " 311r4.2617608e+007 8.20e+001 8.68e+002   1.2 2.92e+002    -  2.26e-001 9.83e-002f  1\n",
      " 312r4.5615075e+007 7.95e+001 6.58e+002   0.5 2.29e+002    -  6.95e-001 2.41e-001f  1\n",
      " 313r5.9663841e+007 7.22e+001 2.61e+002   0.5 4.70e+002    -  4.12e-001 6.04e-001f  1\n",
      " 314 5.9660170e+007 7.21e+001 2.66e+003  -1.0 1.33e+003    -  7.60e-004 4.98e-005f  1\n",
      " 315 5.9646414e+007 7.21e+001 2.66e+003  -1.0 1.27e+003    -  1.94e-004 2.23e-004f  1\n",
      " 316 5.9641064e+007 7.21e+001 2.66e+003  -1.0 1.23e+003    -  1.81e-004 1.10e-004f  1\n",
      " 317 5.9639480e+007 7.21e+001 2.66e+003  -1.0 1.22e+003    -  1.71e-004 4.10e-005f  1\n",
      " 318 5.9637606e+007 7.21e+001 2.66e+003  -1.0 1.21e+003    -  1.17e-004 5.79e-005f  1\n",
      " 319 5.9637475e+007 7.21e+001 2.66e+003  -1.0 1.20e+003    -  8.77e-005 4.58e-006f  1\n",
      "iter    objective    inf_pr   inf_du lg(mu)  ||d||  lg(rg) alpha_du alpha_pr  ls\n",
      " 320 5.9636720e+007 7.21e+001 2.66e+003  -1.0 1.19e+003    -  8.33e-005 3.02e-005f  1\n",
      " 321 5.9635977e+007 7.21e+001 2.66e+003  -1.0 1.19e+003    -  7.94e-005 3.23e-005f  1\n",
      " 322 5.9635587e+007 7.21e+001 2.66e+003  -1.0 1.18e+003    -  7.36e-005 2.06e-005f  1\n",
      " 323 5.9635045e+007 7.21e+001 2.66e+003  -1.0 1.18e+003    -  8.15e-005 3.08e-005f  1\n",
      " 324 5.9634979e+007 7.21e+001 2.66e+003  -1.0 1.18e+003    -  1.91e-004 4.36e-006f  1\n",
      " 325 5.9634677e+007 7.21e+001 2.66e+003  -1.0 1.17e+003    -  2.32e-005 2.76e-005f  1\n",
      " 326 5.9634588e+007 7.21e+001 2.66e+003  -1.0 1.17e+003    -  2.19e-004 1.03e-005f  1\n",
      " 327 5.9634372e+007 7.21e+001 2.66e+003  -1.0 1.21e+003    -  2.08e-005 5.29e-005f  1\n",
      " 328 5.9634368e+007 7.21e+001 2.66e+003  -1.0 1.24e+003    -  2.78e-004 1.53e-006f  1\n",
      " 329 5.9634397e+007 7.21e+001 2.66e+003  -1.0 1.30e+003    -  2.23e-005 1.69e-005h  1\n",
      "iter    objective    inf_pr   inf_du lg(mu)  ||d||  lg(rg) alpha_du alpha_pr  ls\n",
      " 330 5.9634501e+007 7.21e+001 2.66e+003  -1.0 1.35e+003    -  1.11e-004 2.92e-005h  1\n",
      " 331r5.9634501e+007 7.21e+001 9.99e+002   1.9 0.00e+000    -  0.00e+000 2.65e-007R  6\n",
      " 332r5.9629522e+007 7.21e+001 1.00e+003   1.9 4.18e+003    -  3.72e-003 8.90e-005f  1\n",
      " 333r6.0917976e+007 7.16e+001 8.09e+002   1.2 3.08e+002    -  1.00e+000 1.91e-001f  1\n",
      " 334r7.6018599e+007 6.62e+001 1.57e+002   0.5 3.68e+002    -  1.00e+000 8.06e-001f  1\n",
      " 335r1.1230824e+008 5.48e+001 2.20e+001  -0.2 5.51e+002    -  1.00e+000 1.00e+000f  1\n",
      " 336 1.1230510e+008 5.48e+001 3.65e+003  -1.0 1.82e+003    -  1.27e-004 1.58e-005f  1\n",
      " 337 1.1230133e+008 5.48e+001 3.65e+003  -1.0 1.82e+003    -  2.39e-005 2.12e-005f  1\n",
      " 338 1.1230084e+008 5.48e+001 3.65e+003  -1.0 1.83e+003    -  1.84e-005 2.94e-006f  1\n",
      " 339 1.1230016e+008 5.48e+001 3.65e+003  -1.0 1.83e+003    -  5.43e-006 4.16e-006f  1\n",
      "iter    objective    inf_pr   inf_du lg(mu)  ||d||  lg(rg) alpha_du alpha_pr  ls\n",
      " 340 1.1229998e+008 5.48e+001 3.65e+003  -1.0 1.85e+003    -  2.44e-005 1.15e-006f  1\n",
      " 341 1.1229923e+008 5.48e+001 3.65e+003  -1.0 1.84e+003    -  4.61e-006 4.83e-006f  1\n",
      " 342 1.1229918e+008 5.48e+001 3.65e+003  -1.0 1.86e+003    -  2.51e-005 3.01e-007f  1\n",
      " 343 1.1229816e+008 5.48e+001 3.65e+003  -1.0 1.84e+003    -  4.65e-006 6.97e-006f  1\n",
      " 344 1.1229812e+008 5.48e+001 3.65e+003  -1.0 1.86e+003    -  2.75e-005 2.58e-007f  1\n",
      " 345 1.1229706e+008 5.48e+001 3.65e+003  -1.0 1.84e+003    -  5.77e-006 7.70e-006f  1\n",
      " 346 1.1229703e+008 5.48e+001 3.65e+003  -1.0 1.86e+003    -  2.55e-005 2.12e-007f  1\n",
      " 347 1.1229587e+008 5.48e+001 3.65e+003  -1.0 1.85e+003    -  6.21e-006 8.94e-006f  1\n",
      " 348 1.1229585e+008 5.48e+001 3.65e+003  -1.0 1.86e+003    -  3.87e-005 1.94e-007f  1\n",
      " 349 1.1229470e+008 5.48e+001 3.65e+003  -1.0 1.85e+003    -  6.45e-006 9.47e-006f  1\n",
      "iter    objective    inf_pr   inf_du lg(mu)  ||d||  lg(rg) alpha_du alpha_pr  ls\n",
      " 350 1.1229468e+008 5.48e+001 3.65e+003  -1.0 1.86e+003    -  2.79e-005 2.20e-007f  1\n",
      " 351 1.1229338e+008 5.48e+001 3.65e+003  -1.0 1.86e+003    -  8.27e-006 1.15e-005f  1\n",
      " 352 1.1229336e+008 5.48e+001 3.65e+003  -1.0 1.87e+003    -  8.10e-005 1.97e-007f  1\n",
      " 353 1.1229208e+008 5.48e+001 3.65e+003  -1.0 1.84e+003    -  1.07e-005 1.27e-005f  1\n",
      " 354 1.1229166e+008 5.48e+001 3.65e+003  -1.0 1.84e+003    -  4.69e-005 4.17e-006f  1\n",
      " 355 1.1229152e+008 5.48e+001 3.65e+003  -1.0 1.85e+003    -  1.85e-005 1.54e-006f  1\n",
      " 356 1.1229092e+008 5.48e+001 3.65e+003  -1.0 1.85e+003    -  5.02e-005 6.54e-006f  1\n",
      " 357 1.1229085e+008 5.48e+001 3.65e+003  -1.0 1.86e+003    -  1.87e-005 8.90e-007f  1\n",
      " 358 1.1228963e+008 5.48e+001 3.65e+003  -1.0 1.86e+003    -  2.63e-005 1.49e-005f  1\n",
      " 359 1.1228944e+008 5.48e+001 3.65e+003  -1.0 1.86e+003    -  8.66e-005 2.45e-006f  1\n",
      "iter    objective    inf_pr   inf_du lg(mu)  ||d||  lg(rg) alpha_du alpha_pr  ls\n",
      " 360 1.1228902e+008 5.48e+001 3.65e+003  -1.0 1.84e+003    -  2.89e-005 5.41e-006f  1\n",
      " 361 1.1228847e+008 5.48e+001 3.65e+003  -1.0 1.86e+003    -  6.26e-005 7.96e-006f  1\n",
      " 362 1.1228810e+008 5.48e+001 3.65e+003  -1.0 1.84e+003    -  4.24e-005 5.49e-006f  1\n",
      " 363 1.1228752e+008 5.48e+001 3.65e+003  -1.0 1.84e+003    -  3.93e-005 8.58e-006f  1\n",
      " 364 1.1228735e+008 5.48e+001 3.65e+003  -1.0 1.85e+003    -  2.97e-005 2.89e-006f  1\n",
      " 365 1.1228598e+008 5.48e+001 3.65e+003  -1.0 1.84e+003    -  5.08e-005 2.35e-005f  1\n",
      " 366 1.1228588e+008 5.48e+001 3.65e+003  -1.0 1.85e+003    -  2.09e-004 1.67e-006f  1\n",
      " 367 1.1228516e+008 5.48e+001 3.65e+003  -1.0 1.84e+003    -  2.12e-005 1.55e-005f  1\n",
      " 368 1.1228500e+008 5.48e+001 3.65e+003  -1.0 1.84e+003    -  7.23e-005 3.61e-006f  1\n",
      " 369 1.1228447e+008 5.48e+001 3.65e+003  -1.0 1.84e+003    -  7.43e-005 1.17e-005f  1\n",
      "iter    objective    inf_pr   inf_du lg(mu)  ||d||  lg(rg) alpha_du alpha_pr  ls\n",
      " 370 1.1228435e+008 5.48e+001 3.65e+003  -1.0 1.84e+003    -  5.20e-005 3.35e-006f  1\n",
      " 371 1.1228338e+008 5.48e+001 3.65e+003  -1.0 1.83e+003    -  5.57e-005 2.78e-005f  1\n",
      " 372 1.1228328e+008 5.48e+001 3.65e+003  -1.0 1.83e+003    -  7.99e-005 3.01e-006f  1\n",
      " 373 1.1228309e+008 5.48e+001 3.65e+003  -1.0 1.83e+003    -  2.15e-004 6.19e-006f  1\n",
      " 374 1.1228241e+008 5.48e+001 3.65e+003  -1.0 1.83e+003    -  9.17e-005 2.92e-005f  1\n",
      " 375 1.1228235e+008 5.48e+001 3.65e+003  -1.0 1.83e+003    -  1.53e-004 2.76e-006f  1\n"
     ]
    },
    {
     "name": "stdout",
     "output_type": "stream",
     "text": [
      " 376 1.1228217e+008 5.48e+001 3.65e+003  -1.0 1.83e+003    -  4.49e-005 1.40e-005f  1\n",
      " 377 1.1228188e+008 5.48e+001 3.65e+003  -1.0 1.83e+003    -  1.47e-004 2.52e-005f  1\n",
      " 378 1.1228186e+008 5.48e+001 3.65e+003  -1.0 1.82e+003    -  9.02e-005 2.71e-006f  1\n",
      " 379 1.1228186e+008 5.48e+001 3.65e+003  -1.0 1.82e+003    -  1.00e-004 1.24e-005h  1\n",
      "iter    objective    inf_pr   inf_du lg(mu)  ||d||  lg(rg) alpha_du alpha_pr  ls\n",
      " 380 1.1228192e+008 5.48e+001 3.65e+003  -1.0 1.82e+003    -  1.98e-004 3.84e-005h  1\n",
      " 381r1.1228192e+008 5.48e+001 9.99e+002   1.7 0.00e+000    -  0.00e+000 4.01e-007R  3\n",
      " 382r1.1226321e+008 5.48e+001 1.01e+003   1.7 1.18e+004    -  8.78e-004 2.52e-005f  1\n",
      " 383r1.1267334e+008 5.46e+001 9.70e+002   1.0 3.46e+002    -  1.00e+000 2.96e-002f  1\n",
      " 384r1.5910321e+008 3.53e+001 9.18e+001   1.0 6.57e+002    -  1.00e+000 9.05e-001f  1\n",
      " 385 1.5907597e+008 3.53e+001 4.74e+003  -1.0 2.37e+003    -  4.30e-004 8.92e-005f  1\n",
      " 386 1.5903885e+008 3.53e+001 4.74e+003  -1.0 2.37e+003    -  1.08e-004 1.24e-004f  1\n",
      " 387 1.5902878e+008 3.53e+001 4.74e+003  -1.0 2.37e+003    -  8.60e-005 3.46e-005f  1\n",
      " 388 1.5902000e+008 3.53e+001 4.74e+003  -1.0 2.37e+003    -  2.02e-004 3.03e-005f  1\n",
      " 389 1.5901965e+008 3.53e+001 4.74e+003  -1.0 2.37e+003    -  8.60e-005 1.23e-006f  1\n",
      "iter    objective    inf_pr   inf_du lg(mu)  ||d||  lg(rg) alpha_du alpha_pr  ls\n",
      " 390 1.5900300e+008 3.53e+001 4.74e+003  -1.0 2.37e+003    -  9.59e-005 5.86e-005f  1\n",
      " 391 1.5899818e+008 3.53e+001 4.74e+003  -1.0 2.37e+003    -  1.52e-004 1.70e-005f  1\n",
      " 392 1.5899780e+008 3.53e+001 4.74e+003  -1.0 2.37e+003    -  1.42e-004 1.36e-006f  1\n",
      " 393 1.5898231e+008 3.53e+001 4.74e+003  -1.0 2.37e+003    -  1.55e-004 5.58e-005f  1\n",
      " 394 1.5897859e+008 3.53e+001 4.74e+003  -1.0 2.37e+003    -  9.96e-005 1.34e-005f  1\n",
      " 395 1.5897660e+008 3.53e+001 4.74e+003  -1.0 2.37e+003    -  1.12e-004 7.35e-006f  1\n",
      " 396 1.5895873e+008 3.53e+001 4.74e+003  -1.0 2.37e+003    -  1.60e-004 6.60e-005f  1\n",
      " 397 1.5895739e+008 3.53e+001 4.74e+003  -1.0 2.37e+003    -  2.60e-004 4.96e-006f  1\n",
      " 398 1.5895252e+008 3.53e+001 4.74e+003  -1.0 2.37e+003    -  1.13e-004 1.82e-005f  1\n",
      " 399 1.5893804e+008 3.53e+001 4.74e+003  -1.0 2.36e+003    -  1.91e-004 5.49e-005f  1\n",
      "iter    objective    inf_pr   inf_du lg(mu)  ||d||  lg(rg) alpha_du alpha_pr  ls\n",
      " 400 1.5893668e+008 3.53e+001 4.74e+003  -1.0 2.37e+003    -  1.97e-004 5.18e-006f  1\n",
      " 401 1.5893238e+008 3.53e+001 4.74e+003  -1.0 2.37e+003    -  3.26e-004 1.66e-005f  1\n",
      " 402 1.5891919e+008 3.53e+001 4.74e+003  -1.0 2.37e+003    -  1.35e-004 5.15e-005f  1\n",
      " 403 1.5891721e+008 3.53e+001 4.74e+003  -1.0 2.37e+003    -  2.24e-004 7.76e-006f  1\n",
      " 404 1.5890805e+008 3.53e+001 4.74e+003  -1.0 2.37e+003    -  1.48e-004 3.60e-005f  1\n",
      " 405 1.5890522e+008 3.53e+001 4.74e+003  -1.0 2.37e+003    -  1.06e-004 1.14e-005f  1\n",
      " 406 1.5889146e+008 3.53e+001 4.74e+003  -1.0 2.37e+003    -  1.77e-004 5.55e-005f  1\n",
      " 407 1.5888854e+008 3.53e+001 4.74e+003  -1.0 2.37e+003    -  2.55e-004 1.18e-005f  1\n",
      " 408 1.5888500e+008 3.53e+001 4.74e+003  -1.0 2.37e+003    -  2.38e-004 1.44e-005f  1\n",
      " 409 1.5887131e+008 3.53e+001 4.74e+003  -1.0 2.36e+003    -  1.95e-004 5.72e-005f  1\n",
      "iter    objective    inf_pr   inf_du lg(mu)  ||d||  lg(rg) alpha_du alpha_pr  ls\n",
      " 410 1.5887024e+008 3.53e+001 4.74e+003  -1.0 2.36e+003    -  1.54e-004 4.50e-006f  1\n",
      " 411 1.5886195e+008 3.53e+001 4.74e+003  -1.0 2.36e+003    -  2.59e-004 3.48e-005f  1\n",
      " 412 1.5885924e+008 3.53e+001 4.74e+003  -1.0 2.37e+003    -  1.06e-004 1.18e-005f  1\n",
      " 413 1.5884089e+008 3.52e+001 4.74e+003  -1.0 2.37e+003    -  3.96e-004 7.97e-005f  1\n",
      " 414 1.5883899e+008 3.52e+001 4.74e+003  -1.0 2.37e+003    -  2.91e-004 8.27e-006f  1\n",
      " 415 1.5883464e+008 3.52e+001 4.74e+003  -1.0 2.37e+003    -  2.10e-004 1.92e-005f  1\n",
      " 416 1.5882095e+008 3.52e+001 4.74e+003  -1.0 2.37e+003    -  3.48e-004 6.20e-005f  1\n",
      " 417 1.5882026e+008 3.52e+001 4.74e+003  -1.0 2.37e+003    -  1.54e-004 3.12e-006f  1\n",
      " 418 1.5881122e+008 3.52e+001 4.74e+003  -1.0 2.37e+003    -  1.94e-004 4.12e-005f  1\n",
      " 419 1.5880950e+008 3.52e+001 4.74e+003  -1.0 2.36e+003    -  1.16e-004 8.12e-006f  1\n",
      "iter    objective    inf_pr   inf_du lg(mu)  ||d||  lg(rg) alpha_du alpha_pr  ls\n",
      " 420 1.5879944e+008 3.52e+001 4.74e+003  -1.0 2.36e+003    -  5.85e-004 4.77e-005f  1\n",
      " 421 1.5879604e+008 3.52e+001 4.74e+003  -1.0 2.37e+003    -  6.40e-005 1.62e-005f  1\n",
      " 422 1.5878781e+008 3.52e+001 4.73e+003  -1.0 2.37e+003    -  3.27e-004 3.92e-005f  1\n",
      " 423 1.5878593e+008 3.52e+001 4.73e+003  -1.0 2.36e+003    -  1.26e-004 9.36e-006f  1\n",
      " 424 1.5877537e+008 3.52e+001 4.73e+003  -1.0 2.36e+003    -  6.74e-004 5.27e-005f  1\n",
      " 425 1.5877139e+008 3.52e+001 4.73e+003  -1.0 2.37e+003    -  9.39e-004 1.99e-005f  1\n",
      " 426 1.5876237e+008 3.52e+001 4.73e+003  -1.0 2.37e+003    -  2.13e-004 4.55e-005f  1\n",
      " 427 1.5875348e+008 3.52e+001 4.73e+003  -1.0 2.37e+003    -  1.98e-004 4.70e-005f  1\n",
      " 428 1.5874894e+008 3.52e+001 4.73e+003  -1.0 2.37e+003    -  4.83e-004 2.41e-005f  1\n",
      " 429 1.5874155e+008 3.52e+001 4.73e+003  -1.0 2.37e+003    -  7.99e-005 3.93e-005f  1\n",
      "iter    objective    inf_pr   inf_du lg(mu)  ||d||  lg(rg) alpha_du alpha_pr  ls\n",
      " 430 1.5874098e+008 3.52e+001 4.73e+003  -1.0 2.37e+003    -  2.25e-004 3.19e-006f  1\n",
      " 431 1.5872185e+008 3.52e+001 4.73e+003  -1.0 2.37e+003    -  9.74e-005 1.08e-004f  1\n",
      " 432 1.5872158e+008 3.52e+001 4.73e+003  -1.0 2.37e+003    -  5.57e-004 1.51e-006f  1\n",
      " 433 1.5870955e+008 3.52e+001 4.87e+003  -1.0 2.38e+003    -  6.56e-004 6.82e-005f  1\n",
      " 434 1.5870836e+008 3.52e+001 4.98e+003  -1.0 2.36e+003    -  1.17e-004 7.09e-006f  1\n",
      " 435 1.5870035e+008 3.52e+001 5.31e+003  -1.0 2.37e+003    -  3.89e-004 4.80e-005f  1\n",
      " 436 1.5869957e+008 3.52e+001 5.39e+003  -1.0 2.36e+003    -  8.74e-005 4.83e-006f  1\n",
      " 437 1.5869544e+008 3.52e+001 5.64e+003  -1.0 2.37e+003    -  2.50e-004 2.69e-005f  1\n",
      " 438 1.5868172e+008 3.52e+001 5.65e+003  -1.0 2.37e+003    -  1.01e-004 8.91e-005f  1\n",
      " 439 1.5868146e+008 3.52e+001 5.85e+003  -1.0 2.38e+003    -  1.84e-004 1.72e-006f  1\n",
      "iter    objective    inf_pr   inf_du lg(mu)  ||d||  lg(rg) alpha_du alpha_pr  ls\n",
      " 440 1.5867443e+008 3.52e+001 6.56e+003  -1.0 2.38e+003    -  6.92e-004 4.61e-005f  1\n",
      " 441 1.5867290e+008 3.52e+001 6.70e+003  -1.0 2.37e+003    -  1.24e-004 1.08e-005f  1\n",
      " 442 1.5866081e+008 3.52e+001 7.62e+003  -1.0 2.37e+003    -  8.38e-004 8.58e-005f  1\n",
      " 443 1.5865956e+008 3.52e+001 7.71e+003  -1.0 2.37e+003    -  7.95e-005 8.93e-006f  1\n",
      " 444 1.5865021e+008 3.52e+001 8.07e+003  -1.0 2.37e+003    -  3.59e-004 6.69e-005f  1\n",
      " 445 1.5864956e+008 3.52e+001 8.27e+003  -1.0 2.37e+003    -  1.58e-004 5.00e-006f  1\n",
      " 446 1.5864485e+008 3.52e+001 8.35e+003  -1.0 2.37e+003    -  9.42e-005 3.67e-005f  1\n",
      " 447 1.5864364e+008 3.52e+001 9.00e+003  -1.0 2.36e+003    -  4.79e-004 9.61e-006f  1\n",
      " 448 1.5863413e+008 3.52e+001 9.24e+003  -1.0 2.36e+003    -  2.51e-004 7.46e-005f  1\n",
      " 449 1.5863372e+008 3.52e+001 9.37e+003  -1.0 2.36e+003    -  9.20e-005 3.46e-006f  1\n",
      "iter    objective    inf_pr   inf_du lg(mu)  ||d||  lg(rg) alpha_du alpha_pr  ls\n",
      " 450 1.5862850e+008 3.52e+001 9.40e+003  -1.0 2.36e+003    -  6.51e-005 4.54e-005f  1\n",
      " 451 1.5862842e+008 3.52e+001 1.02e+004  -1.0 2.36e+003    -  5.64e-004 6.93e-007f  1\n",
      " 452 1.5861853e+008 3.52e+001 1.03e+004  -1.0 2.36e+003    -  1.45e-004 8.73e-005f  1\n",
      " 453 1.5861836e+008 3.52e+001 1.06e+004  -1.0 2.37e+003    -  1.44e-004 1.57e-006f  1\n",
      " 454 1.5860261e+008 3.52e+001 1.07e+004  -1.0 2.37e+003    -  2.16e-004 1.58e-004f  1\n",
      " 455 1.5860010e+008 3.52e+001 1.10e+004  -1.0 2.37e+003    -  2.39e-004 2.50e-005f  1\n",
      " 456 1.5859939e+008 3.52e+001 1.14e+004  -1.0 2.37e+003    -  2.17e-004 7.22e-006f  1\n",
      " 457 1.5859583e+008 3.52e+001 1.16e+004  -1.0 2.37e+003    -  2.03e-004 3.60e-005f  1\n",
      " 458 1.5859491e+008 3.52e+001 1.22e+004  -1.0 2.36e+003    -  3.21e-004 1.06e-005f  1\n",
      " 459 1.5859273e+008 3.52e+001 1.31e+004  -1.0 2.36e+003    -  5.22e-004 2.49e-005f  1\n",
      "iter    objective    inf_pr   inf_du lg(mu)  ||d||  lg(rg) alpha_du alpha_pr  ls\n",
      " 460 1.5858838e+008 3.52e+001 1.37e+004  -1.0 2.36e+003    -  3.77e-004 5.05e-005f  1\n",
      " 461 1.5858488e+008 3.52e+001 1.51e+004  -1.0 2.36e+003    -  8.17e-004 4.07e-005f  1\n",
      " 462 1.5858263e+008 3.52e+001 1.55e+004  -1.0 2.36e+003    -  1.97e-004 3.13e-005f  1\n",
      " 463 1.5857698e+008 3.52e+001 1.72e+004  -1.0 2.36e+003    -  9.52e-004 7.84e-005f  1\n",
      " 464 1.5857597e+008 3.52e+001 1.82e+004  -1.0 2.36e+003    -  4.97e-004 1.41e-005f  1\n",
      " 465 1.5857327e+008 3.52e+001 1.98e+004  -1.0 2.36e+003    -  8.72e-004 3.82e-005f  1\n",
      " 466 1.5856842e+008 3.52e+001 2.02e+004  -1.0 2.37e+003    -  2.28e-004 8.77e-005f  1\n",
      " 467 1.5856049e+008 3.52e+001 2.14e+004  -1.0 2.37e+003    -  7.11e-004 1.43e-004f  1\n",
      " 468 1.5856026e+008 3.52e+001 2.27e+004  -1.0 2.37e+003    -  6.15e-004 4.14e-006f  1\n",
      " 469 1.5855890e+008 3.52e+001 2.43e+004  -1.0 2.37e+003    -  7.43e-004 2.65e-005f  1\n",
      "iter    objective    inf_pr   inf_du lg(mu)  ||d||  lg(rg) alpha_du alpha_pr  ls\n",
      " 470 1.5854990e+008 3.52e+001 2.41e+004  -1.0 2.37e+003    -  1.21e-004 2.22e-004f  1\n",
      " 471 1.5854979e+008 3.52e+001 2.56e+004  -1.0 2.37e+003    -  6.25e-004 2.72e-006f  1\n",
      " 472 1.5854850e+008 3.52e+001 2.61e+004  -1.0 2.37e+003    -  2.48e-004 3.23e-005f  1\n"
     ]
    },
    {
     "name": "stdout",
     "output_type": "stream",
     "text": [
      " 473 1.5854825e+008 3.52e+001 2.73e+004  -1.0 2.37e+003    -  4.82e-004 1.01e-005f  1\n",
      " 474 1.5854254e+008 3.52e+001 2.81e+004  -1.0 2.37e+003    -  5.16e-004 2.30e-004f  1\n",
      " 475 1.5854244e+008 3.52e+001 3.03e+004  -1.0 2.37e+003    -  8.88e-004 4.14e-006f  1\n",
      " 476 1.5854187e+008 3.52e+001 3.11e+004  -1.0 2.37e+003    -  3.08e-004 2.68e-005f  1\n",
      " 477 1.5854105e+008 3.52e+001 3.28e+004  -1.0 2.37e+003    -  7.02e-004 8.96e-005f  1\n",
      " 478 1.5854035e+008 3.52e+001 3.39e+004  -1.0 2.37e+003    -  4.69e-004 7.18e-005f  1\n",
      " 479 1.5854018e+008 3.52e+001 3.60e+004  -1.0 2.37e+003    -  7.82e-004 1.97e-005f  1\n",
      "iter    objective    inf_pr   inf_du lg(mu)  ||d||  lg(rg) alpha_du alpha_pr  ls\n",
      " 480 1.5853970e+008 3.51e+001 3.81e+004  -1.0 2.37e+003    -  7.96e-004 5.59e-005f  1\n",
      " 481 1.5854021e+008 3.51e+001 4.01e+004  -1.0 2.40e+003    -  7.10e-004 4.70e-005h  1\n",
      " 482 1.5854307e+008 3.51e+001 4.27e+004  -1.0 2.41e+003    -  1.16e-003 3.07e-004h  1\n",
      " 483r1.5854307e+008 3.51e+001 1.00e+003   1.5 0.00e+000    -  0.00e+000 2.97e-007R  5\n",
      " 484r1.5851329e+008 3.52e+001 1.00e+003   1.5 1.67e+003    -  5.48e-003 4.77e-004f  1\n",
      " 485r1.6085930e+008 3.45e+001 9.54e+002   0.8 5.55e+002    -  3.89e-001 4.45e-002f  1\n",
      " 486r1.8319793e+008 2.85e+001 7.69e+002   0.8 1.25e+003    -  1.00e+000 1.94e-001f  1\n",
      " 487 1.8318757e+008 2.85e+001 5.26e+003  -1.0 2.63e+003    -  1.63e-004 3.00e-005f  1\n",
      " 488 1.8317386e+008 2.85e+001 5.26e+003  -1.0 2.63e+003    -  2.47e-005 4.12e-005f  1\n",
      " 489 1.8316951e+008 2.85e+001 5.26e+003  -1.0 2.63e+003    -  2.80e-005 1.35e-005f  1\n",
      "iter    objective    inf_pr   inf_du lg(mu)  ||d||  lg(rg) alpha_du alpha_pr  ls\n",
      " 490 1.8316925e+008 2.85e+001 5.26e+003  -1.0 2.63e+003    -  2.01e-005 8.03e-007f  1\n",
      " 491 1.8316616e+008 2.85e+001 5.26e+003  -1.0 2.62e+003    -  4.01e-005 9.86e-006f  1\n",
      " 492 1.8316534e+008 2.85e+001 5.26e+003  -1.0 2.62e+003    -  3.03e-005 2.62e-006f  1\n",
      " 493 1.8316273e+008 2.85e+001 5.26e+003  -1.0 2.63e+003    -  1.45e-005 8.58e-006f  1\n",
      " 494 1.8316211e+008 2.85e+001 5.26e+003  -1.0 2.63e+003    -  2.35e-005 2.04e-006f  1\n",
      " 495 1.8316052e+008 2.85e+001 5.26e+003  -1.0 2.63e+003    -  4.25e-005 5.26e-006f  1\n",
      " 496 1.8315941e+008 2.85e+001 5.26e+003  -1.0 2.62e+003    -  2.40e-005 3.77e-006f  1\n",
      " 497 1.8315646e+008 2.85e+001 5.26e+003  -1.0 2.63e+003    -  1.97e-005 1.00e-005f  1\n",
      " 498 1.8315625e+008 2.85e+001 5.26e+003  -1.0 2.63e+003    -  1.64e-005 7.32e-007f  1\n",
      " 499 1.8315327e+008 2.85e+001 5.26e+003  -1.0 2.62e+003    -  3.07e-005 1.04e-005f  1\n",
      "iter    objective    inf_pr   inf_du lg(mu)  ||d||  lg(rg) alpha_du alpha_pr  ls\n",
      " 500 1.8315179e+008 2.85e+001 5.26e+003  -1.0 2.62e+003    -  1.64e-005 5.22e-006f  1\n",
      " 501 1.8315153e+008 2.85e+001 5.26e+003  -1.0 2.62e+003    -  3.70e-005 9.42e-007f  1\n",
      " 502 1.8314707e+008 2.85e+001 5.26e+003  -1.0 2.62e+003    -  9.51e-006 1.61e-005f  1\n",
      " 503 1.8314665e+008 2.85e+001 5.26e+003  -1.0 2.63e+003    -  5.65e-005 1.53e-006f  1\n",
      " 504 1.8314383e+008 2.85e+001 5.26e+003  -1.0 2.63e+003    -  1.02e-005 1.06e-005f  1\n",
      " 505 1.8314234e+008 2.85e+001 5.26e+003  -1.0 2.63e+003    -  6.46e-005 5.61e-006f  1\n",
      " 506 1.8314197e+008 2.85e+001 5.26e+003  -1.0 2.62e+003    -  2.03e-005 1.42e-006f  1\n",
      " 507 1.8314045e+008 2.85e+001 5.26e+003  -1.0 2.62e+003    -  1.70e-005 5.92e-006f  1\n",
      " 508 1.8313762e+008 2.85e+001 5.26e+003  -1.0 2.62e+003    -  2.30e-005 1.11e-005f  1\n",
      " 509 1.8313748e+008 2.85e+001 5.26e+003  -1.0 2.62e+003    -  5.10e-005 5.77e-007f  1\n",
      "iter    objective    inf_pr   inf_du lg(mu)  ||d||  lg(rg) alpha_du alpha_pr  ls\n",
      " 510 1.8313398e+008 2.85e+001 5.26e+003  -1.0 2.62e+003    -  2.32e-005 1.43e-005f  1\n",
      " 511 1.8313302e+008 2.85e+001 5.26e+003  -1.0 2.62e+003    -  5.62e-005 3.94e-006f  1\n",
      " 512 1.8313212e+008 2.85e+001 5.26e+003  -1.0 2.62e+003    -  2.40e-005 3.89e-006f  1\n",
      " 513 1.8313026e+008 2.85e+001 5.26e+003  -1.0 2.62e+003    -  1.46e-005 7.94e-006f  1\n",
      " 514 1.8312878e+008 2.85e+001 5.26e+003  -1.0 2.62e+003    -  1.07e-004 6.38e-006f  1\n",
      " 515 1.8312810e+008 2.85e+001 5.26e+003  -1.0 2.63e+003    -  1.46e-005 3.08e-006f  1\n",
      " 516 1.8312524e+008 2.85e+001 5.26e+003  -1.0 2.63e+003    -  3.05e-005 1.29e-005f  1\n",
      " 517 1.8312313e+008 2.85e+001 5.26e+003  -1.0 2.63e+003    -  1.19e-004 9.57e-006f  1\n",
      " 518 1.8312244e+008 2.85e+001 5.26e+003  -1.0 2.63e+003    -  3.39e-005 3.19e-006f  1\n",
      " 519 1.8312101e+008 2.85e+001 5.26e+003  -1.0 2.63e+003    -  6.55e-005 6.82e-006f  1\n",
      "iter    objective    inf_pr   inf_du lg(mu)  ||d||  lg(rg) alpha_du alpha_pr  ls\n",
      " 520 1.8312044e+008 2.85e+001 5.26e+003  -1.0 2.63e+003    -  5.52e-005 2.74e-006f  1\n",
      " 521 1.8311817e+008 2.85e+001 5.26e+003  -1.0 2.62e+003    -  7.87e-006 1.16e-005f  1\n",
      " 522 1.8311719e+008 2.85e+001 5.26e+003  -1.0 2.62e+003    -  5.92e-005 4.99e-006f  1\n",
      " 523 1.8311582e+008 2.85e+001 5.26e+003  -1.0 2.62e+003    -  3.84e-005 7.03e-006f  1\n",
      " 524 1.8311542e+008 2.85e+001 5.26e+003  -1.0 2.63e+003    -  2.16e-005 2.24e-006f  1\n",
      " 525 1.8311333e+008 2.85e+001 5.26e+003  -1.0 2.63e+003    -  3.91e-005 1.14e-005f  1\n",
      " 526 1.8311195e+008 2.85e+001 5.26e+003  -1.0 2.63e+003    -  3.76e-005 7.63e-006f  1\n",
      " 527 1.8311103e+008 2.85e+001 5.26e+003  -1.0 2.62e+003    -  5.00e-005 5.11e-006f  1\n",
      " 528 1.8311001e+008 2.85e+001 5.26e+003  -1.0 2.62e+003    -  3.21e-005 6.04e-006f  1\n",
      " 529 1.8310931e+008 2.85e+001 5.26e+003  -1.0 2.62e+003    -  1.84e-004 4.17e-006f  1\n",
      "iter    objective    inf_pr   inf_du lg(mu)  ||d||  lg(rg) alpha_du alpha_pr  ls\n",
      " 530 1.8310751e+008 2.85e+001 5.26e+003  -1.0 2.62e+003    -  1.35e-005 1.08e-005f  1\n",
      " 531 1.8310710e+008 2.85e+001 5.26e+003  -1.0 2.63e+003    -  5.36e-005 2.70e-006f  1\n",
      " 532 1.8310514e+008 2.85e+001 5.26e+003  -1.0 2.63e+003    -  1.66e-005 1.28e-005f  1\n",
      " 533 1.8310457e+008 2.85e+001 5.26e+003  -1.0 2.63e+003    -  6.22e-005 3.75e-006f  1\n",
      " 534 1.8310402e+008 2.85e+001 5.26e+003  -1.0 2.62e+003    -  1.17e-005 3.91e-006f  1\n",
      " 535 1.8310125e+008 2.85e+001 5.26e+003  -1.0 2.62e+003    -  5.10e-005 2.00e-005f  1\n",
      " 536 1.8310097e+008 2.85e+001 5.26e+003  -1.0 2.63e+003    -  2.85e-005 2.08e-006f  1\n",
      " 537 1.8310037e+008 2.85e+001 5.26e+003  -1.0 2.63e+003    -  3.81e-005 4.36e-006f  1\n",
      " 538 1.8309956e+008 2.85e+001 5.26e+003  -1.0 2.62e+003    -  3.03e-005 6.55e-006f  1\n",
      " 539 1.8309922e+008 2.85e+001 5.26e+003  -1.0 2.62e+003    -  3.29e-004 2.79e-006f  1\n",
      "iter    objective    inf_pr   inf_du lg(mu)  ||d||  lg(rg) alpha_du alpha_pr  ls\n",
      " 540 1.8309761e+008 2.85e+001 5.26e+003  -1.0 2.62e+003    -  3.81e-005 1.32e-005f  1\n",
      " 541 1.8309702e+008 2.85e+001 5.26e+003  -1.0 2.63e+003    -  3.84e-005 5.44e-006f  1\n",
      " 542 1.8309574e+008 2.85e+001 5.26e+003  -1.0 2.63e+003    -  4.86e-005 1.20e-005f  1\n",
      " 543 1.8309512e+008 2.85e+001 5.26e+003  -1.0 2.63e+003    -  1.76e-004 5.83e-006f  1\n",
      " 544 1.8309455e+008 2.85e+001 5.26e+003  -1.0 2.62e+003    -  3.69e-005 6.25e-006f  1\n",
      " 545 1.8309261e+008 2.85e+001 5.26e+003  -1.0 2.62e+003    -  9.77e-005 2.13e-005f  1\n",
      " 546 1.8309241e+008 2.85e+001 5.26e+003  -1.0 2.62e+003    -  1.15e-004 2.24e-006f  1\n",
      " 547 1.8309072e+008 2.85e+001 5.26e+003  -1.0 2.63e+003    -  2.95e-004 2.28e-005f  1\n",
      " 548 1.8309021e+008 2.85e+001 5.26e+003  -1.0 2.63e+003    -  9.30e-005 6.92e-006f  1\n",
      " 549 1.8308981e+008 2.85e+001 5.26e+003  -1.0 2.63e+003    -  9.25e-005 6.44e-006f  1\n",
      "iter    objective    inf_pr   inf_du lg(mu)  ||d||  lg(rg) alpha_du alpha_pr  ls\n",
      " 550 1.8308778e+008 2.85e+001 5.26e+003  -1.0 2.63e+003    -  1.04e-004 3.57e-005f  1\n",
      " 551 1.8308767e+008 2.85e+001 5.26e+003  -1.0 2.63e+003    -  2.30e-004 1.97e-006f  1\n",
      " 552 1.8308707e+008 2.85e+001 5.26e+003  -1.0 2.62e+003    -  8.41e-006 1.34e-005f  1\n",
      " 553 1.8308642e+008 2.85e+001 5.69e+003  -1.0 2.62e+003    -  2.90e-004 1.64e-005f  1\n",
      " 554 1.8308578e+008 2.85e+001 5.78e+003  -1.0 2.62e+003    -  4.71e-005 1.63e-005f  1\n",
      " 555 1.8308544e+008 2.85e+001 6.58e+003  -1.0 2.63e+003    -  2.92e-004 9.06e-006f  1\n",
      " 556 1.8308511e+008 2.85e+001 6.68e+003  -1.0 2.63e+003    -  4.78e-005 1.57e-005f  1\n",
      " 557 1.8308260e+008 2.85e+001 6.84e+003  -1.0 2.63e+003    -  1.76e-004 1.23e-004f  1\n",
      " 558 1.8308229e+008 2.85e+001 7.77e+003  -1.0 2.63e+003    -  3.20e-004 1.51e-005f  1\n",
      " 559 1.8308213e+008 2.85e+001 9.93e+003  -1.0 2.63e+003    -  7.11e-004 9.53e-006f  1\n",
      "iter    objective    inf_pr   inf_du lg(mu)  ||d||  lg(rg) alpha_du alpha_pr  ls\n",
      " 560 1.8307855e+008 2.85e+001 1.02e+004  -1.0 2.63e+003    -  3.87e-004 3.03e-004f  1\n",
      " 561 1.8307850e+008 2.85e+001 1.14e+004  -1.0 2.62e+003    -  4.35e-004 5.58e-005f  1\n",
      " 562r1.8307850e+008 2.85e+001 9.99e+002   1.5 0.00e+000    -  0.00e+000 2.98e-007R  3\n",
      " 563r1.8301343e+008 2.85e+001 1.00e+003   1.5 3.43e+003    -  5.30e-003 7.86e-004f  1\n",
      " 564r1.8533629e+008 2.79e+001 9.64e+002   0.8 7.39e+002    -  1.78e-001 3.41e-002f  1\n",
      " 565r2.7494719e+008 7.50e+000 4.57e+002   0.8 1.60e+003    -  1.00e+000 5.26e-001f  1\n",
      " 566 2.7492420e+008 7.50e+000 6.99e+003  -1.0 3.49e+003    -  2.26e-004 4.32e-005f  1\n",
      " 567 2.7489755e+008 7.50e+000 6.99e+003  -1.0 3.49e+003    -  3.07e-005 5.12e-005f  1\n",
      " 568 2.7489044e+008 7.50e+000 6.99e+003  -1.0 3.48e+003    -  3.90e-005 1.39e-005f  1\n",
      " 569 2.7488388e+008 7.50e+000 6.99e+003  -1.0 3.48e+003    -  4.78e-005 1.29e-005f  1\n",
      "iter    objective    inf_pr   inf_du lg(mu)  ||d||  lg(rg) alpha_du alpha_pr  ls\n",
      " 570 2.7488347e+008 7.50e+000 6.99e+003  -1.0 3.48e+003    -  4.19e-005 8.30e-007f  1\n",
      " 571 2.7487356e+008 7.50e+000 6.99e+003  -1.0 3.49e+003    -  3.20e-005 1.98e-005f  1\n",
      " 572 2.7487036e+008 7.50e+000 6.99e+003  -1.0 3.48e+003    -  2.41e-005 6.42e-006f  1\n",
      " 573 2.7486971e+008 7.50e+000 6.99e+003  -1.0 3.49e+003    -  7.31e-005 1.30e-006f  1\n",
      " 574 2.7485964e+008 7.50e+000 6.99e+003  -1.0 3.49e+003    -  4.82e-005 2.05e-005f  1\n",
      " 575 2.7485929e+008 7.50e+000 6.99e+003  -1.0 3.48e+003    -  3.07e-005 7.15e-007f  1\n",
      " 576 2.7484877e+008 7.50e+000 6.99e+003  -1.0 3.48e+003    -  2.94e-005 2.18e-005f  1\n",
      " 577 2.7484738e+008 7.50e+000 6.99e+003  -1.0 3.48e+003    -  1.11e-004 2.89e-006f  1\n",
      " 578 2.7484437e+008 7.50e+000 6.99e+003  -1.0 3.48e+003    -  6.15e-005 6.28e-006f  1\n"
     ]
    },
    {
     "name": "stdout",
     "output_type": "stream",
     "text": [
      " 579 2.7483378e+008 7.50e+000 6.99e+003  -1.0 3.48e+003    -  3.71e-005 2.24e-005f  1\n",
      "iter    objective    inf_pr   inf_du lg(mu)  ||d||  lg(rg) alpha_du alpha_pr  ls\n",
      " 580 2.7483236e+008 7.50e+000 6.99e+003  -1.0 3.48e+003    -  8.49e-005 3.02e-006f  1\n",
      " 581 2.7482762e+008 7.50e+000 6.99e+003  -1.0 3.49e+003    -  1.93e-005 1.02e-005f  1\n",
      " 582 2.7482347e+008 7.50e+000 6.99e+003  -1.0 3.49e+003    -  1.19e-004 8.98e-006f  1\n",
      " 583 2.7481949e+008 7.50e+000 6.99e+003  -1.0 3.49e+003    -  5.12e-005 8.66e-006f  1\n",
      " 584 2.7481663e+008 7.50e+000 6.99e+003  -1.0 3.48e+003    -  1.66e-005 6.34e-006f  1\n",
      " 585 2.7480649e+008 7.50e+000 6.99e+003  -1.0 3.48e+003    -  4.38e-005 2.25e-005f  1\n",
      " 586 2.7480509e+008 7.50e+000 6.99e+003  -1.0 3.48e+003    -  7.38e-005 3.11e-006f  1\n",
      " 587 2.7480294e+008 7.50e+000 6.99e+003  -1.0 3.48e+003    -  2.68e-005 4.88e-006f  1\n",
      " 588 2.7479896e+008 7.50e+000 6.99e+003  -1.0 3.48e+003    -  6.11e-005 9.04e-006f  1\n",
      " 589 2.7479141e+008 7.50e+000 6.99e+003  -1.0 3.47e+003    -  5.66e-005 1.72e-005f  1\n",
      "iter    objective    inf_pr   inf_du lg(mu)  ||d||  lg(rg) alpha_du alpha_pr  ls\n",
      " 590 2.7479094e+008 7.50e+000 6.99e+003  -1.0 3.49e+003    -  2.72e-005 1.09e-006f  1\n",
      " 591 2.7478461e+008 7.50e+000 6.99e+003  -1.0 3.49e+003    -  2.21e-005 1.48e-005f  1\n",
      " 592 2.7478260e+008 7.50e+000 6.99e+003  -1.0 3.49e+003    -  6.67e-005 4.72e-006f  1\n",
      " 593 2.7477759e+008 7.50e+000 6.99e+003  -1.0 3.49e+003    -  6.76e-005 1.18e-005f  1\n",
      " 594 2.7477600e+008 7.50e+000 6.99e+003  -1.0 3.49e+003    -  6.57e-005 3.84e-006f  1\n",
      " 595 2.7477057e+008 7.50e+000 6.99e+003  -1.0 3.49e+003    -  4.84e-005 1.31e-005f  1\n",
      " 596 2.7476335e+008 7.50e+000 6.99e+003  -1.0 3.48e+003    -  8.10e-005 1.75e-005f  1\n",
      " 597 2.7476267e+008 7.50e+000 6.99e+003  -1.0 3.49e+003    -  2.64e-005 1.69e-006f  1\n",
      " 598 2.7475634e+008 7.50e+000 6.99e+003  -1.0 3.49e+003    -  1.13e-004 1.58e-005f  1\n",
      " 599 2.7475153e+008 7.50e+000 6.99e+003  -1.0 3.49e+003    -  4.27e-005 1.21e-005f  1\n",
      "iter    objective    inf_pr   inf_du lg(mu)  ||d||  lg(rg) alpha_du alpha_pr  ls\n",
      " 600 2.7475102e+008 7.50e+000 6.99e+003  -1.0 3.48e+003    -  2.74e-005 1.32e-006f  1\n",
      " 601 2.7473963e+008 7.50e+000 6.99e+003  -1.0 3.48e+003    -  9.25e-005 2.96e-005f  1\n",
      " 602 2.7473869e+008 7.50e+000 6.99e+003  -1.0 3.47e+003    -  5.33e-005 2.43e-006f  1\n",
      " 603 2.7473052e+008 7.50e+000 6.99e+003  -1.0 3.47e+003    -  8.45e-005 2.13e-005f  1\n",
      " 604 2.7472990e+008 7.50e+000 6.99e+003  -1.0 3.49e+003    -  6.08e-005 1.69e-006f  1\n",
      " 605 2.7472717e+008 7.50e+000 6.99e+003  -1.0 3.50e+003    -  3.89e-005 7.35e-006f  1\n",
      " 606 2.7472636e+008 7.50e+000 6.99e+003  -1.0 3.49e+003    -  6.70e-005 2.24e-006f  1\n",
      " 607 2.7471861e+008 7.50e+000 6.99e+003  -1.0 3.49e+003    -  1.18e-005 2.18e-005f  1\n",
      " 608 2.7471817e+008 7.50e+000 6.99e+003  -1.0 3.49e+003    -  7.96e-005 1.25e-006f  1\n",
      " 609 2.7471083e+008 7.50e+000 6.99e+003  -1.0 3.49e+003    -  6.43e-005 2.07e-005f  1\n",
      "iter    objective    inf_pr   inf_du lg(mu)  ||d||  lg(rg) alpha_du alpha_pr  ls\n",
      " 610 2.7471036e+008 7.50e+000 6.99e+003  -1.0 3.48e+003    -  2.43e-004 1.37e-006f  1\n",
      " 611 2.7470195e+008 7.50e+000 6.99e+003  -1.0 3.47e+003    -  3.20e-005 2.49e-005f  1\n",
      " 612 2.7469901e+008 7.50e+000 6.99e+003  -1.0 3.48e+003    -  8.47e-005 8.72e-006f  1\n",
      " 613 2.7469513e+008 7.50e+000 6.99e+003  -1.0 3.48e+003    -  8.85e-005 1.15e-005f  1\n",
      " 614 2.7469192e+008 7.50e+000 6.99e+003  -1.0 3.48e+003    -  6.21e-005 9.97e-006f  1\n",
      " 615 2.7468895e+008 7.50e+000 6.99e+003  -1.0 3.48e+003    -  2.78e-004 9.27e-006f  1\n",
      " 616 2.7468395e+008 7.50e+000 6.99e+003  -1.0 3.48e+003    -  3.56e-005 1.57e-005f  1\n",
      " 617 2.7468257e+008 7.50e+000 6.99e+003  -1.0 3.48e+003    -  1.20e-004 4.53e-006f  1\n",
      " 618 2.7467686e+008 7.50e+000 6.99e+003  -1.0 3.48e+003    -  3.71e-005 1.89e-005f  1\n",
      " 619 2.7467375e+008 7.50e+000 6.99e+003  -1.0 3.47e+003    -  1.13e-004 1.03e-005f  1\n",
      "iter    objective    inf_pr   inf_du lg(mu)  ||d||  lg(rg) alpha_du alpha_pr  ls\n",
      " 620 2.7467283e+008 7.50e+000 6.99e+003  -1.0 3.47e+003    -  4.57e-005 3.23e-006f  1\n",
      " 621 2.7466097e+008 7.50e+000 6.99e+003  -1.0 3.47e+003    -  6.85e-005 4.16e-005f  1\n",
      " 622 2.7466048e+008 7.50e+000 6.99e+003  -1.0 3.47e+003    -  3.10e-004 1.74e-006f  1\n",
      " 623 2.7465767e+008 7.50e+000 6.99e+003  -1.0 3.48e+003    -  7.44e-005 1.02e-005f  1\n",
      " 624 2.7465173e+008 7.49e+000 6.99e+003  -1.0 3.48e+003    -  1.37e-004 2.23e-005f  1\n",
      " 625 2.7464909e+008 7.49e+000 6.99e+003  -1.0 3.48e+003    -  2.58e-004 9.96e-006f  1\n",
      " 626 2.7464636e+008 7.49e+000 6.99e+003  -1.0 3.48e+003    -  5.88e-005 1.08e-005f  1\n",
      " 627 2.7463849e+008 7.49e+000 6.99e+003  -1.0 3.48e+003    -  2.17e-004 3.19e-005f  1\n",
      " 628 2.7463768e+008 7.49e+000 6.99e+003  -1.0 3.48e+003    -  6.55e-005 3.33e-006f  1\n",
      " 629 2.7463582e+008 7.49e+000 6.99e+003  -1.0 3.48e+003    -  1.13e-004 8.09e-006f  1\n",
      "iter    objective    inf_pr   inf_du lg(mu)  ||d||  lg(rg) alpha_du alpha_pr  ls\n",
      " 630 2.7462380e+008 7.49e+000 6.99e+003  -1.0 3.48e+003    -  1.18e-004 5.33e-005f  1\n",
      " 631 2.7462352e+008 7.49e+000 6.99e+003  -1.0 3.48e+003    -  6.07e-004 1.25e-006f  1\n",
      " 632 2.7461729e+008 7.49e+000 6.99e+003  -1.0 3.47e+003    -  1.60e-004 3.03e-005f  1\n",
      " 633 2.7461288e+008 7.49e+000 6.99e+003  -1.0 3.47e+003    -  2.41e-004 2.16e-005f  1\n",
      " 634 2.7460999e+008 7.49e+000 7.22e+003  -1.0 3.48e+003    -  1.65e-004 1.43e-005f  1\n",
      " 635 2.7460824e+008 7.49e+000 7.58e+003  -1.0 3.48e+003    -  1.49e-004 9.56e-006f  1\n",
      " 636 2.7459416e+008 7.49e+000 8.13e+003  -1.0 3.48e+003    -  2.90e-004 7.73e-005f  1\n",
      " 637 2.7459373e+008 7.49e+000 8.85e+003  -1.0 3.48e+003    -  2.78e-004 2.44e-006f  1\n",
      " 638 2.7458907e+008 7.49e+000 8.87e+003  -1.0 3.48e+003    -  3.53e-005 2.89e-005f  1\n",
      " 639 2.7457861e+008 7.49e+000 1.01e+004  -1.0 3.48e+003    -  4.92e-004 6.53e-005f  1\n",
      "iter    objective    inf_pr   inf_du lg(mu)  ||d||  lg(rg) alpha_du alpha_pr  ls\n",
      " 640 2.7457822e+008 7.49e+000 1.05e+004  -1.0 3.48e+003    -  1.58e-004 2.48e-006f  1\n",
      " 641 2.7457570e+008 7.49e+000 1.13e+004  -1.0 3.49e+003    -  2.80e-004 1.84e-005f  1\n",
      " 642 2.7455891e+008 7.49e+000 1.17e+004  -1.0 3.49e+003    -  2.54e-004 1.23e-004f  1\n",
      " 643 2.7455852e+008 7.49e+000 1.39e+004  -1.0 3.48e+003    -  7.34e-004 2.84e-006f  1\n",
      " 644 2.7455353e+008 7.49e+000 1.54e+004  -1.0 3.48e+003    -  5.25e-004 3.71e-005f  1\n",
      " 645 2.7454997e+008 7.49e+000 1.57e+004  -1.0 3.50e+003    -  1.27e-004 3.18e-005f  1\n",
      " 646 2.7454486e+008 7.49e+000 1.58e+004  -1.0 3.49e+003    -  6.92e-005 4.53e-005f  1\n",
      " 647 2.7454449e+008 7.49e+000 1.65e+004  -1.0 3.49e+003    -  2.36e-004 3.35e-006f  1\n",
      " 648 2.7453765e+008 7.49e+000 1.67e+004  -1.0 3.48e+003    -  1.17e-004 6.21e-005f  1\n",
      " 649 2.7453754e+008 7.49e+000 1.82e+004  -1.0 3.49e+003    -  4.36e-004 1.07e-006f  1\n",
      "iter    objective    inf_pr   inf_du lg(mu)  ||d||  lg(rg) alpha_du alpha_pr  ls\n",
      " 650 2.7450986e+008 7.49e+000 1.84e+004  -1.0 3.49e+003    -  3.81e-004 3.21e-004f  1\n",
      " 651 2.7450953e+008 7.49e+000 2.26e+004  -1.0 3.49e+003    -  1.19e-003 3.74e-006f  1\n",
      " 652 2.7450792e+008 7.49e+000 2.42e+004  -1.0 3.50e+003    -  4.86e-004 1.96e-005f  1\n",
      " 653 2.7450041e+008 7.49e+000 2.51e+004  -1.0 3.49e+003    -  3.45e-004 1.20e-004f  1\n",
      " 654 2.7449740e+008 7.49e+000 2.78e+004  -1.0 3.48e+003    -  7.68e-004 4.78e-005f  1\n",
      " 655 2.7449647e+008 7.49e+000 2.91e+004  -1.0 3.46e+003    -  3.71e-004 1.53e-005f  1\n",
      " 656 2.7449557e+008 7.49e+000 3.19e+004  -1.0 3.41e+003    -  6.95e-004 2.50e-005f  1\n",
      " 657 2.7449083e+008 7.48e+000 3.40e+004  -1.0 3.43e+003    -  6.59e-004 1.25e-004f  1\n",
      " 658 2.7449064e+008 7.48e+000 3.72e+004  -1.0 3.40e+003    -  7.88e-004 5.70e-006f  1\n",
      " 659 2.7448453e+008 7.48e+000 3.83e+004  -1.0 3.43e+003    -  4.33e-004 1.60e-004f  1\n",
      "iter    objective    inf_pr   inf_du lg(mu)  ||d||  lg(rg) alpha_du alpha_pr  ls\n",
      " 660 2.7448446e+008 7.48e+000 4.33e+004  -1.0 3.23e+003    -  1.20e-003 3.32e-006f  1\n",
      " 661 2.7448234e+008 7.48e+000 4.55e+004  -1.0 3.12e+003    -  7.66e-004 2.47e-004f  1\n",
      " 662 2.7448232e+008 7.48e+000 4.98e+004  -1.0 3.18e+003    -  9.96e-004 2.43e-006f  1\n",
      " 663 2.7448126e+008 7.48e+000 5.16e+004  -1.0 3.02e+003    -  6.96e-004 2.81e-004f  1\n",
      " 664 2.7448125e+008 7.48e+000 5.58e+004  -1.0 3.04e+003    -  9.75e-004 2.81e-006f  1\n",
      " 665 2.7448606e+008 7.48e+000 5.92e+004  -1.0 2.23e+003    -  9.85e-004 2.46e-004h  1\n",
      " 666 2.7448699e+008 7.48e+000 6.24e+004  -1.0 2.63e+003    -  7.67e-004 6.40e-005h  1\n",
      " 667r2.7448699e+008 7.48e+000 1.00e+003   0.9 0.00e+000    -  0.00e+000 4.25e-007R  5\n",
      " 668r2.7590576e+008 7.23e+000 9.92e+002   0.9 2.15e+003    -  1.62e-001 6.79e-003f  1\n",
      " 669r3.1564459e+008 1.03e+000 8.09e+002   0.9 1.86e+003    -  1.00e+000 1.76e-001f  1\n",
      "iter    objective    inf_pr   inf_du lg(mu)  ||d||  lg(rg) alpha_du alpha_pr  ls\n",
      " 670 3.1562850e+008 1.03e+000 7.66e+003  -1.0 3.82e+003    -  1.43e-004 2.65e-005f  1\n",
      " 671 3.1560565e+008 1.03e+000 7.66e+003  -1.0 3.82e+003    -  2.92e-005 3.86e-005f  1\n",
      " 672 3.1560296e+008 1.03e+000 7.66e+003  -1.0 3.82e+003    -  1.65e-005 4.66e-006f  1\n",
      " 673 3.1559790e+008 1.03e+000 7.66e+003  -1.0 3.82e+003    -  3.12e-005 8.82e-006f  1\n",
      " 674 3.1559748e+008 1.03e+000 7.66e+003  -1.0 3.82e+003    -  1.73e-005 7.50e-007f  1\n",
      " 675 3.1559352e+008 1.03e+000 7.66e+003  -1.0 3.81e+003    -  1.11e-005 7.03e-006f  1\n",
      " 676 3.1559073e+008 1.03e+000 7.66e+003  -1.0 3.82e+003    -  1.80e-005 4.97e-006f  1\n",
      " 677 3.1559041e+008 1.03e+000 7.66e+003  -1.0 3.82e+003    -  1.64e-005 5.87e-007f  1\n",
      " 678 3.1558506e+008 1.03e+000 7.66e+003  -1.0 3.82e+003    -  2.44e-005 9.70e-006f  1\n",
      " 679 3.1558389e+008 1.03e+000 7.66e+003  -1.0 3.81e+003    -  1.37e-005 2.12e-006f  1\n"
     ]
    },
    {
     "name": "stdout",
     "output_type": "stream",
     "text": [
      "iter    objective    inf_pr   inf_du lg(mu)  ||d||  lg(rg) alpha_du alpha_pr  ls\n",
      " 680 3.1558143e+008 1.03e+000 7.66e+003  -1.0 3.82e+003    -  1.26e-005 4.55e-006f  1\n",
      " 681 3.1557971e+008 1.03e+000 7.66e+003  -1.0 3.82e+003    -  2.41e-005 3.18e-006f  1\n",
      " 682 3.1557680e+008 1.03e+000 7.66e+003  -1.0 3.82e+003    -  1.42e-005 5.39e-006f  1\n",
      " 683 3.1557582e+008 1.03e+000 7.66e+003  -1.0 3.82e+003    -  2.82e-005 1.86e-006f  1\n",
      " 684 3.1557038e+008 1.03e+000 7.66e+003  -1.0 3.82e+003    -  8.30e-006 1.03e-005f  1\n",
      " 685 3.1556961e+008 1.03e+000 7.66e+003  -1.0 3.81e+003    -  4.88e-005 1.46e-006f  1\n",
      " 686 3.1556520e+008 1.03e+000 7.66e+003  -1.0 3.81e+003    -  7.48e-006 8.52e-006f  1\n",
      " 687 3.1556286e+008 1.03e+000 7.66e+003  -1.0 3.81e+003    -  5.08e-005 4.54e-006f  1\n",
      " 688 3.1556208e+008 1.03e+000 7.66e+003  -1.0 3.82e+003    -  1.70e-005 1.55e-006f  1\n",
      " 689 3.1555990e+008 1.03e+000 7.66e+003  -1.0 3.82e+003    -  1.31e-005 4.33e-006f  1\n",
      "iter    objective    inf_pr   inf_du lg(mu)  ||d||  lg(rg) alpha_du alpha_pr  ls\n",
      " 690 3.1555591e+008 1.03e+000 7.66e+003  -1.0 3.82e+003    -  2.09e-005 7.93e-006f  1\n",
      " 691 3.1555554e+008 1.03e+000 7.66e+003  -1.0 3.82e+003    -  3.26e-005 7.49e-007f  1\n",
      " 692 3.1555169e+008 1.03e+000 7.66e+003  -1.0 3.82e+003    -  4.91e-005 7.85e-006f  1\n",
      " 693 3.1554860e+008 1.03e+000 7.66e+003  -1.0 3.82e+003    -  6.24e-005 6.34e-006f  1\n",
      " 694 3.1554662e+008 1.03e+000 7.66e+003  -1.0 3.82e+003    -  7.88e-006 4.16e-006f  1\n",
      " 695 3.1554397e+008 1.03e+000 7.66e+003  -1.0 3.82e+003    -  4.17e-005 5.58e-006f  1\n",
      " 696 3.1554188e+008 1.03e+000 7.66e+003  -1.0 3.82e+003    -  2.00e-005 4.40e-006f  1\n",
      " 697 3.1554112e+008 1.03e+000 7.66e+003  -1.0 3.81e+003    -  2.55e-005 1.65e-006f  1\n",
      " 698 3.1553591e+008 1.03e+000 7.66e+003  -1.0 3.81e+003    -  2.50e-005 1.13e-005f  1\n",
      " 699 3.1553261e+008 1.03e+000 7.66e+003  -1.0 3.80e+003    -  3.85e-005 7.18e-006f  1\n",
      "iter    objective    inf_pr   inf_du lg(mu)  ||d||  lg(rg) alpha_du alpha_pr  ls\n",
      " 700 3.1553163e+008 1.03e+000 7.66e+003  -1.0 3.81e+003    -  5.81e-005 2.16e-006f  1\n",
      " 701 3.1552953e+008 1.03e+000 7.66e+003  -1.0 3.83e+003    -  3.32e-005 4.73e-006f  1\n",
      " 702 3.1552810e+008 1.03e+000 7.66e+003  -1.0 3.83e+003    -  1.05e-005 3.34e-006f  1\n",
      " 703 3.1552538e+008 1.03e+000 7.65e+003  -1.0 3.83e+003    -  1.67e-005 6.36e-006f  1\n",
      " 704 3.1552397e+008 1.03e+000 7.65e+003  -1.0 3.82e+003    -  9.93e-006 3.31e-006f  1\n",
      " 705 3.1552129e+008 1.03e+000 7.65e+003  -1.0 3.82e+003    -  3.32e-005 6.30e-006f  1\n",
      " 706 3.1552076e+008 1.03e+000 7.65e+003  -1.0 3.81e+003    -  1.34e-005 1.29e-006f  1\n",
      " 707 3.1551651e+008 1.03e+000 7.65e+003  -1.0 3.81e+003    -  1.52e-005 1.04e-005f  1\n",
      " 708 3.1551502e+008 1.03e+000 7.65e+003  -1.0 3.81e+003    -  3.12e-005 3.66e-006f  1\n",
      " 709 3.1551234e+008 1.03e+000 7.65e+003  -1.0 3.81e+003    -  8.01e-005 6.57e-006f  1\n",
      "iter    objective    inf_pr   inf_du lg(mu)  ||d||  lg(rg) alpha_du alpha_pr  ls\n",
      " 710 3.1551070e+008 1.03e+000 7.65e+003  -1.0 3.82e+003    -  2.11e-005 4.18e-006f  1\n",
      " 711 3.1550691e+008 1.03e+000 7.65e+003  -1.0 3.82e+003    -  9.96e-005 9.70e-006f  1\n",
      " 712 3.1550650e+008 1.03e+000 7.65e+003  -1.0 3.81e+003    -  6.00e-006 1.11e-006f  1\n",
      " 713 3.1550422e+008 1.03e+000 7.65e+003  -1.0 3.81e+003    -  3.16e-005 6.12e-006f  1\n",
      " 714 3.1550121e+008 1.03e+000 7.65e+003  -1.0 3.81e+003    -  1.96e-005 8.11e-006f  1\n",
      " 715 3.1550107e+008 1.03e+000 7.65e+003  -1.0 3.81e+003    -  1.69e-005 3.81e-007f  1\n",
      " 716 3.1549482e+008 1.03e+000 7.65e+003  -1.0 3.81e+003    -  7.06e-005 1.77e-005f  1\n",
      " 717 3.1549377e+008 1.03e+000 7.65e+003  -1.0 3.81e+003    -  1.98e-005 2.98e-006f  1\n",
      " 718 3.1549263e+008 1.03e+000 7.65e+003  -1.0 3.82e+003    -  5.00e-005 3.28e-006f  1\n",
      " 719 3.1549105e+008 1.03e+000 7.65e+003  -1.0 3.83e+003    -  3.09e-005 4.76e-006f  1\n",
      "iter    objective    inf_pr   inf_du lg(mu)  ||d||  lg(rg) alpha_du alpha_pr  ls\n",
      " 720 3.1548784e+008 1.03e+000 7.65e+003  -1.0 3.83e+003    -  4.37e-005 9.70e-006f  1\n",
      " 721 3.1548759e+008 1.03e+000 7.65e+003  -1.0 3.82e+003    -  9.35e-006 8.07e-007f  1\n",
      " 722 3.1548454e+008 1.03e+000 7.65e+003  -1.0 3.82e+003    -  2.22e-005 9.81e-006f  1\n",
      " 723 3.1548348e+008 1.03e+000 7.65e+003  -1.0 3.81e+003    -  2.83e-005 3.41e-006f  1\n",
      " 724 3.1548285e+008 1.03e+000 7.65e+003  -1.0 3.82e+003    -  3.38e-005 2.06e-006f  1\n",
      " 725 3.1547773e+008 1.03e+000 7.65e+003  -1.0 3.83e+003    -  2.81e-005 1.77e-005f  1\n",
      " 726 3.1547650e+008 1.03e+000 7.65e+003  -1.0 3.83e+003    -  3.00e-005 4.25e-006f  1\n",
      " 727 3.1547615e+008 1.03e+000 7.65e+003  -1.0 3.82e+003    -  3.66e-005 1.27e-006f  1\n",
      " 728 3.1547287e+008 1.03e+000 7.65e+003  -1.0 3.82e+003    -  7.90e-005 1.23e-005f  1\n",
      " 729 3.1547163e+008 1.03e+000 7.65e+003  -1.0 3.83e+003    -  9.84e-006 4.70e-006f  1\n",
      "iter    objective    inf_pr   inf_du lg(mu)  ||d||  lg(rg) alpha_du alpha_pr  ls\n",
      " 730 3.1547140e+008 1.03e+000 7.65e+003  -1.0 3.84e+003    -  2.01e-005 9.26e-007f  1\n",
      " 731 3.1546607e+008 1.03e+000 7.65e+003  -1.0 3.84e+003    -  1.43e-005 2.20e-005f  1\n",
      " 732 3.1546591e+008 1.03e+000 7.65e+003  -1.0 3.84e+003    -  1.77e-005 6.41e-007f  1\n",
      " 733 3.1546546e+008 1.03e+000 7.65e+003  -1.0 3.84e+003    -  7.89e-005 1.92e-006f  1\n",
      " 734 3.1546359e+008 1.03e+000 7.65e+003  -1.0 3.83e+003    -  8.61e-006 8.59e-006f  1\n",
      " 735 3.1546256e+008 1.03e+000 7.65e+003  -1.0 3.83e+003    -  3.80e-005 4.77e-006f  1\n",
      " 736 3.1546243e+008 1.03e+000 7.65e+003  -1.0 3.85e+003    -  7.46e-006 6.63e-007f  1\n",
      " 737 3.1545937e+008 1.03e+000 7.65e+003  -1.0 3.85e+003    -  2.94e-005 1.58e-005f  1\n",
      " 738 3.1545926e+008 1.03e+000 7.65e+003  -1.0 3.84e+003    -  3.54e-005 5.64e-007f  1\n",
      " 739 3.1545678e+008 1.03e+000 7.65e+003  -1.0 3.84e+003    -  1.68e-005 1.30e-005f  1\n",
      "iter    objective    inf_pr   inf_du lg(mu)  ||d||  lg(rg) alpha_du alpha_pr  ls\n",
      " 740 3.1545671e+008 1.03e+000 7.65e+003  -1.0 3.87e+003    -  2.66e-004 4.33e-007f  1\n",
      " 741 3.1545480e+008 1.03e+000 7.65e+003  -1.0 3.83e+003    -  1.44e-005 1.15e-005f  1\n",
      " 742 3.1545471e+008 1.03e+000 7.65e+003  -1.0 3.83e+003    -  4.48e-005 6.01e-007f  1\n",
      " 743 3.1545247e+008 1.03e+000 7.65e+003  -1.0 3.82e+003    -  3.09e-005 1.59e-005f  1\n",
      " 744 3.1545110e+008 1.03e+000 7.65e+003  -1.0 3.81e+003    -  1.46e-004 9.87e-006f  1\n",
      " 745 3.1545046e+008 1.03e+000 7.65e+003  -1.0 3.81e+003    -  1.07e-004 4.67e-006f  1\n",
      " 746 3.1544855e+008 1.02e+000 7.65e+003  -1.0 3.81e+003    -  2.29e-004 1.66e-005f  1\n",
      " 747 3.1544831e+008 1.02e+000 8.29e+003  -1.0 3.79e+003    -  8.94e-004 2.26e-006f  1\n",
      " 748 3.1544603e+008 1.02e+000 8.55e+003  -1.0 3.73e+003    -  9.27e-005 2.72e-005f  1\n",
      " 749 3.1544600e+008 1.02e+000 1.24e+004  -1.0 3.65e+003    -  9.19e-004 4.46e-007f  1\n",
      "iter    objective    inf_pr   inf_du lg(mu)  ||d||  lg(rg) alpha_du alpha_pr  ls\n",
      " 750 3.1544425e+008 1.02e+000 1.55e+004  -1.0 3.53e+003    -  7.53e-004 3.11e-005f  1\n",
      " 751 3.1544299e+008 1.02e+000 1.89e+004  -1.0 3.44e+003    -  7.96e-004 2.40e-005f  1\n",
      " 752 3.1544182e+008 1.02e+000 2.63e+004  -1.0 2.95e+003    -  1.68e-003 3.35e-005f  1\n",
      " 753 3.1543081e+008 1.02e+000 2.81e+004  -1.0 2.88e+003    -  7.85e-004 4.07e-004f  1\n",
      " 754 3.1543073e+008 1.02e+000 3.32e+004  -1.0 2.77e+003    -  1.12e-003 2.95e-006f  1\n",
      " 755 3.1542852e+008 1.02e+000 4.51e+004  -1.0 1.79e+003    -  2.70e-003 1.96e-004f  1\n",
      " 756 3.1542966e+008 1.02e+000 4.67e+004  -1.0 9.64e+002    -  1.63e-003 1.29e-003h  1\n",
      " 757 3.1542966e+008 1.02e+000 5.53e+004  -1.0 1.26e+003    -  1.79e-003 1.12e-005f  1\n",
      " 758 3.1542971e+008 1.02e+000 6.02e+004  -1.0 1.17e+003    -  1.11e-003 9.34e-005h  1\n",
      " 759 3.1543065e+008 1.02e+000 3.96e+005  -1.0 1.41e+002    -  6.82e-002 1.01e-004h  1\n",
      "iter    objective    inf_pr   inf_du lg(mu)  ||d||  lg(rg) alpha_du alpha_pr  ls\n",
      " 760 3.1552555e+008 1.01e+000 3.72e+005  -1.0 1.41e+002    -  5.43e-003 9.73e-003h  1\n",
      " 761 3.1552773e+008 1.01e+000 7.09e+005  -1.0 1.39e+002    -  7.38e-002 2.24e-004h  1\n",
      " 762 3.1566533e+008 9.99e-001 6.71e+005  -1.0 1.37e+002    -  7.66e-003 1.42e-002h  1\n",
      " 763 3.1567052e+008 9.98e-001 4.87e+006  -1.0 1.37e+002    -  1.00e+000 5.39e-004h  1\n",
      " 764 3.2538832e+008 1.71e-001 5.56e+004  -1.0 1.37e+002    -  1.00e+000 9.89e-001h  1\n",
      " 765 3.2808333e+008 3.48e-003 2.12e+002  -1.0 2.47e+001    -  1.00e+000 9.97e-001h  1\n",
      " 766 3.2813325e+008 1.06e-005 1.05e-006  -2.5 4.59e-001    -  1.00e+000 1.00e+000h  1\n",
      " 767 3.2813339e+008 5.94e-010 1.30e-005  -8.6 1.22e-003    -  1.00e+000 1.00e+000h  1\n",
      "\n",
      "Number of Iterations....: 767\n",
      "\n",
      "                                   (scaled)                 (unscaled)\n",
      "Objective...............:  3.2813338537146080e+008   3.2813338537146080e+008\n",
      "Dual infeasibility......:  1.3028381848937884e-005   1.3028381848937884e-005\n",
      "Constraint violation....:  7.9975581712687926e-011   5.9435478760860860e-010\n",
      "Complementarity.........:  3.7134798892865460e-008   3.7134798892865460e-008\n",
      "Overall NLP error.......:  1.9740526358130963e-009   1.3028381848937884e-005\n",
      "\n",
      "\n",
      "Number of objective function evaluations             = 852\n",
      "Number of objective gradient evaluations             = 648\n",
      "Number of equality constraint evaluations            = 852\n",
      "Number of inequality constraint evaluations          = 0\n",
      "Number of equality constraint Jacobian evaluations   = 786\n",
      "Number of inequality constraint Jacobian evaluations = 0\n",
      "Number of Lagrangian Hessian evaluations             = 767\n",
      "Total CPU secs in IPOPT (w/o function evaluations)   =     12.198\n",
      "Total CPU secs in NLP function evaluations           =      0.576\n",
      "\n",
      "EXIT: Optimal Solution Found.\n",
      "           S  :   t_proc      (avg)   t_wall      (avg)    n_eval\n",
      "       nlp_f  |  24.00ms ( 28.17us)  24.01ms ( 28.18us)       852\n",
      "       nlp_g  |  76.00ms ( 89.20us)  76.08ms ( 89.30us)       852\n",
      "    nlp_grad  |   1.00ms (  1.00ms)   1.00ms (  1.00ms)         1\n",
      "  nlp_grad_f  |  18.00ms ( 27.73us)  17.99ms ( 27.72us)       649\n",
      "  nlp_hess_l  |  14.00ms ( 18.69us)  14.00ms ( 18.69us)       749\n",
      "   nlp_jac_g  | 399.00ms (506.99us) 398.59ms (506.46us)       787\n",
      "       total  |  12.78 s ( 12.78 s)  12.78 s ( 12.78 s)         1\n"
     ]
    }
   ],
   "source": [
    "r = S_dpc(p=opt_p_num_dpc, lbg=0, ubg=0, lbx=lbx_dpc, ubx=ubx_dpc)\n",
    "# Extract solution\n",
    "opt_x_num_dpc.master = r['x'] \n",
    "u_N_dpc = horzcat(*opt_x_num_dpc['u_N']).full().T\n",
    "y_N_dpc = horzcat(*opt_x_num_dpc['y_N']).full().T"
   ]
  },
  {
   "cell_type": "markdown",
   "metadata": {},
   "source": [
    "## Comparison of open-loop prediction"
   ]
  },
  {
   "cell_type": "code",
   "execution_count": 54,
   "metadata": {
    "scrolled": false
   },
   "outputs": [
    {
     "data": {
      "text/plain": [
       "Text(0, 0.5, 'motor \\n angle [rad]')"
      ]
     },
     "execution_count": 54,
     "metadata": {},
     "output_type": "execute_result"
    },
    {
     "data": {
      "image/png": "[encoded data removed]",
      "text/plain": [
       "<Figure size 864x504 with 2 Axes>"
      ]
     },
     "metadata": {
      "needs_background": "light"
     },
     "output_type": "display_data"
    }
   ],
   "source": [
    "fig, ax = plt.subplots(2,1, figsize=(12,7), sharex=True)\n",
    "\n",
    "t = np.arange(N)*0.1\n",
    "y_dpc_lines = ax[0].plot(t,y_N_dpc, linewidth=10, alpha=.5)\n",
    "ax[0].set_prop_cycle(None)\n",
    "y_msm_lines = ax[0].plot(t,y_N)\n",
    "u_dpc_lines = ax[1].step(t,u_N_dpc,linewidth=10, alpha=.5)\n",
    "ax[1].set_prop_cycle(None)\n",
    "u_msm_lines = ax[1].step(t,u_N)\n",
    "\n",
    "plt.sca(ax[0])\n",
    "ax[0].add_artist(plt.legend(y_dpc_lines,'12345', title ='DeePC', loc=1))\n",
    "ax[0].add_artist(plt.legend(y_msm_lines, '12345', title='Proposed', loc=1, bbox_to_anchor=(0.85, 1)))\n",
    "ax[0].set_ylabel('disc \\n angle [rad]')\n",
    "\n",
    "\n",
    "plt.sca(ax[1])\n",
    "ax[1].add_artist(plt.legend(u_dpc_lines,'12', title ='DeePC', loc=1))\n",
    "ax[1].add_artist(plt.legend(u_msm_lines, '12', title='Proposed', loc=1, bbox_to_anchor=(0.85, 1)))\n",
    "ax[1].set_ylabel('motor \\n angle [rad]')"
   ]
  },
  {
   "cell_type": "markdown",
   "metadata": {},
   "source": [
    "We can also compare the norm of the difference of the obtained solutions:"
   ]
  },
  {
   "cell_type": "code",
   "execution_count": 41,
   "metadata": {},
   "outputs": [
    {
     "data": {
      "text/plain": [
       "15935.483531910686"
      ]
     },
     "execution_count": 41,
     "metadata": {},
     "output_type": "execute_result"
    }
   ],
   "source": [
    "np.linalg.norm(y_N_dpc-y_N)"
   ]
  },
  {
   "cell_type": "code",
   "execution_count": 42,
   "metadata": {},
   "outputs": [
    {
     "data": {
      "text/plain": [
       "2.8"
      ]
     },
     "execution_count": 42,
     "metadata": {},
     "output_type": "execute_result"
    }
   ],
   "source": [
    "np.linalg.norm(u_N_dpc-u_N)"
   ]
  },
  {
   "cell_type": "markdown",
   "metadata": {},
   "source": [
    "which shows that they are identical."
   ]
  },
  {
   "cell_type": "markdown",
   "metadata": {},
   "source": [
    "# Closed-loop comparison:"
   ]
  },
  {
   "cell_type": "markdown",
   "metadata": {},
   "source": [
    "## DeePC\n",
    "\n",
    "We start by resetting the system and applying a (pseudo) random input sequence. \n",
    "By fixing the random seed to 12 (why not 12?), the initilization is repeatable. "
   ]
  },
  {
   "cell_type": "code",
   "execution_count": 43,
   "metadata": {},
   "outputs": [],
   "source": [
    "np.random.seed(12)\n",
    "sys.reset()\n",
    "\n",
    "# Excitement\n",
    "n_exc = 20\n",
    "u0 = np.zeros((2,1))\n",
    "for k in range(n_exc):\n",
    "    u0 = random_u(u0)\n",
    "    sys.make_step(u0)"
   ]
  },
  {
   "cell_type": "markdown",
   "metadata": {},
   "source": [
    "We then proceed with the closed-loop control experiment and store the results in the ``res_deePC`` dict.\n",
    "The output of this code cell is surpressed. with ``%%capture``. "
   ]
  },
  {
   "cell_type": "code",
   "execution_count": 44,
   "metadata": {
    "scrolled": true
   },
   "outputs": [],
   "source": [
    "%%capture\n",
    "# Control\n",
    "cost = []\n",
    "for k in range(60):\n",
    "    u0 = np.zeros((2,1))\n",
    "    \n",
    "    y_Tini = sys.y[-T_ini:,:]\n",
    "    u_Tini = sys.u[-T_ini:,:] \n",
    "\n",
    "    opt_p_num['y_Tini'] = vertsplit(y_Tini)\n",
    "    opt_p_num['u_Tini'] = vertsplit(u_Tini)\n",
    "    r = S_dpc(p=opt_p_num, lbg=0, ubg=0, lbx=lbx_dpc, ubx=ubx_dpc)\n",
    "    opt_x_num_dpc.master = r['x']\n",
    "    u0 = opt_x_num_dpc['u_N',0].full()\n",
    "    y0 = sys.make_step(u0)\n",
    "    \n",
    "    cost.append(.1*np.transpose(u0)@u0+y0.T@y0)\n",
    "    \n",
    "res_deePC = {'time':sys.time[n_exc:], 'u':sys.u[n_exc:], 'y':sys.y[n_exc:], 'cost':np.concatenate(cost)}"
   ]
  },
  {
   "cell_type": "markdown",
   "metadata": {},
   "source": [
    "## MPC based on multi-step model\n",
    "\n",
    "Similarly as above, we first initilize the sytem."
   ]
  },
  {
   "cell_type": "code",
   "execution_count": 45,
   "metadata": {},
   "outputs": [],
   "source": [
    "np.random.seed(12)\n",
    "sys.reset(x0=np.zeros((8,1)))\n",
    "\n",
    "# Excitement\n",
    "n_exc = 20\n",
    "u0 = np.zeros((2,1))\n",
    "for k in range(n_exc):\n",
    "    u0 = random_u(u0)\n",
    "    sys.make_step(u0)"
   ]
  },
  {
   "cell_type": "markdown",
   "metadata": {},
   "source": [
    "Control-loop for MPC based on multi-step model:"
   ]
  },
  {
   "cell_type": "code",
   "execution_count": 46,
   "metadata": {
    "scrolled": true
   },
   "outputs": [],
   "source": [
    "%%capture\n",
    "# Control\n",
    "cost = []\n",
    "for k in range(60):\n",
    "    u0 = np.zeros((2,1))\n",
    "    \n",
    "    y_Tini = sys.y[-T_ini:,:]\n",
    "    u_Tini = sys.u[-T_ini:,:] \n",
    "\n",
    "    opt_p_num['y_Tini'] = vertsplit(y_Tini)\n",
    "    opt_p_num['u_Tini'] = vertsplit(u_Tini)\n",
    "    r = S_msm(p=opt_p_num, lbg=0, ubg=0, lbx=lbx, ubx=ubx)\n",
    "    opt_x_num.master = r['x']\n",
    "    u0 = opt_x_num['u_N',0].full()\n",
    "    y0 = sys.make_step(u0)\n",
    "    \n",
    "    cost.append(.1*u0.T@u0+y0.T@y0)\n",
    "    \n",
    "res_msm = {'time':sys.time[n_exc:], 'u':sys.u[n_exc:], 'y':sys.y[n_exc:], 'cost':np.concatenate(cost)}"
   ]
  },
  {
   "cell_type": "markdown",
   "metadata": {},
   "source": [
    "**Figure 2** in paper.\n",
    "\n",
    "Closed-loop trajectories of the mass-spring-system. Regulation after some initial excitation. Comparison of DeePC  and our proposed method with deterministic data."
   ]
  },
  {
   "cell_type": "code",
   "execution_count": 47,
   "metadata": {
    "scrolled": false
   },
   "outputs": [
    {
     "data": {
      "image/png": "[encoded data removed]",
      "text/plain": [
       "<Figure size 864x576 with 6 Axes>"
      ]
     },
     "metadata": {
      "needs_background": "light"
     },
     "output_type": "display_data"
    }
   ],
   "source": [
    "fig, ax = plt.subplots(3,2,figsize=(12,8),sharex=True, sharey='row')\n",
    "\n",
    "t = np.arange(60)*0.1\n",
    "\n",
    "ax[0,0].set_title('DeePC')\n",
    "disc_lines = ax[0,0].plot(t,res_deePC['y'])\n",
    "motor_lines = ax[1,0].step(t,res_deePC['u'],where='post')\n",
    "ax[2,0].plot(t,res_deePC['cost'])\n",
    "\n",
    "ax[0,1].set_title('Proposed method')\n",
    "ax[0,1].plot(t,res_msm['y'])\n",
    "ax[1,1].step(t,res_msm['u'],where='post')\n",
    "ax[2,1].plot(t,res_msm['cost'])\n",
    "\n",
    "ax[0,0].set_ylabel('disc\\n angle [rad]')\n",
    "ax[1,0].set_ylabel('motor\\n angle [rad]')\n",
    "ax[2,0].set_ylabel('cost')\n",
    "\n",
    "cons_line = ax[1,0].axhline(-0.7,linestyle='--', color='k',linewidth=1)\n",
    "ax[1,0].axhline(0.7,linestyle='--', color='k',linewidth=1)\n",
    "ax[1,1].axhline(-0.7,linestyle='--', color='k',linewidth=1)\n",
    "ax[1,1].axhline(0.7,linestyle='--', color='k',linewidth=1)\n",
    "\n",
    "ax[0,0].legend(disc_lines,'123', title ='disc', loc=1)\n",
    "ax[1,0].legend(motor_lines,'12', title ='motor', loc=1)\n",
    "ax[1,1].legend([cons_line],['bounds'])\n",
    "\n",
    "ax[2,0].set_xlabel('time [s]')\n",
    "ax[2,1].set_xlabel('time [s]')\n",
    "\n",
    "fig.align_ylabels()\n",
    "fig.align_xlabels()\n",
    "fig.tight_layout()\n",
    "plt.show()"
   ]
  },
  {
   "cell_type": "markdown",
   "metadata": {},
   "source": [
    "To quantify the similarity we look at the difference of the cost:"
   ]
  },
  {
   "cell_type": "code",
   "execution_count": 48,
   "metadata": {
    "scrolled": true
   },
   "outputs": [
    {
     "data": {
      "text/plain": [
       "0.0"
      ]
     },
     "execution_count": 48,
     "metadata": {},
     "output_type": "execute_result"
    }
   ],
   "source": [
    "np.sum(res_msm['cost'])-np.sum(res_deePC['cost'])"
   ]
  },
  {
   "cell_type": "markdown",
   "metadata": {},
   "source": [
    "The overall cost in this scenario is:"
   ]
  },
  {
   "cell_type": "code",
   "execution_count": 49,
   "metadata": {},
   "outputs": [
    {
     "data": {
      "text/plain": [
       "693379105.5009912"
      ]
     },
     "execution_count": 49,
     "metadata": {},
     "output_type": "execute_result"
    }
   ],
   "source": [
    "np.sum(res_msm['cost'])"
   ]
  },
  {
   "cell_type": "code",
   "execution_count": null,
   "metadata": {},
   "outputs": [],
   "source": []
  }
 ],
 "metadata": {
  "kernelspec": {
   "display_name": "Python 3",
   "language": "python",
   "name": "python3"
  },
  "language_info": {
   "codemirror_mode": {
    "name": "ipython",
    "version": 3
   },
   "file_extension": ".py",
   "mimetype": "text/x-python",
   "name": "python",
   "nbconvert_exporter": "python",
   "pygments_lexer": "ipython3",
   "version": "3.7.9"
  }
 },
 "nbformat": 4,
 "nbformat_minor": 4
}
