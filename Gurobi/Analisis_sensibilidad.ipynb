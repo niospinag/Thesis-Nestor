{
 "cells": [
  {
   "cell_type": "markdown",
   "metadata": {
    "collapsed": true,
    "pycharm": {
     "name": "#%% md\n"
    }
   },
   "source": [
    "# Analisis de sensibilidad con gurobi & python\n"
   ]
  },
  {
   "cell_type": "code",
   "execution_count": 1,
   "outputs": [],
   "source": [
    "from gurobipy import *"
   ],
   "metadata": {
    "collapsed": false,
    "pycharm": {
     "name": "#%%\n"
    }
   }
  },
  {
   "cell_type": "code",
   "execution_count": 2,
   "outputs": [
    {
     "name": "stdout",
     "output_type": "stream",
     "text": [
      "Academic license - for non-commercial use only - expires 2021-05-16\n",
      "Using license file C:\\Users\\nesto\\gurobi.lic\n",
      "Gurobi Optimizer version 9.1.2 build v9.1.2rc0 (win64)\n",
      "Thread count: 6 physical cores, 12 logical processors, using up to 12 threads\n",
      "Optimize a model with 3 rows, 5 columns and 10 nonzeros\n",
      "Model fingerprint: 0x16cbc942\n",
      "Coefficient statistics:\n",
      "  Matrix range     [5e-02, 5e+00]\n",
      "  Objective range  [2e+01, 5e+02]\n",
      "  Bounds range     [0e+00, 0e+00]\n",
      "  RHS range        [8e+02, 1e+03]\n",
      "Presolve time: 0.01s\n",
      "Presolved: 3 rows, 5 columns, 10 nonzeros\n",
      "\n",
      "Iteration    Objective       Primal Inf.    Dual Inf.      Time\n",
      "       0    7.7400000e+32   4.487500e+30   7.740000e+02      0s\n",
      "       3    2.4800000e+06   0.000000e+00   0.000000e+00      0s\n",
      "\n",
      "Solved in 3 iterations and 0.02 seconds\n",
      "Optimal objective  2.480000000e+06\n"
     ]
    }
   ],
   "source": [
    "model = Model('model')\n",
    "\n",
    "# variables\n",
    "xt = model.addVar(vtype=GRB.CONTINUOUS, name='xt')\n",
    "xa = model.addVar(vtype=GRB.CONTINUOUS, name='xa')\n",
    "xg = model.addVar(vtype=GRB.CONTINUOUS, name='xg')\n",
    "ca = model.addVar(vtype=GRB.CONTINUOUS, name='ca')\n",
    "va = model.addVar(vtype=GRB.CONTINUOUS, name='va')\n",
    "\n",
    "# funcion objetivo\n",
    "model.setObjective(450*xg + 120*xt + 22*va + 28*xa - 28*ca, GRB.MAXIMIZE)\n",
    "\n",
    "# restricciones\n",
    "model.addConstr(xt + xa + 0.1*xg <= 800)\n",
    "model.addConstr(2*xt + 3*xa + 0.05*xg  <= 1000)\n",
    "model.addConstr(4*xa + ca - 5*xg - va == 0)\n",
    "\n",
    "# optimizar\n",
    "model.optimize()"
   ],
   "metadata": {
    "collapsed": false,
    "pycharm": {
     "name": "#%%\n"
    }
   }
  },
  {
   "cell_type": "code",
   "execution_count": 3,
   "outputs": [
    {
     "data": {
      "text/plain": "2480000.0"
     },
     "execution_count": 3,
     "metadata": {},
     "output_type": "execute_result"
    }
   ],
   "source": [
    "# valor funcion objetivo\n",
    "model.ObjVal"
   ],
   "metadata": {
    "collapsed": false,
    "pycharm": {
     "name": "#%%\n"
    }
   }
  },
  {
   "cell_type": "code",
   "execution_count": 4,
   "outputs": [
    {
     "data": {
      "text/plain": "[<gurobi.Var xt (value 0.0)>,\n <gurobi.Var xa (value 0.0)>,\n <gurobi.Var xg (value 8000.0)>,\n <gurobi.Var ca (value 40000.0)>,\n <gurobi.Var va (value 0.0)>]"
     },
     "execution_count": 4,
     "metadata": {},
     "output_type": "execute_result"
    }
   ],
   "source": [
    "# Valor de las variables\n",
    "model.getVars()"
   ],
   "metadata": {
    "collapsed": false,
    "pycharm": {
     "name": "#%%\n"
    }
   }
  },
  {
   "cell_type": "code",
   "execution_count": 5,
   "outputs": [
    {
     "data": {
      "text/plain": "8000.0"
     },
     "execution_count": 5,
     "metadata": {},
     "output_type": "execute_result"
    }
   ],
   "source": [
    "xg.x"
   ],
   "metadata": {
    "collapsed": false,
    "pycharm": {
     "name": "#%%\n"
    }
   }
  },
  {
   "cell_type": "code",
   "execution_count": 6,
   "outputs": [
    {
     "name": "stdout",
     "output_type": "stream",
     "text": [
      "valor Funcion Objetivo: 2480000.0\n",
      "xt 0.0\n",
      "xa 0.0\n",
      "xg 8000.0\n",
      "ca 40000.0\n",
      "va 0.0\n"
     ]
    }
   ],
   "source": [
    "print(\"valor Funcion Objetivo: \"+ str(model.ObjVal))\n",
    "for v in model.getVars():\n",
    "    print(str(v.varName)+\" \"+str(v.x))"
   ],
   "metadata": {
    "collapsed": false,
    "pycharm": {
     "name": "#%%\n"
    }
   }
  },
  {
   "cell_type": "code",
   "execution_count": 7,
   "outputs": [
    {
     "data": {
      "text/plain": "2"
     },
     "execution_count": 7,
     "metadata": {},
     "output_type": "execute_result"
    }
   ],
   "source": [
    "model.status"
   ],
   "metadata": {
    "collapsed": false,
    "pycharm": {
     "name": "#%%\n"
    }
   }
  },
  {
   "cell_type": "code",
   "execution_count": 8,
   "outputs": [
    {
     "data": {
      "text/plain": "-2980.0"
     },
     "execution_count": 8,
     "metadata": {},
     "output_type": "execute_result"
    }
   ],
   "source": [
    "# Nombre de la variable\n",
    "xt.varName\n",
    "# Costo reducido\n",
    "xt.RC"
   ],
   "metadata": {
    "collapsed": false,
    "pycharm": {
     "name": "#%%\n"
    }
   }
  },
  {
   "cell_type": "code",
   "execution_count": 9,
   "outputs": [
    {
     "name": "stdout",
     "output_type": "stream",
     "text": [
      "xt Costo reducido: -2980.0\n",
      "xa Costo reducido: -2960.0\n",
      "xg Costo reducido: 0.0\n",
      "ca Costo reducido: 0.0\n",
      "va Costo reducido: -6.0\n"
     ]
    }
   ],
   "source": [
    "# Costos reducidos\n",
    "for v in model.getVars():\n",
    "    print(str(v.varName)+\" Costo reducido: \"+str(v.RC))"
   ],
   "metadata": {
    "collapsed": false,
    "pycharm": {
     "name": "#%%\n"
    }
   }
  },
  {
   "cell_type": "code",
   "execution_count": 10,
   "outputs": [
    {
     "data": {
      "text/plain": "[<gurobi.Constr R0>, <gurobi.Constr R1>, <gurobi.Constr R2>]"
     },
     "execution_count": 10,
     "metadata": {},
     "output_type": "execute_result"
    }
   ],
   "source": [
    "# Holguras:\n",
    "\n",
    "# Paso 1: Obtener ;as restricciones del modelo\n",
    "model.getConstrs()"
   ],
   "metadata": {
    "collapsed": false,
    "pycharm": {
     "name": "#%%\n"
    }
   }
  },
  {
   "cell_type": "code",
   "execution_count": 20,
   "outputs": [
    {
     "name": "stdout",
     "output_type": "stream",
     "text": [
      "R0 holgura: 0.0\n",
      "R1 holgura: 600.0\n",
      "R2 holgura: 0.0\n"
     ]
    }
   ],
   "source": [
    "# Obtener las holguras de cada restriccion\n",
    "for r in model.getConstrs():\n",
    "    print(str(r)[-3:-1]+\" holgura: \"+str(r.slack))"
   ],
   "metadata": {
    "collapsed": false,
    "pycharm": {
     "name": "#%%\n"
    }
   }
  },
  {
   "cell_type": "code",
   "execution_count": 21,
   "outputs": [
    {
     "name": "stdout",
     "output_type": "stream",
     "text": [
      "R0 Precio Dual: 3100.0\n",
      "R1 Precio Dual: 0.0\n",
      "R2 Precio Dual: -28.0\n"
     ]
    }
   ],
   "source": [
    "# Precios Duales\n",
    "for r in model.getConstrs():\n",
    "    print(str(r)[-3:-1]+\" Precio Dual: \"+str(r.pi))\n",
    "\n",
    "\n",
    "\n"
   ],
   "metadata": {
    "collapsed": false,
    "pycharm": {
     "name": "#%%\n"
    }
   }
  },
  {
   "cell_type": "code",
   "execution_count": 27,
   "outputs": [
    {
     "name": "stdout",
     "output_type": "stream",
     "text": [
      "xt Sensibilidad Inferior: -inf| superior :3100.0\n",
      "xa Sensibilidad Inferior: -inf| superior :2988.0\n",
      "xg Sensibilidad Inferior: 154.0| superior :inf\n",
      "ca Sensibilidad Inferior: -82.81481481481481| superior :-22.0\n",
      "va Sensibilidad Inferior: -inf| superior :28.0\n"
     ]
    }
   ],
   "source": [
    "# Analisis de sensibilidad de los coeficientes\n",
    "xt.SAObjup\n",
    "for v in model.getVars():\n",
    "    print(str(v.varName)+\" Sensibilidad Inferior: \"+str(v.SAObjLow) + \"| superior :\"+ str(v.SAObjUp))"
   ],
   "metadata": {
    "collapsed": false,
    "pycharm": {
     "name": "#%%\n"
    }
   }
  },
  {
   "cell_type": "code",
   "execution_count": 29,
   "outputs": [
    {
     "name": "stdout",
     "output_type": "stream",
     "text": [
      "R0 la derecho: 800.0 intervalos: 0.0 2000.0\n",
      "R1 la derecho: 1000.0 intervalos: 400.0 inf\n",
      "R2 la derecho: 0.0 intervalos: -40000.0 inf\n"
     ]
    }
   ],
   "source": [
    "# Sensibilidad del lado derecho\n",
    "for r in model.getConstrs():\n",
    "    print(str(r)[-3:-1]+\" la derecho: \"+str(r.RHS) + \" intervalos: \"+ str(r.SARHSLow)+' '+ str(r.SARHSUp) )\n"
   ],
   "metadata": {
    "collapsed": false,
    "pycharm": {
     "name": "#%%\n"
    }
   }
  },
  {
   "cell_type": "code",
   "execution_count": null,
   "outputs": [],
   "source": [],
   "metadata": {
    "collapsed": false,
    "pycharm": {
     "name": "#%%\n"
    }
   }
  }
 ],
 "metadata": {
  "kernelspec": {
   "display_name": "Python 3",
   "language": "python",
   "name": "python3"
  },
  "language_info": {
   "codemirror_mode": {
    "name": "ipython",
    "version": 2
   },
   "file_extension": ".py",
   "mimetype": "text/x-python",
   "name": "python",
   "nbconvert_exporter": "python",
   "pygments_lexer": "ipython2",
   "version": "2.7.6"
  }
 },
 "nbformat": 4,
 "nbformat_minor": 0
}