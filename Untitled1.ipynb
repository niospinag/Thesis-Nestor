{
 "cells": [
  {
   "cell_type": "code",
   "execution_count": 1,
   "id": "occasional-scotland",
   "metadata": {},
   "outputs": [],
   "source": [
    "from gurobipy import *\n"
   ]
  },
  {
   "cell_type": "code",
   "execution_count": 2,
   "id": "associate-grocery",
   "metadata": {},
   "outputs": [],
   "source": [
    "partes = [1,2,3]\n",
    "maquinas = [1,2]"
   ]
  },
  {
   "cell_type": "code",
   "execution_count": null,
   "id": "organic-effects",
   "metadata": {},
   "outputs": [],
   "source": []
  }
 ],
 "metadata": {
  "kernelspec": {
   "display_name": "Python 3",
   "language": "python",
   "name": "python3"
  },
  "language_info": {
   "codemirror_mode": {
    "name": "ipython",
    "version": 3
   },
   "file_extension": ".py",
   "mimetype": "text/x-python",
   "name": "python",
   "nbconvert_exporter": "python",
   "pygments_lexer": "ipython3",
   "version": "3.7.9"
  }
 },
 "nbformat": 4,
 "nbformat_minor": 5
}
